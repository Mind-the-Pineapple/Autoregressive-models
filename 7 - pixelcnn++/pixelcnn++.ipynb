{
 "nbformat": 4,
 "nbformat_minor": 0,
 "metadata": {
  "colab": {
   "name": "Untitled1.ipynb",
   "provenance": [],
   "collapsed_sections": []
  },
  "kernelspec": {
   "name": "python3",
   "display_name": "Python 3"
  },
  "accelerator": "GPU",
  "pycharm": {
   "stem_cell": {
    "cell_type": "raw",
    "source": [],
    "metadata": {
     "collapsed": false
    }
   }
  }
 },
 "cells": [
  {
   "cell_type": "code",
   "metadata": {
    "id": "b1HDG9tuysT1",
    "colab_type": "code",
    "outputId": "4bf32d85-fdef-4d86-951c-a8b1596ff66a",
    "colab": {
     "base_uri": "https://localhost:8080/",
     "height": 34
    }
   },
   "source": [
    "%tensorflow_version 2.x\n"
   ],
   "execution_count": 0,
   "outputs": [
    {
     "output_type": "stream",
     "text": [
      "TensorFlow 2.x selected.\n"
     ],
     "name": "stdout"
    }
   ]
  },
  {
   "cell_type": "code",
   "metadata": {
    "id": "BPBCyeUWyjLK",
    "colab_type": "code",
    "colab": {}
   },
   "source": [
    "import random as rn\n",
    "import time\n",
    "\n",
    "import matplotlib\n",
    "import matplotlib.pyplot as plt\n",
    "import numpy as np\n",
    "import tensorflow as tf\n",
    "from tensorflow import keras\n"
   ],
   "execution_count": 0,
   "outputs": []
  },
  {
   "cell_type": "code",
   "metadata": {
    "id": "AfAq9nGlyjaD",
    "colab_type": "code",
    "colab": {}
   },
   "source": [
    "class GatedBlock(tf.keras.Model):\n",
    "    \"\"\"\"\"\"\n",
    "\n",
    "    def __init__(self, mask_type, filters, kernel_size):\n",
    "        super(GatedBlock, self).__init__(name='')\n",
    "\n",
    "        self.mask_type = mask_type\n",
    "        self.vertical_padding = keras.layers.ZeroPadding2D(padding=((kernel_size//2+1, 0),\n",
    "                                                                    (kernel_size//2, kernel_size//2)))\n",
    "\n",
    "        self.vertical_conv = keras.layers.Conv2D(filters=2 * filters,\n",
    "                                                 kernel_size=[kernel_size//2+1, kernel_size],\n",
    "                                                 strides=1,\n",
    "                                                 padding='valid')\n",
    "\n",
    "        self.vertical_cropping = keras.layers.Cropping2D(cropping=((0, 1), (0, 0)))\n",
    "\n",
    "        self.horizontal_padding = keras.layers.ZeroPadding2D(padding=((0, 0), (kernel_size // 2+1, 0)))\n",
    "        self.horizontal_conv = keras.layers.Conv2D(filters=2 * filters,\n",
    "                                                   kernel_size=[1, kernel_size // 2 + 1],\n",
    "                                                   strides=1,\n",
    "                                                   padding='valid')\n",
    "        if mask_type == 'B':\n",
    "            self.horizontal_cropping = keras.layers.Cropping2D(cropping=((0, 0), (1, 0)))\n",
    "        elif mask_type == 'A':\n",
    "            self.horizontal_cropping = keras.layers.Cropping2D(cropping=((0, 0), (0, 1)))\n",
    "\n",
    "        self.vertical_to_horizontal_conv = keras.layers.Conv2D(filters=2 * filters, kernel_size=1)\n",
    "\n",
    "        self.horizontal_output_conv = keras.layers.Conv2D(filters=filters, kernel_size=1)\n",
    "\n",
    "    def _gate(self, x):\n",
    "        tanh_preactivation, sigmoid_preactivation = tf.split(x, 2, axis=-1)\n",
    "        return tf.nn.tanh(tanh_preactivation) * tf.nn.sigmoid(sigmoid_preactivation)\n",
    "\n",
    "    def call(self, input_tensor):\n",
    "        v, h = tf.split(input_tensor, 2, axis=-1)\n",
    "\n",
    "        vertical_preactivation = self.vertical_padding(v)\n",
    "        vertical_preactivation = self.vertical_conv(vertical_preactivation)\n",
    "        vertical_preactivation = self.vertical_cropping(vertical_preactivation)\n",
    "\n",
    "        horizontal_preactivation = self.horizontal_padding(h)\n",
    "        horizontal_preactivation = self.horizontal_conv(horizontal_preactivation)\n",
    "        horizontal_preactivation = self.horizontal_cropping(horizontal_preactivation)\n",
    "\n",
    "        v_to_h = self.vertical_to_horizontal_conv(vertical_preactivation)  # 1x1\n",
    "        vertical_output = self._gate(vertical_preactivation)\n",
    "\n",
    "        horizontal_preactivation = horizontal_preactivation + v_to_h\n",
    "        horizontal_activated = self._gate(horizontal_preactivation)\n",
    "\n",
    "        if self.mask_type =='B':\n",
    "            horizontal_activated = self.horizontal_output_conv(horizontal_activated)\n",
    "            horizontal_activated = h + horizontal_activated\n",
    "\n",
    "        output = tf.concat((vertical_output, horizontal_activated), axis=-1)\n",
    "        return output\n"
   ],
   "execution_count": 0,
   "outputs": []
  },
  {
   "cell_type": "code",
   "metadata": {
    "id": "u3zteILcy6X4",
    "colab_type": "code",
    "colab": {}
   },
   "source": [
    "\n",
    "def int_shape(x):\n",
    "    return list(map(int, x.get_shape()))\n",
    "\n",
    "\n",
    "def log_sum_exp(x):\n",
    "    \"\"\" numerically stable log_sum_exp implementation that prevents overflow \"\"\"\n",
    "    axis = len(x.get_shape()) - 1\n",
    "    m = tf.reduce_max(x, axis)\n",
    "    m2 = tf.reduce_max(x, axis, keepdims=True)\n",
    "    return m + tf.math.log(tf.reduce_sum(tf.exp(x - m2), axis))\n",
    "\n",
    "\n",
    "def log_prob_from_logits(x):\n",
    "    \"\"\" numerically stable log_softmax implementation that prevents overflow \"\"\"\n",
    "    axis = len(x.get_shape()) - 1\n",
    "    m = tf.reduce_max(x, axis, keepdims=True)\n",
    "    return x - m - tf.math.log(tf.reduce_sum(tf.exp(x - m), axis, keepdims=True))\n",
    "\n",
    "\n",
    "\n",
    "\n",
    "def discretized_mix_logistic_loss(x, l, sum_all=True):\n",
    "    \"\"\" log-likelihood for mixture of discretized logistics, assumes the data has been rescaled to [-1,1] interval \"\"\"\n",
    "    xs = int_shape(x)  # true image (i.e. labels) to regress to, e.g. (B,32,32,3)\n",
    "    ls = int_shape(l)  # predicted distribution, e.g. (B,32,32,100)\n",
    "\n",
    "    # ------------------------------------------------------------------------------------\n",
    "    # here and below: unpacking the params of the mixture of logistics\n",
    "    nr_mix = int(ls[-1] / 10)\n",
    "    logit_probs = l[:, :, :, :nr_mix]\n",
    "    l = tf.reshape(l[:, :, :, nr_mix:], xs + [nr_mix * 3])\n",
    "\n",
    "    means = l[:, :, :, :, :nr_mix]\n",
    "    log_scales = tf.maximum(l[:, :, :, :, nr_mix:2 * nr_mix], -7.)\n",
    "    coeffs = tf.nn.tanh(l[:, :, :, :, 2 * nr_mix:3 * nr_mix])\n",
    "\n",
    "    # ------------------------------------------------------------------------------------\n",
    "    # here and below: getting the means and adjusting them based on preceding sub-pixels\n",
    "    x = tf.reshape(x, xs + [1]) + tf.zeros(xs + [nr_mix])\n",
    "    m2 = tf.reshape(means[:, :, :, 1, :] + coeffs[:, :, :, 0, :] * x[:, :, :, 0, :], [xs[0], xs[1], xs[2], 1, nr_mix])\n",
    "    m3 = tf.reshape(\n",
    "        means[:, :, :, 2, :] + coeffs[:, :, :, 1, :] * x[:, :, :, 0, :] + coeffs[:, :, :, 2, :] * x[:, :, :, 1, :],\n",
    "        [xs[0], xs[1], xs[2], 1, nr_mix])\n",
    "\n",
    "    means = tf.concat([tf.reshape(means[:, :, :, 0, :], [xs[0], xs[1], xs[2], 1, nr_mix]), m2, m3], 3)\n",
    "    centered_x = x - means\n",
    "    inv_stdv = tf.exp(-log_scales)\n",
    "\n",
    "    # ------------------------------------------------------------------------------------\n",
    "    # log probability for edge case of 0 (before scaling)\n",
    "    plus_in = inv_stdv * (centered_x + 1. / 255.)\n",
    "    cdf_plus = tf.nn.sigmoid(plus_in)\n",
    "    log_cdf_plus = plus_in - tf.nn.softplus(plus_in)\n",
    "\n",
    "    # ------------------------------------------------------------------------------------\n",
    "    # log probability for edge case of 255 (before scaling)\n",
    "    min_in = inv_stdv * (centered_x - 1. / 255.)\n",
    "    cdf_min = tf.nn.sigmoid(min_in)\n",
    "    log_one_minus_cdf_min = -tf.nn.softplus(min_in)\n",
    "\n",
    "    # ------------------------------------------------------------------------------------\n",
    "    # probability for all other cases\n",
    "    cdf_delta = cdf_plus - cdf_min\n",
    "\n",
    "    # log probability in the center of the bin, to be used in extreme cases (not actually used in our code)\n",
    "    mid_in = inv_stdv * centered_x\n",
    "    log_pdf_mid = mid_in - log_scales - 2. * tf.nn.softplus( mid_in)\n",
    "\n",
    "    # now select the right output: left edge case, right edge case, normal case, extremely low prob case (doesn't actually happen for us)\n",
    "\n",
    "    # this is what we are really doing, but using the robust version below for extreme cases in other applications and to avoid NaN issue with tf.select()\n",
    "    # log_probs = tf.select(x < -0.999, log_cdf_plus, tf.select(x > 0.999, log_one_minus_cdf_min, tf.log(cdf_delta)))\n",
    "\n",
    "    # robust version, that still works if probabilities are below 1e-5 (which never happens in our code)\n",
    "    # tensorflow backpropagates through tf.select() by multiplying with zero instead of selecting: this requires use to use some ugly tricks to avoid potential NaNs\n",
    "    # the 1e-12 in tf.maximum(cdf_delta, 1e-12) is never actually used as output, it's purely there to get around the tf.select() gradient issue\n",
    "    # if the probability on a sub-pixel is below 1e-5, we use an approximation based on the assumption that the log-density is constant in the bin of the observed sub-pixel value\n",
    "    log_probs = tf.where(x < -0.999,\n",
    "                         log_cdf_plus,\n",
    "                         tf.where(x > 0.999,\n",
    "                                  log_one_minus_cdf_min,\n",
    "                                  tf.where(cdf_delta > 1e-5,\n",
    "                                           tf.math.log(tf.maximum(cdf_delta, 1e-12)), log_pdf_mid - np.log(127.5))))\n",
    "\n",
    "    log_probs = tf.reduce_sum(log_probs, 3) + log_prob_from_logits(logit_probs)\n",
    "\n",
    "    if sum_all:\n",
    "        return -tf.reduce_sum(log_sum_exp(log_probs))\n",
    "    else:\n",
    "        return -tf.reduce_sum(log_sum_exp(log_probs), [1, 2])\n",
    "\n",
    "\n",
    "def sample_from_discretized_mix_logistic(l, nr_mix):\n",
    "    ls = int_shape(l)\n",
    "    xs = ls[:-1] + [3]\n",
    "\n",
    "    # unpack parameters\n",
    "    logit_probs = l[:, :, :, :nr_mix]\n",
    "    l = tf.reshape(l[:, :, :, nr_mix:], xs + [nr_mix * 3])\n",
    "\n",
    "    # sample mixture indicator from softmax\n",
    "    sel = tf.one_hot(tf.argmax(\n",
    "        logit_probs - tf.math.log(-tf.math.log(tf.random.uniform(logit_probs.get_shape(), minval=1e-5, maxval=1. - 1e-5))), 3),\n",
    "                     depth=nr_mix, dtype=tf.float32)\n",
    "    sel = tf.reshape(sel, xs[:-1] + [1, nr_mix])\n",
    "\n",
    "    # select logistic parameters\n",
    "    means = tf.reduce_sum(l[:, :, :, :, :nr_mix] * sel, 4)\n",
    "    log_scales = tf.maximum(tf.reduce_sum(l[:, :, :, :, nr_mix:2 * nr_mix] * sel, 4), -7.)\n",
    "    coeffs = tf.reduce_sum(tf.nn.tanh(l[:, :, :, :, 2 * nr_mix:3 * nr_mix]) * sel, 4)\n",
    "\n",
    "    # sample from logistic & clip to interval\n",
    "    # we don't actually round to the nearest 8bit value when sampling\n",
    "    u = tf.random.uniform(means.get_shape(), minval=1e-5, maxval=1. - 1e-5)\n",
    "    x = means + tf.exp(log_scales) * (tf.math.log(u) - tf.math.log(1. - u))\n",
    "\n",
    "    x0 = tf.minimum(tf.maximum(x[:, :, :, 0], -1.), 1.)\n",
    "    x1 = tf.minimum(tf.maximum(x[:, :, :, 1] + coeffs[:, :, :, 0] * x0, -1.), 1.)\n",
    "    x2 = tf.minimum(tf.maximum(x[:, :, :, 2] + coeffs[:, :, :, 1] * x0 + coeffs[:, :, :, 2] * x1, -1.), 1.)\n",
    "\n",
    "    return tf.concat([tf.reshape(x0, xs[:-1] + [1]), tf.reshape(x1, xs[:-1] + [1]), tf.reshape(x2, xs[:-1] + [1])], 3)\n",
    "\n"
   ],
   "execution_count": 0,
   "outputs": []
  },
  {
   "cell_type": "code",
   "metadata": {
    "id": "zm7ONudUzA4w",
    "colab_type": "code",
    "colab": {}
   },
   "source": [
    "\n",
    "# --------------------------------------------------------------------------------------------------------------\n",
    "# Defining random seeds\n",
    "random_seed = 42\n",
    "tf.random.set_seed(random_seed)\n",
    "np.random.seed(random_seed)\n",
    "rn.seed(random_seed)\n",
    "\n",
    "\n",
    "# --------------------------------------------------------------------------------------------------------------\n",
    "# Loading data\n",
    "(x_train, y_train), (x_test, y_test) = tf.keras.datasets.mnist.load_data()\n",
    "\n",
    "height = 28\n",
    "width = 28\n",
    "n_channel = 1\n",
    "\n",
    "x_train = (x_train.astype('float32') / 127.5) - 1\n",
    "x_test = (x_test.astype('float32') / 127.5) - 1\n",
    "\n",
    "x_train = x_train.reshape(x_train.shape[0], height, width, 1)\n",
    "x_test = x_test.reshape(x_test.shape[0], height, width, 1)\n",
    "\n",
    "batch_size = 128\n",
    "train_buf = 60000\n",
    "\n",
    "train_dataset = tf.data.Dataset.from_tensor_slices((x_train, x_train))\n",
    "train_dataset = train_dataset.shuffle(buffer_size=train_buf)\n",
    "train_dataset = train_dataset.batch(batch_size)\n",
    "\n",
    "test_dataset = tf.data.Dataset.from_tensor_slices((x_test, x_test))\n",
    "test_dataset = test_dataset.batch(batch_size)\n",
    "\n"
   ],
   "execution_count": 0,
   "outputs": []
  },
  {
   "cell_type": "code",
   "metadata": {
    "id": "uIeP8Rw6zDX7",
    "colab_type": "code",
    "colab": {}
   },
   "source": [
    "\n",
    "nr_logistic_mix = 10\n",
    "\n",
    "inputs = keras.layers.Input(shape=(height, width, n_channel))\n",
    "x = keras.layers.Concatenate()([inputs, inputs])\n",
    "x = GatedBlock(mask_type='A', filters=64, kernel_size=7)(x)\n",
    "\n",
    "for i in range(5):\n",
    "    x = GatedBlock(mask_type='B', filters=64, kernel_size=3)(x)\n",
    "\n",
    "v, h = tf.split(x, 2, axis=-1)\n",
    "\n",
    "x = keras.layers.Activation(activation='relu')(h)\n",
    "x = keras.layers.Conv2D(filters=128, kernel_size=1, strides=1)(x)\n",
    "\n",
    "x = keras.layers.Activation(activation='relu')(x)\n",
    "x = keras.layers.Conv2D(filters=10*nr_logistic_mix, kernel_size=1, strides=1)(x)  # shape [N,H,W,DC]\n",
    "\n",
    "pixelcnn = tf.keras.Model(inputs=inputs, outputs=x)"
   ],
   "execution_count": 0,
   "outputs": []
  },
  {
   "cell_type": "code",
   "metadata": {
    "id": "HprioUuvzq2m",
    "colab_type": "code",
    "colab": {}
   },
   "source": [
    "lr_decay = 0.9995\n",
    "learning_rate = 1e-3\n",
    "optimizer = tf.keras.optimizers.Adam(lr=learning_rate)\n"
   ],
   "execution_count": 0,
   "outputs": []
  },
  {
   "cell_type": "code",
   "metadata": {
    "id": "_kDhsZzXC_xT",
    "colab_type": "code",
    "colab": {}
   },
   "source": [
    "@tf.function\n",
    "def train_step(batch_x, batch_y):\n",
    "    with tf.GradientTape() as ae_tape:\n",
    "        logits = pixelcnn(batch_x, training=True)\n",
    "        batch_x = tf.image.grayscale_to_rgb(batch_x,name=None)\n",
    "        loss = discretized_mix_logistic_loss(tf.stop_gradient(batch_x), logits)\n",
    "    gradients = ae_tape.gradient(loss, pixelcnn.trainable_variables)\n",
    "    optimizer.apply_gradients(zip(gradients, pixelcnn.trainable_variables))\n",
    "    return loss\n"
   ],
   "execution_count": 0,
   "outputs": []
  },
  {
   "cell_type": "code",
   "metadata": {
    "id": "rB3o_GcO0fRI",
    "colab_type": "code",
    "outputId": "c8bd4de5-d6c5-44ac-f08e-a41c3e901845",
    "colab": {
     "base_uri": "https://localhost:8080/",
     "height": 1000
    }
   },
   "source": [
    "n_epochs = 15\n",
    "for epoch in range(n_epochs):\n",
    "    for i_iter, (batch_x, batch_y) in enumerate(train_dataset):\n",
    "        start = time.time()\n",
    "        optimizer.lr = optimizer.lr * lr_decay\n",
    "\n",
    "        loss = train_step(batch_x, batch_y)\n",
    "        iter_time = time.time() - start\n",
    "        if i_iter % 100 == 0:\n",
    "            print('EPOCH {:3d}: TIME: {:.2f} LOSS: {:.4f}'.format(epoch,\n",
    "                                                                                   i_iter,\n",
    "                                                                                                                                           iter_time,\n",
    "                                                                                   loss))"
   ],
   "execution_count": 0,
   "outputs": [
    {
     "output_type": "stream",
     "text": [
      "EPOCH   0: TIME: 0.00 LOSS: 0.0109\n",
      "EPOCH   0: TIME: 100.00 LOSS: 0.2262\n",
      "EPOCH   0: TIME: 200.00 LOSS: 0.2249\n",
      "EPOCH   0: TIME: 300.00 LOSS: 0.2200\n",
      "EPOCH   0: TIME: 400.00 LOSS: 0.2208\n",
      "EPOCH   1: TIME: 0.00 LOSS: 0.0132\n",
      "EPOCH   1: TIME: 100.00 LOSS: 0.2219\n",
      "EPOCH   1: TIME: 200.00 LOSS: 0.2252\n",
      "EPOCH   1: TIME: 300.00 LOSS: 0.2219\n",
      "EPOCH   1: TIME: 400.00 LOSS: 0.2188\n",
      "EPOCH   2: TIME: 0.00 LOSS: 0.0117\n",
      "EPOCH   2: TIME: 100.00 LOSS: 0.2260\n",
      "EPOCH   2: TIME: 200.00 LOSS: 0.2221\n",
      "EPOCH   2: TIME: 300.00 LOSS: 0.2211\n",
      "EPOCH   2: TIME: 400.00 LOSS: 0.2222\n",
      "EPOCH   3: TIME: 0.00 LOSS: 0.0114\n",
      "EPOCH   3: TIME: 100.00 LOSS: 0.2204\n",
      "EPOCH   3: TIME: 200.00 LOSS: 0.2237\n",
      "EPOCH   3: TIME: 300.00 LOSS: 0.2216\n",
      "EPOCH   3: TIME: 400.00 LOSS: 0.2216\n",
      "EPOCH   4: TIME: 0.00 LOSS: 0.0096\n",
      "EPOCH   4: TIME: 100.00 LOSS: 0.2200\n",
      "EPOCH   4: TIME: 200.00 LOSS: 0.2185\n",
      "EPOCH   4: TIME: 300.00 LOSS: 0.2216\n",
      "EPOCH   4: TIME: 400.00 LOSS: 0.2261\n",
      "EPOCH   5: TIME: 0.00 LOSS: 0.0115\n",
      "EPOCH   5: TIME: 100.00 LOSS: 0.2234\n",
      "EPOCH   5: TIME: 200.00 LOSS: 0.2214\n",
      "EPOCH   5: TIME: 300.00 LOSS: 0.2208\n",
      "EPOCH   5: TIME: 400.00 LOSS: 0.2232\n",
      "EPOCH   6: TIME: 0.00 LOSS: 0.0092\n",
      "EPOCH   6: TIME: 100.00 LOSS: 0.2242\n",
      "EPOCH   6: TIME: 200.00 LOSS: 0.2231\n",
      "EPOCH   6: TIME: 300.00 LOSS: 0.2226\n",
      "EPOCH   6: TIME: 400.00 LOSS: 0.2203\n",
      "EPOCH   7: TIME: 0.00 LOSS: 0.0091\n",
      "EPOCH   7: TIME: 100.00 LOSS: 0.2213\n",
      "EPOCH   7: TIME: 200.00 LOSS: 0.2207\n",
      "EPOCH   7: TIME: 300.00 LOSS: 0.2232\n",
      "EPOCH   7: TIME: 400.00 LOSS: 0.2215\n",
      "EPOCH   8: TIME: 0.00 LOSS: 0.0123\n"
     ],
     "name": "stdout"
    },
    {
     "output_type": "error",
     "ename": "KeyboardInterrupt",
     "evalue": "ignored",
     "traceback": [
      "\u001b[0;31m---------------------------------------------------------------------------\u001b[0m",
      "\u001b[0;31mKeyboardInterrupt\u001b[0m                         Traceback (most recent call last)",
      "\u001b[0;32m<ipython-input-49-9fca4009a899>\u001b[0m in \u001b[0;36m<module>\u001b[0;34m()\u001b[0m\n\u001b[1;32m      3\u001b[0m     \u001b[0;32mfor\u001b[0m \u001b[0mi_iter\u001b[0m\u001b[0;34m,\u001b[0m \u001b[0;34m(\u001b[0m\u001b[0mbatch_x\u001b[0m\u001b[0;34m,\u001b[0m \u001b[0mbatch_y\u001b[0m\u001b[0;34m)\u001b[0m \u001b[0;32min\u001b[0m \u001b[0menumerate\u001b[0m\u001b[0;34m(\u001b[0m\u001b[0mtrain_dataset\u001b[0m\u001b[0;34m)\u001b[0m\u001b[0;34m:\u001b[0m\u001b[0;34m\u001b[0m\u001b[0;34m\u001b[0m\u001b[0m\n\u001b[1;32m      4\u001b[0m         \u001b[0mstart\u001b[0m \u001b[0;34m=\u001b[0m \u001b[0mtime\u001b[0m\u001b[0;34m.\u001b[0m\u001b[0mtime\u001b[0m\u001b[0;34m(\u001b[0m\u001b[0;34m)\u001b[0m\u001b[0;34m\u001b[0m\u001b[0;34m\u001b[0m\u001b[0m\n\u001b[0;32m----> 5\u001b[0;31m         \u001b[0moptimizer\u001b[0m\u001b[0;34m.\u001b[0m\u001b[0mlr\u001b[0m \u001b[0;34m=\u001b[0m \u001b[0moptimizer\u001b[0m\u001b[0;34m.\u001b[0m\u001b[0mlr\u001b[0m \u001b[0;34m*\u001b[0m \u001b[0mlr_decay\u001b[0m\u001b[0;34m\u001b[0m\u001b[0;34m\u001b[0m\u001b[0m\n\u001b[0m\u001b[1;32m      6\u001b[0m \u001b[0;34m\u001b[0m\u001b[0m\n\u001b[1;32m      7\u001b[0m         \u001b[0mloss\u001b[0m \u001b[0;34m=\u001b[0m \u001b[0mtrain_step\u001b[0m\u001b[0;34m(\u001b[0m\u001b[0mbatch_x\u001b[0m\u001b[0;34m,\u001b[0m \u001b[0mbatch_y\u001b[0m\u001b[0;34m)\u001b[0m\u001b[0;34m\u001b[0m\u001b[0;34m\u001b[0m\u001b[0m\n",
      "\u001b[0;32m/tensorflow-2.1.0/python3.6/tensorflow_core/python/ops/variables.py\u001b[0m in \u001b[0;36m_run_op\u001b[0;34m(a, *args, **kwargs)\u001b[0m\n\u001b[1;32m   1080\u001b[0m     \u001b[0;32mdef\u001b[0m \u001b[0m_run_op\u001b[0m\u001b[0;34m(\u001b[0m\u001b[0ma\u001b[0m\u001b[0;34m,\u001b[0m \u001b[0;34m*\u001b[0m\u001b[0margs\u001b[0m\u001b[0;34m,\u001b[0m \u001b[0;34m**\u001b[0m\u001b[0mkwargs\u001b[0m\u001b[0;34m)\u001b[0m\u001b[0;34m:\u001b[0m\u001b[0;34m\u001b[0m\u001b[0;34m\u001b[0m\u001b[0m\n\u001b[1;32m   1081\u001b[0m       \u001b[0;31m# pylint: disable=protected-access\u001b[0m\u001b[0;34m\u001b[0m\u001b[0;34m\u001b[0m\u001b[0;34m\u001b[0m\u001b[0m\n\u001b[0;32m-> 1082\u001b[0;31m       \u001b[0;32mreturn\u001b[0m \u001b[0mtensor_oper\u001b[0m\u001b[0;34m(\u001b[0m\u001b[0ma\u001b[0m\u001b[0;34m.\u001b[0m\u001b[0mvalue\u001b[0m\u001b[0;34m(\u001b[0m\u001b[0;34m)\u001b[0m\u001b[0;34m,\u001b[0m \u001b[0;34m*\u001b[0m\u001b[0margs\u001b[0m\u001b[0;34m,\u001b[0m \u001b[0;34m**\u001b[0m\u001b[0mkwargs\u001b[0m\u001b[0;34m)\u001b[0m\u001b[0;34m\u001b[0m\u001b[0;34m\u001b[0m\u001b[0m\n\u001b[0m\u001b[1;32m   1083\u001b[0m \u001b[0;34m\u001b[0m\u001b[0m\n\u001b[1;32m   1084\u001b[0m     \u001b[0mfunctools\u001b[0m\u001b[0;34m.\u001b[0m\u001b[0mupdate_wrapper\u001b[0m\u001b[0;34m(\u001b[0m\u001b[0m_run_op\u001b[0m\u001b[0;34m,\u001b[0m \u001b[0mtensor_oper\u001b[0m\u001b[0;34m)\u001b[0m\u001b[0;34m\u001b[0m\u001b[0;34m\u001b[0m\u001b[0m\n",
      "\u001b[0;32m/tensorflow-2.1.0/python3.6/tensorflow_core/python/ops/math_ops.py\u001b[0m in \u001b[0;36mbinary_op_wrapper\u001b[0;34m(x, y)\u001b[0m\n\u001b[1;32m    913\u001b[0m           \u001b[0;32melse\u001b[0m\u001b[0;34m:\u001b[0m\u001b[0;34m\u001b[0m\u001b[0;34m\u001b[0m\u001b[0m\n\u001b[1;32m    914\u001b[0m             \u001b[0;32mraise\u001b[0m\u001b[0;34m\u001b[0m\u001b[0;34m\u001b[0m\u001b[0m\n\u001b[0;32m--> 915\u001b[0;31m       \u001b[0;32mreturn\u001b[0m \u001b[0mfunc\u001b[0m\u001b[0;34m(\u001b[0m\u001b[0mx\u001b[0m\u001b[0;34m,\u001b[0m \u001b[0my\u001b[0m\u001b[0;34m,\u001b[0m \u001b[0mname\u001b[0m\u001b[0;34m=\u001b[0m\u001b[0mname\u001b[0m\u001b[0;34m)\u001b[0m\u001b[0;34m\u001b[0m\u001b[0;34m\u001b[0m\u001b[0m\n\u001b[0m\u001b[1;32m    916\u001b[0m \u001b[0;34m\u001b[0m\u001b[0m\n\u001b[1;32m    917\u001b[0m   \u001b[0;32mdef\u001b[0m \u001b[0mbinary_op_wrapper_sparse\u001b[0m\u001b[0;34m(\u001b[0m\u001b[0msp_x\u001b[0m\u001b[0;34m,\u001b[0m \u001b[0my\u001b[0m\u001b[0;34m)\u001b[0m\u001b[0;34m:\u001b[0m\u001b[0;34m\u001b[0m\u001b[0;34m\u001b[0m\u001b[0m\n",
      "\u001b[0;32m/tensorflow-2.1.0/python3.6/tensorflow_core/python/ops/math_ops.py\u001b[0m in \u001b[0;36m_mul_dispatch\u001b[0;34m(x, y, name)\u001b[0m\n\u001b[1;32m   1199\u001b[0m   \u001b[0mis_tensor_y\u001b[0m \u001b[0;34m=\u001b[0m \u001b[0misinstance\u001b[0m\u001b[0;34m(\u001b[0m\u001b[0my\u001b[0m\u001b[0;34m,\u001b[0m \u001b[0mops\u001b[0m\u001b[0;34m.\u001b[0m\u001b[0mTensor\u001b[0m\u001b[0;34m)\u001b[0m\u001b[0;34m\u001b[0m\u001b[0;34m\u001b[0m\u001b[0m\n\u001b[1;32m   1200\u001b[0m   \u001b[0;32mif\u001b[0m \u001b[0mis_tensor_y\u001b[0m\u001b[0;34m:\u001b[0m\u001b[0;34m\u001b[0m\u001b[0;34m\u001b[0m\u001b[0m\n\u001b[0;32m-> 1201\u001b[0;31m     \u001b[0;32mreturn\u001b[0m \u001b[0mgen_math_ops\u001b[0m\u001b[0;34m.\u001b[0m\u001b[0mmul\u001b[0m\u001b[0;34m(\u001b[0m\u001b[0mx\u001b[0m\u001b[0;34m,\u001b[0m \u001b[0my\u001b[0m\u001b[0;34m,\u001b[0m \u001b[0mname\u001b[0m\u001b[0;34m=\u001b[0m\u001b[0mname\u001b[0m\u001b[0;34m)\u001b[0m\u001b[0;34m\u001b[0m\u001b[0;34m\u001b[0m\u001b[0m\n\u001b[0m\u001b[1;32m   1202\u001b[0m   \u001b[0;32melse\u001b[0m\u001b[0;34m:\u001b[0m\u001b[0;34m\u001b[0m\u001b[0;34m\u001b[0m\u001b[0m\n\u001b[1;32m   1203\u001b[0m     \u001b[0;32massert\u001b[0m \u001b[0misinstance\u001b[0m\u001b[0;34m(\u001b[0m\u001b[0my\u001b[0m\u001b[0;34m,\u001b[0m \u001b[0msparse_tensor\u001b[0m\u001b[0;34m.\u001b[0m\u001b[0mSparseTensor\u001b[0m\u001b[0;34m)\u001b[0m  \u001b[0;31m# Case: Dense * Sparse.\u001b[0m\u001b[0;34m\u001b[0m\u001b[0;34m\u001b[0m\u001b[0m\n",
      "\u001b[0;32m/tensorflow-2.1.0/python3.6/tensorflow_core/python/ops/gen_math_ops.py\u001b[0m in \u001b[0;36mmul\u001b[0;34m(x, y, name)\u001b[0m\n\u001b[1;32m   6111\u001b[0m       _result = _pywrap_tensorflow.TFE_Py_FastPathExecute(\n\u001b[1;32m   6112\u001b[0m         \u001b[0m_ctx\u001b[0m\u001b[0;34m.\u001b[0m\u001b[0m_context_handle\u001b[0m\u001b[0;34m,\u001b[0m \u001b[0mtld\u001b[0m\u001b[0;34m.\u001b[0m\u001b[0mdevice_name\u001b[0m\u001b[0;34m,\u001b[0m \u001b[0;34m\"Mul\"\u001b[0m\u001b[0;34m,\u001b[0m \u001b[0mname\u001b[0m\u001b[0;34m,\u001b[0m \u001b[0mtld\u001b[0m\u001b[0;34m.\u001b[0m\u001b[0mop_callbacks\u001b[0m\u001b[0;34m,\u001b[0m\u001b[0;34m\u001b[0m\u001b[0;34m\u001b[0m\u001b[0m\n\u001b[0;32m-> 6113\u001b[0;31m         x, y)\n\u001b[0m\u001b[1;32m   6114\u001b[0m       \u001b[0;32mreturn\u001b[0m \u001b[0m_result\u001b[0m\u001b[0;34m\u001b[0m\u001b[0;34m\u001b[0m\u001b[0m\n\u001b[1;32m   6115\u001b[0m     \u001b[0;32mexcept\u001b[0m \u001b[0m_core\u001b[0m\u001b[0;34m.\u001b[0m\u001b[0m_FallbackException\u001b[0m\u001b[0;34m:\u001b[0m\u001b[0;34m\u001b[0m\u001b[0;34m\u001b[0m\u001b[0m\n",
      "\u001b[0;31mKeyboardInterrupt\u001b[0m: "
     ]
    }
   ]
  },
  {
   "cell_type": "code",
   "metadata": {
    "id": "mGZVhwtkbEMt",
    "colab_type": "code",
    "colab": {}
   },
   "source": [
    "A = np.random.uniform(high=1, low=-1, size=(10,28,28,1)).astype('float32')"
   ],
   "execution_count": 0,
   "outputs": []
  },
  {
   "cell_type": "code",
   "metadata": {
    "id": "uIZGMyCD0_1Y",
    "colab_type": "code",
    "colab": {}
   },
   "source": [
    "logits = pixelcnn(A, training=False)\n",
    "X = sample_from_discretized_mix_logistic(logits, nr_logistic_mix)"
   ],
   "execution_count": 0,
   "outputs": []
  },
  {
   "cell_type": "code",
   "metadata": {
    "id": "WPfFPEek1GxM",
    "colab_type": "code",
    "colab": {}
   },
   "source": [
    "X = (X +1)*127.5"
   ],
   "execution_count": 0,
   "outputs": []
  },
  {
   "cell_type": "code",
   "metadata": {
    "id": "mPd-k3uwAPvn",
    "colab_type": "code",
    "outputId": "cc37cebf-3327-401f-ce0e-f18007d54696",
    "colab": {
     "base_uri": "https://localhost:8080/",
     "height": 282
    }
   },
   "source": [
    "plt.imshow((X[1].numpy().astype(int)))"
   ],
   "execution_count": 0,
   "outputs": [
    {
     "output_type": "execute_result",
     "data": {
      "text/plain": [
       "<matplotlib.image.AxesImage at 0x7f80d325b828>"
      ]
     },
     "metadata": {
      "tags": []
     },
     "execution_count": 41
    },
    {
     "output_type": "display_data",
     "data": {
      "image/png": "[encoded data removed]",
      "text/plain": [
       "<Figure size 432x288 with 1 Axes>"
      ]
     },
     "metadata": {
      "tags": []
     }
    }
   ]
  },
  {
   "cell_type": "code",
   "metadata": {
    "id": "rV6WRu3Rc3_I",
    "colab_type": "code",
    "colab": {}
   },
   "source": [
    "occlude_start_row = 14\n",
    "num_generated_images = 10\n",
    "samples = np.copy(x_test[0:num_generated_images, :, :, :])\n",
    "samples[:, occlude_start_row:, :, :] = 0\n",
    "\n",
    "for i in range(occlude_start_row, height):\n",
    "    for j in range(width):\n",
    "        logits = pixelcnn(A, training=False)\n",
    "        X = sample_from_discretized_mix_logistic(logits, nr_logistic_mix)\n",
    "        samples[:, i, j, 0] = X[:,i, j, 0]"
   ],
   "execution_count": 0,
   "outputs": []
  },
  {
   "cell_type": "code",
   "metadata": {
    "id": "Hn3JBosudjPq",
    "colab_type": "code",
    "outputId": "eecdcbec-1953-4690-b022-e5ced9dd617c",
    "colab": {
     "base_uri": "https://localhost:8080/",
     "height": 84
    }
   },
   "source": [
    "\n",
    "fig = plt.figure(figsize=(10, 10))\n",
    "for i in range(10):\n",
    "    ax = fig.add_subplot(10, 10, i+1)\n",
    "    ax.matshow(samples[i, :, :, 0], cmap=matplotlib.cm.binary)\n",
    "    plt.xticks(np.array([]))\n",
    "    plt.yticks(np.array([]))\n",
    "plt.show()\n"
   ],
   "execution_count": 0,
   "outputs": [
    {
     "output_type": "display_data",
     "data": {
      "image/png": "[encoded data removed]",
      "text/plain": [
       "<Figure size 720x720 with 10 Axes>"
      ]
     },
     "metadata": {
      "tags": []
     }
    }
   ]
  }
 ]
}