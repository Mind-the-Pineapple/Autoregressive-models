{
  "nbformat": 4,
  "nbformat_minor": 0,
  "metadata": {
    "accelerator": "GPU",
    "colab": {
      "name": "toydataset.ipynb",
      "provenance": [],
      "collapsed_sections": []
    },
    "kernelspec": {
      "name": "python3",
      "display_name": "Python 3"
    },
    "language_info": {
      "codemirror_mode": {
        "name": "ipython",
        "version": 3
      },
      "file_extension": ".py",
      "mimetype": "text/x-python",
      "name": "python",
      "nbconvert_exporter": "python",
      "pygments_lexer": "ipython3",
      "version": "3.6.8"
    }
  },
  "cells": [
    {
      "cell_type": "code",
      "metadata": {
        "colab_type": "code",
        "id": "sh8yUGDPNSfo",
        "outputId": "91fbd7bb-9849-4394-9986-bc24b6c7a71f",
        "colab": {
          "base_uri": "https://localhost:8080/",
          "height": 34
        }
      },
      "source": [
        "%tensorflow_version 2.x\n",
        "import random as rn\n",
        "import time\n",
        "\n",
        "import matplotlib\n",
        "import matplotlib.pyplot as plt\n",
        "import numpy as np\n",
        "import tensorflow as tf\n",
        "from tensorflow import keras\n",
        "from tensorflow.keras.utils import Progbar\n"
      ],
      "execution_count": 1,
      "outputs": [
        {
          "output_type": "stream",
          "text": [
            "TensorFlow 2.x selected.\n"
          ],
          "name": "stdout"
        }
      ]
    },
    {
      "cell_type": "code",
      "metadata": {
        "colab_type": "code",
        "id": "2kCIvwG5OiRh",
        "colab": {}
      },
      "source": [
        "# Defining random seeds\n",
        "random_seed = 42\n",
        "tf.random.set_seed(random_seed)\n",
        "np.random.seed(random_seed)\n",
        "rn.seed(random_seed)"
      ],
      "execution_count": 0,
      "outputs": []
    },
    {
      "cell_type": "code",
      "metadata": {
        "colab_type": "code",
        "id": "qSNKy9noDr2Y",
        "outputId": "dcfb6c95-7994-4a57-9d6b-ae3ae84eaa4f",
        "colab": {
          "base_uri": "https://localhost:8080/",
          "height": 34
        }
      },
      "source": [
        "height = 10\n",
        "width = 10\n",
        "n_channel = 3\n",
        "\n",
        "x_train = np.zeros((100000,height,width, n_channel))+ 0.4*np.random.randn(100000,height,width, n_channel)\n",
        "x_train[:50000,:5,:,0] = 1.\n",
        "x_train[:50000,5:,:,0] = 0.5\n",
        "x_train[:50000,5:,:,1] = 0.5\n",
        "x_train[50000:,:,:5,1] = 1.\n",
        "x_train[50000:,:,5:,2] = 1.\n",
        "\n",
        "x_train = np.clip(x_train, 0, 1)\n",
        "\n",
        "x_test = np.zeros((1000,height,width, n_channel))+ 0.4*np.random.randn(1000,height,width, n_channel)\n",
        "x_test[:500,:5,:,0] = 1.\n",
        "x_test[:500,5:,:,0] = 0.5\n",
        "x_test[:500,5:,:,1] = 0.5\n",
        "x_test[500:,:,:5,1] = 1.\n",
        "x_test[500:,:,5:,2] = 1.\n",
        "\n",
        "x_test = np.clip(x_test, 0, 1)\n",
        "\n",
        "x_train.shape"
      ],
      "execution_count": 3,
      "outputs": [
        {
          "output_type": "execute_result",
          "data": {
            "text/plain": [
              "(100000, 10, 10, 3)"
            ]
          },
          "metadata": {
            "tags": []
          },
          "execution_count": 3
        }
      ]
    },
    {
      "cell_type": "code",
      "metadata": {
        "id": "X4EqhfY7eBVx",
        "colab_type": "code",
        "colab": {
          "base_uri": "https://localhost:8080/",
          "height": 282
        },
        "outputId": "b3f8fae8-10ac-4709-c51f-3600eff7b2f1"
      },
      "source": [
        "plt.imshow(x_train[0])"
      ],
      "execution_count": 4,
      "outputs": [
        {
          "output_type": "execute_result",
          "data": {
            "text/plain": [
              "<matplotlib.image.AxesImage at 0x7f13a4d0d7f0>"
            ]
          },
          "metadata": {
            "tags": []
          },
          "execution_count": 4
        },
        {
          "output_type": "display_data",
          "data": {
            "image/png": "[encoded data removed]",
            "text/plain": [
              "<Figure size 432x288 with 1 Axes>"
            ]
          },
          "metadata": {
            "tags": []
          }
        }
      ]
    },
    {
      "cell_type": "code",
      "metadata": {
        "id": "4EaKXkPDeZK7",
        "colab_type": "code",
        "colab": {
          "base_uri": "https://localhost:8080/",
          "height": 282
        },
        "outputId": "24154b44-d51f-45c5-ed7c-238fd4759d8d"
      },
      "source": [
        "plt.imshow(x_train[50000])"
      ],
      "execution_count": 5,
      "outputs": [
        {
          "output_type": "execute_result",
          "data": {
            "text/plain": [
              "<matplotlib.image.AxesImage at 0x7f13a484a668>"
            ]
          },
          "metadata": {
            "tags": []
          },
          "execution_count": 5
        },
        {
          "output_type": "display_data",
          "data": {
            "image/png": "[encoded data removed]",
            "text/plain": [
              "<Figure size 432x288 with 1 Axes>"
            ]
          },
          "metadata": {
            "tags": []
          }
        }
      ]
    },
    {
      "cell_type": "code",
      "metadata": {
        "id": "LfonnwBFe3vn",
        "colab_type": "code",
        "colab": {}
      },
      "source": [
        "def quantise(images, q_levels):\n",
        "    \"\"\"Quantise image into q levels\"\"\"\n",
        "    return (np.digitize(images, np.arange(q_levels) / q_levels) - 1).astype('float32')\n",
        "\n"
      ],
      "execution_count": 0,
      "outputs": []
    },
    {
      "cell_type": "code",
      "metadata": {
        "id": "H3HD8g0YfITZ",
        "colab_type": "code",
        "colab": {}
      },
      "source": [
        "# Quantise the input data in q levels\n",
        "q_levels = 64\n",
        "x_train_quantised = quantise(x_train, q_levels)\n",
        "x_test_quantised = quantise(x_test, q_levels)"
      ],
      "execution_count": 0,
      "outputs": []
    },
    {
      "cell_type": "code",
      "metadata": {
        "colab_type": "code",
        "id": "RnvCgyDLRHPk",
        "colab": {}
      },
      "source": [
        "# Creating input stream using tf.data API\n",
        "batch_size = 256\n",
        "train_buf = 20000\n",
        "\n",
        "train_dataset = tf.data.Dataset.from_tensor_slices((x_train_quantised / (q_levels - 1),\n",
        "                                                    x_train_quantised.astype('int32')))\n",
        "train_dataset = train_dataset.shuffle(buffer_size=train_buf)\n",
        "train_dataset = train_dataset.batch(batch_size)\n"
      ],
      "execution_count": 0,
      "outputs": []
    },
    {
      "cell_type": "code",
      "metadata": {
        "colab_type": "code",
        "id": "qiAWABHGRS6i",
        "colab": {}
      },
      "source": [
        "class MaskedConv2D(tf.keras.layers.Layer):\n",
        "    \"\"\"Convolutional layers with masks for autoregressive models\n",
        "\n",
        "    Convolutional layers with simple implementation to have masks type A and B.\n",
        "    \"\"\"\n",
        "\n",
        "    def __init__(self,\n",
        "                 mask_type,\n",
        "                 filters,\n",
        "                 kernel_size,\n",
        "                 strides=1,\n",
        "                 padding='same',\n",
        "                 kernel_initializer='glorot_uniform',\n",
        "                 bias_initializer='zeros',\n",
        "                 input_n_channels=3):\n",
        "        super(MaskedConv2D, self).__init__()\n",
        "\n",
        "        assert mask_type in {'A', 'B'}\n",
        "        self.mask_type = mask_type\n",
        "\n",
        "        self.filters = filters\n",
        "        self.kernel_size = kernel_size\n",
        "        self.strides = strides\n",
        "        self.padding = padding.upper()\n",
        "        self.kernel_initializer = keras.initializers.get(kernel_initializer)\n",
        "        self.bias_initializer = keras.initializers.get(bias_initializer)\n",
        "        self.input_n_channels = input_n_channels\n",
        "\n",
        "    def build(self, input_shape):\n",
        "        self.kernel = self.add_weight(\"kernel\",\n",
        "                                      shape=(self.kernel_size,\n",
        "                                             self.kernel_size,\n",
        "                                             int(input_shape[-1]),\n",
        "                                             self.filters),\n",
        "                                      initializer=self.kernel_initializer,\n",
        "                                      trainable=True)\n",
        "\n",
        "        self.bias = self.add_weight(\"bias\",\n",
        "                                    shape=(self.filters,),\n",
        "                                    initializer=self.bias_initializer,\n",
        "                                    trainable=True)\n",
        "\n",
        "        center = self.kernel_size // 2\n",
        "\n",
        "        mask = np.ones(self.kernel.shape, dtype=np.float32)\n",
        "        mask[center, center + 1:, :, :] = 0.\n",
        "        mask[center + 1:, :, :, :] = 0.\n",
        "\n",
        "        for i in range(self.input_n_channels):\n",
        "            for j in range(self.input_n_channels):\n",
        "                if (self.mask_type == 'A' and i >= j) or (self.mask_type == 'B' and i > j):\n",
        "                    mask[center, center, i::self.input_n_channels, j::self.input_n_channels] = 0.\n",
        "\n",
        "        self.mask = tf.constant(mask, dtype=tf.float32, name='mask')\n",
        "\n",
        "    def call(self, input):\n",
        "        masked_kernel = tf.math.multiply(self.mask, self.kernel)\n",
        "        x = tf.nn.conv2d(input, masked_kernel, strides=[1, self.strides, self.strides, 1], padding=self.padding)\n",
        "        x = tf.nn.bias_add(x, self.bias)\n",
        "        return x\n",
        "\n"
      ],
      "execution_count": 0,
      "outputs": []
    },
    {
      "cell_type": "code",
      "metadata": {
        "colab_type": "code",
        "id": "bLlRvZ8LkXci",
        "colab": {}
      },
      "source": [
        "class ResidualBlock(tf.keras.Model):\n",
        "    \"\"\"Residual blocks that compose pixelCNN\n",
        "\n",
        "    Blocks of layers with 3 convolutional layers and one residual connection.\n",
        "    Based on Figure 5 from [1] where h indicates number of filters.\n",
        "\n",
        "    Refs:\n",
        "    [1] - Oord, A. V. D., Kalchbrenner, N., & Kavukcuoglu, K. (2016). Pixel\n",
        "     recurrent neural networks. arXiv preprint arXiv:1601.06759.\n",
        "    \"\"\"\n",
        "\n",
        "    def __init__(self, h):\n",
        "        super(ResidualBlock, self).__init__(name='')\n",
        "\n",
        "        self.conv2a = keras.layers.Conv2D(filters=h, kernel_size=1, strides=1)\n",
        "        self.conv2b = MaskedConv2D(mask_type='B', filters=h, kernel_size=3, strides=1)\n",
        "        self.conv2c = keras.layers.Conv2D(filters=2 * h, kernel_size=1, strides=1)\n",
        "\n",
        "    def call(self, input_tensor):\n",
        "        x = tf.nn.relu(input_tensor)\n",
        "        x = self.conv2a(x)\n",
        "\n",
        "        x = tf.nn.relu(x)\n",
        "        x = self.conv2b(x)\n",
        "\n",
        "        x = tf.nn.relu(x)\n",
        "        x = self.conv2c(x)\n",
        "\n",
        "        x += input_tensor\n",
        "        return x"
      ],
      "execution_count": 0,
      "outputs": []
    },
    {
      "cell_type": "code",
      "metadata": {
        "colab_type": "code",
        "id": "K5fgUDW2kZU-",
        "colab": {}
      },
      "source": [
        "# Create PixelCNN model\n",
        "inputs = keras.layers.Input(shape=(height, width, n_channel))\n",
        "x = MaskedConv2D(mask_type='A', filters=128, kernel_size=7, strides=1)(inputs)\n",
        "\n",
        "for i in range(3):\n",
        "    x = ResidualBlock(h=64)(x)\n",
        "\n",
        "x = keras.layers.Activation(activation='relu')(x)\n",
        "x = keras.layers.Conv2D(filters=128, kernel_size=1, strides=1)(x)\n",
        "x = keras.layers.Activation(activation='relu')(x)\n",
        "x = keras.layers.Conv2D(filters=128, kernel_size=1, strides=1)(x)\n",
        "x = keras.layers.Conv2D(filters=n_channel * q_levels, kernel_size=1, strides=1)(x)  # shape [N,H,W,DC]\n",
        "\n",
        "pixelcnn = tf.keras.Model(inputs=inputs, outputs=x)"
      ],
      "execution_count": 0,
      "outputs": []
    },
    {
      "cell_type": "code",
      "metadata": {
        "colab_type": "code",
        "id": "6Fg9-ZE0kZRT",
        "colab": {}
      },
      "source": [
        "# Prepare optimizer and loss function\n",
        "lr_decay = 0.9999\n",
        "learning_rate = 5e-3\n",
        "optimizer = tf.keras.optimizers.Adam(lr=learning_rate)\n",
        "\n",
        "compute_loss = tf.keras.losses.CategoricalCrossentropy(from_logits=True)"
      ],
      "execution_count": 0,
      "outputs": []
    },
    {
      "cell_type": "code",
      "metadata": {
        "colab_type": "code",
        "id": "Twr5N3n7kjlS",
        "colab": {}
      },
      "source": [
        "@tf.function\n",
        "def train_step(batch_x, batch_y):\n",
        "    with tf.GradientTape() as ae_tape:\n",
        "        logits = pixelcnn(batch_x, training=True)\n",
        "\n",
        "        logits = tf.reshape(logits, [-1, height, width, q_levels, n_channel])  # shape [N,H,W,DC] -> [N,H,W,D,C]\n",
        "        logits = tf.transpose(logits, perm=[0, 1, 2, 4, 3])  # shape [N,H,W,D,C] -> [N,H,W,C,D]\n",
        "\n",
        "        loss = compute_loss(tf.one_hot(batch_y, q_levels), logits)\n",
        "\n",
        "    gradients = ae_tape.gradient(loss, pixelcnn.trainable_variables)\n",
        "    gradients, _ = tf.clip_by_global_norm(gradients, 1.0)\n",
        "    optimizer.apply_gradients(zip(gradients, pixelcnn.trainable_variables))\n",
        "\n",
        "    return loss"
      ],
      "execution_count": 0,
      "outputs": []
    },
    {
      "cell_type": "code",
      "metadata": {
        "colab_type": "code",
        "id": "XdTZaIvCkojo",
        "outputId": "28774e88-6bfe-4bea-c336-bda6afb59a77",
        "colab": {
          "base_uri": "https://localhost:8080/",
          "height": 1000
        }
      },
      "source": [
        "# --------------------------------------------------------------------------------------------------------------\n",
        "# Training loop\n",
        "n_epochs = 50\n",
        "n_iter = int(np.ceil(x_train_quantised.shape[0] / batch_size))\n",
        "for epoch in range(n_epochs):\n",
        "    progbar = Progbar(n_iter)\n",
        "    print('Epoch {:}/{:}'.format(epoch + 1, n_epochs))\n",
        "\n",
        "    for i_iter, (batch_x, batch_y) in enumerate(train_dataset):\n",
        "        start = time.time()\n",
        "        optimizer.lr = optimizer.lr * lr_decay\n",
        "        loss = train_step(batch_x, batch_y)\n",
        "\n",
        "        progbar.add(1, values=[(\"loss\", loss)])"
      ],
      "execution_count": 14,
      "outputs": [
        {
          "output_type": "stream",
          "text": [
            "Epoch 1/150\n",
            "391/391 [==============================] - 13s 34ms/step - loss: 1.2577\n",
            "Epoch 2/150\n",
            "391/391 [==============================] - 10s 25ms/step - loss: 1.0070\n",
            "Epoch 3/150\n",
            "391/391 [==============================] - 10s 25ms/step - loss: 0.9502\n",
            "Epoch 4/150\n",
            "391/391 [==============================] - 10s 25ms/step - loss: 0.9019\n",
            "Epoch 5/150\n",
            "391/391 [==============================] - 10s 25ms/step - loss: 0.8811\n",
            "Epoch 6/150\n",
            "391/391 [==============================] - 10s 25ms/step - loss: 0.8463\n",
            "Epoch 7/150\n",
            "391/391 [==============================] - 10s 25ms/step - loss: 0.8344\n",
            "Epoch 8/150\n",
            "391/391 [==============================] - 10s 25ms/step - loss: 0.8372\n",
            "Epoch 9/150\n",
            "391/391 [==============================] - 10s 25ms/step - loss: 0.8428\n",
            "Epoch 10/150\n",
            "391/391 [==============================] - 10s 25ms/step - loss: 0.7926\n",
            "Epoch 11/150\n",
            "391/391 [==============================] - 10s 25ms/step - loss: 0.7974\n",
            "Epoch 12/150\n",
            "391/391 [==============================] - 10s 26ms/step - loss: 0.7873\n",
            "Epoch 13/150\n",
            "391/391 [==============================] - 10s 25ms/step - loss: 0.7651\n",
            "Epoch 14/150\n",
            "391/391 [==============================] - 10s 26ms/step - loss: 0.7597\n",
            "Epoch 15/150\n",
            "391/391 [==============================] - 10s 26ms/step - loss: 0.7713\n",
            "Epoch 16/150\n",
            "391/391 [==============================] - 10s 26ms/step - loss: 0.7419\n",
            "Epoch 17/150\n",
            "391/391 [==============================] - 10s 26ms/step - loss: 0.7611\n",
            "Epoch 18/150\n",
            "391/391 [==============================] - 10s 26ms/step - loss: 0.7210\n",
            "Epoch 19/150\n",
            "391/391 [==============================] - 10s 26ms/step - loss: 0.7553\n",
            "Epoch 20/150\n",
            "391/391 [==============================] - 10s 26ms/step - loss: 0.6986\n",
            "Epoch 21/150\n",
            "391/391 [==============================] - 10s 26ms/step - loss: 0.6999\n",
            "Epoch 22/150\n",
            "391/391 [==============================] - 10s 26ms/step - loss: 0.6860\n",
            "Epoch 23/150\n",
            "391/391 [==============================] - 10s 26ms/step - loss: 0.6831\n",
            "Epoch 24/150\n",
            "391/391 [==============================] - 10s 26ms/step - loss: 0.6970\n",
            "Epoch 25/150\n",
            "391/391 [==============================] - 10s 26ms/step - loss: 0.7028\n",
            "Epoch 26/150\n",
            "391/391 [==============================] - 10s 26ms/step - loss: 0.6772\n",
            "Epoch 27/150\n",
            "391/391 [==============================] - 10s 26ms/step - loss: 0.6790\n",
            "Epoch 28/150\n",
            "391/391 [==============================] - 10s 25ms/step - loss: 0.6784\n",
            "Epoch 29/150\n",
            "391/391 [==============================] - 10s 26ms/step - loss: 0.6697\n",
            "Epoch 30/150\n",
            "391/391 [==============================] - 10s 26ms/step - loss: 0.6694\n",
            "Epoch 31/150\n",
            "391/391 [==============================] - 10s 26ms/step - loss: 0.6656\n",
            "Epoch 32/150\n",
            "391/391 [==============================] - 10s 26ms/step - loss: 0.6651\n",
            "Epoch 33/150\n",
            "391/391 [==============================] - 10s 25ms/step - loss: 0.6640\n",
            "Epoch 34/150\n",
            "391/391 [==============================] - 10s 25ms/step - loss: 0.6603\n",
            "Epoch 35/150\n",
            "391/391 [==============================] - 10s 25ms/step - loss: 0.6613\n",
            "Epoch 36/150\n",
            "391/391 [==============================] - 10s 25ms/step - loss: 0.6627\n",
            "Epoch 37/150\n",
            "391/391 [==============================] - 10s 25ms/step - loss: 0.6606\n",
            "Epoch 38/150\n",
            "391/391 [==============================] - 10s 25ms/step - loss: 0.6575\n",
            "Epoch 39/150\n",
            "391/391 [==============================] - 10s 25ms/step - loss: 0.6565\n",
            "Epoch 40/150\n",
            "391/391 [==============================] - 10s 26ms/step - loss: 0.6552\n",
            "Epoch 41/150\n",
            "391/391 [==============================] - 10s 25ms/step - loss: 0.6514\n",
            "Epoch 42/150\n",
            "391/391 [==============================] - 10s 26ms/step - loss: 0.6520\n",
            "Epoch 43/150\n",
            "391/391 [==============================] - 10s 25ms/step - loss: 0.6537\n",
            "Epoch 44/150\n",
            "391/391 [==============================] - 10s 26ms/step - loss: 0.6648\n",
            "Epoch 45/150\n",
            "391/391 [==============================] - 10s 26ms/step - loss: 0.6514\n",
            "Epoch 46/150\n",
            "391/391 [==============================] - 10s 25ms/step - loss: 0.6494\n",
            "Epoch 47/150\n",
            "391/391 [==============================] - 10s 26ms/step - loss: 0.6490\n",
            "Epoch 48/150\n",
            "391/391 [==============================] - 10s 26ms/step - loss: 0.6536\n",
            "Epoch 49/150\n",
            "266/391 [===================>..........] - ETA: 3s - loss: 0.7310"
          ],
          "name": "stdout"
        },
        {
          "output_type": "error",
          "ename": "KeyboardInterrupt",
          "evalue": "ignored",
          "traceback": [
            "\u001b[0;31m---------------------------------------------------------------------------\u001b[0m",
            "\u001b[0;31mKeyboardInterrupt\u001b[0m                         Traceback (most recent call last)",
            "\u001b[0;32m<ipython-input-14-f7b3341d7fc0>\u001b[0m in \u001b[0;36m<module>\u001b[0;34m()\u001b[0m\n\u001b[1;32m      7\u001b[0m     \u001b[0;32mfor\u001b[0m \u001b[0mi_iter\u001b[0m\u001b[0;34m,\u001b[0m \u001b[0;34m(\u001b[0m\u001b[0mbatch_x\u001b[0m\u001b[0;34m,\u001b[0m \u001b[0mbatch_y\u001b[0m\u001b[0;34m)\u001b[0m \u001b[0;32min\u001b[0m \u001b[0menumerate\u001b[0m\u001b[0;34m(\u001b[0m\u001b[0mtrain_dataset\u001b[0m\u001b[0;34m)\u001b[0m\u001b[0;34m:\u001b[0m\u001b[0;34m\u001b[0m\u001b[0;34m\u001b[0m\u001b[0m\n\u001b[1;32m      8\u001b[0m         \u001b[0mstart\u001b[0m \u001b[0;34m=\u001b[0m \u001b[0mtime\u001b[0m\u001b[0;34m.\u001b[0m\u001b[0mtime\u001b[0m\u001b[0;34m(\u001b[0m\u001b[0;34m)\u001b[0m\u001b[0;34m\u001b[0m\u001b[0;34m\u001b[0m\u001b[0m\n\u001b[0;32m----> 9\u001b[0;31m         \u001b[0moptimizer\u001b[0m\u001b[0;34m.\u001b[0m\u001b[0mlr\u001b[0m \u001b[0;34m=\u001b[0m \u001b[0moptimizer\u001b[0m\u001b[0;34m.\u001b[0m\u001b[0mlr\u001b[0m \u001b[0;34m*\u001b[0m \u001b[0mlr_decay\u001b[0m\u001b[0;34m\u001b[0m\u001b[0;34m\u001b[0m\u001b[0m\n\u001b[0m\u001b[1;32m     10\u001b[0m         \u001b[0mloss\u001b[0m \u001b[0;34m=\u001b[0m \u001b[0mtrain_step\u001b[0m\u001b[0;34m(\u001b[0m\u001b[0mbatch_x\u001b[0m\u001b[0;34m,\u001b[0m \u001b[0mbatch_y\u001b[0m\u001b[0;34m)\u001b[0m\u001b[0;34m\u001b[0m\u001b[0;34m\u001b[0m\u001b[0m\n\u001b[1;32m     11\u001b[0m \u001b[0;34m\u001b[0m\u001b[0m\n",
            "\u001b[0;32m/tensorflow-2.1.0/python3.6/tensorflow_core/python/keras/optimizer_v2/optimizer_v2.py\u001b[0m in \u001b[0;36m__setattr__\u001b[0;34m(self, name, value)\u001b[0m\n\u001b[1;32m    560\u001b[0m       \u001b[0mname\u001b[0m \u001b[0;34m=\u001b[0m \u001b[0;34m\"learning_rate\"\u001b[0m\u001b[0;34m\u001b[0m\u001b[0;34m\u001b[0m\u001b[0m\n\u001b[1;32m    561\u001b[0m     \u001b[0;32mif\u001b[0m \u001b[0mhasattr\u001b[0m\u001b[0;34m(\u001b[0m\u001b[0mself\u001b[0m\u001b[0;34m,\u001b[0m \u001b[0;34m\"_hyper\"\u001b[0m\u001b[0;34m)\u001b[0m \u001b[0;32mand\u001b[0m \u001b[0mname\u001b[0m \u001b[0;32min\u001b[0m \u001b[0mself\u001b[0m\u001b[0;34m.\u001b[0m\u001b[0m_hyper\u001b[0m\u001b[0;34m:\u001b[0m\u001b[0;34m\u001b[0m\u001b[0;34m\u001b[0m\u001b[0m\n\u001b[0;32m--> 562\u001b[0;31m       \u001b[0mself\u001b[0m\u001b[0;34m.\u001b[0m\u001b[0m_set_hyper\u001b[0m\u001b[0;34m(\u001b[0m\u001b[0mname\u001b[0m\u001b[0;34m,\u001b[0m \u001b[0mvalue\u001b[0m\u001b[0;34m)\u001b[0m\u001b[0;34m\u001b[0m\u001b[0;34m\u001b[0m\u001b[0m\n\u001b[0m\u001b[1;32m    563\u001b[0m     \u001b[0;32melse\u001b[0m\u001b[0;34m:\u001b[0m\u001b[0;34m\u001b[0m\u001b[0;34m\u001b[0m\u001b[0m\n\u001b[1;32m    564\u001b[0m       \u001b[0msuper\u001b[0m\u001b[0;34m(\u001b[0m\u001b[0mOptimizerV2\u001b[0m\u001b[0;34m,\u001b[0m \u001b[0mself\u001b[0m\u001b[0;34m)\u001b[0m\u001b[0;34m.\u001b[0m\u001b[0m__setattr__\u001b[0m\u001b[0;34m(\u001b[0m\u001b[0mname\u001b[0m\u001b[0;34m,\u001b[0m \u001b[0mvalue\u001b[0m\u001b[0;34m)\u001b[0m\u001b[0;34m\u001b[0m\u001b[0;34m\u001b[0m\u001b[0m\n",
            "\u001b[0;32m/tensorflow-2.1.0/python3.6/tensorflow_core/python/keras/optimizer_v2/optimizer_v2.py\u001b[0m in \u001b[0;36m_set_hyper\u001b[0;34m(self, name, value)\u001b[0m\n\u001b[1;32m    524\u001b[0m         \u001b[0mself\u001b[0m\u001b[0;34m.\u001b[0m\u001b[0m_hyper\u001b[0m\u001b[0;34m[\u001b[0m\u001b[0mname\u001b[0m\u001b[0;34m]\u001b[0m \u001b[0;34m=\u001b[0m \u001b[0mvalue\u001b[0m\u001b[0;34m\u001b[0m\u001b[0;34m\u001b[0m\u001b[0m\n\u001b[1;32m    525\u001b[0m       \u001b[0;32melse\u001b[0m\u001b[0;34m:\u001b[0m\u001b[0;34m\u001b[0m\u001b[0;34m\u001b[0m\u001b[0m\n\u001b[0;32m--> 526\u001b[0;31m         \u001b[0mbackend\u001b[0m\u001b[0;34m.\u001b[0m\u001b[0mset_value\u001b[0m\u001b[0;34m(\u001b[0m\u001b[0mself\u001b[0m\u001b[0;34m.\u001b[0m\u001b[0m_hyper\u001b[0m\u001b[0;34m[\u001b[0m\u001b[0mname\u001b[0m\u001b[0;34m]\u001b[0m\u001b[0;34m,\u001b[0m \u001b[0mvalue\u001b[0m\u001b[0;34m)\u001b[0m\u001b[0;34m\u001b[0m\u001b[0;34m\u001b[0m\u001b[0m\n\u001b[0m\u001b[1;32m    527\u001b[0m \u001b[0;34m\u001b[0m\u001b[0m\n\u001b[1;32m    528\u001b[0m   \u001b[0;32mdef\u001b[0m \u001b[0m_get_hyper\u001b[0m\u001b[0;34m(\u001b[0m\u001b[0mself\u001b[0m\u001b[0;34m,\u001b[0m \u001b[0mname\u001b[0m\u001b[0;34m,\u001b[0m \u001b[0mdtype\u001b[0m\u001b[0;34m=\u001b[0m\u001b[0;32mNone\u001b[0m\u001b[0;34m)\u001b[0m\u001b[0;34m:\u001b[0m\u001b[0;34m\u001b[0m\u001b[0;34m\u001b[0m\u001b[0m\n",
            "\u001b[0;32m/tensorflow-2.1.0/python3.6/tensorflow_core/python/keras/backend.py\u001b[0m in \u001b[0;36mset_value\u001b[0;34m(x, value)\u001b[0m\n\u001b[1;32m   3286\u001b[0m           \u001b[0;34m(\u001b[0m\u001b[0mof\u001b[0m \u001b[0mthe\u001b[0m \u001b[0msame\u001b[0m \u001b[0mshape\u001b[0m\u001b[0;34m)\u001b[0m\u001b[0;34m.\u001b[0m\u001b[0;34m\u001b[0m\u001b[0;34m\u001b[0m\u001b[0m\n\u001b[1;32m   3287\u001b[0m   \"\"\"\n\u001b[0;32m-> 3288\u001b[0;31m   \u001b[0mvalue\u001b[0m \u001b[0;34m=\u001b[0m \u001b[0mnp\u001b[0m\u001b[0;34m.\u001b[0m\u001b[0masarray\u001b[0m\u001b[0;34m(\u001b[0m\u001b[0mvalue\u001b[0m\u001b[0;34m,\u001b[0m \u001b[0mdtype\u001b[0m\u001b[0;34m=\u001b[0m\u001b[0mdtype\u001b[0m\u001b[0;34m(\u001b[0m\u001b[0mx\u001b[0m\u001b[0;34m)\u001b[0m\u001b[0;34m)\u001b[0m\u001b[0;34m\u001b[0m\u001b[0;34m\u001b[0m\u001b[0m\n\u001b[0m\u001b[1;32m   3289\u001b[0m   \u001b[0;32mif\u001b[0m \u001b[0mops\u001b[0m\u001b[0;34m.\u001b[0m\u001b[0mexecuting_eagerly_outside_functions\u001b[0m\u001b[0;34m(\u001b[0m\u001b[0;34m)\u001b[0m\u001b[0;34m:\u001b[0m\u001b[0;34m\u001b[0m\u001b[0;34m\u001b[0m\u001b[0m\n\u001b[1;32m   3290\u001b[0m     \u001b[0;32mwith\u001b[0m \u001b[0mops\u001b[0m\u001b[0;34m.\u001b[0m\u001b[0minit_scope\u001b[0m\u001b[0;34m(\u001b[0m\u001b[0;34m)\u001b[0m\u001b[0;34m:\u001b[0m\u001b[0;34m\u001b[0m\u001b[0;34m\u001b[0m\u001b[0m\n",
            "\u001b[0;32m/usr/local/lib/python3.6/dist-packages/numpy/core/_asarray.py\u001b[0m in \u001b[0;36masarray\u001b[0;34m(a, dtype, order)\u001b[0m\n\u001b[1;32m     83\u001b[0m \u001b[0;34m\u001b[0m\u001b[0m\n\u001b[1;32m     84\u001b[0m     \"\"\"\n\u001b[0;32m---> 85\u001b[0;31m     \u001b[0;32mreturn\u001b[0m \u001b[0marray\u001b[0m\u001b[0;34m(\u001b[0m\u001b[0ma\u001b[0m\u001b[0;34m,\u001b[0m \u001b[0mdtype\u001b[0m\u001b[0;34m,\u001b[0m \u001b[0mcopy\u001b[0m\u001b[0;34m=\u001b[0m\u001b[0;32mFalse\u001b[0m\u001b[0;34m,\u001b[0m \u001b[0morder\u001b[0m\u001b[0;34m=\u001b[0m\u001b[0morder\u001b[0m\u001b[0;34m)\u001b[0m\u001b[0;34m\u001b[0m\u001b[0;34m\u001b[0m\u001b[0m\n\u001b[0m\u001b[1;32m     86\u001b[0m \u001b[0;34m\u001b[0m\u001b[0m\n\u001b[1;32m     87\u001b[0m \u001b[0;34m\u001b[0m\u001b[0m\n",
            "\u001b[0;31mKeyboardInterrupt\u001b[0m: "
          ]
        }
      ]
    },
    {
      "cell_type": "code",
      "metadata": {
        "colab_type": "code",
        "id": "iNxXOv9lFfvG",
        "outputId": "655b26f7-ed4d-4b9a-d5e8-6ddde45ab3b9",
        "colab": {
          "base_uri": "https://localhost:8080/",
          "height": 578
        }
      },
      "source": [
        "# --------------------------------------------------------------------------------------------------------------\n",
        "# Generating new images\n",
        "samples = np.zeros((10, height,width,n_channel)) + 0.7*np.random.rand(10,height,width, n_channel)\n",
        "samples = np.clip(samples, 0, 1)\n",
        "\n",
        "\n",
        "for i in range(height):\n",
        "    for j in range(width):\n",
        "        for k in range(n_channel):\n",
        "            logits = pixelcnn(samples)\n",
        "            logits = tf.reshape(logits, [-1, height, width, q_levels, n_channel])\n",
        "            logits = tf.transpose(logits, perm=[0, 1, 2, 4, 3])\n",
        "            next_sample = tf.random.categorical(logits[:, i, j, k, :], 1)\n",
        "            samples[:, i, j, k] = (next_sample.numpy() / (q_levels - 1))[:, 0]\n",
        "            \n",
        "\n",
        "fig = plt.figure(figsize=(10, 10))\n",
        "for i in range(9):\n",
        "    ax = fig.add_subplot(3, 3, i+1)\n",
        "    ax.imshow(samples[i, :, :, :])\n",
        "    plt.xticks(np.array([]))\n",
        "    plt.yticks(np.array([]))\n",
        "plt.show()"
      ],
      "execution_count": 27,
      "outputs": [
        {
          "output_type": "display_data",
          "data": {
            "image/png": "[encoded data removed]",
            "text/plain": [
              "<Figure size 720x720 with 9 Axes>"
            ]
          },
          "metadata": {
            "tags": []
          }
        }
      ]
    },
    {
      "cell_type": "code",
      "metadata": {
        "colab_type": "code",
        "id": "8L3rpaFCI1Pk",
        "outputId": "173c6488-c710-4049-9ec1-f271bbcdfb3d",
        "colab": {
          "base_uri": "https://localhost:8080/",
          "height": 578
        }
      },
      "source": [
        "# --------------------------------------------------------------------------------------------------------------\n",
        "# Generating new images\n",
        "occlude_start_row = 14\n",
        "num_generated_images = 1\n",
        "samples = np.copy(x_test_quantised[:10, :, :, :])\n",
        "samples = samples / (q_levels - 1)\n",
        "samples[:, occlude_start_row:, :, :] = 0\n",
        "\n",
        "for i in range(occlude_start_row, height):\n",
        "    for j in range(width):\n",
        "        for k in range(n_channel):\n",
        "            logits = pixelcnn(samples)\n",
        "            logits = tf.reshape(logits, [-1, height, width, q_levels, n_channel])\n",
        "            logits = tf.transpose(logits, perm=[0, 1, 2, 4, 3])\n",
        "            next_sample = tf.random.categorical(logits[:, i, j, k, :], 1)\n",
        "            samples[:, i, j, k] = (next_sample.numpy() / (q_levels - 1))[:, 0]\n",
        "            \n",
        "\n",
        "fig = plt.figure(figsize=(10, 10))\n",
        "for i in range(9):\n",
        "    ax = fig.add_subplot(3, 3, i+1)\n",
        "    ax.imshow(samples[i, :, :, :])\n",
        "    plt.xticks(np.array([]))\n",
        "    plt.yticks(np.array([]))\n",
        "plt.show()"
      ],
      "execution_count": 20,
      "outputs": [
        {
          "output_type": "display_data",
          "data": {
            "image/png": "[encoded data removed]",
            "text/plain": [
              "<Figure size 720x720 with 9 Axes>"
            ]
          },
          "metadata": {
            "tags": []
          }
        }
      ]
    },
    {
      "cell_type": "code",
      "metadata": {
        "colab_type": "code",
        "outputId": "a165abad-c34e-4abd-cc67-19385c86bd0b",
        "id": "OdYVniXejQnA",
        "colab": {
          "base_uri": "https://localhost:8080/",
          "height": 578
        }
      },
      "source": [
        "# --------------------------------------------------------------------------------------------------------------\n",
        "# Generating new images\n",
        "occlude_start_row = 14\n",
        "num_generated_images = 1\n",
        "samples = np.copy(x_test_quantised[500:510, :, :, :])\n",
        "samples = samples / (q_levels - 1)\n",
        "samples[:, occlude_start_row:, :, :] = 0\n",
        "\n",
        "for i in range(occlude_start_row, height):\n",
        "    for j in range(width):\n",
        "        for k in range(n_channel):\n",
        "            logits = pixelcnn(samples)\n",
        "            logits = tf.reshape(logits, [-1, height, width, q_levels, n_channel])\n",
        "            logits = tf.transpose(logits, perm=[0, 1, 2, 4, 3])\n",
        "            next_sample = tf.random.categorical(logits[:, i, j, k, :], 1)\n",
        "            samples[:, i, j, k] = (next_sample.numpy() / (q_levels - 1))[:, 0]\n",
        "            \n",
        "\n",
        "fig = plt.figure(figsize=(10, 10))\n",
        "for i in range(9):\n",
        "    ax = fig.add_subplot(3, 3, i+1)\n",
        "    ax.imshow(samples[i, :, :, :])\n",
        "    plt.xticks(np.array([]))\n",
        "    plt.yticks(np.array([]))\n",
        "plt.show()"
      ],
      "execution_count": 23,
      "outputs": [
        {
          "output_type": "display_data",
          "data": {
            "image/png": "[encoded data removed]",
            "text/plain": [
              "<Figure size 720x720 with 9 Axes>"
            ]
          },
          "metadata": {
            "tags": []
          }
        }
      ]
    }
  ]
}