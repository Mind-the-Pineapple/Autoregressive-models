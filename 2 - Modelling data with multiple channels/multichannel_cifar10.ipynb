{
  "nbformat": 4,
  "nbformat_minor": 0,
  "metadata": {
    "colab": {
      "name": "multichannel_cifar10.ipynb",
      "provenance": []
    },
    "kernelspec": {
      "name": "python3",
      "display_name": "Python 3"
    },
    "accelerator": "GPU"
  },
  "cells": [
    {
      "cell_type": "code",
      "metadata": {
        "id": "cpSh3dRh_JKQ",
        "colab_type": "code",
        "colab": {
          "base_uri": "https://localhost:8080/",
          "height": 541
        },
        "outputId": "15c7a091-7cf9-4d08-e095-0e01a950b690"
      },
      "source": [
        "!pip install tensorflow-gpu==2.0.0-rc1"
      ],
      "execution_count": 1,
      "outputs": [
        {
          "output_type": "stream",
          "text": [
            "Collecting tensorflow-gpu==2.0.0-rc1\n",
            "\u001b[?25l  Downloading https://files.pythonhosted.org/packages/73/cf/2fc69ba3e59edc8333e2676fa71b40197718dea7dc1282c79955cf6b2acb/tensorflow_gpu-2.0.0rc1-cp36-cp36m-manylinux2010_x86_64.whl (380.5MB)\n",
            "\u001b[K     |████████████████████████████████| 380.5MB 85kB/s \n",
            "\u001b[?25hRequirement already satisfied: six>=1.10.0 in /usr/local/lib/python3.6/dist-packages (from tensorflow-gpu==2.0.0-rc1) (1.12.0)\n",
            "Collecting tf-estimator-nightly<1.14.0.dev2019080602,>=1.14.0.dev2019080601 (from tensorflow-gpu==2.0.0-rc1)\n",
            "\u001b[?25l  Downloading https://files.pythonhosted.org/packages/21/28/f2a27a62943d5f041e4a6fd404b2d21cb7c59b2242a4e73b03d9ba166552/tf_estimator_nightly-1.14.0.dev2019080601-py2.py3-none-any.whl (501kB)\n",
            "\u001b[K     |████████████████████████████████| 501kB 42.6MB/s \n",
            "\u001b[?25hRequirement already satisfied: absl-py>=0.7.0 in /usr/local/lib/python3.6/dist-packages (from tensorflow-gpu==2.0.0-rc1) (0.8.0)\n",
            "Requirement already satisfied: keras-applications>=1.0.8 in /usr/local/lib/python3.6/dist-packages (from tensorflow-gpu==2.0.0-rc1) (1.0.8)\n",
            "Requirement already satisfied: astor>=0.6.0 in /usr/local/lib/python3.6/dist-packages (from tensorflow-gpu==2.0.0-rc1) (0.8.0)\n",
            "Collecting tb-nightly<1.15.0a20190807,>=1.15.0a20190806 (from tensorflow-gpu==2.0.0-rc1)\n",
            "\u001b[?25l  Downloading https://files.pythonhosted.org/packages/bc/88/24b5fb7280e74c7cf65bde47c171547fd02afb3840cff41bcbe9270650f5/tb_nightly-1.15.0a20190806-py3-none-any.whl (4.3MB)\n",
            "\u001b[K     |████████████████████████████████| 4.3MB 38.2MB/s \n",
            "\u001b[?25hRequirement already satisfied: protobuf>=3.6.1 in /usr/local/lib/python3.6/dist-packages (from tensorflow-gpu==2.0.0-rc1) (3.7.1)\n",
            "Requirement already satisfied: opt-einsum>=2.3.2 in /usr/local/lib/python3.6/dist-packages (from tensorflow-gpu==2.0.0-rc1) (3.0.1)\n",
            "Requirement already satisfied: gast>=0.2.0 in /usr/local/lib/python3.6/dist-packages (from tensorflow-gpu==2.0.0-rc1) (0.2.2)\n",
            "Requirement already satisfied: wrapt>=1.11.1 in /usr/local/lib/python3.6/dist-packages (from tensorflow-gpu==2.0.0-rc1) (1.11.2)\n",
            "Requirement already satisfied: grpcio>=1.8.6 in /usr/local/lib/python3.6/dist-packages (from tensorflow-gpu==2.0.0-rc1) (1.15.0)\n",
            "Requirement already satisfied: numpy<2.0,>=1.16.0 in /usr/local/lib/python3.6/dist-packages (from tensorflow-gpu==2.0.0-rc1) (1.16.5)\n",
            "Requirement already satisfied: termcolor>=1.1.0 in /usr/local/lib/python3.6/dist-packages (from tensorflow-gpu==2.0.0-rc1) (1.1.0)\n",
            "Requirement already satisfied: google-pasta>=0.1.6 in /usr/local/lib/python3.6/dist-packages (from tensorflow-gpu==2.0.0-rc1) (0.1.7)\n",
            "Requirement already satisfied: keras-preprocessing>=1.0.5 in /usr/local/lib/python3.6/dist-packages (from tensorflow-gpu==2.0.0-rc1) (1.1.0)\n",
            "Requirement already satisfied: wheel>=0.26 in /usr/local/lib/python3.6/dist-packages (from tensorflow-gpu==2.0.0-rc1) (0.33.6)\n",
            "Requirement already satisfied: h5py in /usr/local/lib/python3.6/dist-packages (from keras-applications>=1.0.8->tensorflow-gpu==2.0.0-rc1) (2.8.0)\n",
            "Requirement already satisfied: werkzeug>=0.11.15 in /usr/local/lib/python3.6/dist-packages (from tb-nightly<1.15.0a20190807,>=1.15.0a20190806->tensorflow-gpu==2.0.0-rc1) (0.15.6)\n",
            "Requirement already satisfied: markdown>=2.6.8 in /usr/local/lib/python3.6/dist-packages (from tb-nightly<1.15.0a20190807,>=1.15.0a20190806->tensorflow-gpu==2.0.0-rc1) (3.1.1)\n",
            "Requirement already satisfied: setuptools>=41.0.0 in /usr/local/lib/python3.6/dist-packages (from tb-nightly<1.15.0a20190807,>=1.15.0a20190806->tensorflow-gpu==2.0.0-rc1) (41.2.0)\n",
            "Installing collected packages: tf-estimator-nightly, tb-nightly, tensorflow-gpu\n",
            "Successfully installed tb-nightly-1.15.0a20190806 tensorflow-gpu-2.0.0rc1 tf-estimator-nightly-1.14.0.dev2019080601\n"
          ],
          "name": "stdout"
        }
      ]
    },
    {
      "cell_type": "code",
      "metadata": {
        "id": "zgXBspaF_rDT",
        "colab_type": "code",
        "colab": {}
      },
      "source": [
        "import random as rn\n",
        "import time\n",
        "\n",
        "import matplotlib\n",
        "import matplotlib.pyplot as plt\n",
        "import numpy as np\n",
        "import tensorflow as tf\n",
        "from tensorflow import keras"
      ],
      "execution_count": 0,
      "outputs": []
    },
    {
      "cell_type": "code",
      "metadata": {
        "id": "rWRqRdt5AIyg",
        "colab_type": "code",
        "colab": {}
      },
      "source": [
        "class MaskedConv2D(tf.keras.layers.Layer):\n",
        "    \"\"\"Convolutional layers with masks for autoregressive models\n",
        "\n",
        "    Convolutional layers with simple implementation to have masks type A and B.\n",
        "    \"\"\"\n",
        "\n",
        "    def __init__(self,\n",
        "                 mask_type,\n",
        "                 filters,\n",
        "                 kernel_size,\n",
        "                 strides=1,\n",
        "                 padding='same',\n",
        "                 kernel_initializer='glorot_uniform',\n",
        "                 bias_initializer='zeros'):\n",
        "        super(MaskedConv2D, self).__init__()\n",
        "\n",
        "        assert mask_type in {'A', 'B'}\n",
        "        self.mask_type = mask_type\n",
        "\n",
        "        self.filters = filters\n",
        "        self.kernel_size = kernel_size\n",
        "        self.strides = strides\n",
        "        self.padding = padding.upper()\n",
        "        self.kernel_initializer = keras.initializers.get(kernel_initializer)\n",
        "        self.bias_initializer = keras.initializers.get(bias_initializer)\n",
        "\n",
        "    def build(self, input_shape):\n",
        "        self.kernel = self.add_weight(\"kernel\",\n",
        "                                      shape=(self.kernel_size,\n",
        "                                             self.kernel_size,\n",
        "                                             int(input_shape[-1]),\n",
        "                                             self.filters),\n",
        "                                      initializer=self.kernel_initializer,\n",
        "                                      trainable=True)\n",
        "\n",
        "        self.bias = self.add_weight(\"bias\",\n",
        "                                    shape=(self.filters,),\n",
        "                                    initializer=self.bias_initializer,\n",
        "                                    trainable=True)\n",
        "\n",
        "        mask = np.ones(self.kernel.shape, dtype=np.float32)\n",
        "        mask[self.kernel_size // 2, self.kernel_size // 2 + (self.mask_type == 'B'):, :, :] = 0.\n",
        "        mask[self.kernel_size // 2 + 1:, :, :] = 0.\n",
        "\n",
        "        self.mask = tf.constant(mask,\n",
        "                                dtype=tf.float32,\n",
        "                                name='mask')\n",
        "\n",
        "    def call(self, input):\n",
        "        masked_kernel = tf.math.multiply(self.mask, self.kernel)\n",
        "        x = tf.nn.conv2d(input, masked_kernel, strides=[1, self.strides, self.strides, 1], padding=self.padding)\n",
        "        x = tf.nn.bias_add(x, self.bias)\n",
        "        return x"
      ],
      "execution_count": 0,
      "outputs": []
    },
    {
      "cell_type": "code",
      "metadata": {
        "id": "a_ljhq0FALQo",
        "colab_type": "code",
        "colab": {}
      },
      "source": [
        "class ResidualBlock(tf.keras.Model):\n",
        "    \"\"\"Residual blocks that compose pixelCNN\n",
        "\n",
        "    Blocks of layers with 3 convolutional layers and one residual connection.\n",
        "    Based on Figure 5 from [1] where h indicates number of filters.\n",
        "\n",
        "    Refs:\n",
        "    [1] - Oord, A. V. D., Kalchbrenner, N., & Kavukcuoglu, K. (2016). Pixel\n",
        "     recurrent neural networks. arXiv preprint arXiv:1601.06759.\n",
        "    \"\"\"\n",
        "\n",
        "    def __init__(self, h):\n",
        "        super(ResidualBlock, self).__init__(name='')\n",
        "\n",
        "        self.conv2a = keras.layers.Conv2D(filters=h, kernel_size=1, strides=1)\n",
        "        self.conv2b = MaskedConv2D(mask_type='B', filters=h, kernel_size=3, strides=1)\n",
        "        self.conv2c = keras.layers.Conv2D(filters=2 * h, kernel_size=1, strides=1)\n",
        "\n",
        "    def call(self, input_tensor):\n",
        "        x = tf.nn.relu(input_tensor)\n",
        "        x = self.conv2a(x)\n",
        "\n",
        "        x = tf.nn.relu(x)\n",
        "        x = self.conv2b(x)\n",
        "\n",
        "        x = tf.nn.relu(x)\n",
        "        x = self.conv2c(x)\n",
        "\n",
        "        x += input_tensor\n",
        "        return x"
      ],
      "execution_count": 0,
      "outputs": []
    },
    {
      "cell_type": "code",
      "metadata": {
        "id": "drtl9dwsAQMq",
        "colab_type": "code",
        "colab": {}
      },
      "source": [
        "def quantisize(images, q_levels):\n",
        "    \"\"\"Digitize image into q levels\"\"\"\n",
        "    return (np.digitize(images, np.arange(q_levels) / q_levels) - 1).astype('float32')"
      ],
      "execution_count": 0,
      "outputs": []
    },
    {
      "cell_type": "code",
      "metadata": {
        "id": "sigAYcAfATkQ",
        "colab_type": "code",
        "colab": {}
      },
      "source": [
        "def sample_from(distribution):\n",
        "    \"\"\"\"\"\"\n",
        "    batch_size, bins = distribution.shape\n",
        "    return np.array([np.random.choice(bins, p=distr) for distr in distribution])"
      ],
      "execution_count": 0,
      "outputs": []
    },
    {
      "cell_type": "code",
      "metadata": {
        "id": "k7th6eFNAZfA",
        "colab_type": "code",
        "colab": {}
      },
      "source": [
        "# --------------------------------------------------------------------------------------------------------------\n",
        "# Defining random seeds\n",
        "random_seed = 42\n",
        "tf.random.set_seed(random_seed)\n",
        "np.random.seed(random_seed)\n",
        "rn.seed(random_seed)"
      ],
      "execution_count": 0,
      "outputs": []
    },
    {
      "cell_type": "code",
      "metadata": {
        "id": "ACyt8q_pAep_",
        "colab_type": "code",
        "colab": {
          "base_uri": "https://localhost:8080/",
          "height": 52
        },
        "outputId": "31f01648-7605-4e16-c109-79efbdfe3241"
      },
      "source": [
        "# --------------------------------------------------------------------------------------------------------------\n",
        "# Loading data\n",
        "(x_train, y_train), (x_test, y_test) = tf.keras.datasets.cifar10.load_data()\n",
        "\n",
        "height = 32\n",
        "width = 32\n",
        "n_channel = 3\n",
        "\n",
        "x_train = x_train.astype('float32') / 255.\n",
        "x_test = x_test.astype('float32') / 255.\n",
        "\n",
        "x_train = x_train.reshape(x_train.shape[0], height, width, n_channel)\n",
        "x_test = x_test.reshape(x_test.shape[0], height, width, n_channel)"
      ],
      "execution_count": 8,
      "outputs": [
        {
          "output_type": "stream",
          "text": [
            "Downloading data from https://www.cs.toronto.edu/~kriz/cifar-10-python.tar.gz\n",
            "170500096/170498071 [==============================] - 6s 0us/step\n"
          ],
          "name": "stdout"
        }
      ]
    },
    {
      "cell_type": "code",
      "metadata": {
        "id": "FrgFLyZ7AhuO",
        "colab_type": "code",
        "colab": {}
      },
      "source": [
        "# --------------------------------------------------------------------------------------------------------------\n",
        "# Quantisize the input data in q levels\n",
        "q_levels = 256\n",
        "x_train_quantised = quantisize(x_train, q_levels)\n",
        "x_test_quantised = quantisize(x_test, q_levels)"
      ],
      "execution_count": 0,
      "outputs": []
    },
    {
      "cell_type": "code",
      "metadata": {
        "id": "RNa7rI0nAkzb",
        "colab_type": "code",
        "colab": {
          "base_uri": "https://localhost:8080/",
          "height": 89
        },
        "outputId": "0ca8e091-e049-43d1-9dee-0cdb92459609"
      },
      "source": [
        "# --------------------------------------------------------------------------------------------------------------\n",
        "# Creating input stream using tf.data API\n",
        "batch_size = 128\n",
        "train_buf = 60000\n",
        "\n",
        "train_dataset = tf.data.Dataset.from_tensor_slices((x_train_quantised / (q_levels - 1),\n",
        "                                                    x_train_quantised.astype('int32')))\n",
        "train_dataset = train_dataset.shuffle(buffer_size=train_buf)\n",
        "train_dataset = train_dataset.batch(batch_size)\n",
        "\n",
        "test_dataset = tf.data.Dataset.from_tensor_slices((x_test_quantised / (q_levels - 1),\n",
        "                                                   x_test_quantised.astype('int32')))\n",
        "test_dataset = test_dataset.batch(batch_size)"
      ],
      "execution_count": 10,
      "outputs": [
        {
          "output_type": "stream",
          "text": [
            "WARNING:tensorflow:From /usr/local/lib/python3.6/dist-packages/tensorflow_core/python/data/util/random_seed.py:58: where (from tensorflow.python.ops.array_ops) is deprecated and will be removed in a future version.\n",
            "Instructions for updating:\n",
            "Use tf.where in 2.0, which has the same broadcast rule as np.where\n"
          ],
          "name": "stdout"
        }
      ]
    },
    {
      "cell_type": "code",
      "metadata": {
        "id": "vHpl6p45AtGz",
        "colab_type": "code",
        "colab": {}
      },
      "source": [
        "# --------------------------------------------------------------------------------------------------------------\n",
        "# Create PixelCNN model\n",
        "inputs = keras.layers.Input(shape=(height, width, n_channel))\n",
        "x = MaskedConv2D(mask_type='A', filters=128, kernel_size=7, strides=1)(inputs)\n",
        "\n",
        "for i in range(15):\n",
        "    x = ResidualBlock(h=64)(x)\n",
        "\n",
        "x = keras.layers.Activation(activation='relu')(x)\n",
        "x = keras.layers.Conv2D(filters=128, kernel_size=1, strides=1)(x)\n",
        "x = keras.layers.Activation(activation='relu')(x)\n",
        "x = keras.layers.Conv2D(filters=n_channel * q_levels, kernel_size=1, strides=1)(x)  # shape [N,H,W,DC]\n",
        "\n",
        "pixelcnn = tf.keras.Model(inputs=inputs, outputs=x)"
      ],
      "execution_count": 0,
      "outputs": []
    },
    {
      "cell_type": "code",
      "metadata": {
        "id": "qK0rhyk8A1si",
        "colab_type": "code",
        "colab": {}
      },
      "source": [
        "# --------------------------------------------------------------------------------------------------------------\n",
        "# Prepare optimizer and loss function\n",
        "lr_decay = 0.9995\n",
        "learning_rate = 1e-3\n",
        "optimizer = tf.keras.optimizers.Adam(lr=learning_rate)\n",
        "\n",
        "compute_loss = tf.keras.losses.CategoricalCrossentropy(from_logits=True)"
      ],
      "execution_count": 0,
      "outputs": []
    },
    {
      "cell_type": "code",
      "metadata": {
        "id": "Gn2RvQ3tA3j2",
        "colab_type": "code",
        "colab": {}
      },
      "source": [
        "# --------------------------------------------------------------------------------------------------------------\n",
        "@tf.function\n",
        "def train_step(batch_x, batch_y):\n",
        "    with tf.GradientTape() as ae_tape:\n",
        "        logits = pixelcnn(batch_x, training=True)\n",
        "\n",
        "        logits = tf.reshape(logits, [-1, height, width, q_levels, n_channel])  # shape [N,H,W,DC] -> [N,H,W,D,C]\n",
        "        logits = tf.transpose(logits, perm=[0, 1, 2, 4, 3])  # shape [N,H,W,D,C] -> [N,H,W,C,D]\n",
        "\n",
        "        loss = compute_loss(tf.one_hot(batch_y, q_levels), logits)\n",
        "\n",
        "    gradients = ae_tape.gradient(loss, pixelcnn.trainable_variables)\n",
        "    gradients, _ = tf.clip_by_global_norm(gradients, 1.0)\n",
        "    optimizer.apply_gradients(zip(gradients, pixelcnn.trainable_variables))\n",
        "\n",
        "    return loss"
      ],
      "execution_count": 0,
      "outputs": []
    },
    {
      "cell_type": "code",
      "metadata": {
        "id": "IbIowQotA91c",
        "colab_type": "code",
        "colab": {
          "base_uri": "https://localhost:8080/",
          "height": 1000
        },
        "outputId": "22bdba94-6f61-4284-fba1-8e6b62d52f17"
      },
      "source": [
        "# --------------------------------------------------------------------------------------------------------------\n",
        "# Training loop\n",
        "n_epochs = 30\n",
        "n_iter = int(np.ceil(x_train_quantised.shape[0] / batch_size))\n",
        "for epoch in range(n_epochs):\n",
        "    start_epoch = time.time()\n",
        "    for i_iter, (batch_x, batch_y) in enumerate(train_dataset):\n",
        "        start = time.time()\n",
        "        optimizer.lr = optimizer.lr * lr_decay\n",
        "        loss = train_step(batch_x, batch_y)\n",
        "        iter_time = time.time() - start\n",
        "        if i_iter % 100 == 0:\n",
        "            print('EPOCH {:3d}: ITER {:4d}/{:4d} TIME: {:.2f} LOSS: {:.4f}'.format(epoch,\n",
        "                                                                                   i_iter, n_iter,\n",
        "                                                                                   iter_time,\n",
        "                                                                                   loss))\n",
        "    epoch_time = time.time() - start_epoch\n",
        "    print('EPOCH {:3d}: TIME: {:.2f} ETA: {:.2f}'.format(epoch,\n",
        "                                                         epoch_time,\n",
        "                                                         epoch_time * (n_epochs - epoch)))"
      ],
      "execution_count": 14,
      "outputs": [
        {
          "output_type": "stream",
          "text": [
            "EPOCH   0: ITER    0/ 391 TIME: 7.97 LOSS: 5.5448\n",
            "EPOCH   0: ITER  100/ 391 TIME: 0.75 LOSS: 4.7196\n",
            "EPOCH   0: ITER  200/ 391 TIME: 0.74 LOSS: 4.3667\n",
            "EPOCH   0: ITER  300/ 391 TIME: 0.75 LOSS: 4.3091\n",
            "EPOCH   0: TIME: 302.30 ETA: 9069.01\n",
            "EPOCH   1: ITER    0/ 391 TIME: 0.03 LOSS: 4.1031\n",
            "EPOCH   1: ITER  100/ 391 TIME: 0.72 LOSS: 4.0511\n",
            "EPOCH   1: ITER  200/ 391 TIME: 0.73 LOSS: 4.0636\n",
            "EPOCH   1: ITER  300/ 391 TIME: 0.72 LOSS: 3.8890\n",
            "EPOCH   1: TIME: 294.29 ETA: 8534.48\n",
            "EPOCH   2: ITER    0/ 391 TIME: 0.03 LOSS: 3.9047\n",
            "EPOCH   2: ITER  100/ 391 TIME: 0.73 LOSS: 4.0079\n",
            "EPOCH   2: ITER  200/ 391 TIME: 0.75 LOSS: 3.8334\n",
            "EPOCH   2: ITER  300/ 391 TIME: 0.67 LOSS: 3.9694\n",
            "EPOCH   2: TIME: 293.90 ETA: 8229.14\n",
            "EPOCH   3: ITER    0/ 391 TIME: 0.04 LOSS: 3.7701\n",
            "EPOCH   3: ITER  100/ 391 TIME: 0.74 LOSS: 3.8000\n",
            "EPOCH   3: ITER  200/ 391 TIME: 0.73 LOSS: 3.7300\n",
            "EPOCH   3: ITER  300/ 391 TIME: 0.72 LOSS: 3.8863\n",
            "EPOCH   3: TIME: 294.10 ETA: 7940.66\n",
            "EPOCH   4: ITER    0/ 391 TIME: 0.03 LOSS: 3.7345\n",
            "EPOCH   4: ITER  100/ 391 TIME: 0.74 LOSS: 3.7173\n",
            "EPOCH   4: ITER  200/ 391 TIME: 0.73 LOSS: 3.7867\n",
            "EPOCH   4: ITER  300/ 391 TIME: 0.74 LOSS: 3.6576\n",
            "EPOCH   4: TIME: 292.86 ETA: 7614.29\n",
            "EPOCH   5: ITER    0/ 391 TIME: 0.03 LOSS: 3.6652\n",
            "EPOCH   5: ITER  100/ 391 TIME: 0.73 LOSS: 3.6437\n",
            "EPOCH   5: ITER  200/ 391 TIME: 0.73 LOSS: 3.6377\n",
            "EPOCH   5: ITER  300/ 391 TIME: 0.75 LOSS: 3.6345\n",
            "EPOCH   5: TIME: 292.78 ETA: 7319.61\n",
            "EPOCH   6: ITER    0/ 391 TIME: 0.03 LOSS: 3.6468\n",
            "EPOCH   6: ITER  100/ 391 TIME: 0.73 LOSS: 3.5990\n",
            "EPOCH   6: ITER  200/ 391 TIME: 0.73 LOSS: 3.6484\n",
            "EPOCH   6: ITER  300/ 391 TIME: 0.73 LOSS: 3.5816\n",
            "EPOCH   6: TIME: 292.79 ETA: 7027.01\n",
            "EPOCH   7: ITER    0/ 391 TIME: 0.03 LOSS: 3.5786\n",
            "EPOCH   7: ITER  100/ 391 TIME: 0.72 LOSS: 3.5501\n",
            "EPOCH   7: ITER  200/ 391 TIME: 0.73 LOSS: 3.5629\n",
            "EPOCH   7: ITER  300/ 391 TIME: 0.73 LOSS: 3.5297\n",
            "EPOCH   7: TIME: 292.66 ETA: 6731.24\n",
            "EPOCH   8: ITER    0/ 391 TIME: 0.03 LOSS: 3.5296\n",
            "EPOCH   8: ITER  100/ 391 TIME: 0.73 LOSS: 3.5459\n",
            "EPOCH   8: ITER  200/ 391 TIME: 0.73 LOSS: 3.4962\n",
            "EPOCH   8: ITER  300/ 391 TIME: 0.73 LOSS: 3.5934\n",
            "EPOCH   8: TIME: 292.78 ETA: 6441.19\n",
            "EPOCH   9: ITER    0/ 391 TIME: 0.03 LOSS: 3.5739\n",
            "EPOCH   9: ITER  100/ 391 TIME: 0.73 LOSS: 3.5132\n",
            "EPOCH   9: ITER  200/ 391 TIME: 0.73 LOSS: 3.5155\n",
            "EPOCH   9: ITER  300/ 391 TIME: 0.73 LOSS: 3.5638\n",
            "EPOCH   9: TIME: 292.63 ETA: 6145.19\n",
            "EPOCH  10: ITER    0/ 391 TIME: 0.04 LOSS: 3.5785\n",
            "EPOCH  10: ITER  100/ 391 TIME: 0.73 LOSS: 3.5212\n",
            "EPOCH  10: ITER  200/ 391 TIME: 0.77 LOSS: 3.4778\n",
            "EPOCH  10: ITER  300/ 391 TIME: 0.73 LOSS: 3.5032\n",
            "EPOCH  10: TIME: 292.48 ETA: 5849.56\n",
            "EPOCH  11: ITER    0/ 391 TIME: 0.03 LOSS: 3.4702\n",
            "EPOCH  11: ITER  100/ 391 TIME: 0.73 LOSS: 3.4723\n",
            "EPOCH  11: ITER  200/ 391 TIME: 0.73 LOSS: 3.4472\n",
            "EPOCH  11: ITER  300/ 391 TIME: 0.73 LOSS: 3.5553\n",
            "EPOCH  11: TIME: 292.49 ETA: 5557.23\n",
            "EPOCH  12: ITER    0/ 391 TIME: 0.03 LOSS: 3.4569\n",
            "EPOCH  12: ITER  100/ 391 TIME: 0.74 LOSS: 3.4204\n",
            "EPOCH  12: ITER  200/ 391 TIME: 0.73 LOSS: 3.4529\n",
            "EPOCH  12: ITER  300/ 391 TIME: 0.73 LOSS: 3.4962\n",
            "EPOCH  12: TIME: 292.45 ETA: 5264.17\n",
            "EPOCH  13: ITER    0/ 391 TIME: 0.07 LOSS: 3.5430\n",
            "EPOCH  13: ITER  100/ 391 TIME: 0.73 LOSS: 3.5220\n",
            "EPOCH  13: ITER  200/ 391 TIME: 0.72 LOSS: 3.4593\n",
            "EPOCH  13: ITER  300/ 391 TIME: 0.73 LOSS: 3.4812\n",
            "EPOCH  13: TIME: 292.40 ETA: 4970.84\n",
            "EPOCH  14: ITER    0/ 391 TIME: 0.03 LOSS: 3.4659\n",
            "EPOCH  14: ITER  100/ 391 TIME: 0.73 LOSS: 3.5273\n",
            "EPOCH  14: ITER  200/ 391 TIME: 0.73 LOSS: 3.4591\n",
            "EPOCH  14: ITER  300/ 391 TIME: 0.73 LOSS: 3.4337\n",
            "EPOCH  14: TIME: 292.51 ETA: 4680.21\n",
            "EPOCH  15: ITER    0/ 391 TIME: 0.03 LOSS: 3.4438\n",
            "EPOCH  15: ITER  100/ 391 TIME: 0.74 LOSS: 3.4763\n",
            "EPOCH  15: ITER  200/ 391 TIME: 0.74 LOSS: 3.4320\n",
            "EPOCH  15: ITER  300/ 391 TIME: 0.73 LOSS: 3.4646\n",
            "EPOCH  15: TIME: 292.47 ETA: 4386.99\n",
            "EPOCH  16: ITER    0/ 391 TIME: 0.04 LOSS: 3.4743\n",
            "EPOCH  16: ITER  100/ 391 TIME: 0.76 LOSS: 3.4618\n",
            "EPOCH  16: ITER  200/ 391 TIME: 0.83 LOSS: 3.4725\n",
            "EPOCH  16: ITER  300/ 391 TIME: 0.73 LOSS: 3.3735\n",
            "EPOCH  16: TIME: 292.25 ETA: 4091.53\n",
            "EPOCH  17: ITER    0/ 391 TIME: 0.03 LOSS: 3.4849\n",
            "EPOCH  17: ITER  100/ 391 TIME: 0.73 LOSS: 3.4250\n",
            "EPOCH  17: ITER  200/ 391 TIME: 0.73 LOSS: 3.4655\n",
            "EPOCH  17: ITER  300/ 391 TIME: 0.73 LOSS: 3.4522\n",
            "EPOCH  17: TIME: 292.62 ETA: 3804.01\n",
            "EPOCH  18: ITER    0/ 391 TIME: 0.03 LOSS: 3.5033\n",
            "EPOCH  18: ITER  100/ 391 TIME: 0.74 LOSS: 3.3868\n",
            "EPOCH  18: ITER  200/ 391 TIME: 0.73 LOSS: 3.4648\n",
            "EPOCH  18: ITER  300/ 391 TIME: 0.73 LOSS: 3.4367\n",
            "EPOCH  18: TIME: 292.88 ETA: 3514.58\n",
            "EPOCH  19: ITER    0/ 391 TIME: 0.03 LOSS: 3.5045\n",
            "EPOCH  19: ITER  100/ 391 TIME: 0.74 LOSS: 3.4993\n",
            "EPOCH  19: ITER  200/ 391 TIME: 0.73 LOSS: 3.4899\n",
            "EPOCH  19: ITER  300/ 391 TIME: 0.74 LOSS: 3.4733\n",
            "EPOCH  19: TIME: 292.81 ETA: 3220.96\n",
            "EPOCH  20: ITER    0/ 391 TIME: 0.03 LOSS: 3.4624\n",
            "EPOCH  20: ITER  100/ 391 TIME: 0.73 LOSS: 3.4839\n",
            "EPOCH  20: ITER  200/ 391 TIME: 0.73 LOSS: 3.4499\n",
            "EPOCH  20: ITER  300/ 391 TIME: 0.73 LOSS: 3.4534\n",
            "EPOCH  20: TIME: 292.87 ETA: 2928.69\n",
            "EPOCH  21: ITER    0/ 391 TIME: 0.03 LOSS: 3.4658\n",
            "EPOCH  21: ITER  100/ 391 TIME: 0.73 LOSS: 3.4290\n",
            "EPOCH  21: ITER  200/ 391 TIME: 0.82 LOSS: 3.3651\n",
            "EPOCH  21: ITER  300/ 391 TIME: 0.74 LOSS: 3.4696\n",
            "EPOCH  21: TIME: 292.69 ETA: 2634.19\n",
            "EPOCH  22: ITER    0/ 391 TIME: 0.03 LOSS: 3.4658\n",
            "EPOCH  22: ITER  100/ 391 TIME: 0.73 LOSS: 3.4837\n",
            "EPOCH  22: ITER  200/ 391 TIME: 0.74 LOSS: 3.4718\n",
            "EPOCH  22: ITER  300/ 391 TIME: 0.73 LOSS: 3.4739\n",
            "EPOCH  22: TIME: 292.70 ETA: 2341.57\n",
            "EPOCH  23: ITER    0/ 391 TIME: 0.03 LOSS: 3.4928\n",
            "EPOCH  23: ITER  100/ 391 TIME: 0.73 LOSS: 3.4615\n",
            "EPOCH  23: ITER  200/ 391 TIME: 0.73 LOSS: 3.4523\n",
            "EPOCH  23: ITER  300/ 391 TIME: 0.72 LOSS: 3.5357\n",
            "EPOCH  23: TIME: 292.79 ETA: 2049.54\n",
            "EPOCH  24: ITER    0/ 391 TIME: 0.03 LOSS: 3.5408\n",
            "EPOCH  24: ITER  100/ 391 TIME: 0.73 LOSS: 3.4845\n",
            "EPOCH  24: ITER  200/ 391 TIME: 0.82 LOSS: 3.4312\n",
            "EPOCH  24: ITER  300/ 391 TIME: 0.74 LOSS: 3.4066\n",
            "EPOCH  24: TIME: 292.78 ETA: 1756.71\n",
            "EPOCH  25: ITER    0/ 391 TIME: 0.06 LOSS: 3.4449\n",
            "EPOCH  25: ITER  100/ 391 TIME: 0.74 LOSS: 3.4442\n",
            "EPOCH  25: ITER  200/ 391 TIME: 0.73 LOSS: 3.4231\n",
            "EPOCH  25: ITER  300/ 391 TIME: 0.73 LOSS: 3.4188\n",
            "EPOCH  25: TIME: 292.90 ETA: 1464.51\n",
            "EPOCH  26: ITER    0/ 391 TIME: 0.13 LOSS: 3.4709\n",
            "EPOCH  26: ITER  100/ 391 TIME: 0.74 LOSS: 3.4474\n",
            "EPOCH  26: ITER  200/ 391 TIME: 0.74 LOSS: 3.4744\n",
            "EPOCH  26: ITER  300/ 391 TIME: 0.73 LOSS: 3.4948\n",
            "EPOCH  26: TIME: 292.92 ETA: 1171.68\n",
            "EPOCH  27: ITER    0/ 391 TIME: 0.03 LOSS: 3.4806\n",
            "EPOCH  27: ITER  100/ 391 TIME: 0.73 LOSS: 3.4347\n",
            "EPOCH  27: ITER  200/ 391 TIME: 0.71 LOSS: 3.3765\n",
            "EPOCH  27: ITER  300/ 391 TIME: 0.73 LOSS: 3.4948\n",
            "EPOCH  27: TIME: 292.85 ETA: 878.54\n",
            "EPOCH  28: ITER    0/ 391 TIME: 0.04 LOSS: 3.4804\n",
            "EPOCH  28: ITER  100/ 391 TIME: 0.73 LOSS: 3.4538\n",
            "EPOCH  28: ITER  200/ 391 TIME: 0.83 LOSS: 3.4564\n",
            "EPOCH  28: ITER  300/ 391 TIME: 0.74 LOSS: 3.3778\n",
            "EPOCH  28: TIME: 292.90 ETA: 585.80\n",
            "EPOCH  29: ITER    0/ 391 TIME: 0.04 LOSS: 3.4636\n",
            "EPOCH  29: ITER  100/ 391 TIME: 0.74 LOSS: 3.4016\n",
            "EPOCH  29: ITER  200/ 391 TIME: 0.73 LOSS: 3.4695\n",
            "EPOCH  29: ITER  300/ 391 TIME: 0.74 LOSS: 3.3842\n",
            "EPOCH  29: TIME: 292.99 ETA: 292.99\n"
          ],
          "name": "stdout"
        }
      ]
    },
    {
      "cell_type": "code",
      "metadata": {
        "id": "D8EWJD75BDED",
        "colab_type": "code",
        "colab": {
          "base_uri": "https://localhost:8080/",
          "height": 52
        },
        "outputId": "0ae9dfd9-3a1b-4de1-fd9b-d224bc88cfc6"
      },
      "source": [
        "# --------------------------------------------------------------------------------------------------------------\n",
        "# Test\n",
        "test_loss = []\n",
        "for batch_x, batch_y in test_dataset:\n",
        "    logits = pixelcnn(batch_x, training=False)\n",
        "    logits = tf.reshape(logits, [-1, height, width, q_levels, n_channel])\n",
        "    logits = tf.transpose(logits, perm=[0, 1, 2, 4, 3])\n",
        "\n",
        "    # Calculate cross-entropy (= negative log-likelihood)\n",
        "    loss = compute_loss(tf.one_hot(batch_y, q_levels), logits)\n",
        "\n",
        "    test_loss.append(loss)\n",
        "print('nll : {:} nats'.format(np.array(test_loss).mean()))\n",
        "print('bits/dim : {:}'.format(np.array(test_loss).mean() / (height * width)))\n"
      ],
      "execution_count": 15,
      "outputs": [
        {
          "output_type": "stream",
          "text": [
            "nll : 3.438567638397217 nats\n",
            "bits/dim : 0.003357976209372282\n"
          ],
          "name": "stdout"
        }
      ]
    },
    {
      "cell_type": "code",
      "metadata": {
        "id": "deJgSHmOBGfk",
        "colab_type": "code",
        "colab": {}
      },
      "source": [
        "# --------------------------------------------------------------------------------------------------------------\n",
        "# Generating new images\n",
        "samples = (np.random.rand(9, height, width, n_channel) * 0.01).astype('float32')\n",
        "for i in range(height):\n",
        "    for j in range(width):\n",
        "        for k in range(n_channel):\n",
        "            logits = pixelcnn(samples)\n",
        "            logits = tf.reshape(logits, [-1, height, width, q_levels, n_channel])\n",
        "            logits = tf.transpose(logits, perm=[0, 1, 2, 4, 3])\n",
        "            probs = tf.nn.softmax(logits)\n",
        "\n",
        "            next_sample = probs[:, i, j, k, :]\n",
        "            samples[:, i, j, k] = sample_from(next_sample.numpy()) / (q_levels - 1)\n"
      ],
      "execution_count": 0,
      "outputs": []
    },
    {
      "cell_type": "code",
      "metadata": {
        "id": "nKU5UfPiBM0H",
        "colab_type": "code",
        "colab": {
          "base_uri": "https://localhost:8080/",
          "height": 390
        },
        "outputId": "6be8b2da-b173-4042-dc32-f9668b71e426"
      },
      "source": [
        "fig = plt.figure(figsize=(10, 10))\n",
        "for x in range(1, 3):\n",
        "    for y in range(1, 3):\n",
        "        ax = fig.add_subplot(3, 3, 3 * y + x)\n",
        "        ax.imshow(samples[3 * y + x, :, :, :])\n",
        "        plt.xticks(np.array([]))\n",
        "        plt.yticks(np.array([]))\n",
        "plt.show()"
      ],
      "execution_count": 20,
      "outputs": [
        {
          "output_type": "display_data",
          "data": {
            "image/png": "[encoded data removed]",
            "text/plain": [
              "<Figure size 720x720 with 4 Axes>"
            ]
          },
          "metadata": {
            "tags": []
          }
        }
      ]
    }
  ]
}