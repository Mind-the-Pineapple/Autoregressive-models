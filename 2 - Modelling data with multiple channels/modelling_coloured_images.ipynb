{
 "cells": [
  {
   "cell_type": "code",
   "execution_count": 4,
   "metadata": {
    "colab": {},
    "colab_type": "code",
    "id": "sh8yUGDPNSfo"
   },
   "outputs": [],
   "source": [
    "# %tensorflow_version 2.x\n",
    "import random as rn\n",
    "import time\n",
    "\n",
    "import matplotlib\n",
    "import matplotlib.pyplot as plt\n",
    "import numpy as np\n",
    "import tensorflow as tf\n",
    "from tensorflow import keras"
   ]
  },
  {
   "cell_type": "code",
   "execution_count": 2,
   "metadata": {
    "colab": {},
    "colab_type": "code",
    "id": "Lu1pR95h3tw1"
   },
   "outputs": [
    {
     "ename": "NameError",
     "evalue": "name 'mask' is not defined",
     "output_type": "error",
     "traceback": [
      "\u001b[0;31m---------------------------------------------------------------------------\u001b[0m",
      "\u001b[0;31mNameError\u001b[0m                                 Traceback (most recent call last)",
      "\u001b[0;32m<ipython-input-2-8e1d4577a5be>\u001b[0m in \u001b[0;36m<module>\u001b[0;34m\u001b[0m\n\u001b[1;32m      1\u001b[0m \u001b[0;31m# Mask out future locations\u001b[0m\u001b[0;34m\u001b[0m\u001b[0;34m\u001b[0m\u001b[0;34m\u001b[0m\u001b[0m\n\u001b[1;32m      2\u001b[0m \u001b[0;31m# filter shape is (height, width, input channels, output channels)\u001b[0m\u001b[0;34m\u001b[0m\u001b[0;34m\u001b[0m\u001b[0;34m\u001b[0m\u001b[0m\n\u001b[0;32m----> 3\u001b[0;31m \u001b[0mmask\u001b[0m\u001b[0;34m[\u001b[0m\u001b[0mcenter\u001b[0m\u001b[0;34m+\u001b[0m\u001b[0;36m1\u001b[0m\u001b[0;34m:\u001b[0m\u001b[0;34m,\u001b[0m \u001b[0;34m:\u001b[0m\u001b[0;34m,\u001b[0m \u001b[0;34m:\u001b[0m\u001b[0;34m,\u001b[0m \u001b[0;34m:\u001b[0m\u001b[0;34m]\u001b[0m \u001b[0;34m=\u001b[0m \u001b[0;36m0.\u001b[0m\u001b[0;34m\u001b[0m\u001b[0;34m\u001b[0m\u001b[0m\n\u001b[0m\u001b[1;32m      4\u001b[0m \u001b[0mmask\u001b[0m\u001b[0;34m[\u001b[0m\u001b[0mcenter\u001b[0m\u001b[0;34m,\u001b[0m \u001b[0mcenter\u001b[0m\u001b[0;34m+\u001b[0m\u001b[0;36m1\u001b[0m\u001b[0;34m:\u001b[0m\u001b[0;34m,\u001b[0m \u001b[0;34m:\u001b[0m\u001b[0;34m,\u001b[0m \u001b[0;34m:\u001b[0m\u001b[0;34m]\u001b[0m \u001b[0;34m=\u001b[0m \u001b[0;36m0.\u001b[0m\u001b[0;34m\u001b[0m\u001b[0;34m\u001b[0m\u001b[0m\n\u001b[1;32m      5\u001b[0m \u001b[0;34m\u001b[0m\u001b[0m\n",
      "\u001b[0;31mNameError\u001b[0m: name 'mask' is not defined"
     ]
    }
   ],
   "source": [
    "# https://github.com/igul222/PixelVAE/blob/master/tflib/ops/conv2d.py\n",
    "\n",
    "        if mask_type is not None:\n",
    "            mask_type, mask_n_channels = mask_type\n",
    "\n",
    "            mask = np.ones(\n",
    "                (filter_size, filter_size, input_dim, output_dim), \n",
    "                dtype='float32'\n",
    "            )\n",
    "            center = filter_size // 2\n",
    "\n",
    "            # Mask out future locations\n",
    "            # filter shape is (height, width, input channels, output channels)\n",
    "            mask[center+1:, :, :, :] = 0.\n",
    "            mask[center, center+1:, :, :] = 0.\n",
    "\n",
    "            # Mask out future channels\n",
    "            for i in xrange(mask_n_channels):\n",
    "                for j in xrange(mask_n_channels):\n",
    "                    if (mask_type=='a' and i >= j) or (mask_type=='b' and i > j):\n",
    "                        mask[\n",
    "                            center,\n",
    "                            center,\n",
    "                            i::mask_n_channels,\n",
    "                            j::mask_n_channels\n",
    "                        ] = 0.\n"
   ]
  },
  {
   "cell_type": "code",
   "execution_count": 5,
   "metadata": {
    "colab": {},
    "colab_type": "code",
    "id": "2kCIvwG5OiRh"
   },
   "outputs": [],
   "source": [
    "# Defining random seeds\n",
    "random_seed = 42\n",
    "tf.random.set_seed(random_seed)\n",
    "np.random.seed(random_seed)\n",
    "rn.seed(random_seed)"
   ]
  },
  {
   "cell_type": "code",
   "execution_count": 6,
   "metadata": {
    "colab": {},
    "colab_type": "code",
    "id": "hY4vPLROOufz"
   },
   "outputs": [],
   "source": [
    "# Loading data\n",
    "(x_train, y_train), (x_test, y_test) = tf.keras.datasets.cifar10.load_data()\n",
    "\n",
    "height = 32\n",
    "width = 32\n",
    "n_channel = 3\n",
    "\n",
    "x_train = x_train.astype('float32') / 255.\n",
    "x_test = x_test.astype('float32') / 255.\n",
    "\n",
    "x_train = x_train.reshape(x_train.shape[0], height, width, n_channel)\n",
    "x_test = x_test.reshape(x_test.shape[0], height, width, n_channel)\n"
   ]
  },
  {
   "cell_type": "code",
   "execution_count": 11,
   "metadata": {
    "colab": {},
    "colab_type": "code",
    "id": "AdCWLDarT9Tg"
   },
   "outputs": [],
   "source": [
    "# Loading data\n",
    "(x_train, y_train), (x_test, y_test) = tf.keras.datasets.mnist.load_data()\n",
    "\n",
    "height = 28\n",
    "width = 28\n",
    "n_channel = 3\n",
    "\n",
    "x_train = x_train.astype('float32') / 255.\n",
    "x_test = x_test.astype('float32') / 255.\n",
    "\n",
    "x_train = x_train.reshape(x_train.shape[0], height, width, 1)\n",
    "x_test = x_test.reshape(x_test.shape[0], height, width, 1)\n",
    "\n",
    "x_train = np.concatenate([x_train, x_train, x_train], axis=3)\n",
    "x_test = np.concatenate([x_test, x_test, x_test], axis=3)\n",
    "\n",
    "train_filter = np.isin(y_train, list(range(5)))\n",
    "test_filter = np.isin(y_test, list(range(5)))\n",
    "\n",
    "x_train, y_train = x_train[train_filter], y_train[train_filter]\n",
    "x_test, y_test = x_test[test_filter], y_test[test_filter]"
   ]
  },
  {
   "cell_type": "code",
   "execution_count": 12,
   "metadata": {
    "colab": {},
    "colab_type": "code",
    "id": "PtfnOXuzUu3M"
   },
   "outputs": [],
   "source": [
    "x_train[y_train==0, :,:,0] = x_train[y_train==0, :,:,0] * 0.75\n",
    "x_train[y_train==0, :,:,1] = x_train[y_train==0, :,:,1] * 0.\n",
    "x_train[y_train==0, :,:,2] = x_train[y_train==0, :,:,2] * 0.\n",
    "\n",
    "x_train[y_train==1, :,:,0] = x_train[y_train==1, :,:,0] * 0.\n",
    "x_train[y_train==1, :,:,1] = x_train[y_train==1, :,:,1] * 0.5\n",
    "x_train[y_train==1, :,:,2] = x_train[y_train==1, :,:,2] * 0.\n",
    "\n",
    "x_train[y_train==2, :,:,0] = x_train[y_train==2, :,:,0] * 0.\n",
    "x_train[y_train==2, :,:,1] = x_train[y_train==2, :,:,1] * 0.\n",
    "x_train[y_train==2, :,:,2] = x_train[y_train==2, :,:,2] * 0.25\n",
    "\n",
    "x_train[y_train==3, :,:,0] = x_train[y_train==3, :,:,0] * 0.5\n",
    "x_train[y_train==3, :,:,1] = x_train[y_train==3, :,:,1] * 0.5\n",
    "x_train[y_train==3, :,:,2] = x_train[y_train==3, :,:,2] * 0.\n",
    "\n",
    "x_train[y_train==4, :,:,0] = x_train[y_train==4, :,:,0] * 0.5\n",
    "x_train[y_train==4, :,:,1] = x_train[y_train==4, :,:,1] * 0.\n",
    "x_train[y_train==4, :,:,2] = x_train[y_train==4, :,:,2] * 0.5\n",
    "\n",
    "x_train[y_train==5, :,:,0] = x_train[y_train==5, :,:,0] * 0.\n",
    "x_train[y_train==5, :,:,1] = x_train[y_train==5, :,:,1] * 0.5\n",
    "x_train[y_train==5, :,:,2] = x_train[y_train==5, :,:,2] * 0.5"
   ]
  },
  {
   "cell_type": "code",
   "execution_count": 9,
   "metadata": {
    "colab": {
     "base_uri": "https://localhost:8080/",
     "height": 282
    },
    "colab_type": "code",
    "executionInfo": {
     "elapsed": 602,
     "status": "ok",
     "timestamp": 1577886498749,
     "user": {
      "displayName": "Walter Hugo Lopez Pinaya",
      "photoUrl": "https://lh3.googleusercontent.com/a-/AAuE7mBjknD3RW8ZviowNPM9JlH9IWQElg2Arp9PS-Ba-A=s64",
      "userId": "09128201096829503895"
     },
     "user_tz": 0
    },
    "id": "6zZCb10GW5dW",
    "outputId": "6fc9f192-bc44-45a0-d4be-1f5aa3846c6b"
   },
   "outputs": [
    {
     "data": {
      "text/plain": [
       "<matplotlib.image.AxesImage at 0x7fd76c6b8b38>"
      ]
     },
     "execution_count": 9,
     "metadata": {},
     "output_type": "execute_result"
    },
    {
     "data": {
      "image/png": "[encoded data removed]",
      "text/plain": [
       "<Figure size 432x288 with 1 Axes>"
      ]
     },
     "metadata": {
      "needs_background": "light"
     },
     "output_type": "display_data"
    }
   ],
   "source": [
    "plt.imshow(x_train[4])"
   ]
  },
  {
   "cell_type": "code",
   "execution_count": 10,
   "metadata": {
    "colab": {
     "base_uri": "https://localhost:8080/",
     "height": 34
    },
    "colab_type": "code",
    "executionInfo": {
     "elapsed": 2863,
     "status": "ok",
     "timestamp": 1577883141858,
     "user": {
      "displayName": "Walter Hugo Lopez Pinaya",
      "photoUrl": "https://lh3.googleusercontent.com/a-/AAuE7mBjknD3RW8ZviowNPM9JlH9IWQElg2Arp9PS-Ba-A=s64",
      "userId": "09128201096829503895"
     },
     "user_tz": 0
    },
    "id": "qSNKy9noDr2Y",
    "outputId": "04dc7d68-ba4f-490f-db0d-6e6081abb23b"
   },
   "outputs": [
    {
     "data": {
      "text/plain": [
       "(10000, 10, 10, 3)"
      ]
     },
     "execution_count": 10,
     "metadata": {},
     "output_type": "execute_result"
    }
   ],
   "source": [
    "height = 10\n",
    "width = 10\n",
    "n_channel = 3\n",
    "\n",
    "x_train = np.zeros((10000,height,width, n_channel))+ 0.2*np.random.rand(10000,height,width, n_channel)\n",
    "x_train[:5000,:5,:,0] = 1.\n",
    "x_train[:5000,5:,:,0] = 0.5\n",
    "x_train[:5000,5:,:,1] = 0.5\n",
    "x_train[5000:,:,:5,1] = 1.\n",
    "x_train[5000:,:,5:,2] = 1.\n",
    "x_train.shape"
   ]
  },
  {
   "cell_type": "code",
   "execution_count": 13,
   "metadata": {
    "colab": {},
    "colab_type": "code",
    "id": "2q9eV2XzQ93g"
   },
   "outputs": [],
   "source": [
    "def quantise(images, q_levels):\n",
    "    \"\"\"Quantise image into q levels\"\"\"\n",
    "    return (np.digitize(images, np.arange(q_levels) / q_levels) - 1).astype('float32')"
   ]
  },
  {
   "cell_type": "code",
   "execution_count": 14,
   "metadata": {
    "colab": {},
    "colab_type": "code",
    "id": "JNMRKtvzRBw0"
   },
   "outputs": [],
   "source": [
    "# Quantise the input data in q levels\n",
    "q_levels = 256\n",
    "x_train_quantised = quantise(x_train, q_levels)\n",
    "x_test_quantised = quantise(x_test, q_levels)"
   ]
  },
  {
   "cell_type": "code",
   "execution_count": 15,
   "metadata": {
    "colab": {
     "base_uri": "https://localhost:8080/",
     "height": 282
    },
    "colab_type": "code",
    "executionInfo": {
     "elapsed": 564,
     "status": "ok",
     "timestamp": 1577886521175,
     "user": {
      "displayName": "Walter Hugo Lopez Pinaya",
      "photoUrl": "https://lh3.googleusercontent.com/a-/AAuE7mBjknD3RW8ZviowNPM9JlH9IWQElg2Arp9PS-Ba-A=s64",
      "userId": "09128201096829503895"
     },
     "user_tz": 0
    },
    "id": "1QbqYMhjJZQQ",
    "outputId": "d57da819-b478-40db-a3f2-a4dae6f11482"
   },
   "outputs": [
    {
     "data": {
      "text/plain": [
       "<matplotlib.image.AxesImage at 0x7fd76c185828>"
      ]
     },
     "execution_count": 15,
     "metadata": {},
     "output_type": "execute_result"
    },
    {
     "data": {
      "image/png": "[encoded data removed]",
      "text/plain": [
       "<Figure size 432x288 with 1 Axes>"
      ]
     },
     "metadata": {
      "needs_background": "light"
     },
     "output_type": "display_data"
    }
   ],
   "source": [
    "x_train_quantised.shape\n",
    "plt.imshow(x_train[100])"
   ]
  },
  {
   "cell_type": "code",
   "execution_count": 16,
   "metadata": {
    "colab": {},
    "colab_type": "code",
    "id": "RnvCgyDLRHPk"
   },
   "outputs": [],
   "source": [
    "# Creating input stream using tf.data API\n",
    "batch_size = 256\n",
    "train_buf = 20000\n",
    "\n",
    "train_dataset = tf.data.Dataset.from_tensor_slices((x_train_quantised / (q_levels - 1),\n",
    "                                                    x_train_quantised.astype('int32')))\n",
    "train_dataset = train_dataset.shuffle(buffer_size=train_buf)\n",
    "train_dataset = train_dataset.batch(batch_size)\n",
    "\n",
    "test_dataset = tf.data.Dataset.from_tensor_slices((x_test_quantised / (q_levels - 1),\n",
    "                                                   x_test_quantised.astype('int32')))\n",
    "test_dataset = test_dataset.batch(batch_size)"
   ]
  },
  {
   "cell_type": "code",
   "execution_count": 17,
   "metadata": {
    "colab": {},
    "colab_type": "code",
    "id": "qiAWABHGRS6i"
   },
   "outputs": [],
   "source": [
    "class MaskedConv2D(tf.keras.layers.Layer):\n",
    "    \"\"\"Convolutional layers with masks for autoregressive models\n",
    "\n",
    "    Convolutional layers with simple implementation to have masks type A and B.\n",
    "    \"\"\"\n",
    "\n",
    "    def __init__(self,\n",
    "                 mask_type,\n",
    "                 filters,\n",
    "                 kernel_size,\n",
    "                 strides=1,\n",
    "                 padding='same',\n",
    "                 kernel_initializer='glorot_uniform',\n",
    "                 bias_initializer='zeros'):\n",
    "        super(MaskedConv2D, self).__init__()\n",
    "\n",
    "        assert mask_type in {'A', 'B'}\n",
    "        self.mask_type = mask_type\n",
    "\n",
    "        self.filters = filters\n",
    "        self.kernel_size = kernel_size\n",
    "        self.strides = strides\n",
    "        self.padding = padding.upper()\n",
    "        self.kernel_initializer = keras.initializers.get(kernel_initializer)\n",
    "        self.bias_initializer = keras.initializers.get(bias_initializer)\n",
    "\n",
    "    def build(self, input_shape):\n",
    "        self.kernel = self.add_weight(\"kernel\",\n",
    "                                      shape=(self.kernel_size,\n",
    "                                             self.kernel_size,\n",
    "                                             int(input_shape[-1]),\n",
    "                                             self.filters),\n",
    "                                      initializer=self.kernel_initializer,\n",
    "                                      trainable=True)\n",
    "\n",
    "        self.bias = self.add_weight(\"bias\",\n",
    "                                    shape=(self.filters,),\n",
    "                                    initializer=self.bias_initializer,\n",
    "                                    trainable=True)\n",
    "\n",
    "        mask = np.ones(self.kernel.shape, dtype=np.float32)\n",
    "        mask[self.kernel_size // 2, self.kernel_size // 2 + 1:, :, :] = 0.\n",
    "        mask[self.kernel_size // 2 + 1:, :, :, :] = 0.\n",
    "\n",
    "        if self.mask_type =='A':\n",
    "            mask[self.kernel_size // 2, self.kernel_size // 2, :, :int(self.filters/3)] = 0.\n",
    "            mask[self.kernel_size // 2, self.kernel_size // 2, 1:, int(self.filters/3):2*int(self.filters/3)] = 0.\n",
    "            mask[self.kernel_size // 2, self.kernel_size // 2, 2:, 2*int(self.filters/3):] = 0.\n",
    "        else:\n",
    "            mask[self.kernel_size // 2, self.kernel_size // 2, int(int(input_shape[-1])/3):, :int(self.filters/3)] = 0.\n",
    "            mask[self.kernel_size // 2, self.kernel_size // 2, 2*int(int(input_shape[-1])/3):, int(self.filters/3):2*int(self.filters/3)] = 0.\n",
    "\n",
    "        # def bmask(i_out, i_in):\n",
    "        #     cout_idx = np.expand_dims(np.arange(self.filters) % 3 == i_out, 0)\n",
    "        #     cin_idx = np.expand_dims(np.arange(int(input_shape[-1])) % 3 == i_in, 1)\n",
    "        #     a1, a2 = np.broadcast_arrays(cout_idx, cin_idx)\n",
    "        #     return a1 * a2\n",
    "\n",
    "\n",
    "        # for j in range(3):\n",
    "        #     mask[self.kernel_size // 2, self.kernel_size // 2, bmask(j, j)] = 0. if self.mask_type == 'A' else 1.\n",
    "\n",
    "        # mask[self.kernel_size // 2, self.kernel_size // 2, bmask(0, 1)] = 0.\n",
    "        # mask[self.kernel_size // 2, self.kernel_size // 2, bmask(0, 2)] = 0.\n",
    "        # mask[self.kernel_size // 2, self.kernel_size // 2, bmask(1, 2)] = 0.\n",
    "\n",
    "        self.mask = tf.constant(mask, dtype=tf.float32, name='mask')\n",
    "\n",
    "    def call(self, input):\n",
    "        masked_kernel = tf.math.multiply(self.mask, self.kernel)\n",
    "        x = tf.nn.conv2d(input, masked_kernel, strides=[1, self.strides, self.strides, 1], padding=self.padding)\n",
    "        x = tf.nn.bias_add(x, self.bias)\n",
    "        return x"
   ]
  },
  {
   "cell_type": "code",
   "execution_count": 0,
   "metadata": {
    "colab": {
     "base_uri": "https://localhost:8080/",
     "height": 104
    },
    "colab_type": "code",
    "executionInfo": {
     "elapsed": 3744,
     "status": "ok",
     "timestamp": 1577883142809,
     "user": {
      "displayName": "Walter Hugo Lopez Pinaya",
      "photoUrl": "https://lh3.googleusercontent.com/a-/AAuE7mBjknD3RW8ZviowNPM9JlH9IWQElg2Arp9PS-Ba-A=s64",
      "userId": "09128201096829503895"
     },
     "user_tz": 0
    },
    "id": "quji0XdnOD0w",
    "outputId": "0c41299d-bbf1-49a3-c72e-f3598a83e380"
   },
   "outputs": [
    {
     "data": {
      "text/plain": [
       "array([[1., 1., 1., 1., 1.],\n",
       "       [1., 1., 1., 1., 1.],\n",
       "       [1., 1., 1., 1., 1.],\n",
       "       [1., 1., 1., 1., 1.],\n",
       "       [1., 1., 1., 1., 1.]], dtype=float32)"
      ]
     },
     "execution_count": 113,
     "metadata": {
      "tags": []
     },
     "output_type": "execute_result"
    }
   ],
   "source": [
    "input_shape = (10,10,3)\n",
    "mask_type = 'A'\n",
    "kernel_size = 5\n",
    "filters = 9\n",
    "kernel = np.ones((kernel_size, kernel_size, 3, filters))\n",
    "mask = np.ones(kernel.shape, dtype=np.float32)\n",
    "mask[:,:,0,0]"
   ]
  },
  {
   "cell_type": "code",
   "execution_count": 0,
   "metadata": {
    "colab": {
     "base_uri": "https://localhost:8080/",
     "height": 104
    },
    "colab_type": "code",
    "executionInfo": {
     "elapsed": 3736,
     "status": "ok",
     "timestamp": 1577883142812,
     "user": {
      "displayName": "Walter Hugo Lopez Pinaya",
      "photoUrl": "https://lh3.googleusercontent.com/a-/AAuE7mBjknD3RW8ZviowNPM9JlH9IWQElg2Arp9PS-Ba-A=s64",
      "userId": "09128201096829503895"
     },
     "user_tz": 0
    },
    "id": "--lnLqo0OqLU",
    "outputId": "1a1d5b06-724f-41bf-a84b-92ce3024e866"
   },
   "outputs": [
    {
     "data": {
      "text/plain": [
       "array([[1., 1., 1., 1., 1.],\n",
       "       [1., 1., 1., 1., 1.],\n",
       "       [1., 1., 1., 0., 0.],\n",
       "       [0., 0., 0., 0., 0.],\n",
       "       [0., 0., 0., 0., 0.]], dtype=float32)"
      ]
     },
     "execution_count": 114,
     "metadata": {
      "tags": []
     },
     "output_type": "execute_result"
    }
   ],
   "source": [
    "mask[kernel_size // 2, kernel_size // 2 + 1:, :, :] = 0.\n",
    "mask[kernel_size // 2 + 1:, :, :, :] = 0.\n",
    "mask[:,:,0,0]"
   ]
  },
  {
   "cell_type": "code",
   "execution_count": 0,
   "metadata": {
    "colab": {
     "base_uri": "https://localhost:8080/",
     "height": 104
    },
    "colab_type": "code",
    "executionInfo": {
     "elapsed": 3725,
     "status": "ok",
     "timestamp": 1577883142814,
     "user": {
      "displayName": "Walter Hugo Lopez Pinaya",
      "photoUrl": "https://lh3.googleusercontent.com/a-/AAuE7mBjknD3RW8ZviowNPM9JlH9IWQElg2Arp9PS-Ba-A=s64",
      "userId": "09128201096829503895"
     },
     "user_tz": 0
    },
    "id": "RJCYQfGIPUJj",
    "outputId": "91a3117c-767c-4c2b-cb2b-55e073f29990"
   },
   "outputs": [
    {
     "data": {
      "text/plain": [
       "array([[1., 1., 1., 1., 1.],\n",
       "       [1., 1., 1., 1., 1.],\n",
       "       [1., 1., 0., 0., 0.],\n",
       "       [0., 0., 0., 0., 0.],\n",
       "       [0., 0., 0., 0., 0.]], dtype=float32)"
      ]
     },
     "execution_count": 115,
     "metadata": {
      "tags": []
     },
     "output_type": "execute_result"
    }
   ],
   "source": [
    "def bmask(i_out, i_in):\n",
    "    cout_idx = np.expand_dims(np.arange(filters) % 3 == i_out, 0)\n",
    "    cin_idx = np.expand_dims(np.arange(int(input_shape[-1])) % 3 == i_in, 1)\n",
    "    a1, a2 = np.broadcast_arrays(cout_idx, cin_idx)\n",
    "    return a1 * a2\n",
    "\n",
    "for j in range(3):\n",
    "    mask[kernel_size // 2, kernel_size // 2, bmask(j, j)] = 0. if mask_type == 'A' else 1.\n",
    "\n",
    "mask[:,:,0,0]"
   ]
  },
  {
   "cell_type": "code",
   "execution_count": 0,
   "metadata": {
    "colab": {
     "base_uri": "https://localhost:8080/",
     "height": 104
    },
    "colab_type": "code",
    "executionInfo": {
     "elapsed": 3714,
     "status": "ok",
     "timestamp": 1577883142815,
     "user": {
      "displayName": "Walter Hugo Lopez Pinaya",
      "photoUrl": "https://lh3.googleusercontent.com/a-/AAuE7mBjknD3RW8ZviowNPM9JlH9IWQElg2Arp9PS-Ba-A=s64",
      "userId": "09128201096829503895"
     },
     "user_tz": 0
    },
    "id": "Xa8pQw-vQHAX",
    "outputId": "77f4ef71-61e7-4aef-851d-54827d75f429"
   },
   "outputs": [
    {
     "data": {
      "text/plain": [
       "array([[1., 1., 1., 1., 1.],\n",
       "       [1., 1., 1., 1., 1.],\n",
       "       [1., 1., 0., 0., 0.],\n",
       "       [0., 0., 0., 0., 0.],\n",
       "       [0., 0., 0., 0., 0.]], dtype=float32)"
      ]
     },
     "execution_count": 116,
     "metadata": {
      "tags": []
     },
     "output_type": "execute_result"
    }
   ],
   "source": [
    "mask[kernel_size // 2, kernel_size // 2, bmask(0, 1)] = 0.\n",
    "mask[kernel_size // 2, kernel_size // 2, bmask(0, 2)] = 0.\n",
    "mask[kernel_size // 2, kernel_size // 2, bmask(1, 2)] = 0.\n",
    "mask[:,:,0,0]"
   ]
  },
  {
   "cell_type": "markdown",
   "metadata": {
    "colab_type": "text",
    "id": "wuF2Dpg8TU32"
   },
   "source": [
    "\n",
    "\n",
    "---\n",
    "\n"
   ]
  },
  {
   "cell_type": "code",
   "execution_count": 0,
   "metadata": {
    "colab": {
     "base_uri": "https://localhost:8080/",
     "height": 104
    },
    "colab_type": "code",
    "executionInfo": {
     "elapsed": 3705,
     "status": "ok",
     "timestamp": 1577883142817,
     "user": {
      "displayName": "Walter Hugo Lopez Pinaya",
      "photoUrl": "https://lh3.googleusercontent.com/a-/AAuE7mBjknD3RW8ZviowNPM9JlH9IWQElg2Arp9PS-Ba-A=s64",
      "userId": "09128201096829503895"
     },
     "user_tz": 0
    },
    "id": "WcaCYMHLTWxS",
    "outputId": "f412caf4-7b4d-4bf2-edd5-f2d191f1bfff"
   },
   "outputs": [
    {
     "data": {
      "text/plain": [
       "array([[1., 1., 1., 1., 1.],\n",
       "       [1., 1., 1., 1., 1.],\n",
       "       [1., 1., 1., 1., 1.],\n",
       "       [1., 1., 1., 1., 1.],\n",
       "       [1., 1., 1., 1., 1.]], dtype=float32)"
      ]
     },
     "execution_count": 117,
     "metadata": {
      "tags": []
     },
     "output_type": "execute_result"
    }
   ],
   "source": [
    "input_shape = (10,10,3)\n",
    "mask_type = 'A'\n",
    "kernel_size = 5\n",
    "filters = 9\n",
    "kernel = np.ones((kernel_size, kernel_size, 3, filters))\n",
    "mask = np.ones(kernel.shape, dtype=np.float32)\n",
    "mask[:,:,0,0]"
   ]
  },
  {
   "cell_type": "code",
   "execution_count": 0,
   "metadata": {
    "colab": {
     "base_uri": "https://localhost:8080/",
     "height": 104
    },
    "colab_type": "code",
    "executionInfo": {
     "elapsed": 3694,
     "status": "ok",
     "timestamp": 1577883142818,
     "user": {
      "displayName": "Walter Hugo Lopez Pinaya",
      "photoUrl": "https://lh3.googleusercontent.com/a-/AAuE7mBjknD3RW8ZviowNPM9JlH9IWQElg2Arp9PS-Ba-A=s64",
      "userId": "09128201096829503895"
     },
     "user_tz": 0
    },
    "id": "znHtk49RTc1K",
    "outputId": "bb84fb4c-4913-4e74-cc13-dceffa99bfc7"
   },
   "outputs": [
    {
     "data": {
      "text/plain": [
       "array([[1., 1., 1., 1., 1.],\n",
       "       [1., 1., 1., 1., 1.],\n",
       "       [1., 1., 1., 0., 0.],\n",
       "       [0., 0., 0., 0., 0.],\n",
       "       [0., 0., 0., 0., 0.]], dtype=float32)"
      ]
     },
     "execution_count": 118,
     "metadata": {
      "tags": []
     },
     "output_type": "execute_result"
    }
   ],
   "source": [
    "mask[kernel_size // 2, kernel_size // 2 + 1:, :, :] = 0.\n",
    "mask[kernel_size // 2 + 1:, :, :, :] = 0.\n",
    "mask[:,:,0,0]"
   ]
  },
  {
   "cell_type": "markdown",
   "metadata": {
    "colab_type": "text",
    "id": "HZKun91JZ0No"
   },
   "source": []
  },
  {
   "cell_type": "code",
   "execution_count": 0,
   "metadata": {
    "colab": {
     "base_uri": "https://localhost:8080/",
     "height": 104
    },
    "colab_type": "code",
    "executionInfo": {
     "elapsed": 3683,
     "status": "ok",
     "timestamp": 1577883142822,
     "user": {
      "displayName": "Walter Hugo Lopez Pinaya",
      "photoUrl": "https://lh3.googleusercontent.com/a-/AAuE7mBjknD3RW8ZviowNPM9JlH9IWQElg2Arp9PS-Ba-A=s64",
      "userId": "09128201096829503895"
     },
     "user_tz": 0
    },
    "id": "TlfH32HBTtbN",
    "outputId": "1339a470-b11b-431e-d66e-9ff5e13070b8"
   },
   "outputs": [
    {
     "data": {
      "text/plain": [
       "array([[1., 1., 1., 1., 1.],\n",
       "       [1., 1., 1., 1., 1.],\n",
       "       [1., 1., 1., 0., 0.],\n",
       "       [0., 0., 0., 0., 0.],\n",
       "       [0., 0., 0., 0., 0.]], dtype=float32)"
      ]
     },
     "execution_count": 119,
     "metadata": {
      "tags": []
     },
     "output_type": "execute_result"
    }
   ],
   "source": [
    "mask_type ='b'\n",
    "in_channel = 3\n",
    "if mask_type =='A':\n",
    "    mask[kernel_size // 2, kernel_size // 2, :, :int(filters/3)] = 0.\n",
    "    mask[kernel_size // 2, kernel_size // 2, 1:, int(filters/3):2*int(filters/3)] = 0.\n",
    "    mask[kernel_size // 2, kernel_size // 2, 2:, 2*int(filters/3):] = 0.\n",
    "else:\n",
    "    mask[kernel_size // 2, kernel_size // 2, int(in_channel/3):, :int(filters/3)] = 0.\n",
    "    mask[kernel_size // 2, kernel_size // 2, 2*int(in_channel/3):, int(filters/3):2*int(filters/3)] = 0.\n",
    "\n",
    "mask[:,:,0,0]"
   ]
  },
  {
   "cell_type": "code",
   "execution_count": 18,
   "metadata": {
    "colab": {},
    "colab_type": "code",
    "id": "bLlRvZ8LkXci"
   },
   "outputs": [],
   "source": [
    "class ResidualBlock(tf.keras.Model):\n",
    "    \"\"\"Residual blocks that compose pixelCNN\n",
    "\n",
    "    Blocks of layers with 3 convolutional layers and one residual connection.\n",
    "    Based on Figure 5 from [1] where h indicates number of filters.\n",
    "\n",
    "    Refs:\n",
    "    [1] - Oord, A. V. D., Kalchbrenner, N., & Kavukcuoglu, K. (2016). Pixel\n",
    "     recurrent neural networks. arXiv preprint arXiv:1601.06759.\n",
    "    \"\"\"\n",
    "\n",
    "    def __init__(self, h):\n",
    "        super(ResidualBlock, self).__init__(name='')\n",
    "\n",
    "        self.conv2a = keras.layers.Conv2D(filters=h, kernel_size=1, strides=1)\n",
    "        self.conv2b = MaskedConv2D(mask_type='B', filters=h, kernel_size=3, strides=1)\n",
    "        self.conv2c = keras.layers.Conv2D(filters=2 * h, kernel_size=1, strides=1)\n",
    "\n",
    "    def call(self, input_tensor):\n",
    "        x = tf.nn.relu(input_tensor)\n",
    "        x = self.conv2a(x)\n",
    "\n",
    "        x = tf.nn.relu(x)\n",
    "        x = self.conv2b(x)\n",
    "\n",
    "        x = tf.nn.relu(x)\n",
    "        x = self.conv2c(x)\n",
    "\n",
    "        x += input_tensor\n",
    "        return x"
   ]
  },
  {
   "cell_type": "code",
   "execution_count": 19,
   "metadata": {
    "colab": {},
    "colab_type": "code",
    "id": "K5fgUDW2kZU-"
   },
   "outputs": [],
   "source": [
    "# Create PixelCNN model\n",
    "inputs = keras.layers.Input(shape=(height, width, n_channel))\n",
    "x = MaskedConv2D(mask_type='A', filters=128, kernel_size=7, strides=1)(inputs)\n",
    "\n",
    "for i in range(15):\n",
    "    x = ResidualBlock(h=64)(x)\n",
    "\n",
    "x = keras.layers.Activation(activation='relu')(x)\n",
    "x = keras.layers.Conv2D(filters=128, kernel_size=1, strides=1)(x)\n",
    "x = keras.layers.Activation(activation='relu')(x)\n",
    "x = keras.layers.Conv2D(filters=128, kernel_size=1, strides=1)(x)\n",
    "x = keras.layers.Conv2D(filters=n_channel * q_levels, kernel_size=1, strides=1)(x)  # shape [N,H,W,DC]\n",
    "\n",
    "pixelcnn = tf.keras.Model(inputs=inputs, outputs=x)"
   ]
  },
  {
   "cell_type": "code",
   "execution_count": 20,
   "metadata": {
    "colab": {},
    "colab_type": "code",
    "id": "6Fg9-ZE0kZRT"
   },
   "outputs": [],
   "source": [
    "# Prepare optimizer and loss function\n",
    "lr_decay = 0.9999\n",
    "learning_rate = 5e-3\n",
    "optimizer = tf.keras.optimizers.Adam(lr=learning_rate)\n",
    "\n",
    "compute_loss = tf.keras.losses.CategoricalCrossentropy(from_logits=True)"
   ]
  },
  {
   "cell_type": "code",
   "execution_count": 21,
   "metadata": {
    "colab": {},
    "colab_type": "code",
    "id": "Twr5N3n7kjlS"
   },
   "outputs": [],
   "source": [
    "@tf.function\n",
    "def train_step(batch_x, batch_y):\n",
    "    with tf.GradientTape() as ae_tape:\n",
    "        logits = pixelcnn(batch_x, training=True)\n",
    "\n",
    "        logits = tf.reshape(logits, [-1, height, width, q_levels, n_channel])  # shape [N,H,W,DC] -> [N,H,W,D,C]\n",
    "        logits = tf.transpose(logits, perm=[0, 1, 2, 4, 3])  # shape [N,H,W,D,C] -> [N,H,W,C,D]\n",
    "\n",
    "        loss = compute_loss(tf.one_hot(batch_y, q_levels), logits)\n",
    "\n",
    "    gradients = ae_tape.gradient(loss, pixelcnn.trainable_variables)\n",
    "    gradients, _ = tf.clip_by_global_norm(gradients, 1.0)\n",
    "    optimizer.apply_gradients(zip(gradients, pixelcnn.trainable_variables))\n",
    "\n",
    "    return loss"
   ]
  },
  {
   "cell_type": "code",
   "execution_count": 23,
   "metadata": {},
   "outputs": [
    {
     "name": "stdout",
     "output_type": "stream",
     "text": [
      "Num GPUs Available:  2\n"
     ]
    }
   ],
   "source": [
    "print(\"Num GPUs Available: \", len(tf.config.experimental.list_physical_devices('GPU')))\n"
   ]
  },
  {
   "cell_type": "code",
   "execution_count": 24,
   "metadata": {
    "colab": {
     "base_uri": "https://localhost:8080/",
     "height": 1000
    },
    "colab_type": "code",
    "executionInfo": {
     "elapsed": 2400242,
     "status": "error",
     "timestamp": 1577891340876,
     "user": {
      "displayName": "Walter Hugo Lopez Pinaya",
      "photoUrl": "https://lh3.googleusercontent.com/a-/AAuE7mBjknD3RW8ZviowNPM9JlH9IWQElg2Arp9PS-Ba-A=s64",
      "userId": "09128201096829503895"
     },
     "user_tz": 0
    },
    "id": "XdTZaIvCkojo",
    "outputId": "5306d97c-b280-4b9b-fe21-cf524f584c98"
   },
   "outputs": [
    {
     "name": "stdout",
     "output_type": "stream",
     "text": [
      "EPOCH   0: ITER    0/ 120 TIME: 14.32 LOSS: 5.5452\n"
     ]
    },
    {
     "ename": "KeyboardInterrupt",
     "evalue": "",
     "output_type": "error",
     "traceback": [
      "\u001b[0;31m---------------------------------------------------------------------------\u001b[0m",
      "\u001b[0;31mKeyboardInterrupt\u001b[0m                         Traceback (most recent call last)",
      "\u001b[0;32m<ipython-input-24-563c2d63be43>\u001b[0m in \u001b[0;36m<module>\u001b[0;34m\u001b[0m\n\u001b[1;32m      7\u001b[0m         \u001b[0;32mfor\u001b[0m \u001b[0mi_iter\u001b[0m\u001b[0;34m,\u001b[0m \u001b[0;34m(\u001b[0m\u001b[0mbatch_x\u001b[0m\u001b[0;34m,\u001b[0m \u001b[0mbatch_y\u001b[0m\u001b[0;34m)\u001b[0m \u001b[0;32min\u001b[0m \u001b[0menumerate\u001b[0m\u001b[0;34m(\u001b[0m\u001b[0mtrain_dataset\u001b[0m\u001b[0;34m)\u001b[0m\u001b[0;34m:\u001b[0m\u001b[0;34m\u001b[0m\u001b[0;34m\u001b[0m\u001b[0m\n\u001b[1;32m      8\u001b[0m             \u001b[0mstart\u001b[0m \u001b[0;34m=\u001b[0m \u001b[0mtime\u001b[0m\u001b[0;34m.\u001b[0m\u001b[0mtime\u001b[0m\u001b[0;34m(\u001b[0m\u001b[0;34m)\u001b[0m\u001b[0;34m\u001b[0m\u001b[0;34m\u001b[0m\u001b[0m\n\u001b[0;32m----> 9\u001b[0;31m             \u001b[0moptimizer\u001b[0m\u001b[0;34m.\u001b[0m\u001b[0mlr\u001b[0m \u001b[0;34m=\u001b[0m \u001b[0moptimizer\u001b[0m\u001b[0;34m.\u001b[0m\u001b[0mlr\u001b[0m \u001b[0;34m*\u001b[0m \u001b[0mlr_decay\u001b[0m\u001b[0;34m\u001b[0m\u001b[0;34m\u001b[0m\u001b[0m\n\u001b[0m\u001b[1;32m     10\u001b[0m             \u001b[0mloss\u001b[0m \u001b[0;34m=\u001b[0m \u001b[0mtrain_step\u001b[0m\u001b[0;34m(\u001b[0m\u001b[0mbatch_x\u001b[0m\u001b[0;34m,\u001b[0m \u001b[0mbatch_y\u001b[0m\u001b[0;34m)\u001b[0m\u001b[0;34m\u001b[0m\u001b[0;34m\u001b[0m\u001b[0m\n\u001b[1;32m     11\u001b[0m             \u001b[0miter_time\u001b[0m \u001b[0;34m=\u001b[0m \u001b[0mtime\u001b[0m\u001b[0;34m.\u001b[0m\u001b[0mtime\u001b[0m\u001b[0;34m(\u001b[0m\u001b[0;34m)\u001b[0m \u001b[0;34m-\u001b[0m \u001b[0mstart\u001b[0m\u001b[0;34m\u001b[0m\u001b[0;34m\u001b[0m\u001b[0m\n",
      "\u001b[0;32m/media/kcl_1/HDD/PycharmProjects/Autoregressive-models/venv/lib/python3.6/site-packages/tensorflow_core/python/ops/variables.py\u001b[0m in \u001b[0;36m_run_op\u001b[0;34m(a, *args, **kwargs)\u001b[0m\n\u001b[1;32m   1077\u001b[0m     \u001b[0;32mdef\u001b[0m \u001b[0m_run_op\u001b[0m\u001b[0;34m(\u001b[0m\u001b[0ma\u001b[0m\u001b[0;34m,\u001b[0m \u001b[0;34m*\u001b[0m\u001b[0margs\u001b[0m\u001b[0;34m,\u001b[0m \u001b[0;34m**\u001b[0m\u001b[0mkwargs\u001b[0m\u001b[0;34m)\u001b[0m\u001b[0;34m:\u001b[0m\u001b[0;34m\u001b[0m\u001b[0;34m\u001b[0m\u001b[0m\n\u001b[1;32m   1078\u001b[0m       \u001b[0;31m# pylint: disable=protected-access\u001b[0m\u001b[0;34m\u001b[0m\u001b[0;34m\u001b[0m\u001b[0;34m\u001b[0m\u001b[0m\n\u001b[0;32m-> 1079\u001b[0;31m       \u001b[0;32mreturn\u001b[0m \u001b[0mtensor_oper\u001b[0m\u001b[0;34m(\u001b[0m\u001b[0ma\u001b[0m\u001b[0;34m.\u001b[0m\u001b[0mvalue\u001b[0m\u001b[0;34m(\u001b[0m\u001b[0;34m)\u001b[0m\u001b[0;34m,\u001b[0m \u001b[0;34m*\u001b[0m\u001b[0margs\u001b[0m\u001b[0;34m,\u001b[0m \u001b[0;34m**\u001b[0m\u001b[0mkwargs\u001b[0m\u001b[0;34m)\u001b[0m\u001b[0;34m\u001b[0m\u001b[0;34m\u001b[0m\u001b[0m\n\u001b[0m\u001b[1;32m   1080\u001b[0m \u001b[0;34m\u001b[0m\u001b[0m\n\u001b[1;32m   1081\u001b[0m     \u001b[0mfunctools\u001b[0m\u001b[0;34m.\u001b[0m\u001b[0mupdate_wrapper\u001b[0m\u001b[0;34m(\u001b[0m\u001b[0m_run_op\u001b[0m\u001b[0;34m,\u001b[0m \u001b[0mtensor_oper\u001b[0m\u001b[0;34m)\u001b[0m\u001b[0;34m\u001b[0m\u001b[0;34m\u001b[0m\u001b[0m\n",
      "\u001b[0;32m/media/kcl_1/HDD/PycharmProjects/Autoregressive-models/venv/lib/python3.6/site-packages/tensorflow_core/python/ops/math_ops.py\u001b[0m in \u001b[0;36mbinary_op_wrapper\u001b[0;34m(x, y)\u001b[0m\n\u001b[1;32m    910\u001b[0m           \u001b[0;32melse\u001b[0m\u001b[0;34m:\u001b[0m\u001b[0;34m\u001b[0m\u001b[0;34m\u001b[0m\u001b[0m\n\u001b[1;32m    911\u001b[0m             \u001b[0;32mraise\u001b[0m\u001b[0;34m\u001b[0m\u001b[0;34m\u001b[0m\u001b[0m\n\u001b[0;32m--> 912\u001b[0;31m       \u001b[0;32mreturn\u001b[0m \u001b[0mfunc\u001b[0m\u001b[0;34m(\u001b[0m\u001b[0mx\u001b[0m\u001b[0;34m,\u001b[0m \u001b[0my\u001b[0m\u001b[0;34m,\u001b[0m \u001b[0mname\u001b[0m\u001b[0;34m=\u001b[0m\u001b[0mname\u001b[0m\u001b[0;34m)\u001b[0m\u001b[0;34m\u001b[0m\u001b[0;34m\u001b[0m\u001b[0m\n\u001b[0m\u001b[1;32m    913\u001b[0m \u001b[0;34m\u001b[0m\u001b[0m\n\u001b[1;32m    914\u001b[0m   \u001b[0;32mdef\u001b[0m \u001b[0mbinary_op_wrapper_sparse\u001b[0m\u001b[0;34m(\u001b[0m\u001b[0msp_x\u001b[0m\u001b[0;34m,\u001b[0m \u001b[0my\u001b[0m\u001b[0;34m)\u001b[0m\u001b[0;34m:\u001b[0m\u001b[0;34m\u001b[0m\u001b[0;34m\u001b[0m\u001b[0m\n",
      "\u001b[0;32m/media/kcl_1/HDD/PycharmProjects/Autoregressive-models/venv/lib/python3.6/site-packages/tensorflow_core/python/ops/math_ops.py\u001b[0m in \u001b[0;36m_mul_dispatch\u001b[0;34m(x, y, name)\u001b[0m\n\u001b[1;32m   1204\u001b[0m   \u001b[0mis_tensor_y\u001b[0m \u001b[0;34m=\u001b[0m \u001b[0misinstance\u001b[0m\u001b[0;34m(\u001b[0m\u001b[0my\u001b[0m\u001b[0;34m,\u001b[0m \u001b[0mops\u001b[0m\u001b[0;34m.\u001b[0m\u001b[0mTensor\u001b[0m\u001b[0;34m)\u001b[0m\u001b[0;34m\u001b[0m\u001b[0;34m\u001b[0m\u001b[0m\n\u001b[1;32m   1205\u001b[0m   \u001b[0;32mif\u001b[0m \u001b[0mis_tensor_y\u001b[0m\u001b[0;34m:\u001b[0m\u001b[0;34m\u001b[0m\u001b[0;34m\u001b[0m\u001b[0m\n\u001b[0;32m-> 1206\u001b[0;31m     \u001b[0;32mreturn\u001b[0m \u001b[0mgen_math_ops\u001b[0m\u001b[0;34m.\u001b[0m\u001b[0mmul\u001b[0m\u001b[0;34m(\u001b[0m\u001b[0mx\u001b[0m\u001b[0;34m,\u001b[0m \u001b[0my\u001b[0m\u001b[0;34m,\u001b[0m \u001b[0mname\u001b[0m\u001b[0;34m=\u001b[0m\u001b[0mname\u001b[0m\u001b[0;34m)\u001b[0m\u001b[0;34m\u001b[0m\u001b[0;34m\u001b[0m\u001b[0m\n\u001b[0m\u001b[1;32m   1207\u001b[0m   \u001b[0;32melse\u001b[0m\u001b[0;34m:\u001b[0m\u001b[0;34m\u001b[0m\u001b[0;34m\u001b[0m\u001b[0m\n\u001b[1;32m   1208\u001b[0m     \u001b[0;32massert\u001b[0m \u001b[0misinstance\u001b[0m\u001b[0;34m(\u001b[0m\u001b[0my\u001b[0m\u001b[0;34m,\u001b[0m \u001b[0msparse_tensor\u001b[0m\u001b[0;34m.\u001b[0m\u001b[0mSparseTensor\u001b[0m\u001b[0;34m)\u001b[0m  \u001b[0;31m# Case: Dense * Sparse.\u001b[0m\u001b[0;34m\u001b[0m\u001b[0;34m\u001b[0m\u001b[0m\n",
      "\u001b[0;32m/media/kcl_1/HDD/PycharmProjects/Autoregressive-models/venv/lib/python3.6/site-packages/tensorflow_core/python/ops/gen_math_ops.py\u001b[0m in \u001b[0;36mmul\u001b[0;34m(x, y, name)\u001b[0m\n\u001b[1;32m   6683\u001b[0m       _result = _pywrap_tensorflow.TFE_Py_FastPathExecute(\n\u001b[1;32m   6684\u001b[0m         \u001b[0m_ctx\u001b[0m\u001b[0;34m.\u001b[0m\u001b[0m_context_handle\u001b[0m\u001b[0;34m,\u001b[0m \u001b[0m_ctx\u001b[0m\u001b[0;34m.\u001b[0m\u001b[0m_thread_local_data\u001b[0m\u001b[0;34m.\u001b[0m\u001b[0mdevice_name\u001b[0m\u001b[0;34m,\u001b[0m \u001b[0;34m\"Mul\"\u001b[0m\u001b[0;34m,\u001b[0m\u001b[0;34m\u001b[0m\u001b[0;34m\u001b[0m\u001b[0m\n\u001b[0;32m-> 6685\u001b[0;31m         name, _ctx._post_execution_callbacks, x, y)\n\u001b[0m\u001b[1;32m   6686\u001b[0m       \u001b[0;32mreturn\u001b[0m \u001b[0m_result\u001b[0m\u001b[0;34m\u001b[0m\u001b[0;34m\u001b[0m\u001b[0m\n\u001b[1;32m   6687\u001b[0m     \u001b[0;32mexcept\u001b[0m \u001b[0m_core\u001b[0m\u001b[0;34m.\u001b[0m\u001b[0m_FallbackException\u001b[0m\u001b[0;34m:\u001b[0m\u001b[0;34m\u001b[0m\u001b[0;34m\u001b[0m\u001b[0m\n",
      "\u001b[0;31mKeyboardInterrupt\u001b[0m: "
     ]
    }
   ],
   "source": [
    "\n",
    "with tf.device(\"/job:localhost/replica:0/task:0/device:GPU:1\"):\n",
    "    # Training loop\n",
    "    n_epochs = 50\n",
    "    n_iter = int(np.ceil(x_train_quantised.shape[0] / batch_size))\n",
    "    for epoch in range(n_epochs):\n",
    "        start_epoch = time.time()\n",
    "        for i_iter, (batch_x, batch_y) in enumerate(train_dataset):\n",
    "            start = time.time()\n",
    "            optimizer.lr = optimizer.lr * lr_decay\n",
    "            loss = train_step(batch_x, batch_y)\n",
    "            iter_time = time.time() - start\n",
    "            if i_iter % 100 == 0:\n",
    "                print('EPOCH {:3d}: ITER {:4d}/{:4d} TIME: {:.2f} LOSS: {:.4f}'.format(epoch,\n",
    "                                                                                       i_iter, n_iter,\n",
    "                                                                                       iter_time,\n",
    "                                                                                       loss))\n",
    "        epoch_time = time.time() - start_epoch\n",
    "        print('EPOCH {:3d}: TIME: {:.2f} ETA: {:.2f}'.format(epoch,\n",
    "                                                             epoch_time,\n",
    "                                                             epoch_time * (n_epochs - epoch)))\n"
   ]
  },
  {
   "cell_type": "code",
   "execution_count": 0,
   "metadata": {
    "colab": {
     "base_uri": "https://localhost:8080/",
     "height": 159
    },
    "colab_type": "code",
    "executionInfo": {
     "elapsed": 110995,
     "status": "ok",
     "timestamp": 1577883250198,
     "user": {
      "displayName": "Walter Hugo Lopez Pinaya",
      "photoUrl": "https://lh3.googleusercontent.com/a-/AAuE7mBjknD3RW8ZviowNPM9JlH9IWQElg2Arp9PS-Ba-A=s64",
      "userId": "09128201096829503895"
     },
     "user_tz": 0
    },
    "id": "9nG-iDMa_sR2",
    "outputId": "b2b386e2-9065-4802-f32f-499df773c0d0"
   },
   "outputs": [
    {
     "name": "stdout",
     "output_type": "stream",
     "text": [
      "WARNING:tensorflow:Layer masked_conv2d_64 is casting an input tensor from dtype float64 to the layer's dtype of float32, which is new behavior in TensorFlow 2.  The layer has dtype float32 because it's dtype defaults to floatx.\n",
      "\n",
      "If you intended to run this layer in float32, you can safely ignore this warning. If in doubt, this warning is likely only an issue if you are porting a TensorFlow 1.X model to TensorFlow 2.\n",
      "\n",
      "To change all layers to have dtype float64 by default, call `tf.keras.backend.set_floatx('float64')`. To change just this layer, pass dtype='float64' to the layer constructor. If you are the author of this layer, you can disable autocasting by passing autocast=False to the base Layer constructor.\n",
      "\n"
     ]
    },
    {
     "data": {
      "text/plain": [
       "<tf.Tensor: shape=(1, 1), dtype=int64, numpy=array([[3]])>"
      ]
     },
     "execution_count": 125,
     "metadata": {
      "tags": []
     },
     "output_type": "execute_result"
    }
   ],
   "source": [
    "A = np.zeros((1,10,10,3))\n",
    "B = pixelcnn(A)\n",
    "B = tf.reshape(B, [-1, height, width, q_levels, n_channel])\n",
    "B = tf.transpose(B, perm=[0, 1, 2, 4, 3])\n",
    "next_sample = tf.random.categorical(B[0,0,0,0,:][None,:], 1)\n",
    "next_sample"
   ]
  },
  {
   "cell_type": "code",
   "execution_count": 0,
   "metadata": {
    "colab": {
     "base_uri": "https://localhost:8080/",
     "height": 578
    },
    "colab_type": "code",
    "executionInfo": {
     "elapsed": 61999,
     "status": "ok",
     "timestamp": 1577891409562,
     "user": {
      "displayName": "Walter Hugo Lopez Pinaya",
      "photoUrl": "https://lh3.googleusercontent.com/a-/AAuE7mBjknD3RW8ZviowNPM9JlH9IWQElg2Arp9PS-Ba-A=s64",
      "userId": "09128201096829503895"
     },
     "user_tz": 0
    },
    "id": "iNxXOv9lFfvG",
    "outputId": "624574f6-dd90-4555-ec14-cce3ed1eebcb"
   },
   "outputs": [
    {
     "data": {
      "image/png": "[encoded data removed]",
      "text/plain": [
       "<Figure size 720x720 with 9 Axes>"
      ]
     },
     "metadata": {
      "tags": []
     },
     "output_type": "display_data"
    }
   ],
   "source": [
    "# --------------------------------------------------------------------------------------------------------------\n",
    "# Generating new images\n",
    "samples = np.zeros((10, height,width,n_channel)) + + 0.5*np.random.rand(10,height,width, n_channel)\n",
    "\n",
    "for i in range(height):\n",
    "    for j in range(width):\n",
    "        for k in range(n_channel):\n",
    "            logits = pixelcnn(samples)\n",
    "            logits = tf.reshape(logits, [-1, height, width, q_levels, n_channel])\n",
    "            logits = tf.transpose(logits, perm=[0, 1, 2, 4, 3])\n",
    "            next_sample = tf.random.categorical(logits[:, i, j, k, :], 1)\n",
    "            samples[:, i, j, k] = (next_sample.numpy() / (q_levels - 1))[:, 0]\n",
    "            \n",
    "\n",
    "fig = plt.figure(figsize=(10, 10))\n",
    "for i in range(9):\n",
    "    ax = fig.add_subplot(3, 3, i+1)\n",
    "    ax.imshow(samples[i, :, :, :])\n",
    "    plt.xticks(np.array([]))\n",
    "    plt.yticks(np.array([]))\n",
    "plt.show()"
   ]
  },
  {
   "cell_type": "code",
   "execution_count": 0,
   "metadata": {
    "colab": {
     "base_uri": "https://localhost:8080/",
     "height": 578
    },
    "colab_type": "code",
    "executionInfo": {
     "elapsed": 31502,
     "status": "ok",
     "timestamp": 1577891450049,
     "user": {
      "displayName": "Walter Hugo Lopez Pinaya",
      "photoUrl": "https://lh3.googleusercontent.com/a-/AAuE7mBjknD3RW8ZviowNPM9JlH9IWQElg2Arp9PS-Ba-A=s64",
      "userId": "09128201096829503895"
     },
     "user_tz": 0
    },
    "id": "8L3rpaFCI1Pk",
    "outputId": "393df4cb-75fe-47b5-b6a3-65a2157bab1c"
   },
   "outputs": [
    {
     "data": {
      "image/png": "[encoded data removed]",
      "text/plain": [
       "<Figure size 720x720 with 9 Axes>"
      ]
     },
     "metadata": {
      "tags": []
     },
     "output_type": "display_data"
    }
   ],
   "source": [
    "# --------------------------------------------------------------------------------------------------------------\n",
    "# Generating new images\n",
    "occlude_start_row = 14\n",
    "num_generated_images = 1\n",
    "samples = np.copy(x_train_quantised[:10, :, :, :])\n",
    "samples = samples / (q_levels - 1)\n",
    "samples[:, occlude_start_row:, :, :] = 0\n",
    "\n",
    "for i in range(occlude_start_row, height):\n",
    "    for j in range(width):\n",
    "        for k in range(n_channel):\n",
    "            logits = pixelcnn(samples)\n",
    "            logits = tf.reshape(logits, [-1, height, width, q_levels, n_channel])\n",
    "            logits = tf.transpose(logits, perm=[0, 1, 2, 4, 3])\n",
    "            next_sample = tf.random.categorical(logits[:, i, j, k, :], 1)\n",
    "            samples[:, i, j, k] = (next_sample.numpy() / (q_levels - 1))[:, 0]\n",
    "            \n",
    "\n",
    "fig = plt.figure(figsize=(10, 10))\n",
    "for i in range(9):\n",
    "    ax = fig.add_subplot(3, 3, i+1)\n",
    "    ax.imshow(samples[i, :, :, :])\n",
    "    plt.xticks(np.array([]))\n",
    "    plt.yticks(np.array([]))\n",
    "plt.show()"
   ]
  },
  {
   "cell_type": "code",
   "execution_count": 0,
   "metadata": {
    "colab": {
     "base_uri": "https://localhost:8080/",
     "height": 578
    },
    "colab_type": "code",
    "executionInfo": {
     "elapsed": 31926,
     "status": "ok",
     "timestamp": 1577891499183,
     "user": {
      "displayName": "Walter Hugo Lopez Pinaya",
      "photoUrl": "https://lh3.googleusercontent.com/a-/AAuE7mBjknD3RW8ZviowNPM9JlH9IWQElg2Arp9PS-Ba-A=s64",
      "userId": "09128201096829503895"
     },
     "user_tz": 0
    },
    "id": "qajBEKVp6krp",
    "outputId": "76f134ec-3b8e-4ae9-9a28-13b7e6548f23"
   },
   "outputs": [
    {
     "data": {
      "image/png": "[encoded data removed]",
      "text/plain": [
       "<Figure size 720x720 with 9 Axes>"
      ]
     },
     "metadata": {
      "tags": []
     },
     "output_type": "display_data"
    }
   ],
   "source": [
    "# --------------------------------------------------------------------------------------------------------------\n",
    "# Generating new images\n",
    "occlude_start_row = 14\n",
    "num_generated_images = 10\n",
    "samples = np.copy(x_test_quantised[0:num_generated_images, :, :, :])\n",
    "samples = samples / (q_levels - 1)\n",
    "samples[:, occlude_start_row:, :, :] = 0\n",
    "\n",
    "for i in range(occlude_start_row, height):\n",
    "    for j in range(width):\n",
    "        for k in range(n_channel):\n",
    "            logits = pixelcnn(samples)\n",
    "            logits = tf.reshape(logits, [-1, height, width, q_levels, n_channel])\n",
    "            logits = tf.transpose(logits, perm=[0, 1, 2, 4, 3])\n",
    "            next_sample = tf.random.categorical(logits[:, i, j, k, :], 1)\n",
    "            samples[:, i, j, k] = (next_sample.numpy() / (q_levels - 1))[:, 0]\n",
    "            \n",
    "\n",
    "fig = plt.figure(figsize=(10, 10))\n",
    "for i in range(9):\n",
    "    ax = fig.add_subplot(3, 3, i+1)\n",
    "    ax.imshow(samples[i, :, :, :])\n",
    "    plt.xticks(np.array([]))\n",
    "    plt.yticks(np.array([]))\n",
    "plt.show()"
   ]
  }
 ],
 "metadata": {
  "accelerator": "GPU",
  "colab": {
   "collapsed_sections": [],
   "name": "modelling_coloured_images.ipynb",
   "provenance": []
  },
  "kernelspec": {
   "display_name": "Python 3",
   "language": "python",
   "name": "python3"
  },
  "language_info": {
   "codemirror_mode": {
    "name": "ipython",
    "version": 3
   },
   "file_extension": ".py",
   "mimetype": "text/x-python",
   "name": "python",
   "nbconvert_exporter": "python",
   "pygments_lexer": "ipython3",
   "version": "3.6.8"
  }
 },
 "nbformat": 4,
 "nbformat_minor": 1
}
