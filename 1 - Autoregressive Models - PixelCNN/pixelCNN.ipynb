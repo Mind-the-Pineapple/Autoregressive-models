{
  "nbformat": 4,
  "nbformat_minor": 0,
  "metadata": {
    "accelerator": "GPU",
    "colab": {
      "name": "pixelCNN.ipynb",
      "provenance": [],
      "collapsed_sections": [],
      "include_colab_link": true
    },
    "kernelspec": {
      "name": "python3",
      "display_name": "Python 3"
    },
    "language_info": {
      "codemirror_mode": {
        "name": "ipython",
        "version": 3
      },
      "file_extension": ".py",
      "mimetype": "text/x-python",
      "name": "python",
      "nbconvert_exporter": "python",
      "pygments_lexer": "ipython3",
      "version": "3.6.8"
    },
    "pycharm": {
      "stem_cell": {
        "cell_type": "raw",
        "source": [],
        "metadata": {
          "collapsed": false
        }
      }
    }
  },
  "cells": [
    {
      "cell_type": "markdown",
      "metadata": {
        "id": "view-in-github",
        "colab_type": "text"
      },
      "source": [
        "<a href=\"https://colab.research.google.com/github/Warvito/Autoregressive-models/blob/master/1%20-%20Autoregressive%20Models%20-%20PixelCNN/pixelCNN.ipynb\" target=\"_parent\"><img src=\"https://colab.research.google.com/assets/colab-badge.svg\" alt=\"Open In Colab\"/></a>"
      ]
    },
    {
      "cell_type": "markdown",
      "metadata": {
        "colab_type": "text",
        "id": "bU25WyouYYE3"
      },
      "source": [
        "# Autoregressive Models - PixelCNN\n",
        "\n",
        "The autoregressive models are generative models that provides an explicit parametric specification of a likelihood function of a variable by specifying it with its parameters. However, to model data that have several dimensions/features, autoregressive models need to define some constraints. First, the observation space X need to have a determining ordering for its features. That is why autoregressive models are naturally used for time series that have a sequence of time steps. However, it can also be employed for images by defining, for example, that the pixels from left come before from the ones in the right, and the ones in the top before the ones in the bottom. Second, to tractably model the joint distribution of the features in a data observation (p(x)), the autoregressive approach cast p(x) as a product of conditional distributions. Autoregressive models define the joint distribution using conditionals over each feature given the values of the previous features. For example, the probability of a pixel from an image to have a specific value is conditioned by the values of all previous pixels; and the probability of an image (the joint distribution) is the combination of the probability of all its pixels. This way, autoregressive models use the chain rule to decompose the likelihood of the data sample x into a product of 1-dimensional distributions (Eq. 1). The factorization turns the joint modelling problem into a sequence problem, where one learns to predict the next pixel given all the previously generated pixels.\n",
        "\n",
        "<img src=\"https://github.com/Warvito/Autoregressive-models/blob/master/1%20-%20Autoregressive%20Models%20-%20PixelCNN/figures/Figure3.png?raw=1\" width=\"250\">\n",
        "\n",
        "This is what mainly define an autoregressive model.\n",
        "\n",
        "Now, the big challenge is how to represent these conditional this p(xi) that usually has a really complex distribution. How could we define it in an expressive model that are also tractable and scalable? One solution is using deep neural networks. \n",
        "\n",
        "\n",
        "## PixelCNN\n",
        "PixelCNN was introduced by DeepMind in 2016 (Oord et al, 2016) and it started one of the most promising families of autoregressive generative models. PixelCNN is a deep neural network that captures the distribution of dependencies between pixels in the parameters. It sequentially generates one pixel at a time in an image along the two spatial dimensions. \n",
        "\n"
      ]
    },
    {
      "cell_type": "markdown",
      "metadata": {
        "colab_type": "text",
        "id": "10r26ZgidIb5"
      },
      "source": [
        "In this implementation, we used the new Tensorflow 2.0 framework. In the fisrt step we install and import the code dependencies."
      ]
    },
    {
      "cell_type": "code",
      "metadata": {
        "colab_type": "code",
        "id": "f25me9_Wpg3A",
        "colab": {
          "base_uri": "https://localhost:8080/",
          "height": 34
        },
        "outputId": "4f535ab5-4c68-4928-bfbe-b1367a86170e"
      },
      "source": [
        "%tensorflow_version 2.x"
      ],
      "execution_count": 1,
      "outputs": [
        {
          "output_type": "stream",
          "text": [
            "TensorFlow 2.x selected.\n"
          ],
          "name": "stdout"
        }
      ]
    },
    {
      "cell_type": "code",
      "metadata": {
        "colab_type": "code",
        "id": "Syt9hLISPC1p",
        "colab": {}
      },
      "source": [
        "import random as rn\n",
        "import time\n",
        "\n",
        "import matplotlib\n",
        "import matplotlib.pyplot as plt\n",
        "import numpy as np\n",
        "import tensorflow as tf\n",
        "from tensorflow import keras\n",
        "from tensorflow import nn\n",
        "from tensorflow.keras import initializers\n",
        "from tensorflow.keras.utils import Progbar"
      ],
      "execution_count": 0,
      "outputs": []
    },
    {
      "cell_type": "markdown",
      "metadata": {
        "colab_type": "text",
        "id": "FpYcifvjdbaA"
      },
      "source": [
        "Then, we define the random seeds to have reproducible results and we load the MNIST dataset to train the PixelCNN."
      ]
    },
    {
      "cell_type": "code",
      "metadata": {
        "colab_type": "code",
        "id": "JB9UVlLzPWI_",
        "colab": {}
      },
      "source": [
        "# Defining random seeds\n",
        "random_seed = 42\n",
        "tf.random.set_seed(random_seed)\n",
        "np.random.seed(random_seed)\n",
        "rn.seed(random_seed)"
      ],
      "execution_count": 0,
      "outputs": []
    },
    {
      "cell_type": "code",
      "metadata": {
        "colab_type": "code",
        "id": "iLud0DUePdyI",
        "colab": {
          "base_uri": "https://localhost:8080/",
          "height": 52
        },
        "outputId": "5826a54a-355d-43ed-8ad3-db90ef1ef60d"
      },
      "source": [
        "# Loading data\n",
        "(x_train, y_train), (x_test, y_test) = tf.keras.datasets.mnist.load_data()\n",
        "\n",
        "height = 28\n",
        "width = 28\n",
        "n_channel = 1\n",
        "\n",
        "x_train = x_train.astype('float32') / 255.\n",
        "x_test = x_test.astype('float32') / 255.\n",
        "\n",
        "x_train = x_train.reshape(x_train.shape[0], height, width, n_channel)\n",
        "x_test = x_test.reshape(x_test.shape[0], height, width, n_channel)"
      ],
      "execution_count": 5,
      "outputs": [
        {
          "output_type": "stream",
          "text": [
            "Downloading data from https://storage.googleapis.com/tensorflow/tf-keras-datasets/mnist.npz\n",
            "11493376/11490434 [==============================] - 0s 0us/step\n"
          ],
          "name": "stdout"
        }
      ]
    },
    {
      "cell_type": "markdown",
      "metadata": {
        "colab_type": "text",
        "id": "LnT0tbiyduyN"
      },
      "source": [
        "In this example, to make the probability distribution of a single pixel easier to be defined, we decide to quantisise the number of possible values that a pixel could have. Originally, in the MNIST dataset the pixel are represented bya  a uint8 variable, beeing able assume values between [0, 255]. In this example, we restring the image to have only 4 different values ([0, 3])."
      ]
    },
    {
      "cell_type": "code",
      "metadata": {
        "colab_type": "code",
        "id": "gwfeosbzPOeo",
        "colab": {}
      },
      "source": [
        "def quantise(images, q_levels):\n",
        "    \"\"\"Quantise image into q levels.\"\"\"\n",
        "    return (np.digitize(images, np.arange(q_levels) / q_levels) - 1).astype('float32')"
      ],
      "execution_count": 0,
      "outputs": []
    },
    {
      "cell_type": "code",
      "metadata": {
        "colab_type": "code",
        "id": "8h806UxIPkKr",
        "colab": {}
      },
      "source": [
        "# Quantise the input data in q levels\n",
        "q_levels = 2\n",
        "x_train_quantised = quantise(x_train, q_levels)\n",
        "x_test_quantised = quantise(x_test, q_levels)"
      ],
      "execution_count": 0,
      "outputs": []
    },
    {
      "cell_type": "markdown",
      "metadata": {
        "colab_type": "text",
        "id": "3twbZSiGfBQP"
      },
      "source": [
        "Using the tensorflow.Data API, we defined the input data streams for our model during the training and the evaluation. In these dataset, we define the inputs as the images with the 4 levels normaized to be between [0, 1] and the target values are the categoricals pixels values between [0, 3]."
      ]
    },
    {
      "cell_type": "code",
      "metadata": {
        "colab_type": "code",
        "id": "eQrNmco9Pxzo",
        "colab": {}
      },
      "source": [
        "# Creating input stream using tf.data API\n",
        "batch_size = 128\n",
        "train_buf = 60000\n",
        "\n",
        "train_dataset = tf.data.Dataset.from_tensor_slices((x_train_quantised / (q_levels - 1),\n",
        "                                                    x_train_quantised.astype('int32')))\n",
        "train_dataset = train_dataset.shuffle(buffer_size=train_buf)\n",
        "train_dataset = train_dataset.batch(batch_size)\n",
        "\n",
        "test_dataset = tf.data.Dataset.from_tensor_slices((x_test_quantised / (q_levels - 1),\n",
        "                                                   x_test_quantised.astype('int32')))\n",
        "test_dataset = test_dataset.batch(batch_size)"
      ],
      "execution_count": 0,
      "outputs": []
    },
    {
      "cell_type": "markdown",
      "metadata": {
        "colab_type": "text",
        "id": "uGUFT_0eZGIY"
      },
      "source": [
        "## Masked Convolutions\n",
        "\n",
        "When using the convolution operations, PixelCNN can parallelly learn the distribution of all pixels in the image. However, the receptive field of a standard convolutional violates the sequential prediction of autoregressive models. When processing the data of a central pixel, the convolutional filter considers all the pixels around it to calculate the output feature map, not only the previous pixels. \n",
        "\n",
        "To solve this problem, masks are adopted block information flow from the future pixels.\n",
        "\n",
        "Masking can be done by zeroing out all the pixels that should not be considered. In our implementation, a mask with the same size to the convolutional filter with values 1 and 0 was created. This mask was multiplied with the weight tensor before doing the convolution operation.\n",
        "\n",
        "In the pixelCNN, there are two types of masks: type A and type B.\n",
        "\n",
        "*\tMask A: this mask is applied only to the first convolutional layer. It restricts to access to the pixel of interest by zeroing the center pixel in mask. This way, we guarantee model will not access the pixel that it is about to predict. \n",
        "\n",
        "*\tMask B: This mask is applied to all the subsequent convolutional layers and relaxes the restrictions of mask A by allowing the connection from a pixel to itself. \n",
        "\n",
        "Below, we have the masks defined inside a keras layer named MasekdConv2D. In this layer, besides the parameters weigths and bias, we have the constant mask defininng the pixels to be zeroed and the type of mask (A or B) (Lines 41 to 47).\n",
        "\n",
        "Finally, the mask is applied before the convolution (Line 50).\n"
      ]
    },
    {
      "cell_type": "code",
      "metadata": {
        "colab_type": "code",
        "id": "qxhdp6wqPESj",
        "colab": {}
      },
      "source": [
        "class MaskedConv2D(tf.keras.layers.Layer):\n",
        "    \"\"\"Convolutional layers with masks.\n",
        "\n",
        "    Convolutional layers with simple implementation of masks type A and B for\n",
        "    autoregressive models.\n",
        "\n",
        "    Arguments:\n",
        "    mask_type: one of `\"A\"` or `\"B\".`\n",
        "    filters: Integer, the dimensionality of the output space\n",
        "        (i.e. the number of output filters in the convolution).\n",
        "    kernel_size: An integer or tuple/list of 2 integers, specifying the\n",
        "        height and width of the 2D convolution window.\n",
        "        Can be a single integer to specify the same value for\n",
        "        all spatial dimensions.\n",
        "    strides: An integer or tuple/list of 2 integers,\n",
        "        specifying the strides of the convolution along the height and width.\n",
        "        Can be a single integer to specify the same value for\n",
        "        all spatial dimensions.\n",
        "        Specifying any stride value != 1 is incompatible with specifying\n",
        "        any `dilation_rate` value != 1.\n",
        "    padding: one of `\"valid\"` or `\"same\"` (case-insensitive).\n",
        "    kernel_initializer: Initializer for the `kernel` weights matrix.\n",
        "    bias_initializer: Initializer for the bias vector.\n",
        "    \"\"\"\n",
        "\n",
        "    def __init__(self,\n",
        "                 mask_type,\n",
        "                 filters,\n",
        "                 kernel_size,\n",
        "                 strides=1,\n",
        "                 padding='same',\n",
        "                 kernel_initializer='glorot_uniform',\n",
        "                 bias_initializer='zeros'):\n",
        "        super(MaskedConv2D, self).__init__()\n",
        "\n",
        "        assert mask_type in {'A', 'B'}\n",
        "        self.mask_type = mask_type\n",
        "\n",
        "        self.filters = filters\n",
        "        self.kernel_size = kernel_size\n",
        "        self.strides = strides\n",
        "        self.padding = padding.upper()\n",
        "        self.kernel_initializer = initializers.get(kernel_initializer)\n",
        "        self.bias_initializer = initializers.get(bias_initializer)\n",
        "\n",
        "    def build(self, input_shape):\n",
        "        self.kernel = self.add_weight('kernel',\n",
        "                                      shape=(self.kernel_size,\n",
        "                                             self.kernel_size,\n",
        "                                             int(input_shape[-1]),\n",
        "                                             self.filters),\n",
        "                                      initializer=self.kernel_initializer,\n",
        "                                      trainable=True)\n",
        "\n",
        "        self.bias = self.add_weight('bias',\n",
        "                                    shape=(self.filters,),\n",
        "                                    initializer=self.bias_initializer,\n",
        "                                    trainable=True)\n",
        "\n",
        "        center = self.kernel_size // 2\n",
        "\n",
        "        mask = np.ones(self.kernel.shape, dtype=np.float32)\n",
        "        mask[center, center + (self.mask_type == 'B'):, :, :] = 0.\n",
        "        mask[center + 1:, :, :, :] = 0.\n",
        "\n",
        "        self.mask = tf.constant(mask, dtype=tf.float32, name='mask')\n",
        "\n",
        "    def call(self, input):\n",
        "        masked_kernel = tf.math.multiply(self.mask, self.kernel)\n",
        "        x = nn.conv2d(input,\n",
        "                      masked_kernel,\n",
        "                      strides=[1, self.strides, self.strides, 1],\n",
        "                      padding=self.padding)\n",
        "        x = nn.bias_add(x, self.bias)\n",
        "        return x\n"
      ],
      "execution_count": 0,
      "outputs": []
    },
    {
      "cell_type": "markdown",
      "metadata": {
        "colab_type": "text",
        "id": "LoCfR38cZKDC"
      },
      "source": [
        "## Residual blocks\n",
        "\n",
        "Another element that compose the PixelCNN architecture is the residual blocks."
      ]
    },
    {
      "cell_type": "code",
      "metadata": {
        "colab_type": "code",
        "id": "vzvk2UL5PI6k",
        "colab": {}
      },
      "source": [
        "class ResidualBlock(tf.keras.Model):\n",
        "    \"\"\"Residual blocks that compose pixelCNN\n",
        "\n",
        "    Blocks of layers with 3 convolutional layers and one residual connection.\n",
        "    Based on Figure 5 from [1] where h indicates number of filters.\n",
        "\n",
        "    Refs:\n",
        "    [1] - Oord, A. V. D., Kalchbrenner, N., & Kavukcuoglu, K. (2016). Pixel\n",
        "     recurrent neural networks. arXiv preprint arXiv:1601.06759.\n",
        "    \"\"\"\n",
        "\n",
        "    def __init__(self, h):\n",
        "        super(ResidualBlock, self).__init__(name='')\n",
        "\n",
        "        self.conv2a = keras.layers.Conv2D(filters=h, kernel_size=1, strides=1)\n",
        "        self.conv2b = MaskedConv2D(mask_type='B', filters=h, kernel_size=3, strides=1)\n",
        "        self.conv2c = keras.layers.Conv2D(filters=2 * h, kernel_size=1, strides=1)\n",
        "\n",
        "    def call(self, input_tensor):\n",
        "        x = tf.nn.relu(input_tensor)\n",
        "        x = self.conv2a(x)\n",
        "\n",
        "        x = tf.nn.relu(x)\n",
        "        x = self.conv2b(x)\n",
        "\n",
        "        x = tf.nn.relu(x)\n",
        "        x = self.conv2c(x)\n",
        "\n",
        "        x += input_tensor\n",
        "        return x"
      ],
      "execution_count": 0,
      "outputs": []
    },
    {
      "cell_type": "markdown",
      "metadata": {
        "colab_type": "text",
        "id": "e5aGeua5ZNzz"
      },
      "source": [
        "## PixelCNN architecture\n",
        "\n",
        "In Oord et al. 2016, the PixelCNN uses the following architecture (Figure X):\n",
        "\n",
        "<img src=\"https://github.com/Warvito/Autoregressive-models/blob/master/1%20-%20Autoregressive%20Models%20-%20PixelCNN/figures/Figure5_Architecture.png?raw=1\" width=\"800\">\n",
        "\n",
        "the first layer is a masked convolution (type A) with 7x7 filters. Then, 15 residuals blocks were used. Each block process the data with a combination of 3x3 layers convolutional layers with mask type B and 1x1 standard convolutional layers. Between each convolutional layer there is also a non-linearity ReLU. After these layers, a residual connection is added. Finally, the network has a sequence of RELU-CONV-RELU-CONV using standard convolutional layers, where both have 1x1 filters. Then, the output layer is a softmax layer which predicts the value among all possible values of a pixel. So, this softmax layer had the image dimension (because we want an output value for each pixel) times the number of possible values (for example, 256 pixels values)."
      ]
    },
    {
      "cell_type": "code",
      "metadata": {
        "colab_type": "code",
        "id": "F7jBV3YUP7WB",
        "colab": {}
      },
      "source": [
        "# Create PixelCNN model\n",
        "inputs = keras.layers.Input(shape=(height, width, n_channel))\n",
        "x = MaskedConv2D(mask_type='A', filters=128, kernel_size=7, strides=1)(inputs)\n",
        "\n",
        "for i in range(15):\n",
        "    x = ResidualBlock(h=64)(x)\n",
        "\n",
        "x = keras.layers.Activation(activation='relu')(x)\n",
        "x = keras.layers.Conv2D(filters=128, kernel_size=1, strides=1)(x)\n",
        "x = keras.layers.Activation(activation='relu')(x)\n",
        "x = keras.layers.Conv2D(filters=128, kernel_size=1, strides=1)(x)\n",
        "x = keras.layers.Conv2D(filters=q_levels, kernel_size=1, strides=1)(x)\n",
        "\n",
        "pixelcnn = tf.keras.Model(inputs=inputs, outputs=x)"
      ],
      "execution_count": 0,
      "outputs": []
    },
    {
      "cell_type": "markdown",
      "metadata": {
        "colab_type": "text",
        "id": "gQ5d_FaDh9gY"
      },
      "source": [
        "In this implementation we use a simple Adam optimizer with learning rate decay to train the neural network. The loss function is defined by the crossentropy (that in this case is equivalent to minimizing the negative log-likelihood of the training data)."
      ]
    },
    {
      "cell_type": "code",
      "metadata": {
        "colab_type": "code",
        "id": "ChbH5SB4P-k1",
        "colab": {}
      },
      "source": [
        "# Prepare optimizer and loss function\n",
        "lr_decay = 0.99995\n",
        "learning_rate = 1e-2\n",
        "optimizer = tf.keras.optimizers.Adam(lr=learning_rate)\n",
        "\n",
        "compute_loss = tf.keras.losses.CategoricalCrossentropy(from_logits=True)"
      ],
      "execution_count": 0,
      "outputs": []
    },
    {
      "cell_type": "markdown",
      "metadata": {
        "colab_type": "text",
        "id": "nQRb1AD8iV4S"
      },
      "source": [
        "The training step is defined by the forward propagation throgh the model, and then the outputs are reshaped to work with several inputs channels (like RGB channels). Finally, the gradients are calculated, clipped to be between [-1, 1], and applied to upgrade the PixelCNN parameters."
      ]
    },
    {
      "cell_type": "code",
      "metadata": {
        "colab_type": "code",
        "id": "HUBXLETLQA81",
        "colab": {}
      },
      "source": [
        "@tf.function\n",
        "def train_step(batch_x, batch_y):\n",
        "    with tf.GradientTape() as ae_tape:\n",
        "        logits = pixelcnn(batch_x, training=True)\n",
        "\n",
        "        loss = compute_loss(tf.one_hot(batch_y, q_levels), logits)\n",
        "\n",
        "    gradients = ae_tape.gradient(loss, pixelcnn.trainable_variables)\n",
        "    gradients, _ = tf.clip_by_global_norm(gradients, 1.0)\n",
        "    optimizer.apply_gradients(zip(gradients, pixelcnn.trainable_variables))\n",
        "\n",
        "    return loss"
      ],
      "execution_count": 0,
      "outputs": []
    },
    {
      "cell_type": "markdown",
      "metadata": {
        "colab_type": "text",
        "id": "H4d0Qwy-jA10"
      },
      "source": [
        "In this implementation, we defined the trainig loop with 30 epochs."
      ]
    },
    {
      "cell_type": "code",
      "metadata": {
        "colab_type": "code",
        "id": "hpu7iZrSQErQ",
        "outputId": "0635311b-1374-44d6-f7c3-67b1d26493f1",
        "colab": {
          "base_uri": "https://localhost:8080/",
          "height": 556
        }
      },
      "source": [
        "# Training loop\n",
        "n_epochs = 150\n",
        "n_iter = int(np.ceil(x_train_quantised.shape[0] / batch_size))\n",
        "for epoch in range(n_epochs):\n",
        "    progbar = Progbar(n_iter)\n",
        "    print('Epoch {:}/{:}'.format(epoch + 1, n_epochs))\n",
        "\n",
        "    for i_iter, (batch_x, batch_y) in enumerate(train_dataset):\n",
        "        optimizer.lr = optimizer.lr * lr_decay\n",
        "        loss = train_step(batch_x, batch_y)\n",
        "\n",
        "        progbar.add(1, values=[('loss', loss)])"
      ],
      "execution_count": 26,
      "outputs": [
        {
          "output_type": "stream",
          "text": [
            "Epoch 1/150\n",
            "469/469 [==============================] - 109s 232ms/step - loss: 3.0715\n",
            "Epoch 2/150\n",
            "469/469 [==============================] - 106s 225ms/step - loss: 0.0862\n",
            "Epoch 3/150\n",
            "469/469 [==============================] - 106s 225ms/step - loss: 0.0844\n",
            "Epoch 4/150\n",
            "469/469 [==============================] - 105s 225ms/step - loss: 0.0834\n",
            "Epoch 5/150\n",
            "469/469 [==============================] - 105s 225ms/step - loss: 0.0828\n",
            "Epoch 6/150\n",
            "100/469 [=====>........................] - ETA: 1:23 - loss: 0.0826"
          ],
          "name": "stdout"
        },
        {
          "output_type": "error",
          "ename": "KeyboardInterrupt",
          "evalue": "ignored",
          "traceback": [
            "\u001b[0;31m---------------------------------------------------------------------------\u001b[0m",
            "\u001b[0;31mKeyboardInterrupt\u001b[0m                         Traceback (most recent call last)",
            "\u001b[0;32m<ipython-input-26-f7b3341d7fc0>\u001b[0m in \u001b[0;36m<module>\u001b[0;34m()\u001b[0m\n\u001b[1;32m     10\u001b[0m         \u001b[0mloss\u001b[0m \u001b[0;34m=\u001b[0m \u001b[0mtrain_step\u001b[0m\u001b[0;34m(\u001b[0m\u001b[0mbatch_x\u001b[0m\u001b[0;34m,\u001b[0m \u001b[0mbatch_y\u001b[0m\u001b[0;34m)\u001b[0m\u001b[0;34m\u001b[0m\u001b[0;34m\u001b[0m\u001b[0m\n\u001b[1;32m     11\u001b[0m \u001b[0;34m\u001b[0m\u001b[0m\n\u001b[0;32m---> 12\u001b[0;31m         \u001b[0mprogbar\u001b[0m\u001b[0;34m.\u001b[0m\u001b[0madd\u001b[0m\u001b[0;34m(\u001b[0m\u001b[0;36m1\u001b[0m\u001b[0;34m,\u001b[0m \u001b[0mvalues\u001b[0m\u001b[0;34m=\u001b[0m\u001b[0;34m[\u001b[0m\u001b[0;34m(\u001b[0m\u001b[0;34m\"loss\"\u001b[0m\u001b[0;34m,\u001b[0m \u001b[0mloss\u001b[0m\u001b[0;34m)\u001b[0m\u001b[0;34m]\u001b[0m\u001b[0;34m)\u001b[0m\u001b[0;34m\u001b[0m\u001b[0;34m\u001b[0m\u001b[0m\n\u001b[0m",
            "\u001b[0;32m/tensorflow-2.1.0/python3.6/tensorflow_core/python/keras/utils/generic_utils.py\u001b[0m in \u001b[0;36madd\u001b[0;34m(self, n, values)\u001b[0m\n\u001b[1;32m    595\u001b[0m \u001b[0;34m\u001b[0m\u001b[0m\n\u001b[1;32m    596\u001b[0m   \u001b[0;32mdef\u001b[0m \u001b[0madd\u001b[0m\u001b[0;34m(\u001b[0m\u001b[0mself\u001b[0m\u001b[0;34m,\u001b[0m \u001b[0mn\u001b[0m\u001b[0;34m,\u001b[0m \u001b[0mvalues\u001b[0m\u001b[0;34m=\u001b[0m\u001b[0;32mNone\u001b[0m\u001b[0;34m)\u001b[0m\u001b[0;34m:\u001b[0m\u001b[0;34m\u001b[0m\u001b[0;34m\u001b[0m\u001b[0m\n\u001b[0;32m--> 597\u001b[0;31m     \u001b[0mself\u001b[0m\u001b[0;34m.\u001b[0m\u001b[0mupdate\u001b[0m\u001b[0;34m(\u001b[0m\u001b[0mself\u001b[0m\u001b[0;34m.\u001b[0m\u001b[0m_seen_so_far\u001b[0m \u001b[0;34m+\u001b[0m \u001b[0mn\u001b[0m\u001b[0;34m,\u001b[0m \u001b[0mvalues\u001b[0m\u001b[0;34m)\u001b[0m\u001b[0;34m\u001b[0m\u001b[0;34m\u001b[0m\u001b[0m\n\u001b[0m\u001b[1;32m    598\u001b[0m \u001b[0;34m\u001b[0m\u001b[0m\n\u001b[1;32m    599\u001b[0m \u001b[0;34m\u001b[0m\u001b[0m\n",
            "\u001b[0;32m/tensorflow-2.1.0/python3.6/tensorflow_core/python/keras/utils/generic_utils.py\u001b[0m in \u001b[0;36mupdate\u001b[0;34m(self, current, values)\u001b[0m\n\u001b[1;32m    488\u001b[0m           \u001b[0mself\u001b[0m\u001b[0;34m.\u001b[0m\u001b[0m_values\u001b[0m\u001b[0;34m[\u001b[0m\u001b[0mk\u001b[0m\u001b[0;34m]\u001b[0m \u001b[0;34m=\u001b[0m \u001b[0;34m[\u001b[0m\u001b[0mv\u001b[0m \u001b[0;34m*\u001b[0m \u001b[0mvalue_base\u001b[0m\u001b[0;34m,\u001b[0m \u001b[0mvalue_base\u001b[0m\u001b[0;34m]\u001b[0m\u001b[0;34m\u001b[0m\u001b[0;34m\u001b[0m\u001b[0m\n\u001b[1;32m    489\u001b[0m         \u001b[0;32melse\u001b[0m\u001b[0;34m:\u001b[0m\u001b[0;34m\u001b[0m\u001b[0;34m\u001b[0m\u001b[0m\n\u001b[0;32m--> 490\u001b[0;31m           \u001b[0mself\u001b[0m\u001b[0;34m.\u001b[0m\u001b[0m_values\u001b[0m\u001b[0;34m[\u001b[0m\u001b[0mk\u001b[0m\u001b[0;34m]\u001b[0m\u001b[0;34m[\u001b[0m\u001b[0;36m0\u001b[0m\u001b[0;34m]\u001b[0m \u001b[0;34m+=\u001b[0m \u001b[0mv\u001b[0m \u001b[0;34m*\u001b[0m \u001b[0mvalue_base\u001b[0m\u001b[0;34m\u001b[0m\u001b[0;34m\u001b[0m\u001b[0m\n\u001b[0m\u001b[1;32m    491\u001b[0m           \u001b[0mself\u001b[0m\u001b[0;34m.\u001b[0m\u001b[0m_values\u001b[0m\u001b[0;34m[\u001b[0m\u001b[0mk\u001b[0m\u001b[0;34m]\u001b[0m\u001b[0;34m[\u001b[0m\u001b[0;36m1\u001b[0m\u001b[0;34m]\u001b[0m \u001b[0;34m+=\u001b[0m \u001b[0mvalue_base\u001b[0m\u001b[0;34m\u001b[0m\u001b[0;34m\u001b[0m\u001b[0m\n\u001b[1;32m    492\u001b[0m       \u001b[0;32melse\u001b[0m\u001b[0;34m:\u001b[0m\u001b[0;34m\u001b[0m\u001b[0;34m\u001b[0m\u001b[0m\n",
            "\u001b[0;32m/tensorflow-2.1.0/python3.6/tensorflow_core/python/ops/math_ops.py\u001b[0m in \u001b[0;36mbinary_op_wrapper\u001b[0;34m(x, y)\u001b[0m\n\u001b[1;32m    913\u001b[0m           \u001b[0;32melse\u001b[0m\u001b[0;34m:\u001b[0m\u001b[0;34m\u001b[0m\u001b[0;34m\u001b[0m\u001b[0m\n\u001b[1;32m    914\u001b[0m             \u001b[0;32mraise\u001b[0m\u001b[0;34m\u001b[0m\u001b[0;34m\u001b[0m\u001b[0m\n\u001b[0;32m--> 915\u001b[0;31m       \u001b[0;32mreturn\u001b[0m \u001b[0mfunc\u001b[0m\u001b[0;34m(\u001b[0m\u001b[0mx\u001b[0m\u001b[0;34m,\u001b[0m \u001b[0my\u001b[0m\u001b[0;34m,\u001b[0m \u001b[0mname\u001b[0m\u001b[0;34m=\u001b[0m\u001b[0mname\u001b[0m\u001b[0;34m)\u001b[0m\u001b[0;34m\u001b[0m\u001b[0;34m\u001b[0m\u001b[0m\n\u001b[0m\u001b[1;32m    916\u001b[0m \u001b[0;34m\u001b[0m\u001b[0m\n\u001b[1;32m    917\u001b[0m   \u001b[0;32mdef\u001b[0m \u001b[0mbinary_op_wrapper_sparse\u001b[0m\u001b[0;34m(\u001b[0m\u001b[0msp_x\u001b[0m\u001b[0;34m,\u001b[0m \u001b[0my\u001b[0m\u001b[0;34m)\u001b[0m\u001b[0;34m:\u001b[0m\u001b[0;34m\u001b[0m\u001b[0;34m\u001b[0m\u001b[0m\n",
            "\u001b[0;32m/tensorflow-2.1.0/python3.6/tensorflow_core/python/ops/math_ops.py\u001b[0m in \u001b[0;36m_mul_dispatch\u001b[0;34m(x, y, name)\u001b[0m\n\u001b[1;32m   1199\u001b[0m   \u001b[0mis_tensor_y\u001b[0m \u001b[0;34m=\u001b[0m \u001b[0misinstance\u001b[0m\u001b[0;34m(\u001b[0m\u001b[0my\u001b[0m\u001b[0;34m,\u001b[0m \u001b[0mops\u001b[0m\u001b[0;34m.\u001b[0m\u001b[0mTensor\u001b[0m\u001b[0;34m)\u001b[0m\u001b[0;34m\u001b[0m\u001b[0;34m\u001b[0m\u001b[0m\n\u001b[1;32m   1200\u001b[0m   \u001b[0;32mif\u001b[0m \u001b[0mis_tensor_y\u001b[0m\u001b[0;34m:\u001b[0m\u001b[0;34m\u001b[0m\u001b[0;34m\u001b[0m\u001b[0m\n\u001b[0;32m-> 1201\u001b[0;31m     \u001b[0;32mreturn\u001b[0m \u001b[0mgen_math_ops\u001b[0m\u001b[0;34m.\u001b[0m\u001b[0mmul\u001b[0m\u001b[0;34m(\u001b[0m\u001b[0mx\u001b[0m\u001b[0;34m,\u001b[0m \u001b[0my\u001b[0m\u001b[0;34m,\u001b[0m \u001b[0mname\u001b[0m\u001b[0;34m=\u001b[0m\u001b[0mname\u001b[0m\u001b[0;34m)\u001b[0m\u001b[0;34m\u001b[0m\u001b[0;34m\u001b[0m\u001b[0m\n\u001b[0m\u001b[1;32m   1202\u001b[0m   \u001b[0;32melse\u001b[0m\u001b[0;34m:\u001b[0m\u001b[0;34m\u001b[0m\u001b[0;34m\u001b[0m\u001b[0m\n\u001b[1;32m   1203\u001b[0m     \u001b[0;32massert\u001b[0m \u001b[0misinstance\u001b[0m\u001b[0;34m(\u001b[0m\u001b[0my\u001b[0m\u001b[0;34m,\u001b[0m \u001b[0msparse_tensor\u001b[0m\u001b[0;34m.\u001b[0m\u001b[0mSparseTensor\u001b[0m\u001b[0;34m)\u001b[0m  \u001b[0;31m# Case: Dense * Sparse.\u001b[0m\u001b[0;34m\u001b[0m\u001b[0;34m\u001b[0m\u001b[0m\n",
            "\u001b[0;32m/tensorflow-2.1.0/python3.6/tensorflow_core/python/ops/gen_math_ops.py\u001b[0m in \u001b[0;36mmul\u001b[0;34m(x, y, name)\u001b[0m\n\u001b[1;32m   6111\u001b[0m       _result = _pywrap_tensorflow.TFE_Py_FastPathExecute(\n\u001b[1;32m   6112\u001b[0m         \u001b[0m_ctx\u001b[0m\u001b[0;34m.\u001b[0m\u001b[0m_context_handle\u001b[0m\u001b[0;34m,\u001b[0m \u001b[0mtld\u001b[0m\u001b[0;34m.\u001b[0m\u001b[0mdevice_name\u001b[0m\u001b[0;34m,\u001b[0m \u001b[0;34m\"Mul\"\u001b[0m\u001b[0;34m,\u001b[0m \u001b[0mname\u001b[0m\u001b[0;34m,\u001b[0m \u001b[0mtld\u001b[0m\u001b[0;34m.\u001b[0m\u001b[0mop_callbacks\u001b[0m\u001b[0;34m,\u001b[0m\u001b[0;34m\u001b[0m\u001b[0;34m\u001b[0m\u001b[0m\n\u001b[0;32m-> 6113\u001b[0;31m         x, y)\n\u001b[0m\u001b[1;32m   6114\u001b[0m       \u001b[0;32mreturn\u001b[0m \u001b[0m_result\u001b[0m\u001b[0;34m\u001b[0m\u001b[0;34m\u001b[0m\u001b[0m\n\u001b[1;32m   6115\u001b[0m     \u001b[0;32mexcept\u001b[0m \u001b[0m_core\u001b[0m\u001b[0;34m.\u001b[0m\u001b[0m_FallbackException\u001b[0m\u001b[0;34m:\u001b[0m\u001b[0;34m\u001b[0m\u001b[0;34m\u001b[0m\u001b[0m\n",
            "\u001b[0;31mKeyboardInterrupt\u001b[0m: "
          ]
        }
      ]
    },
    {
      "cell_type": "markdown",
      "metadata": {
        "colab_type": "text",
        "id": "RUVLFcETjH0h"
      },
      "source": [
        "To evaluate the performance of the model, we measured the NLL of the model in the test set. "
      ]
    },
    {
      "cell_type": "code",
      "metadata": {
        "colab_type": "code",
        "id": "wwOpkugDVQuo",
        "outputId": "9b563919-e8a2-460b-c3ee-b4fc512b4d6d",
        "colab": {
          "base_uri": "https://localhost:8080/",
          "height": 52
        }
      },
      "source": [
        "# Test\n",
        "test_loss = []\n",
        "for batch_x, batch_y in test_dataset:\n",
        "    logits = pixelcnn(batch_x, training=False)\n",
        "\n",
        "    # Calculate cross-entropy (= negative log-likelihood)\n",
        "    loss = compute_loss(tf.one_hot(batch_y, q_levels), logits)\n",
        "\n",
        "    test_loss.append(loss)\n",
        "print('nll : {:} nats'.format(np.array(test_loss).mean()))\n",
        "print('bits/dim : {:}'.format(np.array(test_loss).mean() / (height * width)))"
      ],
      "execution_count": 27,
      "outputs": [
        {
          "output_type": "stream",
          "text": [
            "nll : 0.08267118036746979 nats\n",
            "bits/dim : 0.00010544793414218085\n"
          ],
          "name": "stdout"
        }
      ]
    },
    {
      "cell_type": "markdown",
      "metadata": {
        "colab_type": "text",
        "id": "riO4FtjKjRUR"
      },
      "source": [
        "Finally, we sampled some images from the trained model. First, we sampled from the scratch, then we completed imaged partially occluded."
      ]
    },
    {
      "cell_type": "code",
      "metadata": {
        "colab_type": "code",
        "id": "UXQ_GbDPVdiU",
        "outputId": "f131c4d8-1d9b-44fd-8645-d7278a4a4aab",
        "colab": {
          "base_uri": "https://localhost:8080/",
          "height": 581
        }
      },
      "source": [
        "# Generating new images\n",
        "samples = np.zeros((100, height, width, n_channel), dtype='float32')\n",
        "for i in range(height):\n",
        "    for j in range(width):\n",
        "        logits = pixelcnn(samples)\n",
        "        next_sample = tf.random.categorical(logits[:, i, j, :], 1)\n",
        "        samples[:, i, j, 0] = (next_sample.numpy() / (q_levels - 1))[:,0]\n",
        "\n",
        "fig = plt.figure(figsize=(10, 10))\n",
        "for i in range(100):\n",
        "    ax = fig.add_subplot(10, 10, i+1)\n",
        "    ax.matshow(samples[i, :, :, 0], cmap=matplotlib.cm.binary)\n",
        "    plt.xticks(np.array([]))\n",
        "    plt.yticks(np.array([]))\n",
        "plt.show()"
      ],
      "execution_count": 29,
      "outputs": [
        {
          "output_type": "display_data",
          "data": {
            "image/png": "[encoded data removed]",
            "text/plain": [
              "<Figure size 720x720 with 100 Axes>"
            ]
          },
          "metadata": {
            "tags": []
          }
        }
      ]
    },
    {
      "cell_type": "code",
      "metadata": {
        "colab_type": "code",
        "id": "uJahzGf3XjjM",
        "outputId": "8a605ac3-3db8-43f8-ae5b-baf6aaf56c74",
        "colab": {
          "base_uri": "https://localhost:8080/",
          "height": 153
        }
      },
      "source": [
        "# --------------------------------------------------------------------------------------------------------------\n",
        "# Filling occluded images\n",
        "occlude_start_row = 14\n",
        "num_generated_images = 10\n",
        "samples = np.copy(x_test_quantised[0:num_generated_images, :, :, :])\n",
        "samples = samples / (q_levels - 1)\n",
        "samples[:, occlude_start_row:, :, :] = 0\n",
        "\n",
        "fig = plt.figure(figsize=(10, 10))\n",
        "\n",
        "for i in range(10):\n",
        "    ax = fig.add_subplot(1, 10, i+1)\n",
        "    ax.matshow(samples[i, :, :, 0], cmap=matplotlib.cm.binary)\n",
        "    plt.xticks(np.array([]))\n",
        "    plt.yticks(np.array([]))\n",
        "\n",
        "for i in range(occlude_start_row, height):\n",
        "    for j in range(width):\n",
        "        logits = pixelcnn(samples)\n",
        "        next_sample = tf.random.categorical(logits[:, i, j, :], 1)\n",
        "        samples[:, i, j, 0] = (next_sample.numpy() / (q_levels - 1))[:,0]\n",
        "    \n",
        "fig = plt.figure(figsize=(10, 10))\n",
        "\n",
        "for i in range(10):\n",
        "    ax = fig.add_subplot(1, 10, i+1)\n",
        "    ax.matshow(samples[i, :, :, 0], cmap=matplotlib.cm.binary)\n",
        "    plt.xticks(np.array([]))\n",
        "    plt.yticks(np.array([]))\n",
        "plt.show()"
      ],
      "execution_count": 30,
      "outputs": [
        {
          "output_type": "display_data",
          "data": {
            "image/png": "[encoded data removed]",
            "text/plain": [
              "<Figure size 720x720 with 10 Axes>"
            ]
          },
          "metadata": {
            "tags": []
          }
        },
        {
          "output_type": "display_data",
          "data": {
            "image/png": "[encoded data removed]",
            "text/plain": [
              "<Figure size 720x720 with 10 Axes>"
            ]
          },
          "metadata": {
            "tags": []
          }
        }
      ]
    },
    {
      "cell_type": "markdown",
      "metadata": {
        "colab_type": "text",
        "id": "zdHSvSh4v8r-"
      },
      "source": [
        "That's looks great, so now let's check with 256 levels."
      ]
    },
    {
      "cell_type": "code",
      "metadata": {
        "colab_type": "code",
        "id": "YJNxD5nOv6-a",
        "outputId": "ddeb245a-a7a2-4413-802b-1e77b7570950",
        "colab": {}
      },
      "source": [
        "# --------------------------------------------------------------------------------------------------------------\n",
        "# Quantise the input data in q levels\n",
        "q_levels = 256\n",
        "x_train_quantised = quantise(x_train, q_levels)\n",
        "x_test_quantised = quantise(x_test, q_levels)\n",
        "\n",
        "# --------------------------------------------------------------------------------------------------------------\n",
        "# Creating input stream using tf.data API\n",
        "batch_size = 128\n",
        "train_buf = 60000\n",
        "\n",
        "train_dataset = tf.data.Dataset.from_tensor_slices((x_train_quantised / (q_levels - 1),\n",
        "                                                    x_train_quantised.astype('int32')))\n",
        "train_dataset = train_dataset.shuffle(buffer_size=train_buf)\n",
        "train_dataset = train_dataset.batch(batch_size)\n",
        "\n",
        "test_dataset = tf.data.Dataset.from_tensor_slices((x_test_quantised / (q_levels - 1),\n",
        "                                                   x_test_quantised.astype('int32')))\n",
        "test_dataset = test_dataset.batch(batch_size)\n",
        "\n",
        "# --------------------------------------------------------------------------------------------------------------\n",
        "# Create PixelCNN model\n",
        "inputs = keras.layers.Input(shape=(height, width, n_channel))\n",
        "x = MaskedConv2D(mask_type='A', filters=128, kernel_size=7, strides=1)(inputs)\n",
        "\n",
        "for i in range(15):\n",
        "    x = ResidualBlock(h=64)(x)\n",
        "\n",
        "x = keras.layers.Activation(activation='relu')(x)\n",
        "x = keras.layers.Conv2D(filters=128, kernel_size=1, strides=1)(x)\n",
        "x = keras.layers.Activation(activation='relu')(x)\n",
        "x = keras.layers.Conv2D(filters=n_channel * q_levels, kernel_size=1, strides=1)(x)  # shape [N,H,W,DC]\n",
        "\n",
        "pixelcnn = tf.keras.Model(inputs=inputs, outputs=x)\n",
        "# --------------------------------------------------------------------------------------------------------------\n",
        "# Prepare optimizer and loss function\n",
        "lr_decay = 0.99995\n",
        "learning_rate = 1e-2\n",
        "optimizer = tf.keras.optimizers.Adam(lr=learning_rate)\n",
        "\n",
        "compute_loss = tf.keras.losses.CategoricalCrossentropy(from_logits=True)\n",
        "\n",
        "# --------------------------------------------------------------------------------------------------------------\n",
        "@tf.function\n",
        "def train_step(batch_x, batch_y):\n",
        "    with tf.GradientTape() as ae_tape:\n",
        "        logits = pixelcnn(batch_x, training=True)\n",
        "\n",
        "        logits = tf.reshape(logits, [-1, height, width, q_levels, n_channel])\n",
        "        logits = tf.transpose(logits, perm=[0, 1, 2, 4, 3])\n",
        "\n",
        "        loss = compute_loss(tf.one_hot(batch_y, q_levels), logits)\n",
        "\n",
        "    gradients = ae_tape.gradient(loss, pixelcnn.trainable_variables)\n",
        "    gradients, _ = tf.clip_by_global_norm(gradients, 1.0)\n",
        "    optimizer.apply_gradients(zip(gradients, pixelcnn.trainable_variables))\n",
        "\n",
        "    return loss\n",
        "\n",
        "# --------------------------------------------------------------------------------------------------------------\n",
        "# Training loop\n",
        "n_epochs = 150\n",
        "n_iter = int(np.ceil(x_train_quantised.shape[0] / batch_size))\n",
        "for epoch in range(n_epochs):\n",
        "    progbar = Progbar(n_iter)\n",
        "    print('Epoch {:}/{:}'.format(epoch+1, n_epochs))\n",
        "        \n",
        "    for i_iter, (batch_x, batch_y) in enumerate(train_dataset):\n",
        "        start = time.time()\n",
        "        optimizer.lr = optimizer.lr * lr_decay\n",
        "        loss = train_step(batch_x, batch_y)\n",
        "\n",
        "        progbar.add(1, values=[(\"loss\", loss)])\n",
        "# --------------------------------------------------------------------------------------------------------------\n",
        "# Test\n",
        "test_loss = []\n",
        "for batch_x, batch_y in test_dataset:\n",
        "    logits = pixelcnn(batch_x, training=False)\n",
        "    logits = tf.reshape(logits, [-1, height, width, q_levels, n_channel])\n",
        "    logits = tf.transpose(logits, perm=[0, 1, 2, 4, 3])\n",
        "\n",
        "    # Calculate cross-entropy (= negative log-likelihood)\n",
        "    loss = compute_loss(tf.one_hot(batch_y, q_levels), logits)\n",
        "\n",
        "    test_loss.append(loss)\n",
        "print('nll : {:} nats'.format(np.array(test_loss).mean()))\n",
        "print('bits/dim : {:}'.format(np.array(test_loss).mean() / (height * width)))\n"
      ],
      "execution_count": 0,
      "outputs": [
        {
          "output_type": "stream",
          "text": [
            "Epoch 1/150\n",
            "469/469 [==============================] - 79s 169ms/step - loss: 0.9489\n",
            "Epoch 2/150\n",
            "469/469 [==============================] - 71s 151ms/step - loss: 0.7708\n",
            "Epoch 3/150\n",
            "469/469 [==============================] - 71s 151ms/step - loss: 0.7571\n",
            "Epoch 4/150\n",
            "469/469 [==============================] - 71s 151ms/step - loss: 0.7483\n",
            "Epoch 5/150\n",
            "469/469 [==============================] - 71s 151ms/step - loss: 0.7411\n",
            "Epoch 6/150\n",
            "469/469 [==============================] - 71s 151ms/step - loss: 0.7358\n",
            "Epoch 7/150\n",
            "469/469 [==============================] - 71s 151ms/step - loss: 0.7287\n",
            "Epoch 8/150\n",
            "469/469 [==============================] - 71s 151ms/step - loss: 0.7217\n",
            "Epoch 9/150\n",
            "469/469 [==============================] - 71s 151ms/step - loss: 0.7175\n",
            "Epoch 10/150\n",
            "469/469 [==============================] - 71s 151ms/step - loss: 0.7114\n",
            "Epoch 11/150\n",
            "469/469 [==============================] - 71s 151ms/step - loss: 0.7103\n",
            "Epoch 12/150\n",
            "469/469 [==============================] - 71s 151ms/step - loss: 0.7059\n",
            "Epoch 13/150\n",
            "469/469 [==============================] - 71s 151ms/step - loss: 0.7017\n",
            "Epoch 14/150\n",
            "469/469 [==============================] - 71s 151ms/step - loss: 0.7021\n",
            "Epoch 15/150\n",
            "469/469 [==============================] - 71s 151ms/step - loss: 0.6971\n",
            "Epoch 16/150\n",
            "469/469 [==============================] - 71s 151ms/step - loss: 0.6965\n",
            "Epoch 17/150\n",
            "469/469 [==============================] - 71s 151ms/step - loss: 0.6947\n",
            "Epoch 18/150\n",
            "469/469 [==============================] - 71s 151ms/step - loss: 0.6934\n",
            "Epoch 19/150\n",
            "469/469 [==============================] - 71s 151ms/step - loss: 0.6913\n",
            "Epoch 20/150\n",
            "469/469 [==============================] - 71s 151ms/step - loss: 0.6853\n",
            "Epoch 21/150\n",
            "469/469 [==============================] - 71s 151ms/step - loss: 0.6888\n",
            "Epoch 22/150\n",
            "469/469 [==============================] - 71s 150ms/step - loss: 0.6838\n",
            "Epoch 23/150\n",
            "469/469 [==============================] - 71s 151ms/step - loss: 0.6787\n",
            "Epoch 24/150\n",
            "469/469 [==============================] - 71s 150ms/step - loss: 0.6788\n",
            "Epoch 25/150\n",
            "469/469 [==============================] - 71s 151ms/step - loss: 0.6912\n",
            "Epoch 26/150\n",
            "469/469 [==============================] - 71s 152ms/step - loss: 0.6700\n",
            "Epoch 27/150\n",
            "469/469 [==============================] - 71s 151ms/step - loss: 0.6682\n",
            "Epoch 28/150\n",
            "469/469 [==============================] - 71s 152ms/step - loss: 0.6799\n",
            "Epoch 29/150\n",
            "469/469 [==============================] - 71s 152ms/step - loss: 0.6729\n",
            "Epoch 30/150\n",
            "469/469 [==============================] - 71s 151ms/step - loss: 0.6889\n",
            "Epoch 31/150\n",
            "469/469 [==============================] - 71s 150ms/step - loss: 0.6664\n",
            "Epoch 32/150\n",
            "469/469 [==============================] - 71s 151ms/step - loss: 0.6650\n",
            "Epoch 33/150\n",
            "469/469 [==============================] - 71s 151ms/step - loss: 0.6819\n",
            "Epoch 34/150\n",
            "469/469 [==============================] - 71s 152ms/step - loss: 0.6699\n",
            "Epoch 35/150\n",
            "469/469 [==============================] - 71s 151ms/step - loss: 0.6724\n",
            "Epoch 36/150\n",
            "469/469 [==============================] - 71s 151ms/step - loss: 0.6752\n",
            "Epoch 37/150\n",
            "469/469 [==============================] - 71s 151ms/step - loss: 0.6667\n",
            "Epoch 38/150\n",
            "469/469 [==============================] - 71s 151ms/step - loss: 0.6720\n",
            "Epoch 39/150\n",
            "469/469 [==============================] - 71s 151ms/step - loss: 0.6697\n",
            "Epoch 40/150\n",
            "469/469 [==============================] - 71s 151ms/step - loss: 0.6732\n",
            "Epoch 41/150\n",
            "469/469 [==============================] - 71s 151ms/step - loss: 0.6676\n",
            "Epoch 42/150\n",
            "469/469 [==============================] - 71s 151ms/step - loss: 0.6655\n",
            "Epoch 43/150\n",
            "469/469 [==============================] - 71s 151ms/step - loss: 0.6599\n",
            "Epoch 44/150\n",
            "469/469 [==============================] - 71s 151ms/step - loss: 0.6598\n",
            "Epoch 45/150\n",
            "469/469 [==============================] - 71s 151ms/step - loss: 0.6706\n",
            "Epoch 46/150\n",
            "469/469 [==============================] - 71s 152ms/step - loss: 0.6612\n",
            "Epoch 47/150\n",
            "469/469 [==============================] - 71s 151ms/step - loss: 0.6711\n",
            "Epoch 48/150\n",
            "469/469 [==============================] - 71s 152ms/step - loss: 0.6501\n",
            "Epoch 49/150\n",
            "469/469 [==============================] - 71s 151ms/step - loss: 0.6542\n",
            "Epoch 50/150\n",
            "469/469 [==============================] - 71s 152ms/step - loss: 0.6486\n",
            "Epoch 51/150\n",
            "469/469 [==============================] - 71s 152ms/step - loss: 0.6668\n",
            "Epoch 52/150\n",
            "469/469 [==============================] - 71s 151ms/step - loss: 0.6633\n",
            "Epoch 53/150\n",
            "469/469 [==============================] - 71s 151ms/step - loss: 0.6597\n",
            "Epoch 54/150\n",
            "469/469 [==============================] - 71s 151ms/step - loss: 0.6651\n",
            "Epoch 55/150\n",
            "469/469 [==============================] - 71s 152ms/step - loss: 0.6492\n",
            "Epoch 56/150\n",
            "469/469 [==============================] - 71s 152ms/step - loss: 0.6546\n",
            "Epoch 57/150\n",
            "469/469 [==============================] - 71s 151ms/step - loss: 0.6655\n",
            "Epoch 58/150\n",
            "469/469 [==============================] - 71s 152ms/step - loss: 0.6600\n",
            "Epoch 59/150\n",
            "469/469 [==============================] - 71s 152ms/step - loss: 0.6463\n",
            "Epoch 60/150\n",
            "469/469 [==============================] - 71s 151ms/step - loss: 0.6457\n",
            "Epoch 61/150\n",
            "469/469 [==============================] - 71s 152ms/step - loss: 0.6593\n",
            "Epoch 62/150\n",
            "469/469 [==============================] - 71s 152ms/step - loss: 0.6432\n",
            "Epoch 63/150\n",
            "469/469 [==============================] - 71s 152ms/step - loss: 0.6522\n",
            "Epoch 64/150\n",
            "469/469 [==============================] - 71s 152ms/step - loss: 0.6551\n",
            "Epoch 65/150\n",
            "469/469 [==============================] - 71s 151ms/step - loss: 0.6569\n",
            "Epoch 66/150\n",
            "469/469 [==============================] - 71s 151ms/step - loss: 0.6458\n",
            "Epoch 67/150\n",
            "469/469 [==============================] - 71s 151ms/step - loss: 0.6414\n",
            "Epoch 68/150\n",
            "469/469 [==============================] - 71s 152ms/step - loss: 0.6495\n",
            "Epoch 69/150\n",
            "469/469 [==============================] - 71s 152ms/step - loss: 0.6414\n",
            "Epoch 70/150\n",
            "469/469 [==============================] - 71s 151ms/step - loss: 0.6481\n",
            "Epoch 71/150\n",
            "469/469 [==============================] - 71s 151ms/step - loss: 0.6469\n",
            "Epoch 72/150\n",
            "469/469 [==============================] - 71s 151ms/step - loss: 0.6467\n",
            "Epoch 73/150\n",
            "469/469 [==============================] - 71s 152ms/step - loss: 0.6476\n",
            "Epoch 74/150\n",
            "469/469 [==============================] - 71s 152ms/step - loss: 0.6447\n",
            "Epoch 75/150\n",
            "469/469 [==============================] - 71s 151ms/step - loss: 0.6477\n",
            "Epoch 76/150\n",
            "469/469 [==============================] - 71s 152ms/step - loss: 0.6306\n",
            "Epoch 77/150\n",
            "469/469 [==============================] - 71s 152ms/step - loss: 0.6292\n",
            "Epoch 78/150\n",
            "469/469 [==============================] - 71s 152ms/step - loss: 0.6417\n",
            "Epoch 79/150\n",
            "469/469 [==============================] - 71s 151ms/step - loss: 0.6296\n",
            "Epoch 80/150\n",
            "469/469 [==============================] - 71s 152ms/step - loss: 0.6390\n",
            "Epoch 81/150\n",
            "469/469 [==============================] - 71s 152ms/step - loss: 0.6330\n",
            "Epoch 82/150\n",
            "469/469 [==============================] - 71s 151ms/step - loss: 0.6241\n",
            "Epoch 83/150\n",
            "469/469 [==============================] - 71s 152ms/step - loss: 0.6209\n",
            "Epoch 84/150\n",
            "469/469 [==============================] - 71s 151ms/step - loss: 0.6379\n",
            "Epoch 85/150\n",
            "469/469 [==============================] - 71s 151ms/step - loss: 0.6255\n",
            "Epoch 86/150\n",
            "469/469 [==============================] - 71s 152ms/step - loss: 0.6187\n",
            "Epoch 87/150\n",
            "469/469 [==============================] - 71s 152ms/step - loss: 0.6271\n",
            "Epoch 88/150\n",
            "469/469 [==============================] - 71s 151ms/step - loss: 0.6177\n",
            "Epoch 89/150\n",
            "469/469 [==============================] - 71s 152ms/step - loss: 0.6157\n",
            "Epoch 90/150\n",
            "469/469 [==============================] - 71s 151ms/step - loss: 0.6230\n",
            "Epoch 91/150\n",
            "469/469 [==============================] - 71s 152ms/step - loss: 0.6142\n",
            "Epoch 92/150\n",
            "469/469 [==============================] - 71s 151ms/step - loss: 0.6148\n",
            "Epoch 93/150\n",
            "469/469 [==============================] - 71s 151ms/step - loss: 0.6137\n",
            "Epoch 94/150\n",
            "469/469 [==============================] - 71s 151ms/step - loss: 0.6170\n",
            "Epoch 95/150\n",
            "469/469 [==============================] - 71s 152ms/step - loss: 0.6129\n",
            "Epoch 96/150\n"
          ],
          "name": "stdout"
        },
        {
          "output_type": "stream",
          "text": [
            "469/469 [==============================] - 71s 151ms/step - loss: 0.6128\n",
            "Epoch 97/150\n",
            "469/469 [==============================] - 71s 151ms/step - loss: 0.6154\n",
            "Epoch 98/150\n",
            "469/469 [==============================] - 71s 151ms/step - loss: 0.6121\n",
            "Epoch 99/150\n",
            "469/469 [==============================] - 71s 152ms/step - loss: 0.6118\n",
            "Epoch 100/150\n",
            "469/469 [==============================] - 71s 151ms/step - loss: 0.6114\n",
            "Epoch 101/150\n",
            "469/469 [==============================] - 71s 151ms/step - loss: 0.6112\n",
            "Epoch 102/150\n",
            "469/469 [==============================] - 71s 151ms/step - loss: 0.6124\n",
            "Epoch 103/150\n",
            "469/469 [==============================] - 71s 151ms/step - loss: 0.6118\n",
            "Epoch 104/150\n",
            "469/469 [==============================] - 71s 152ms/step - loss: 0.6101\n",
            "Epoch 105/150\n",
            "469/469 [==============================] - 71s 152ms/step - loss: 0.6111\n",
            "Epoch 106/150\n",
            "469/469 [==============================] - 71s 151ms/step - loss: 0.6097\n",
            "Epoch 107/150\n",
            "469/469 [==============================] - 71s 151ms/step - loss: 0.6091\n",
            "Epoch 108/150\n",
            "469/469 [==============================] - 71s 152ms/step - loss: 0.6089\n",
            "Epoch 109/150\n",
            "469/469 [==============================] - 71s 151ms/step - loss: 0.6087\n",
            "Epoch 110/150\n",
            "469/469 [==============================] - 71s 152ms/step - loss: 0.6083\n",
            "Epoch 111/150\n",
            "469/469 [==============================] - 71s 152ms/step - loss: 0.6082\n",
            "Epoch 112/150\n",
            "469/469 [==============================] - 71s 151ms/step - loss: 0.6078\n",
            "Epoch 113/150\n",
            "469/469 [==============================] - 71s 152ms/step - loss: 0.6077\n",
            "Epoch 114/150\n",
            "469/469 [==============================] - 71s 151ms/step - loss: 0.6074\n",
            "Epoch 115/150\n",
            "469/469 [==============================] - 71s 151ms/step - loss: 0.6072\n",
            "Epoch 116/150\n",
            "469/469 [==============================] - 71s 151ms/step - loss: 0.6076\n",
            "Epoch 117/150\n",
            "469/469 [==============================] - 71s 152ms/step - loss: 0.6068\n",
            "Epoch 118/150\n",
            "469/469 [==============================] - 71s 151ms/step - loss: 0.6066\n",
            "Epoch 119/150\n",
            "469/469 [==============================] - 71s 151ms/step - loss: 0.6065\n",
            "Epoch 120/150\n",
            "469/469 [==============================] - 71s 152ms/step - loss: 0.6067\n",
            "Epoch 121/150\n",
            "469/469 [==============================] - 71s 151ms/step - loss: 0.6062\n",
            "Epoch 122/150\n",
            "469/469 [==============================] - 71s 151ms/step - loss: 0.6060\n",
            "Epoch 123/150\n",
            "469/469 [==============================] - 71s 152ms/step - loss: 0.6059\n",
            "Epoch 124/150\n",
            "469/469 [==============================] - 71s 152ms/step - loss: 0.6057\n",
            "Epoch 125/150\n",
            "469/469 [==============================] - 71s 152ms/step - loss: 0.6055\n",
            "Epoch 126/150\n",
            "469/469 [==============================] - 71s 152ms/step - loss: 0.6054\n",
            "Epoch 127/150\n",
            "469/469 [==============================] - 71s 152ms/step - loss: 0.6053\n",
            "Epoch 128/150\n",
            "469/469 [==============================] - 71s 152ms/step - loss: 0.6052\n",
            "Epoch 129/150\n",
            "469/469 [==============================] - 71s 151ms/step - loss: 0.6050\n",
            "Epoch 130/150\n",
            "469/469 [==============================] - 71s 151ms/step - loss: 0.6048\n",
            "Epoch 131/150\n",
            "469/469 [==============================] - 71s 151ms/step - loss: 0.6047\n",
            "Epoch 132/150\n",
            "469/469 [==============================] - 71s 152ms/step - loss: 0.6046\n",
            "Epoch 133/150\n",
            "469/469 [==============================] - 71s 151ms/step - loss: 0.6045\n",
            "Epoch 134/150\n",
            "469/469 [==============================] - 71s 151ms/step - loss: 0.6045\n",
            "Epoch 135/150\n",
            "469/469 [==============================] - 71s 151ms/step - loss: 0.6042\n",
            "Epoch 136/150\n",
            "469/469 [==============================] - 71s 151ms/step - loss: 0.6041\n",
            "Epoch 137/150\n",
            "469/469 [==============================] - 71s 152ms/step - loss: 0.6040\n",
            "Epoch 138/150\n",
            "469/469 [==============================] - 71s 151ms/step - loss: 0.6039\n",
            "Epoch 139/150\n",
            "469/469 [==============================] - 71s 151ms/step - loss: 0.6038\n",
            "Epoch 140/150\n",
            "469/469 [==============================] - 71s 151ms/step - loss: 0.6037\n",
            "Epoch 141/150\n",
            "469/469 [==============================] - 71s 152ms/step - loss: 0.6036\n",
            "Epoch 142/150\n",
            "469/469 [==============================] - 71s 151ms/step - loss: 0.6035\n",
            "Epoch 143/150\n",
            "469/469 [==============================] - 71s 151ms/step - loss: 0.6034\n",
            "Epoch 144/150\n",
            "469/469 [==============================] - 71s 151ms/step - loss: 0.6033\n",
            "Epoch 145/150\n",
            "469/469 [==============================] - 71s 152ms/step - loss: 0.6033\n",
            "Epoch 146/150\n",
            "469/469 [==============================] - 71s 151ms/step - loss: 0.6032\n",
            "Epoch 147/150\n",
            "469/469 [==============================] - 71s 151ms/step - loss: 0.6031\n",
            "Epoch 148/150\n",
            "469/469 [==============================] - 71s 152ms/step - loss: 0.6030\n",
            "Epoch 149/150\n",
            "469/469 [==============================] - 71s 151ms/step - loss: 0.6029\n",
            "Epoch 150/150\n",
            "469/469 [==============================] - 71s 151ms/step - loss: 0.6028\n",
            "nll : 0.6050515174865723 nats\n",
            "bits/dim : 0.0007717493845491993\n"
          ],
          "name": "stdout"
        }
      ]
    },
    {
      "cell_type": "code",
      "metadata": {
        "colab_type": "code",
        "id": "DgPsdpIxwe5X",
        "outputId": "55d5021b-9ca0-4542-a952-ef72afe83a31",
        "colab": {}
      },
      "source": [
        "# --------------------------------------------------------------------------------------------------------------\n",
        "# Generating new images\n",
        "samples = np.zeros((100, height, width, n_channel), dtype='float32')\n",
        "for i in range(height):\n",
        "    for j in range(width):\n",
        "        logits = pixelcnn(samples)\n",
        "        logits = tf.reshape(logits, [-1, height, width, q_levels, n_channel])\n",
        "        logits = tf.transpose(logits, perm=[0, 1, 2, 4, 3])\n",
        "        next_sample = tf.random.categorical(logits[:, i, j, 0, :], 1)\n",
        "        samples[:, i, j, 0] = (next_sample.numpy() / (q_levels - 1))[:,0]\n",
        "\n",
        "fig = plt.figure(figsize=(10, 10))\n",
        "for i in range(100):\n",
        "    ax = fig.add_subplot(10, 10, i+1)\n",
        "    ax.matshow(samples[i, :, :, 0], cmap=matplotlib.cm.binary)\n",
        "    plt.xticks(np.array([]))\n",
        "    plt.yticks(np.array([]))\n",
        "plt.show()\n"
      ],
      "execution_count": 0,
      "outputs": [
        {
          "output_type": "display_data",
          "data": {
            "image/png": "[encoded data removed]",
            "text/plain": [
              "<Figure size 720x720 with 100 Axes>"
            ]
          },
          "metadata": {
            "tags": []
          }
        }
      ]
    },
    {
      "cell_type": "code",
      "metadata": {
        "colab_type": "code",
        "id": "nD9V7ANUwgIg",
        "outputId": "da09bc1c-0117-4c09-cabb-8b327905cf2d",
        "colab": {}
      },
      "source": [
        "# --------------------------------------------------------------------------------------------------------------\n",
        "# Filling occluded images\n",
        "occlude_start_row = 14\n",
        "num_generated_images = 10\n",
        "samples = np.copy(x_test_quantised[0:num_generated_images, :, :, :])\n",
        "samples = samples / (q_levels - 1)\n",
        "samples[:, occlude_start_row:, :, :] = 0\n",
        "\n",
        "fig = plt.figure(figsize=(10, 10))\n",
        "\n",
        "for i in range(10):\n",
        "    ax = fig.add_subplot(1, 10, i+1)\n",
        "    ax.matshow(samples[i, :, :, 0], cmap=matplotlib.cm.binary)\n",
        "    plt.xticks(np.array([]))\n",
        "    plt.yticks(np.array([]))\n",
        "\n",
        "for i in range(occlude_start_row, height):\n",
        "    for j in range(width):\n",
        "        logits = pixelcnn(samples)\n",
        "        logits = tf.reshape(logits, [-1, height, width, q_levels, n_channel])\n",
        "        logits = tf.transpose(logits, perm=[0, 1, 2, 4, 3])\n",
        "        next_sample = tf.random.categorical(logits[:, i, j, 0, :], 1)\n",
        "        samples[:, i, j, 0] = (next_sample.numpy() / (q_levels - 1))[:,0]\n",
        "    \n",
        "fig = plt.figure(figsize=(10, 10))\n",
        "\n",
        "for i in range(10):\n",
        "    ax = fig.add_subplot(1, 10, i+1)\n",
        "    ax.matshow(samples[i, :, :, 0], cmap=matplotlib.cm.binary)\n",
        "    plt.xticks(np.array([]))\n",
        "    plt.yticks(np.array([]))\n",
        "plt.show()"
      ],
      "execution_count": 0,
      "outputs": [
        {
          "output_type": "display_data",
          "data": {
            "image/png": "[encoded data removed]",
            "text/plain": [
              "<Figure size 720x720 with 10 Axes>"
            ]
          },
          "metadata": {
            "tags": []
          }
        },
        {
          "output_type": "display_data",
          "data": {
            "image/png": "[encoded data removed]",
            "text/plain": [
              "<Figure size 720x720 with 10 Axes>"
            ]
          },
          "metadata": {
            "tags": []
          }
        }
      ]
    },
    {
      "cell_type": "code",
      "metadata": {
        "id": "6t8lQsn18gzj",
        "colab_type": "code",
        "colab": {}
      },
      "source": [
        ""
      ],
      "execution_count": 0,
      "outputs": []
    }
  ]
}