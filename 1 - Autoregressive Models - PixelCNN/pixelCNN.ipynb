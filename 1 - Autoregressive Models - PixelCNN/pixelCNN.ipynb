{
 "cells": [
  {
   "cell_type": "markdown",
   "metadata": {
    "colab_type": "text",
    "id": "bU25WyouYYE3"
   },
   "source": [
    "# Autoregressive Models - PixelCNN\n",
    "\n",
    "The autoregressive models are generative models that provides an explicit parametric specification of a likelihood function of a variable by specifying it with its parameters. However, to model data that have several dimensions/features, autoregressive models need to define some constraints. First, the observation space X need to have a determining ordering for its features. Second, to tractably model the joint distribution of the features in a data observation ($p(x)$), the autoregressive approach cast $p(x)$ as a product of conditional distributions. Autoregressive models define the joint distribution using conditionals over each feature given the values of the previous features. This way, autoregressive models use the chain rule to decompose the likelihood of the data sample x into a product of 1-dimensional distributions. The factorization turns the joint modelling problem into a sequence problem, where one learns to predict the next pixel given all the previously generated pixels.\n",
    "\n",
    "<center><img src=\"https://github.com/Mind-the-Pineapple/Autoregressive-models/blob/master/1%20-%20Autoregressive%20Models%20-%20PixelCNN/figures/Figure3.png?raw=1\" width=\"250\"  align=\"middle\"></center>\n",
    "\n",
    "\n",
    "## PixelCNN\n",
    "PixelCNN was introduced by DeepMind in 2016 (Oord et al, 2016) and it started one of the most promising families of autoregressive generative models. PixelCNN is a deep neural network that captures the distribution of dependencies between pixels in the parameters. It sequentially generates one pixel at a time in an image along the two spatial dimensions.\n"
   ]
  },
  {
   "cell_type": "markdown",
   "metadata": {
    "colab_type": "text",
    "id": "10r26ZgidIb5"
   },
   "source": [
    "In this implementation, we used the new Tensorflow 2.0 framework. In the first step we install and import the code dependencies."
   ]
  },
  {
   "cell_type": "code",
   "execution_count": null,
   "metadata": {
    "colab": {
     "base_uri": "https://localhost:8080/",
     "height": 34
    },
    "colab_type": "code",
    "executionInfo": {
     "elapsed": 1631,
     "status": "ok",
     "timestamp": 1584537670482,
     "user": {
      "displayName": "",
      "photoUrl": "",
      "userId": ""
     },
     "user_tz": 0
    },
    "id": "f25me9_Wpg3A",
    "outputId": "eca9ffe4-5e6e-4894-e7ee-f27ec303e913",
    "pycharm": {
     "name": "#%%\n"
    }
   },
   "outputs": [],
   "source": [
    "%tensorflow_version 2.x"
   ]
  },
  {
   "cell_type": "code",
   "execution_count": 1,
   "metadata": {
    "colab": {},
    "colab_type": "code",
    "id": "Syt9hLISPC1p"
   },
   "outputs": [],
   "source": [
    "import random as rn\n",
    "\n",
    "import matplotlib\n",
    "import matplotlib.pyplot as plt\n",
    "import numpy as np\n",
    "import tensorflow as tf\n",
    "from tensorflow import keras\n",
    "from tensorflow import nn\n",
    "from tensorflow.keras import initializers\n",
    "from tensorflow.keras.utils import Progbar"
   ]
  },
  {
   "cell_type": "markdown",
   "metadata": {
    "colab_type": "text",
    "id": "FpYcifvjdbaA",
    "pycharm": {
     "name": "#%% md\n"
    }
   },
   "source": [
    "Then, we define the random seeds to have reproducible results and we load the MNIST dataset to train the PixelCNN."
   ]
  },
  {
   "cell_type": "code",
   "execution_count": 2,
   "metadata": {
    "colab": {},
    "colab_type": "code",
    "id": "JB9UVlLzPWI_",
    "pycharm": {
     "name": "#%%\n"
    }
   },
   "outputs": [],
   "source": [
    "# Defining random seeds\n",
    "random_seed = 42\n",
    "tf.random.set_seed(random_seed)\n",
    "np.random.seed(random_seed)\n",
    "rn.seed(random_seed)"
   ]
  },
  {
   "cell_type": "code",
   "execution_count": 3,
   "metadata": {
    "colab": {
     "base_uri": "https://localhost:8080/",
     "height": 51
    },
    "colab_type": "code",
    "executionInfo": {
     "elapsed": 3919,
     "status": "ok",
     "timestamp": 1584537672787,
     "user": {
      "displayName": "",
      "photoUrl": "",
      "userId": ""
     },
     "user_tz": 0
    },
    "id": "iLud0DUePdyI",
    "outputId": "5bed67c0-0fea-4784-f8d7-24bbaf290aa4"
   },
   "outputs": [],
   "source": [
    "# Loading data\n",
    "(x_train, y_train), (x_test, y_test) = keras.datasets.mnist.load_data()\n",
    "\n",
    "height = 28\n",
    "width = 28\n",
    "n_channel = 1\n",
    "\n",
    "x_train = x_train.astype('float32') / 255.\n",
    "x_test = x_test.astype('float32') / 255.\n",
    "\n",
    "x_train = x_train.reshape(x_train.shape[0], height, width, n_channel)\n",
    "x_test = x_test.reshape(x_test.shape[0], height, width, n_channel)"
   ]
  },
  {
   "cell_type": "markdown",
   "metadata": {
    "colab_type": "text",
    "id": "LnT0tbiyduyN",
    "pycharm": {
     "name": "#%% md\n"
    }
   },
   "source": [
    "In this example, to make the probability distribution of a single pixel easier to be defined, we decide to quantitise the number of possible values that a pixel could have. Originally, in the MNIST dataset the pixels are represented by a uint8 variable, beeing able assume values between [0, 255]. In this example, we restrict the image to have only 2 different values ([0, 1])."
   ]
  },
  {
   "cell_type": "code",
   "execution_count": 4,
   "metadata": {
    "colab": {},
    "colab_type": "code",
    "id": "gwfeosbzPOeo",
    "pycharm": {
     "name": "#%%\n"
    }
   },
   "outputs": [],
   "source": [
    "def quantise(images, q_levels):\n",
    "    \"\"\"Quantise image into q levels\"\"\"\n",
    "    return (np.digitize(images, np.arange(q_levels) / q_levels) - 1).astype('float32')"
   ]
  },
  {
   "cell_type": "code",
   "execution_count": 5,
   "metadata": {
    "colab": {},
    "colab_type": "code",
    "id": "8h806UxIPkKr"
   },
   "outputs": [],
   "source": [
    "# Quantise the input data in q levels\n",
    "q_levels = 2\n",
    "x_train_quantised = quantise(x_train, q_levels)\n",
    "x_test_quantised = quantise(x_test, q_levels)"
   ]
  },
  {
   "cell_type": "markdown",
   "metadata": {
    "colab_type": "text",
    "id": "3twbZSiGfBQP",
    "pycharm": {
     "name": "#%% md\n"
    }
   },
   "source": [
    "Using the tensorflow.Data API, we defined the input data streams for our model during the training and the evaluation. In these dataset, we define the inputs as the images with 2 levels normalized to be between [0, 1] and the target values are the categoricals pixels values between [0, 1]."
   ]
  },
  {
   "cell_type": "code",
   "execution_count": 6,
   "metadata": {
    "colab": {},
    "colab_type": "code",
    "id": "eQrNmco9Pxzo",
    "pycharm": {
     "name": "#%%\n"
    }
   },
   "outputs": [],
   "source": [
    "# Creating input stream using tf.data API\n",
    "batch_size = 256\n",
    "train_buf = 60000\n",
    "\n",
    "train_dataset = tf.data.Dataset.from_tensor_slices((x_train_quantised / (q_levels - 1),\n",
    "                                                    x_train_quantised.astype('int32')))\n",
    "train_dataset = train_dataset.shuffle(buffer_size=train_buf)\n",
    "train_dataset = train_dataset.batch(batch_size)\n",
    "\n",
    "test_dataset = tf.data.Dataset.from_tensor_slices((x_test_quantised / (q_levels - 1),\n",
    "                                                   x_test_quantised.astype('int32')))\n",
    "test_dataset = test_dataset.batch(batch_size)"
   ]
  },
  {
   "cell_type": "markdown",
   "metadata": {
    "colab_type": "text",
    "id": "uGUFT_0eZGIY",
    "pycharm": {
     "name": "#%% md\n"
    }
   },
   "source": [
    "## Masked Convolutions\n",
    "\n",
    "When using the convolution operations, PixelCNN can parallelly learn the distribution of all pixels in the image. However, the receptive field of a standard convolutional violates the sequential prediction of autoregressive models. When processing the data of a central pixel, the convolutional filter considers all the pixels around it to calculate the output feature map, not only the previous pixels. \n",
    "\n",
    "To solve this problem, **masks** are adopted to block information flow from the future pixels.\n",
    "\n",
    "Masking can be done by zeroing out all the pixels that should not be considered. In our implementation, a mask with the same size to the convolutional filter with values 1 and 0 was created. This mask was multiplied with the weight tensor before doing the convolution operation.\n",
    "\n",
    "In the pixelCNN, there are two types of masks: type A and type B.\n",
    "\n",
    "*\t**Mask A**: this mask is applied only to the first convolutional layer. It restricts access to the pixel of interest by zeroing the center pixel in mask. This way, we guarantee model will not access the pixel that it is about to predict. \n",
    "\n",
    "*\t**Mask B**: This mask is applied to all the subsequent convolutional layers and relaxes the restrictions of mask A by allowing the connection from a pixel to itself. \n",
    "\n",
    "Below, we have the masks defined inside a keras layer named MaskedConv2D. In this layer, besides the parameters weigths and bias, we have the constant mask defining the pixels to be zeroed and the type of mask (A or B) (Lines 60 to 66).\n",
    "\n",
    "Finally, the mask is applied before the convolution (Line 69).\n"
   ]
  },
  {
   "cell_type": "code",
   "execution_count": 7,
   "metadata": {
    "colab": {},
    "colab_type": "code",
    "id": "qxhdp6wqPESj",
    "pycharm": {
     "name": "#%%\n"
    }
   },
   "outputs": [],
   "source": [
    "class MaskedConv2D(keras.layers.Layer):\n",
    "    \"\"\"Convolutional layers with masks.\n",
    "\n",
    "    Convolutional layers with simple implementation of masks type A and B for\n",
    "    autoregressive models.\n",
    "\n",
    "    Arguments:\n",
    "    mask_type: one of `\"A\"` or `\"B\".`\n",
    "    filters: Integer, the dimensionality of the output space\n",
    "        (i.e. the number of output filters in the convolution).\n",
    "    kernel_size: An integer or tuple/list of 2 integers, specifying the\n",
    "        height and width of the 2D convolution window.\n",
    "        Can be a single integer to specify the same value for\n",
    "        all spatial dimensions.\n",
    "    strides: An integer or tuple/list of 2 integers,\n",
    "        specifying the strides of the convolution along the height and width.\n",
    "        Can be a single integer to specify the same value for\n",
    "        all spatial dimensions.\n",
    "        Specifying any stride value != 1 is incompatible with specifying\n",
    "        any `dilation_rate` value != 1.\n",
    "    padding: one of `\"valid\"` or `\"same\"` (case-insensitive).\n",
    "    kernel_initializer: Initializer for the `kernel` weights matrix.\n",
    "    bias_initializer: Initializer for the bias vector.\n",
    "    \"\"\"\n",
    "\n",
    "    def __init__(self,\n",
    "                 mask_type,\n",
    "                 filters,\n",
    "                 kernel_size,\n",
    "                 strides=1,\n",
    "                 padding='same',\n",
    "                 kernel_initializer='glorot_uniform',\n",
    "                 bias_initializer='zeros'):\n",
    "        super(MaskedConv2D, self).__init__()\n",
    "\n",
    "        assert mask_type in {'A', 'B'}\n",
    "        self.mask_type = mask_type\n",
    "\n",
    "        self.filters = filters\n",
    "        self.kernel_size = kernel_size\n",
    "        self.strides = strides\n",
    "        self.padding = padding.upper()\n",
    "        self.kernel_initializer = initializers.get(kernel_initializer)\n",
    "        self.bias_initializer = initializers.get(bias_initializer)\n",
    "\n",
    "    def build(self, input_shape):\n",
    "        self.kernel = self.add_weight('kernel',\n",
    "                                      shape=(self.kernel_size,\n",
    "                                             self.kernel_size,\n",
    "                                             int(input_shape[-1]),\n",
    "                                             self.filters),\n",
    "                                      initializer=self.kernel_initializer,\n",
    "                                      trainable=True)\n",
    "\n",
    "        self.bias = self.add_weight('bias',\n",
    "                                    shape=(self.filters,),\n",
    "                                    initializer=self.bias_initializer,\n",
    "                                    trainable=True)\n",
    "\n",
    "        center = self.kernel_size // 2\n",
    "\n",
    "        mask = np.ones(self.kernel.shape, dtype=np.float32)\n",
    "        mask[center, center + (self.mask_type == 'B'):, :, :] = 0.\n",
    "        mask[center + 1:, :, :, :] = 0.\n",
    "\n",
    "        self.mask = tf.constant(mask, dtype=tf.float32, name='mask')\n",
    "\n",
    "    def call(self, input):\n",
    "        masked_kernel = tf.math.multiply(self.mask, self.kernel)\n",
    "        x = nn.conv2d(input,\n",
    "                      masked_kernel,\n",
    "                      strides=[1, self.strides, self.strides, 1],\n",
    "                      padding=self.padding)\n",
    "        x = nn.bias_add(x, self.bias)\n",
    "        return x"
   ]
  },
  {
   "cell_type": "markdown",
   "metadata": {
    "colab_type": "text",
    "id": "LoCfR38cZKDC",
    "pycharm": {
     "name": "#%% md\n"
    }
   },
   "source": [
    "## Residual blocks\n",
    "\n",
    "Another element that compose the PixelCNN architecture is the residual blocks."
   ]
  },
  {
   "cell_type": "code",
   "execution_count": 8,
   "metadata": {
    "colab": {},
    "colab_type": "code",
    "id": "vzvk2UL5PI6k",
    "pycharm": {
     "name": "#%%\n"
    }
   },
   "outputs": [],
   "source": [
    "class ResidualBlock(keras.Model):\n",
    "    \"\"\"Residual blocks that compose pixelCNN\n",
    "\n",
    "    Blocks of layers with 3 convolutional layers and one residual connection.\n",
    "    Based on Figure 5 from [1] where h indicates number of filters.\n",
    "\n",
    "    Refs:\n",
    "    [1] - Oord, A. V. D., Kalchbrenner, N., & Kavukcuoglu, K. (2016). Pixel recurrent\n",
    "    neural networks. arXiv preprint arXiv:1601.06759.\n",
    "    \"\"\"\n",
    "\n",
    "    def __init__(self, h):\n",
    "        super(ResidualBlock, self).__init__(name='')\n",
    "\n",
    "        self.conv2a = keras.layers.Conv2D(filters=h, kernel_size=1, strides=1)\n",
    "        self.conv2b = MaskedConv2D(mask_type='B', filters=h, kernel_size=3, strides=1)\n",
    "        self.conv2c = keras.layers.Conv2D(filters=2 * h, kernel_size=1, strides=1)\n",
    "\n",
    "    def call(self, input_tensor):\n",
    "        x = nn.relu(input_tensor)\n",
    "        x = self.conv2a(x)\n",
    "\n",
    "        x = nn.relu(x)\n",
    "        x = self.conv2b(x)\n",
    "\n",
    "        x = nn.relu(x)\n",
    "        x = self.conv2c(x)\n",
    "\n",
    "        x += input_tensor\n",
    "        return x"
   ]
  },
  {
   "cell_type": "markdown",
   "metadata": {
    "colab_type": "text",
    "id": "e5aGeua5ZNzz",
    "pycharm": {
     "name": "#%% md\n"
    }
   },
   "source": [
    "## PixelCNN architecture\n",
    "\n",
    "In Oord et al. 2016, the PixelCNN uses the following architecture.\n",
    "\n",
    "<center><img src=\"https://github.com/Mind-the-Pineapple/Autoregressive-models/blob/master/1%20-%20Autoregressive%20Models%20-%20PixelCNN/figures/Figure5_Architecture.png?raw=1\" width=\"700\"></center>\n",
    "\n",
    "The first layer is a masked convolution (type A) with 7x7 filters. Then, 15 residual blocks were used. Each block processes the data with a combination of 3x3 layers convolutional layers with mask type B and 1x1 standard convolutional layers. Between each convolutional layer there is also a non-linearity ReLU. After these layers, a residual connection is added. Finally, the network has a sequence of RELU-CONV-RELU-CONV using standard convolutional layers, where both have 1x1 filters. Then, the output layer is a softmax layer which predicts the value among all possible values of a pixel (the output softmax layer is omitted in our network). So, this softmax layer had the image dimension (because we want an output value for each pixel) times the number of possible values (for example, 256 pixels values)."
   ]
  },
  {
   "cell_type": "code",
   "execution_count": 9,
   "metadata": {
    "colab": {},
    "colab_type": "code",
    "id": "F7jBV3YUP7WB",
    "pycharm": {
     "name": "#%%\n"
    }
   },
   "outputs": [],
   "source": [
    "# Create PixelCNN model\n",
    "inputs = keras.layers.Input(shape=(height, width, n_channel))\n",
    "x = MaskedConv2D(mask_type='A', filters=128, kernel_size=7, strides=1)(inputs)\n",
    "\n",
    "for i in range(15):\n",
    "    x = ResidualBlock(h=64)(x)\n",
    "\n",
    "x = keras.layers.Activation(activation='relu')(x)\n",
    "x = keras.layers.Conv2D(filters=128, kernel_size=1, strides=1)(x)\n",
    "x = keras.layers.Activation(activation='relu')(x)\n",
    "x = keras.layers.Conv2D(filters=q_levels, kernel_size=1, strides=1)(x)\n",
    "\n",
    "pixelcnn = keras.Model(inputs=inputs, outputs=x)"
   ]
  },
  {
   "cell_type": "markdown",
   "metadata": {
    "colab_type": "text",
    "id": "gQ5d_FaDh9gY",
    "pycharm": {
     "name": "#%% md\n"
    }
   },
   "source": [
    "In this implementation we use a simple Adam optimizer with learning rate decay to train the neural network. The loss function is defined by the cross-entropy (that in this case is equivalent to minimizing the negative log-likelihood of the training data)."
   ]
  },
  {
   "cell_type": "code",
   "execution_count": 10,
   "metadata": {
    "colab": {},
    "colab_type": "code",
    "id": "ChbH5SB4P-k1",
    "pycharm": {
     "name": "#%%\n"
    }
   },
   "outputs": [],
   "source": [
    "# Prepare optimizer and loss function\n",
    "lr_decay = 0.999995\n",
    "learning_rate = 1e-3\n",
    "optimizer = keras.optimizers.Adam(lr=learning_rate)\n",
    "\n",
    "compute_loss = keras.losses.CategoricalCrossentropy(from_logits=True)"
   ]
  },
  {
   "cell_type": "markdown",
   "metadata": {
    "colab_type": "text",
    "id": "nQRb1AD8iV4S",
    "pycharm": {
     "name": "#%% md\n"
    }
   },
   "source": [
    "The training step is defined by the forward propagation through the model. Then, the gradients are calculated, clipped to be between [-1, 1], and applied to upgrade the PixelCNN parameters."
   ]
  },
  {
   "cell_type": "code",
   "execution_count": 11,
   "metadata": {
    "colab": {},
    "colab_type": "code",
    "id": "HUBXLETLQA81",
    "pycharm": {
     "name": "#%%\n"
    }
   },
   "outputs": [],
   "source": [
    "@tf.function\n",
    "def train_step(batch_x, batch_y):\n",
    "    with tf.GradientTape() as ae_tape:\n",
    "        logits = pixelcnn(batch_x, training=True)\n",
    "\n",
    "        loss = compute_loss(tf.one_hot(batch_y, q_levels), logits)\n",
    "\n",
    "    gradients = ae_tape.gradient(loss, pixelcnn.trainable_variables)\n",
    "    gradients, _ = tf.clip_by_global_norm(gradients, 1.0)\n",
    "    optimizer.apply_gradients(zip(gradients, pixelcnn.trainable_variables))\n",
    "\n",
    "    return loss"
   ]
  },
  {
   "cell_type": "markdown",
   "metadata": {
    "colab_type": "text",
    "id": "H4d0Qwy-jA10",
    "pycharm": {
     "name": "#%% md\n"
    }
   },
   "source": [
    "In this implementation, we defined the training loop with 100 epochs."
   ]
  },
  {
   "cell_type": "code",
   "execution_count": 12,
   "metadata": {
    "colab": {
     "base_uri": "https://localhost:8080/",
     "height": 969
    },
    "colab_type": "code",
    "id": "hpu7iZrSQErQ",
    "outputId": "3510ce22-2188-4b2e-f253-7e991008b5e4",
    "pycharm": {
     "name": "#%%\n"
    }
   },
   "outputs": [
    {
     "name": "stdout",
     "output_type": "stream",
     "text": [
      "Epoch 1/100\n",
      "235/235 [==============================] - 72s 307ms/step - loss: 0.1136\n",
      "Epoch 2/100\n",
      "235/235 [==============================] - 65s 277ms/step - loss: 0.0887\n",
      "Epoch 3/100\n",
      "235/235 [==============================] - 67s 283ms/step - loss: 0.0860\n",
      "Epoch 4/100\n",
      "235/235 [==============================] - 66s 279ms/step - loss: 0.0842\n",
      "Epoch 5/100\n",
      "235/235 [==============================] - 65s 278ms/step - loss: 0.0827\n",
      "Epoch 6/100\n",
      "235/235 [==============================] - 65s 278ms/step - loss: 0.0814\n",
      "Epoch 7/100\n",
      "235/235 [==============================] - 66s 280ms/step - loss: 0.0803\n",
      "Epoch 8/100\n",
      "235/235 [==============================] - 66s 280ms/step - loss: 0.0797\n",
      "Epoch 9/100\n",
      "235/235 [==============================] - 66s 280ms/step - loss: 0.0790\n",
      "Epoch 10/100\n",
      "235/235 [==============================] - 66s 280ms/step - loss: 0.0785\n",
      "Epoch 11/100\n",
      "235/235 [==============================] - 66s 283ms/step - loss: 0.0781\n",
      "Epoch 12/100\n",
      "235/235 [==============================] - 66s 279ms/step - loss: 0.0776\n",
      "Epoch 13/100\n",
      "235/235 [==============================] - 66s 280ms/step - loss: 0.0773\n",
      "Epoch 14/100\n",
      "235/235 [==============================] - 66s 279ms/step - loss: 0.0770\n",
      "Epoch 15/100\n",
      "235/235 [==============================] - 66s 282ms/step - loss: 0.0768\n",
      "Epoch 16/100\n",
      "235/235 [==============================] - 66s 279ms/step - loss: 0.0765\n",
      "Epoch 17/100\n",
      "235/235 [==============================] - 65s 279ms/step - loss: 0.0763\n",
      "Epoch 18/100\n",
      "235/235 [==============================] - 68s 287ms/step - loss: 0.0761\n",
      "Epoch 19/100\n",
      "235/235 [==============================] - 66s 281ms/step - loss: 0.0759\n",
      "Epoch 20/100\n",
      "235/235 [==============================] - 66s 279ms/step - loss: 0.0757\n",
      "Epoch 21/100\n",
      "235/235 [==============================] - 66s 282ms/step - loss: 0.0755\n",
      "Epoch 22/100\n",
      "235/235 [==============================] - 66s 279ms/step - loss: 0.0754\n",
      "Epoch 23/100\n",
      "235/235 [==============================] - 66s 280ms/step - loss: 0.0752\n",
      "Epoch 24/100\n",
      "235/235 [==============================] - 66s 281ms/step - loss: 0.0750\n",
      "Epoch 25/100\n",
      "235/235 [==============================] - 66s 281ms/step - loss: 0.0749\n",
      "Epoch 26/100\n",
      "235/235 [==============================] - 67s 285ms/step - loss: 0.0747\n",
      "Epoch 27/100\n",
      "235/235 [==============================] - 65s 277ms/step - loss: 0.0746\n",
      "Epoch 28/100\n",
      "235/235 [==============================] - 66s 280ms/step - loss: 0.0744\n",
      "Epoch 29/100\n",
      "235/235 [==============================] - 66s 279ms/step - loss: 0.0744\n",
      "Epoch 30/100\n",
      "235/235 [==============================] - 66s 280ms/step - loss: 0.0742\n",
      "Epoch 31/100\n",
      "235/235 [==============================] - 66s 281ms/step - loss: 0.0740\n",
      "Epoch 32/100\n",
      "235/235 [==============================] - 66s 281ms/step - loss: 0.0739\n",
      "Epoch 33/100\n",
      "235/235 [==============================] - 66s 280ms/step - loss: 0.0739\n",
      "Epoch 34/100\n",
      "235/235 [==============================] - 66s 282ms/step - loss: 0.0737\n",
      "Epoch 35/100\n",
      "235/235 [==============================] - 65s 278ms/step - loss: 0.0736\n",
      "Epoch 36/100\n",
      "235/235 [==============================] - 66s 281ms/step - loss: 0.0735\n",
      "Epoch 37/100\n",
      "235/235 [==============================] - 66s 281ms/step - loss: 0.0734\n",
      "Epoch 38/100\n",
      "235/235 [==============================] - 66s 280ms/step - loss: 0.0732\n",
      "Epoch 39/100\n",
      "235/235 [==============================] - 65s 279ms/step - loss: 0.0731\n",
      "Epoch 40/100\n",
      "235/235 [==============================] - 66s 282ms/step - loss: 0.0731\n",
      "Epoch 41/100\n",
      "235/235 [==============================] - 67s 284ms/step - loss: 0.0730\n",
      "Epoch 42/100\n",
      "235/235 [==============================] - 67s 285ms/step - loss: 0.0728\n",
      "Epoch 43/100\n",
      "235/235 [==============================] - 66s 279ms/step - loss: 0.0727\n",
      "Epoch 44/100\n",
      "235/235 [==============================] - 66s 280ms/step - loss: 0.0726\n",
      "Epoch 45/100\n",
      "235/235 [==============================] - 65s 278ms/step - loss: 0.0726\n",
      "Epoch 46/100\n",
      "235/235 [==============================] - 66s 280ms/step - loss: 0.0724\n",
      "Epoch 47/100\n",
      "235/235 [==============================] - 66s 280ms/step - loss: 0.0723\n",
      "Epoch 48/100\n",
      "235/235 [==============================] - 66s 280ms/step - loss: 0.0722\n",
      "Epoch 49/100\n",
      "235/235 [==============================] - 67s 283ms/step - loss: 0.0721\n",
      "Epoch 50/100\n",
      "235/235 [==============================] - 66s 279ms/step - loss: 0.0721\n",
      "Epoch 51/100\n",
      "235/235 [==============================] - 65s 278ms/step - loss: 0.0719\n",
      "Epoch 52/100\n",
      "235/235 [==============================] - 66s 279ms/step - loss: 0.0719\n",
      "Epoch 53/100\n",
      "235/235 [==============================] - 65s 278ms/step - loss: 0.0718\n",
      "Epoch 54/100\n",
      "235/235 [==============================] - 66s 280ms/step - loss: 0.0717\n",
      "Epoch 55/100\n",
      "235/235 [==============================] - 65s 278ms/step - loss: 0.0716\n",
      "Epoch 56/100\n",
      "235/235 [==============================] - 66s 282ms/step - loss: 0.0715\n",
      "Epoch 57/100\n",
      "235/235 [==============================] - 66s 282ms/step - loss: 0.0715\n",
      "Epoch 58/100\n",
      "235/235 [==============================] - 66s 279ms/step - loss: 0.0713\n",
      "Epoch 59/100\n",
      "235/235 [==============================] - 66s 280ms/step - loss: 0.0712\n",
      "Epoch 60/100\n",
      "235/235 [==============================] - 66s 279ms/step - loss: 0.0712\n",
      "Epoch 61/100\n",
      "235/235 [==============================] - 66s 282ms/step - loss: 0.0711\n",
      "Epoch 62/100\n",
      "235/235 [==============================] - 65s 278ms/step - loss: 0.0710\n",
      "Epoch 63/100\n",
      "235/235 [==============================] - 66s 281ms/step - loss: 0.0710\n",
      "Epoch 64/100\n",
      "235/235 [==============================] - 67s 286ms/step - loss: 0.0708\n",
      "Epoch 65/100\n",
      "235/235 [==============================] - 66s 283ms/step - loss: 0.0708\n",
      "Epoch 66/100\n",
      "235/235 [==============================] - 66s 280ms/step - loss: 0.0707\n",
      "Epoch 67/100\n",
      "235/235 [==============================] - 65s 278ms/step - loss: 0.0706\n",
      "Epoch 68/100\n",
      "235/235 [==============================] - 66s 279ms/step - loss: 0.0705\n",
      "Epoch 69/100\n",
      "235/235 [==============================] - 66s 279ms/step - loss: 0.0704\n",
      "Epoch 70/100\n",
      "235/235 [==============================] - 66s 283ms/step - loss: 0.0704\n",
      "Epoch 71/100\n",
      "235/235 [==============================] - 66s 280ms/step - loss: 0.0702\n",
      "Epoch 72/100\n",
      "235/235 [==============================] - 67s 283ms/step - loss: 0.0703\n",
      "Epoch 73/100\n",
      "235/235 [==============================] - 66s 280ms/step - loss: 0.0702\n",
      "Epoch 74/100\n",
      "235/235 [==============================] - 66s 280ms/step - loss: 0.0701\n",
      "Epoch 75/100\n",
      "235/235 [==============================] - 65s 278ms/step - loss: 0.0700\n",
      "Epoch 76/100\n",
      "235/235 [==============================] - 65s 278ms/step - loss: 0.0700\n",
      "Epoch 77/100\n",
      "235/235 [==============================] - 65s 278ms/step - loss: 0.0700\n",
      "Epoch 78/100\n",
      "235/235 [==============================] - 66s 279ms/step - loss: 0.0699\n",
      "Epoch 79/100\n",
      "235/235 [==============================] - 66s 280ms/step - loss: 0.0699\n",
      "Epoch 80/100\n",
      "235/235 [==============================] - 67s 286ms/step - loss: 0.0697\n",
      "Epoch 81/100\n",
      "235/235 [==============================] - 66s 279ms/step - loss: 0.0697\n",
      "Epoch 82/100\n",
      "235/235 [==============================] - 66s 280ms/step - loss: 0.0695\n",
      "Epoch 83/100\n",
      "235/235 [==============================] - 66s 280ms/step - loss: 0.0696\n",
      "Epoch 84/100\n",
      "235/235 [==============================] - 66s 281ms/step - loss: 0.0695\n",
      "Epoch 85/100\n",
      "235/235 [==============================] - 66s 279ms/step - loss: 0.0694\n",
      "Epoch 86/100\n",
      "235/235 [==============================] - 66s 281ms/step - loss: 0.0694\n",
      "Epoch 87/100\n",
      "235/235 [==============================] - 67s 285ms/step - loss: 0.0693\n",
      "Epoch 88/100\n",
      "235/235 [==============================] - 65s 278ms/step - loss: 0.0693\n",
      "Epoch 89/100\n",
      "235/235 [==============================] - 65s 278ms/step - loss: 0.0692\n",
      "Epoch 90/100\n",
      "235/235 [==============================] - 65s 278ms/step - loss: 0.0691\n",
      "Epoch 91/100\n",
      "235/235 [==============================] - 66s 280ms/step - loss: 0.0691\n",
      "Epoch 92/100\n",
      "235/235 [==============================] - 66s 280ms/step - loss: 0.0691\n",
      "Epoch 93/100\n",
      "235/235 [==============================] - 66s 279ms/step - loss: 0.0690\n",
      "Epoch 94/100\n",
      "235/235 [==============================] - 66s 281ms/step - loss: 0.0689\n",
      "Epoch 95/100\n",
      "235/235 [==============================] - 67s 284ms/step - loss: 0.0689\n",
      "Epoch 96/100\n"
     ]
    },
    {
     "name": "stdout",
     "output_type": "stream",
     "text": [
      "235/235 [==============================] - 66s 279ms/step - loss: 0.0689\n",
      "Epoch 97/100\n",
      "235/235 [==============================] - 65s 279ms/step - loss: 0.0688\n",
      "Epoch 98/100\n",
      "235/235 [==============================] - 65s 278ms/step - loss: 0.0687\n",
      "Epoch 99/100\n",
      "235/235 [==============================] - 66s 279ms/step - loss: 0.0687\n",
      "Epoch 100/100\n",
      "235/235 [==============================] - 66s 280ms/step - loss: 0.0687\n"
     ]
    }
   ],
   "source": [
    "# Training loop\n",
    "n_epochs = 100\n",
    "n_iter = int(np.ceil(x_train_quantised.shape[0] / batch_size))\n",
    "for epoch in range(n_epochs):\n",
    "    progbar = Progbar(n_iter)\n",
    "    print('Epoch {:}/{:}'.format(epoch + 1, n_epochs))\n",
    "\n",
    "    for i_iter, (batch_x, batch_y) in enumerate(train_dataset):\n",
    "        optimizer.lr = optimizer.lr * lr_decay\n",
    "        loss = train_step(batch_x, batch_y)\n",
    "\n",
    "        progbar.add(1, values=[('loss', loss)])"
   ]
  },
  {
   "cell_type": "markdown",
   "metadata": {
    "colab_type": "text",
    "id": "RUVLFcETjH0h",
    "pycharm": {
     "name": "#%% md\n"
    }
   },
   "source": [
    "To evaluate the performance of the model, we measured its negative log-likelihood (NLL) in the test set. "
   ]
  },
  {
   "cell_type": "code",
   "execution_count": 13,
   "metadata": {
    "colab": {},
    "colab_type": "code",
    "id": "wwOpkugDVQuo",
    "pycharm": {
     "name": "#%%\n"
    }
   },
   "outputs": [
    {
     "name": "stdout",
     "output_type": "stream",
     "text": [
      "nll : 0.08016765117645264 nats\n",
      "bits/dim : 0.11565747279198449\n"
     ]
    }
   ],
   "source": [
    "# Test set performance\n",
    "test_loss = []\n",
    "for batch_x, batch_y in test_dataset:\n",
    "    logits = pixelcnn(batch_x, training=False)\n",
    "\n",
    "    # Calculate cross-entropy (= negative log-likelihood)\n",
    "    loss = compute_loss(tf.one_hot(batch_y, q_levels), logits)\n",
    "\n",
    "    test_loss.append(loss)\n",
    "print('nll : {:} nats'.format(np.array(test_loss).mean()))\n",
    "print('bits/dim : {:}'.format(np.array(test_loss).mean() / np.log(2)))"
   ]
  },
  {
   "cell_type": "markdown",
   "metadata": {
    "colab_type": "text",
    "id": "riO4FtjKjRUR",
    "pycharm": {
     "name": "#%% md\n"
    }
   },
   "source": [
    "Finally, we sampled some images from the trained model. First, we sampled from scratch, then we completed images partially occluded."
   ]
  },
  {
   "cell_type": "code",
   "execution_count": 14,
   "metadata": {
    "colab": {},
    "colab_type": "code",
    "id": "UXQ_GbDPVdiU",
    "pycharm": {
     "name": "#%%\n"
    }
   },
   "outputs": [
    {
     "data": {
      "image/png": "[encoded data removed]",
      "text/plain": [
       "<Figure size 720x720 with 100 Axes>"
      ]
     },
     "metadata": {},
     "output_type": "display_data"
    }
   ],
   "source": [
    "# Generating new images\n",
    "samples = np.zeros((100, height, width, n_channel), dtype='float32')\n",
    "for i in range(height):\n",
    "    for j in range(width):\n",
    "        logits = pixelcnn(samples)\n",
    "        next_sample = tf.random.categorical(logits[:, i, j, :], 1)\n",
    "        samples[:, i, j, 0] = (next_sample.numpy() / (q_levels - 1))[:, 0]\n",
    "\n",
    "fig = plt.figure(figsize=(10, 10))\n",
    "for i in range(100):\n",
    "    ax = fig.add_subplot(10, 10, i + 1)\n",
    "    ax.matshow(samples[i, :, :, 0], cmap=matplotlib.cm.binary)\n",
    "    plt.xticks(np.array([]))\n",
    "    plt.yticks(np.array([]))\n",
    "plt.show()"
   ]
  },
  {
   "cell_type": "code",
   "execution_count": 15,
   "metadata": {
    "colab": {},
    "colab_type": "code",
    "id": "uJahzGf3XjjM"
   },
   "outputs": [
    {
     "data": {
      "image/png": "[encoded data removed]",
      "text/plain": [
       "<Figure size 720x720 with 10 Axes>"
      ]
     },
     "metadata": {},
     "output_type": "display_data"
    },
    {
     "data": {
      "image/png": "[encoded data removed]",
      "text/plain": [
       "<Figure size 720x720 with 10 Axes>"
      ]
     },
     "metadata": {},
     "output_type": "display_data"
    }
   ],
   "source": [
    "# Filling occluded images\n",
    "occlude_start_row = 14\n",
    "num_generated_images = 10\n",
    "samples = np.copy(x_test_quantised[0:num_generated_images, :, :, :])\n",
    "samples = samples / (q_levels - 1)\n",
    "samples[:, occlude_start_row:, :, :] = 0\n",
    "\n",
    "fig = plt.figure(figsize=(10, 10))\n",
    "\n",
    "for i in range(10):\n",
    "    ax = fig.add_subplot(1, 10, i + 1)\n",
    "    ax.matshow(samples[i, :, :, 0], cmap=matplotlib.cm.binary)\n",
    "    plt.xticks(np.array([]))\n",
    "    plt.yticks(np.array([]))\n",
    "\n",
    "for i in range(occlude_start_row, height):\n",
    "    for j in range(width):\n",
    "        logits = pixelcnn(samples)\n",
    "        next_sample = tf.random.categorical(logits[:, i, j, :], 1)\n",
    "        samples[:, i, j, 0] = (next_sample.numpy() / (q_levels - 1))[:, 0]\n",
    "\n",
    "fig = plt.figure(figsize=(10, 10))\n",
    "\n",
    "for i in range(10):\n",
    "    ax = fig.add_subplot(1, 10, i + 1)\n",
    "    ax.matshow(samples[i, :, :, 0], cmap=matplotlib.cm.binary)\n",
    "    plt.xticks(np.array([]))\n",
    "    plt.yticks(np.array([]))\n",
    "plt.show()"
   ]
  },
  {
   "cell_type": "markdown",
   "metadata": {
    "colab_type": "text",
    "id": "zdHSvSh4v8r-",
    "pycharm": {
     "name": "#%% md\n"
    }
   },
   "source": [
    "That's looks great, so now let's check with 256 levels."
   ]
  },
  {
   "cell_type": "code",
   "execution_count": 16,
   "metadata": {
    "colab": {},
    "colab_type": "code",
    "id": "Ak4cTvpMIE9z",
    "pycharm": {
     "name": "#%%\n"
    }
   },
   "outputs": [
    {
     "name": "stdout",
     "output_type": "stream",
     "text": [
      "Epoch 1/100\n",
      "235/235 [==============================] - 75s 317ms/step - loss: 1.0547\n",
      "Epoch 2/100\n",
      "235/235 [==============================] - 71s 302ms/step - loss: 0.7940\n",
      "Epoch 3/100\n",
      "235/235 [==============================] - 71s 303ms/step - loss: 0.7780\n",
      "Epoch 4/100\n",
      "235/235 [==============================] - 72s 306ms/step - loss: 0.7669\n",
      "Epoch 5/100\n",
      "235/235 [==============================] - 71s 302ms/step - loss: 0.7587\n",
      "Epoch 6/100\n",
      "235/235 [==============================] - 71s 302ms/step - loss: 0.7519\n",
      "Epoch 7/100\n",
      "235/235 [==============================] - 71s 302ms/step - loss: 0.7470\n",
      "Epoch 8/100\n",
      "235/235 [==============================] - 71s 303ms/step - loss: 0.7418\n",
      "Epoch 9/100\n",
      "235/235 [==============================] - 72s 305ms/step - loss: 0.7382\n",
      "Epoch 10/100\n",
      "235/235 [==============================] - 71s 301ms/step - loss: 0.7346\n",
      "Epoch 11/100\n",
      "235/235 [==============================] - 72s 306ms/step - loss: 0.7311\n",
      "Epoch 12/100\n",
      "235/235 [==============================] - 71s 302ms/step - loss: 0.7285\n",
      "Epoch 13/100\n",
      "235/235 [==============================] - 72s 305ms/step - loss: 0.7240\n",
      "Epoch 14/100\n",
      "235/235 [==============================] - 70s 300ms/step - loss: 0.7242\n",
      "Epoch 15/100\n",
      "235/235 [==============================] - 71s 302ms/step - loss: 0.7200\n",
      "Epoch 16/100\n",
      "235/235 [==============================] - 71s 302ms/step - loss: 0.7138\n",
      "Epoch 17/100\n",
      "235/235 [==============================] - 72s 306ms/step - loss: 0.7093\n",
      "Epoch 18/100\n",
      "235/235 [==============================] - 71s 303ms/step - loss: 0.7120\n",
      "Epoch 19/100\n",
      "235/235 [==============================] - 71s 301ms/step - loss: 0.7078\n",
      "Epoch 20/100\n",
      "235/235 [==============================] - 71s 301ms/step - loss: 0.7066\n",
      "Epoch 21/100\n",
      "235/235 [==============================] - 71s 301ms/step - loss: 0.6991\n",
      "Epoch 22/100\n",
      "235/235 [==============================] - 72s 305ms/step - loss: 0.7059\n",
      "Epoch 23/100\n",
      "235/235 [==============================] - 71s 302ms/step - loss: 0.7024\n",
      "Epoch 24/100\n",
      "235/235 [==============================] - 71s 301ms/step - loss: 0.6988\n",
      "Epoch 25/100\n",
      "235/235 [==============================] - 71s 302ms/step - loss: 0.6962\n",
      "Epoch 26/100\n",
      "235/235 [==============================] - 71s 302ms/step - loss: 0.6929\n",
      "Epoch 27/100\n",
      "235/235 [==============================] - 72s 307ms/step - loss: 0.6926\n",
      "Epoch 28/100\n",
      "235/235 [==============================] - 71s 301ms/step - loss: 0.6954\n",
      "Epoch 29/100\n",
      "235/235 [==============================] - 71s 302ms/step - loss: 0.6929\n",
      "Epoch 30/100\n",
      "235/235 [==============================] - 71s 304ms/step - loss: 0.6914\n",
      "Epoch 31/100\n",
      "235/235 [==============================] - 72s 306ms/step - loss: 0.6914\n",
      "Epoch 32/100\n",
      "235/235 [==============================] - 71s 302ms/step - loss: 0.6787\n",
      "Epoch 33/100\n",
      "235/235 [==============================] - 71s 301ms/step - loss: 0.6790\n",
      "Epoch 34/100\n",
      "235/235 [==============================] - 71s 302ms/step - loss: 0.6733\n",
      "Epoch 35/100\n",
      "235/235 [==============================] - 72s 304ms/step - loss: 0.6723\n",
      "Epoch 36/100\n",
      "235/235 [==============================] - 72s 304ms/step - loss: 0.6865\n",
      "Epoch 37/100\n",
      "235/235 [==============================] - 71s 301ms/step - loss: 0.6744\n",
      "Epoch 38/100\n",
      "235/235 [==============================] - 71s 303ms/step - loss: 0.6951\n",
      "Epoch 39/100\n",
      "235/235 [==============================] - 71s 303ms/step - loss: 0.6748\n",
      "Epoch 40/100\n",
      "235/235 [==============================] - 72s 305ms/step - loss: 0.6789\n",
      "Epoch 41/100\n",
      "235/235 [==============================] - 71s 302ms/step - loss: 0.6774\n",
      "Epoch 42/100\n",
      "235/235 [==============================] - 71s 303ms/step - loss: 0.6782\n",
      "Epoch 43/100\n",
      "235/235 [==============================] - 71s 303ms/step - loss: 0.6800\n",
      "Epoch 44/100\n",
      "235/235 [==============================] - 71s 303ms/step - loss: 0.6743\n",
      "Epoch 45/100\n",
      "235/235 [==============================] - 71s 303ms/step - loss: 0.6606\n",
      "Epoch 46/100\n",
      "235/235 [==============================] - 71s 301ms/step - loss: 0.6649\n",
      "Epoch 47/100\n",
      "235/235 [==============================] - 71s 302ms/step - loss: 0.6594\n",
      "Epoch 48/100\n",
      "235/235 [==============================] - 71s 302ms/step - loss: 0.6592\n",
      "Epoch 49/100\n",
      "235/235 [==============================] - 72s 306ms/step - loss: 0.6749\n",
      "Epoch 50/100\n",
      "235/235 [==============================] - 71s 302ms/step - loss: 0.6628\n",
      "Epoch 51/100\n",
      "235/235 [==============================] - 71s 301ms/step - loss: 0.6584\n",
      "Epoch 52/100\n",
      "235/235 [==============================] - 72s 305ms/step - loss: 0.6607\n",
      "Epoch 53/100\n",
      "235/235 [==============================] - 72s 305ms/step - loss: 0.6693\n",
      "Epoch 54/100\n",
      "235/235 [==============================] - 72s 304ms/step - loss: 0.6588\n",
      "Epoch 55/100\n",
      "235/235 [==============================] - 71s 302ms/step - loss: 0.6486\n",
      "Epoch 56/100\n",
      "235/235 [==============================] - 71s 302ms/step - loss: 0.6681\n",
      "Epoch 57/100\n",
      "235/235 [==============================] - 71s 301ms/step - loss: 0.6492\n",
      "Epoch 58/100\n",
      "235/235 [==============================] - 72s 305ms/step - loss: 0.6511\n",
      "Epoch 59/100\n",
      "235/235 [==============================] - 71s 302ms/step - loss: 0.6686\n",
      "Epoch 60/100\n",
      "235/235 [==============================] - 71s 302ms/step - loss: 0.6670\n",
      "Epoch 61/100\n",
      "235/235 [==============================] - 71s 302ms/step - loss: 0.6665\n",
      "Epoch 62/100\n",
      "235/235 [==============================] - 72s 304ms/step - loss: 0.6415\n",
      "Epoch 63/100\n",
      "235/235 [==============================] - 71s 303ms/step - loss: 0.6436\n",
      "Epoch 64/100\n",
      "235/235 [==============================] - 71s 301ms/step - loss: 0.6573\n",
      "Epoch 65/100\n",
      "235/235 [==============================] - 71s 304ms/step - loss: 0.6531\n",
      "Epoch 66/100\n",
      "235/235 [==============================] - 71s 302ms/step - loss: 0.6578\n",
      "Epoch 67/100\n",
      "235/235 [==============================] - 71s 304ms/step - loss: 0.6634\n",
      "Epoch 68/100\n",
      "235/235 [==============================] - 71s 301ms/step - loss: 0.6531\n",
      "Epoch 69/100\n",
      "235/235 [==============================] - 71s 302ms/step - loss: 0.6569\n",
      "Epoch 70/100\n",
      "235/235 [==============================] - 71s 302ms/step - loss: 0.6617\n",
      "Epoch 71/100\n",
      "235/235 [==============================] - 71s 302ms/step - loss: 0.6495\n",
      "Epoch 72/100\n",
      "235/235 [==============================] - 72s 307ms/step - loss: 0.6448\n",
      "Epoch 73/100\n",
      "235/235 [==============================] - 71s 302ms/step - loss: 0.6512\n",
      "Epoch 74/100\n",
      "235/235 [==============================] - 71s 304ms/step - loss: 0.6415\n",
      "Epoch 75/100\n",
      "235/235 [==============================] - 71s 302ms/step - loss: 0.6555\n",
      "Epoch 76/100\n",
      "235/235 [==============================] - 72s 305ms/step - loss: 0.6477\n",
      "Epoch 77/100\n",
      "235/235 [==============================] - 71s 303ms/step - loss: 0.6525\n",
      "Epoch 78/100\n",
      "235/235 [==============================] - 71s 303ms/step - loss: 0.6360\n",
      "Epoch 79/100\n",
      "235/235 [==============================] - 71s 301ms/step - loss: 0.6289\n",
      "Epoch 80/100\n",
      "235/235 [==============================] - 71s 303ms/step - loss: 0.6300\n",
      "Epoch 81/100\n",
      "235/235 [==============================] - 72s 307ms/step - loss: 0.6580\n",
      "Epoch 82/100\n",
      "235/235 [==============================] - 70s 300ms/step - loss: 0.6574\n",
      "Epoch 83/100\n",
      "235/235 [==============================] - 71s 303ms/step - loss: 0.6466\n",
      "Epoch 84/100\n",
      "235/235 [==============================] - 71s 302ms/step - loss: 0.6265\n",
      "Epoch 85/100\n",
      "235/235 [==============================] - 72s 305ms/step - loss: 0.6338\n",
      "Epoch 86/100\n",
      "235/235 [==============================] - 71s 301ms/step - loss: 0.6412\n",
      "Epoch 87/100\n",
      "235/235 [==============================] - 71s 304ms/step - loss: 0.6255\n",
      "Epoch 88/100\n",
      "235/235 [==============================] - 71s 302ms/step - loss: 0.6236\n",
      "Epoch 89/100\n",
      "235/235 [==============================] - 72s 307ms/step - loss: 0.6311\n",
      "Epoch 90/100\n",
      "235/235 [==============================] - 72s 306ms/step - loss: 0.6544\n",
      "Epoch 91/100\n",
      "235/235 [==============================] - 71s 302ms/step - loss: 0.6264\n",
      "Epoch 92/100\n",
      "235/235 [==============================] - 71s 302ms/step - loss: 0.6467\n",
      "Epoch 93/100\n",
      "235/235 [==============================] - 71s 301ms/step - loss: 0.6274\n",
      "Epoch 94/100\n",
      "235/235 [==============================] - 72s 305ms/step - loss: 0.6199\n",
      "Epoch 95/100\n",
      "235/235 [==============================] - 71s 303ms/step - loss: 0.6428\n",
      "Epoch 96/100\n"
     ]
    },
    {
     "name": "stdout",
     "output_type": "stream",
     "text": [
      "235/235 [==============================] - 71s 301ms/step - loss: 0.6359\n",
      "Epoch 97/100\n",
      "235/235 [==============================] - 71s 301ms/step - loss: 0.6214\n",
      "Epoch 98/100\n",
      "235/235 [==============================] - 71s 303ms/step - loss: 0.6407\n",
      "Epoch 99/100\n",
      "235/235 [==============================] - 71s 303ms/step - loss: 0.6181\n",
      "Epoch 100/100\n",
      "235/235 [==============================] - 71s 300ms/step - loss: 0.6457\n"
     ]
    }
   ],
   "source": [
    "# --------------------------------------------------------------------------------------------------------------\n",
    "# Quantise the input data in q levels\n",
    "q_levels = 256\n",
    "x_train_quantised = quantise(x_train, q_levels)\n",
    "x_test_quantised = quantise(x_test, q_levels)\n",
    "\n",
    "# --------------------------------------------------------------------------------------------------------------\n",
    "# Creating input stream using tf.data API\n",
    "batch_size = 256\n",
    "train_buf = 60000\n",
    "\n",
    "train_dataset = tf.data.Dataset.from_tensor_slices((x_train_quantised / (q_levels - 1),\n",
    "                                                    x_train_quantised.astype('int32')))\n",
    "train_dataset = train_dataset.shuffle(buffer_size=train_buf)\n",
    "train_dataset = train_dataset.batch(batch_size)\n",
    "\n",
    "test_dataset = tf.data.Dataset.from_tensor_slices((x_test_quantised / (q_levels - 1),\n",
    "                                                   x_test_quantised.astype('int32')))\n",
    "test_dataset = test_dataset.batch(batch_size)\n",
    "\n",
    "# --------------------------------------------------------------------------------------------------------------\n",
    "# Create PixelCNN model\n",
    "inputs = keras.layers.Input(shape=(height, width, n_channel))\n",
    "x = MaskedConv2D(mask_type='A', filters=128, kernel_size=7, strides=1)(inputs)\n",
    "\n",
    "for i in range(15):\n",
    "    x = ResidualBlock(h=64)(x)\n",
    "\n",
    "x = keras.layers.Activation(activation='relu')(x)\n",
    "x = keras.layers.Conv2D(filters=128, kernel_size=1, strides=1)(x)\n",
    "x = keras.layers.Activation(activation='relu')(x)\n",
    "x = keras.layers.Conv2D(filters=q_levels, kernel_size=1, strides=1)(x)\n",
    "\n",
    "pixelcnn = keras.Model(inputs=inputs, outputs=x)\n",
    "\n",
    "# --------------------------------------------------------------------------------------------------------------\n",
    "# Prepare optimizer and loss function\n",
    "lr_decay = 0.999995\n",
    "learning_rate = 1e-3\n",
    "optimizer = keras.optimizers.Adam(lr=learning_rate)\n",
    "\n",
    "compute_loss = keras.losses.CategoricalCrossentropy(from_logits=True)\n",
    "\n",
    "# --------------------------------------------------------------------------------------------------------------\n",
    "@tf.function\n",
    "def train_step(batch_x, batch_y):\n",
    "    with tf.GradientTape() as ae_tape:\n",
    "        logits = pixelcnn(batch_x, training=True)\n",
    "\n",
    "        loss = compute_loss(tf.one_hot(batch_y, q_levels), logits)\n",
    "\n",
    "    gradients = ae_tape.gradient(loss, pixelcnn.trainable_variables)\n",
    "    gradients, _ = tf.clip_by_global_norm(gradients, 1.0)\n",
    "    optimizer.apply_gradients(zip(gradients, pixelcnn.trainable_variables))\n",
    "\n",
    "    return loss\n",
    "\n",
    "# --------------------------------------------------------------------------------------------------------------\n",
    "# Training loop\n",
    "n_epochs = 100\n",
    "n_iter = int(np.ceil(x_train_quantised.shape[0] / batch_size))\n",
    "for epoch in range(n_epochs):\n",
    "    progbar = Progbar(n_iter)\n",
    "    print('Epoch {:}/{:}'.format(epoch + 1, n_epochs))\n",
    "\n",
    "    for i_iter, (batch_x, batch_y) in enumerate(train_dataset):\n",
    "        optimizer.lr = optimizer.lr * lr_decay\n",
    "        loss = train_step(batch_x, batch_y)\n",
    "\n",
    "        progbar.add(1, values=[('loss', loss)])"
   ]
  },
  {
   "cell_type": "code",
   "execution_count": null,
   "outputs": [],
   "source": [
    "# Test set performance\n",
    "test_loss = []\n",
    "for batch_x, batch_y in test_dataset:\n",
    "    logits = pixelcnn(batch_x, training=False)\n",
    "\n",
    "    # Calculate cross-entropy (= negative log-likelihood)\n",
    "    loss = compute_loss(tf.one_hot(batch_y, q_levels), logits)\n",
    "\n",
    "    test_loss.append(loss)\n",
    "print('nll : {:} nats'.format(np.array(test_loss).mean()))\n",
    "print('bits/dim : {:}'.format(np.array(test_loss).mean() / np.log(2)))"
   ],
   "metadata": {
    "collapsed": false,
    "pycharm": {
     "name": "#%%\n"
    }
   }
  },
  {
   "cell_type": "code",
   "execution_count": 17,
   "metadata": {
    "colab": {},
    "colab_type": "code",
    "id": "C54-y4TvxslA"
   },
   "outputs": [
    {
     "name": "stdout",
     "output_type": "stream",
     "text": [
      "nll : 0.6275386214256287 nats\n",
      "bits/dim : 0.9053468570970511\n"
     ]
    }
   ],
   "source": [
    "# Generating new images\n",
    "samples = np.zeros((100, height, width, n_channel), dtype='float32')\n",
    "for i in range(height):\n",
    "    for j in range(width):\n",
    "        logits = pixelcnn(samples)\n",
    "        next_sample = tf.random.categorical(logits[:, i, j, :], 1)\n",
    "        samples[:, i, j, 0] = (next_sample.numpy() / (q_levels - 1))[:, 0]\n",
    "\n",
    "fig = plt.figure(figsize=(10, 10))\n",
    "for i in range(100):\n",
    "    ax = fig.add_subplot(10, 10, i + 1)\n",
    "    ax.matshow(samples[i, :, :, 0], cmap=matplotlib.cm.binary)\n",
    "    plt.xticks(np.array([]))\n",
    "    plt.yticks(np.array([]))\n",
    "plt.show()"
   ]
  },
  {
   "cell_type": "code",
   "execution_count": 18,
   "metadata": {
    "colab": {},
    "colab_type": "code",
    "id": "9cwrWGLlhyw6"
   },
   "outputs": [
    {
     "data": {
      "image/png": "[encoded data removed]",
      "text/plain": [
       "<Figure size 720x720 with 100 Axes>"
      ]
     },
     "metadata": {},
     "output_type": "display_data"
    }
   ],
   "source": [
    "# Generating new images\n",
    "samples = np.zeros((100, height, width, n_channel), dtype='float32')\n",
    "for i in range(height):\n",
    "    for j in range(width):\n",
    "        logits = pixelcnn(samples)\n",
    "        next_sample = tf.random.categorical(logits[:, i, j, :], 1)\n",
    "        samples[:, i, j, 0] = (next_sample.numpy() / (q_levels - 1))[:, 0]\n",
    "\n",
    "fig = plt.figure(figsize=(10, 10))\n",
    "for i in range(100):\n",
    "    ax = fig.add_subplot(10, 10, i + 1)\n",
    "    ax.matshow(samples[i, :, :, 0], cmap=matplotlib.cm.binary)\n",
    "    plt.xticks(np.array([]))\n",
    "    plt.yticks(np.array([]))\n",
    "plt.show()"
   ]
  },
  {
   "cell_type": "code",
   "execution_count": 19,
   "metadata": {
    "colab": {},
    "colab_type": "code",
    "id": "h6o4QILaiBil"
   },
   "outputs": [
    {
     "data": {
      "image/png": "[encoded data removed]",
      "text/plain": [
       "<Figure size 720x720 with 10 Axes>"
      ]
     },
     "metadata": {},
     "output_type": "display_data"
    },
    {
     "data": {
      "image/png": "[encoded data removed]",
      "text/plain": [
       "<Figure size 720x720 with 10 Axes>"
      ]
     },
     "metadata": {},
     "output_type": "display_data"
    }
   ],
   "source": [
    "# Filling occluded images\n",
    "occlude_start_row = 14\n",
    "num_generated_images = 10\n",
    "samples = np.copy(x_test_quantised[0:num_generated_images, :, :, :])\n",
    "samples = samples / (q_levels - 1)\n",
    "samples[:, occlude_start_row:, :, :] = 0\n",
    "\n",
    "fig = plt.figure(figsize=(10, 10))\n",
    "\n",
    "for i in range(10):\n",
    "    ax = fig.add_subplot(1, 10, i + 1)\n",
    "    ax.matshow(samples[i, :, :, 0], cmap=matplotlib.cm.binary)\n",
    "    plt.xticks(np.array([]))\n",
    "    plt.yticks(np.array([]))\n",
    "\n",
    "for i in range(occlude_start_row, height):\n",
    "    for j in range(width):\n",
    "        logits = pixelcnn(samples)\n",
    "        next_sample = tf.random.categorical(logits[:, i, j, :], 1)\n",
    "        samples[:, i, j, 0] = (next_sample.numpy() / (q_levels - 1))[:, 0]\n",
    "\n",
    "fig = plt.figure(figsize=(10, 10))\n",
    "\n",
    "for i in range(10):\n",
    "    ax = fig.add_subplot(1, 10, i + 1)\n",
    "    ax.matshow(samples[i, :, :, 0], cmap=matplotlib.cm.binary)\n",
    "    plt.xticks(np.array([]))\n",
    "    plt.yticks(np.array([]))\n",
    "plt.show()"
   ]
  },
  {
   "cell_type": "markdown",
   "metadata": {
    "colab_type": "text",
    "id": "RusOD7aSFpAF",
    "pycharm": {
     "name": "#%% md\n"
    }
   },
   "source": [
    "Because of the higher number of dimensions, the challenge of predicting the conditional probability becomes harder, but even so, the results look very interesting! This is the very first PixelCNN model and a few other implementations have been released that use novel and state-of-the-art techniques to obtain great results. We are going to delve into them in future notebooks/blogposts.\n"
   ]
  }
 ],
 "metadata": {
  "accelerator": "GPU",
  "colab": {
   "collapsed_sections": [],
   "name": "pixelCNN.ipynb",
   "provenance": [
    {
     "file_id": "https://github.com/Mind-the-Pineapple/Autoregressive-models/blob/master/1%20-%20Autoregressive%20Models%20-%20PixelCNN/pixelCNN.ipynb",
     "timestamp": 1584540217374
    }
   ]
  },
  "kernelspec": {
   "display_name": "Python 3",
   "language": "python",
   "name": "python3"
  },
  "language_info": {
   "codemirror_mode": {
    "name": "ipython",
    "version": 3
   },
   "file_extension": ".py",
   "mimetype": "text/x-python",
   "name": "python",
   "nbconvert_exporter": "python",
   "pygments_lexer": "ipython3",
   "version": "3.6.8"
  },
  "pycharm": {
   "stem_cell": {
    "cell_type": "raw",
    "source": [],
    "metadata": {
     "collapsed": false
    }
   }
  }
 },
 "nbformat": 4,
 "nbformat_minor": 1
}
