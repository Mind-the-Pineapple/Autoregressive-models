{
  "nbformat": 4,
  "nbformat_minor": 0,
  "metadata": {
    "colab": {
      "name": "pixelCNN.ipynb",
      "provenance": [],
      "collapsed_sections": [],
      "include_colab_link": true
    },
    "kernelspec": {
      "name": "python3",
      "display_name": "Python 3"
    },
    "accelerator": "GPU"
  },
  "cells": [
    {
      "cell_type": "markdown",
      "metadata": {
        "id": "view-in-github",
        "colab_type": "text"
      },
      "source": [
        "<a href=\"https://colab.research.google.com/github/Warvito/vq-vae/blob/master/1%20-%20Autoregressive%20Models%20-%20PixelCNN/pixelCNN_w_4_levels.ipynb\" target=\"_parent\"><img src=\"https://colab.research.google.com/assets/colab-badge.svg\" alt=\"Open In Colab\"/></a>"
      ]
    },
    {
      "cell_type": "markdown",
      "metadata": {
        "id": "bU25WyouYYE3",
        "colab_type": "text"
      },
      "source": [
        "# Autoregressive Models - PixelCNN\n",
        "\n",
        "The autoregressive models are generative models that provides an explicit parametric specification of a likelihood function of a variable by specifying it with its parameters. However, to model data that have several dimensions/features, autoregressive models need to define some constraints. First, the observation space X need to have a determining ordering for its features. That is why autoregressive models are naturally used for time series that have a sequence of time steps. However, it can also be employed for images by defining, for example, that the pixels from left come before from the ones in the right, and the ones in the top before the ones in the bottom. Second, to tractably model the joint distribution of the features in a data observation (p(x)), the autoregressive approach cast p(x) as a product of conditional distributions. Autoregressive models define the joint distribution using conditionals over each feature given the values of the previous features. For example, the probability of a pixel from an image to have a specific value is conditioned by the values of all previous pixels; and the probability of an image (the joint distribution) is the combination of the probability of all its pixels. This way, autoregressive models use the chain rule to decompose the likelihood of the data sample x into a product of 1-dimensional distributions (Eq. 1). The factorization turns the joint modelling problem into a sequence problem, where one learns to predict the next pixel given all the previously generated pixels.\n",
        "\n",
        "***IMAGE***\n",
        "\n",
        "This is what mainly define an autoregressive model.\n",
        "\n",
        "Now, the big challenge is how to represent these conditional this p(xi) that usually has a really complex distribution. How could we define it in an expressive model that are also tractable and scalable? One solution is using deep neural networks. \n",
        "\n",
        "\n",
        "## PixelCNN\n",
        "PixelCNN was introduced by DeepMind in 2016 (Oord et al, 2016) and it started one of the most promising families of autoregressive generative models. PixelCNN is a deep neural network that captures the distribution of dependencies between pixels in the parameters. It sequentially generates one pixel at a time in an image along the two spatial dimensions. \n",
        "\n"
      ]
    },
    {
      "cell_type": "markdown",
      "metadata": {
        "id": "10r26ZgidIb5",
        "colab_type": "text"
      },
      "source": [
        "In this implementation, we used the new Tensorflow 2.0 framework. In the fisrt step we install and import the code dependencies."
      ]
    },
    {
      "cell_type": "code",
      "metadata": {
        "id": "f25me9_Wpg3A",
        "colab_type": "code",
        "colab": {}
      },
      "source": [
        "! pip3 install tensorflow-gpu==2.0.0-rc1"
      ],
      "execution_count": 0,
      "outputs": []
    },
    {
      "cell_type": "code",
      "metadata": {
        "id": "Syt9hLISPC1p",
        "colab_type": "code",
        "colab": {}
      },
      "source": [
        "import random as rn\n",
        "import time\n",
        "\n",
        "import matplotlib\n",
        "import matplotlib.pyplot as plt\n",
        "import numpy as np\n",
        "import tensorflow as tf\n",
        "from tensorflow import keras"
      ],
      "execution_count": 0,
      "outputs": []
    },
    {
      "cell_type": "markdown",
      "metadata": {
        "id": "FpYcifvjdbaA",
        "colab_type": "text"
      },
      "source": [
        "Then, we define the random seeds to have reproducible results and we load the MNIST dataset to train the PixelCNN."
      ]
    },
    {
      "cell_type": "code",
      "metadata": {
        "id": "JB9UVlLzPWI_",
        "colab_type": "code",
        "colab": {}
      },
      "source": [
        "# Defining random seeds\n",
        "random_seed = 42\n",
        "tf.random.set_seed(random_seed)\n",
        "np.random.seed(random_seed)\n",
        "rn.seed(random_seed)"
      ],
      "execution_count": 0,
      "outputs": []
    },
    {
      "cell_type": "code",
      "metadata": {
        "id": "iLud0DUePdyI",
        "colab_type": "code",
        "colab": {}
      },
      "source": [
        "# Loading data\n",
        "(x_train, y_train), (x_test, y_test) = tf.keras.datasets.mnist.load_data()\n",
        "\n",
        "height = 28\n",
        "width = 28\n",
        "n_channel = 1\n",
        "\n",
        "x_train = x_train.astype('float32') / 255.\n",
        "x_test = x_test.astype('float32') / 255.\n",
        "\n",
        "x_train = x_train.reshape(x_train.shape[0], height, width, 1)\n",
        "x_test = x_test.reshape(x_test.shape[0], height, width, 1)"
      ],
      "execution_count": 0,
      "outputs": []
    },
    {
      "cell_type": "markdown",
      "metadata": {
        "id": "LnT0tbiyduyN",
        "colab_type": "text"
      },
      "source": [
        "In this example, to make the probability distribution of a single pixel easier to be defined, we decide to quantisise the number of possible values that a pixel could have. Originally, in the MNIST dataset the pixel are represented bya  a uint8 variable, beeing able assume values between [0, 255]. In this example, we restring the image to have only 4 different values ([0, 3])."
      ]
    },
    {
      "cell_type": "code",
      "metadata": {
        "id": "gwfeosbzPOeo",
        "colab_type": "code",
        "colab": {}
      },
      "source": [
        "def quantise(images, q_levels):\n",
        "    \"\"\"Quantise image into q levels\"\"\"\n",
        "    return (np.digitize(images, np.arange(q_levels) / q_levels) - 1).astype('float32')"
      ],
      "execution_count": 0,
      "outputs": []
    },
    {
      "cell_type": "code",
      "metadata": {
        "id": "8h806UxIPkKr",
        "colab_type": "code",
        "colab": {}
      },
      "source": [
        "# Quantise the input data in q levels\n",
        "q_levels = 4\n",
        "x_train_quantised = quantise(x_train, q_levels)\n",
        "x_test_quantised = quantise(x_test, q_levels)"
      ],
      "execution_count": 0,
      "outputs": []
    },
    {
      "cell_type": "markdown",
      "metadata": {
        "id": "3twbZSiGfBQP",
        "colab_type": "text"
      },
      "source": [
        "Using the tensorflow.Data API, we defined the input data streams for our model during the training and the evaluation. In these dataset, we define the inputs as the images with the 4 levels normaized to be between [0, 1] and the target values are the categoricals pixels values between [0, 3]."
      ]
    },
    {
      "cell_type": "code",
      "metadata": {
        "id": "eQrNmco9Pxzo",
        "colab_type": "code",
        "outputId": "0029130a-a034-448d-eb19-fecf1ae1dbff",
        "colab": {
          "base_uri": "https://localhost:8080/",
          "height": 89
        }
      },
      "source": [
        "# Creating input stream using tf.data API\n",
        "batch_size = 256\n",
        "train_buf = 60000\n",
        "\n",
        "train_dataset = tf.data.Dataset.from_tensor_slices((x_train_quantised / (q_levels - 1),\n",
        "                                                    x_train_quantised.astype('int32')))\n",
        "train_dataset = train_dataset.shuffle(buffer_size=train_buf)\n",
        "train_dataset = train_dataset.batch(batch_size)\n",
        "\n",
        "test_dataset = tf.data.Dataset.from_tensor_slices((x_test_quantised / (q_levels - 1),\n",
        "                                                   x_test_quantised.astype('int32')))\n",
        "test_dataset = test_dataset.batch(batch_size)"
      ],
      "execution_count": 0,
      "outputs": [
        {
          "output_type": "stream",
          "text": [
            "WARNING:tensorflow:From /usr/local/lib/python3.6/dist-packages/tensorflow_core/python/data/util/random_seed.py:58: where (from tensorflow.python.ops.array_ops) is deprecated and will be removed in a future version.\n",
            "Instructions for updating:\n",
            "Use tf.where in 2.0, which has the same broadcast rule as np.where\n"
          ],
          "name": "stdout"
        }
      ]
    },
    {
      "cell_type": "markdown",
      "metadata": {
        "id": "uGUFT_0eZGIY",
        "colab_type": "text"
      },
      "source": [
        "## Masked Convolutions\n",
        "\n",
        "When using the convolution operations, PixelCNN can parallelly learn the distribution of all pixels in the image. However, the receptive field of a standard convolutional violates the sequential prediction of autoregressive models. When processing the data of a central pixel, the convolutional filter considers all the pixels around it to calculate the output feature map, not only the previous pixels. \n",
        "\n",
        "To solve this problem, masks are adopted block information flow from the future pixels.\n",
        "\n",
        "Masking can be done by zeroing out all the pixels that should not be considered. In our implementation, a mask with the same size to the convolutional filter with values 1 and 0 was created. This mask was multiplied with the weight tensor before doing the convolution operation.\n",
        "\n",
        "In the pixelCNN, there are two types of masks: type A and type B.\n",
        "\n",
        "*\tMask A: this mask is applied only to the first convolutional layer. It restricts to access to the pixel of interest by zeroing the center pixel in mask. This way, we guarantee model will not access the pixel that it is about to predict. \n",
        "\n",
        "*\tMask B: This mask is applied to all the subsequent convolutional layers and relaxes the restrictions of mask A by allowing the connection from a pixel to itself. \n",
        "\n",
        "Below, we have the masks defined inside a keras layer named MasekdConv2D. In this layer, besides the parameters weigths and bias, we have the constant mask defininng the pixels to be zeroed and the type of mask (A or B) (Lines 41 to 47).\n",
        "\n",
        "Finally, the mask is applied before the convolution (Line 50).\n"
      ]
    },
    {
      "cell_type": "code",
      "metadata": {
        "id": "qxhdp6wqPESj",
        "colab_type": "code",
        "colab": {}
      },
      "source": [
        "class MaskedConv2D(tf.keras.layers.Layer):\n",
        "    \"\"\"Convolutional layers with masks for autoregressive models\n",
        "\n",
        "    Convolutional layers with simple implementation to have masks type A and B.\n",
        "    \"\"\"\n",
        "\n",
        "    def __init__(self,\n",
        "                 mask_type,\n",
        "                 filters,\n",
        "                 kernel_size,\n",
        "                 strides=1,\n",
        "                 padding='same',\n",
        "                 kernel_initializer='glorot_uniform',\n",
        "                 bias_initializer='zeros'):\n",
        "        super(MaskedConv2D, self).__init__()\n",
        "\n",
        "        assert mask_type in {'A', 'B'}\n",
        "        self.mask_type = mask_type\n",
        "\n",
        "        self.filters = filters\n",
        "        self.kernel_size = kernel_size\n",
        "        self.strides = strides\n",
        "        self.padding = padding.upper()\n",
        "        self.kernel_initializer = keras.initializers.get(kernel_initializer)\n",
        "        self.bias_initializer = keras.initializers.get(bias_initializer)\n",
        "\n",
        "    def build(self, input_shape):\n",
        "        self.kernel = self.add_weight(\"kernel\",\n",
        "                                      shape=(self.kernel_size,\n",
        "                                             self.kernel_size,\n",
        "                                             int(input_shape[-1]),\n",
        "                                             self.filters),\n",
        "                                      initializer=self.kernel_initializer,\n",
        "                                      trainable=True)\n",
        "\n",
        "        self.bias = self.add_weight(\"bias\",\n",
        "                                    shape=(self.filters,),\n",
        "                                    initializer=self.bias_initializer,\n",
        "                                    trainable=True)\n",
        "\n",
        "        mask = np.ones(self.kernel.shape, dtype=np.float32)\n",
        "        mask[self.kernel_size // 2, self.kernel_size // 2 + (self.mask_type == 'B'):, :, :] = 0.\n",
        "        mask[self.kernel_size // 2 + 1:, :, :] = 0.\n",
        "\n",
        "        self.mask = tf.constant(mask,\n",
        "                                dtype=tf.float32,\n",
        "                                name='mask')\n",
        "\n",
        "    def call(self, input):\n",
        "        masked_kernel = tf.math.multiply(self.mask, self.kernel)\n",
        "        x = tf.nn.conv2d(input, masked_kernel, strides=[1, self.strides, self.strides, 1], padding=self.padding)\n",
        "        x = tf.nn.bias_add(x, self.bias)\n",
        "        return x"
      ],
      "execution_count": 0,
      "outputs": []
    },
    {
      "cell_type": "markdown",
      "metadata": {
        "id": "LoCfR38cZKDC",
        "colab_type": "text"
      },
      "source": [
        "## Residual blocks\n",
        "\n",
        "Another element that compose the PixelCNN architecture is the residual blocks."
      ]
    },
    {
      "cell_type": "code",
      "metadata": {
        "id": "vzvk2UL5PI6k",
        "colab_type": "code",
        "colab": {}
      },
      "source": [
        "class ResidualBlock(tf.keras.Model):\n",
        "    \"\"\"Residual blocks that compose pixelCNN\n",
        "\n",
        "    Blocks of layers with 3 convolutional layers and one residual connection.\n",
        "    Based on Figure 5 from [1] where h indicates number of filters.\n",
        "\n",
        "    Refs:\n",
        "    [1] - Oord, A. V. D., Kalchbrenner, N., & Kavukcuoglu, K. (2016). Pixel\n",
        "     recurrent neural networks. arXiv preprint arXiv:1601.06759.\n",
        "    \"\"\"\n",
        "\n",
        "    def __init__(self, h):\n",
        "        super(ResidualBlock, self).__init__(name='')\n",
        "\n",
        "        self.conv2a = keras.layers.Conv2D(filters=h, kernel_size=1, strides=1)\n",
        "        self.conv2b = MaskedConv2D(mask_type='B', filters=h, kernel_size=3, strides=1)\n",
        "        self.conv2c = keras.layers.Conv2D(filters=2 * h, kernel_size=1, strides=1)\n",
        "\n",
        "    def call(self, input_tensor):\n",
        "        x = tf.nn.relu(input_tensor)\n",
        "        x = self.conv2a(x)\n",
        "\n",
        "        x = tf.nn.relu(x)\n",
        "        x = self.conv2b(x)\n",
        "\n",
        "        x = tf.nn.relu(x)\n",
        "        x = self.conv2c(x)\n",
        "\n",
        "        x += input_tensor\n",
        "        return x"
      ],
      "execution_count": 0,
      "outputs": []
    },
    {
      "cell_type": "markdown",
      "metadata": {
        "id": "e5aGeua5ZNzz",
        "colab_type": "text"
      },
      "source": [
        "## PixelCNN architecture\n",
        "\n",
        "In Oord et al. 2016, the PixelCNN uses the following architecture (Figure X):\n",
        "\n",
        "**FIGURA**\n",
        "\n",
        "the first layer is a masked convolution (type A) with 7x7 filters. Then, 15 residuals blocks were used. Each block process the data with a combination of 3x3 layers convolutional layers with mask type B and 1x1 standard convolutional layers. Between each convolutional layer there is also a non-linearity ReLU. After these layers, a residual connection is added. Finally, the network has a sequence of RELU-CONV-RELU-CONV using standard convolutional layers, where both have 1x1 filters. Then, the output layer is a softmax layer which predicts the value among all possible values of a pixel. So, this softmax layer had the image dimension (because we want an output value for each pixel) times the number of possible values (for example, 256 pixels values)."
      ]
    },
    {
      "cell_type": "code",
      "metadata": {
        "id": "F7jBV3YUP7WB",
        "colab_type": "code",
        "colab": {}
      },
      "source": [
        "# Create PixelCNN model\n",
        "inputs = keras.layers.Input(shape=(height, width, n_channel))\n",
        "x = MaskedConv2D(mask_type='A', filters=128, kernel_size=7, strides=1)(inputs)\n",
        "\n",
        "for i in range(15):\n",
        "    x = ResidualBlock(h=64)(x)\n",
        "\n",
        "x = keras.layers.Activation(activation='relu')(x)\n",
        "x = keras.layers.Conv2D(filters=128, kernel_size=1, strides=1)(x)\n",
        "x = keras.layers.Activation(activation='relu')(x)\n",
        "x = keras.layers.Conv2D(filters=128, kernel_size=1, strides=1)(x)\n",
        "x = keras.layers.Conv2D(filters=n_channel * q_levels, kernel_size=1, strides=1)(x)  # shape [N,H,W,DC]\n",
        "\n",
        "pixelcnn = tf.keras.Model(inputs=inputs, outputs=x)"
      ],
      "execution_count": 0,
      "outputs": []
    },
    {
      "cell_type": "markdown",
      "metadata": {
        "id": "gQ5d_FaDh9gY",
        "colab_type": "text"
      },
      "source": [
        "In this implementation we use a simple Adam optimizer with learning rate decay to train the neural network. The loss function is defined by the crossentropy (that in this case is equivalent to minimizing the negative log-likelihood of the training data)."
      ]
    },
    {
      "cell_type": "code",
      "metadata": {
        "id": "ChbH5SB4P-k1",
        "colab_type": "code",
        "colab": {}
      },
      "source": [
        "# Prepare optimizer and loss function\n",
        "lr_decay = 0.9995\n",
        "learning_rate = 1e-3\n",
        "optimizer = tf.keras.optimizers.Adam(lr=learning_rate)\n",
        "\n",
        "compute_loss = tf.keras.losses.CategoricalCrossentropy(from_logits=True)"
      ],
      "execution_count": 0,
      "outputs": []
    },
    {
      "cell_type": "markdown",
      "metadata": {
        "id": "nQRb1AD8iV4S",
        "colab_type": "text"
      },
      "source": [
        "The training step is defined by the forward propagation throgh the model, and then the outputs are reshaped to work with several inputs channels (like RGB channels). Finally, the gradients are calculated, clipped to be between [-1, 1], and applied to upgrade the PixelCNN parameters."
      ]
    },
    {
      "cell_type": "code",
      "metadata": {
        "id": "HUBXLETLQA81",
        "colab_type": "code",
        "colab": {}
      },
      "source": [
        "@tf.function\n",
        "def train_step(batch_x, batch_y):\n",
        "    with tf.GradientTape() as ae_tape:\n",
        "        logits = pixelcnn(batch_x, training=True)\n",
        "\n",
        "        logits = tf.reshape(logits, [-1, height, width, q_levels, n_channel])  # shape [N,H,W,DC] -> [N,H,W,D,C]\n",
        "        logits = tf.transpose(logits, perm=[0, 1, 2, 4, 3])  # shape [N,H,W,D,C] -> [N,H,W,C,D]\n",
        "\n",
        "        loss = compute_loss(tf.one_hot(batch_y, q_levels), logits)\n",
        "\n",
        "    gradients = ae_tape.gradient(loss, pixelcnn.trainable_variables)\n",
        "    gradients, _ = tf.clip_by_global_norm(gradients, 1.0)\n",
        "    optimizer.apply_gradients(zip(gradients, pixelcnn.trainable_variables))\n",
        "\n",
        "    return loss"
      ],
      "execution_count": 0,
      "outputs": []
    },
    {
      "cell_type": "markdown",
      "metadata": {
        "id": "H4d0Qwy-jA10",
        "colab_type": "text"
      },
      "source": [
        "In this implementation, we defined the trainig loop with 30 epochs."
      ]
    },
    {
      "cell_type": "code",
      "metadata": {
        "id": "hpu7iZrSQErQ",
        "colab_type": "code",
        "outputId": "e156b6cc-1abe-4e7f-8c55-899639f6a7b0",
        "colab": {
          "base_uri": "https://localhost:8080/",
          "height": 1000
        }
      },
      "source": [
        "# Training loop\n",
        "n_epochs = 30\n",
        "n_iter = int(np.ceil(x_train_quantised.shape[0] / batch_size))\n",
        "for epoch in range(n_epochs):\n",
        "    start_epoch = time.time()\n",
        "    for i_iter, (batch_x, batch_y) in enumerate(train_dataset):\n",
        "        start = time.time()\n",
        "        optimizer.lr = optimizer.lr * lr_decay\n",
        "        loss = train_step(batch_x, batch_y)\n",
        "        iter_time = time.time() - start\n",
        "        if i_iter % 100 == 0:\n",
        "            print('EPOCH {:3d}: ITER {:4d}/{:4d} TIME: {:.2f} LOSS: {:.4f}'.format(epoch,\n",
        "                                                                                   i_iter, n_iter,\n",
        "                                                                                   iter_time,\n",
        "                                                                                   loss))\n",
        "    epoch_time = time.time() - start_epoch\n",
        "    print('EPOCH {:3d}: TIME: {:.2f} ETA: {:.2f}'.format(epoch,\n",
        "                                                         epoch_time,\n",
        "                                                         epoch_time * (n_epochs - epoch)))\n"
      ],
      "execution_count": 0,
      "outputs": [
        {
          "output_type": "stream",
          "text": [
            "EPOCH   0: ITER    0/ 235 TIME: 6.42 LOSS: 1.3943\n",
            "EPOCH   0: ITER  100/ 235 TIME: 0.91 LOSS: 0.1695\n",
            "EPOCH   0: ITER  200/ 235 TIME: 0.91 LOSS: 0.1603\n",
            "EPOCH   0: TIME: 223.48 ETA: 6704.53\n",
            "EPOCH   1: ITER    0/ 235 TIME: 0.03 LOSS: 0.1632\n",
            "EPOCH   1: ITER  100/ 235 TIME: 0.91 LOSS: 0.1561\n",
            "EPOCH   1: ITER  200/ 235 TIME: 0.91 LOSS: 0.1529\n",
            "EPOCH   1: TIME: 215.46 ETA: 6248.45\n",
            "EPOCH   2: ITER    0/ 235 TIME: 0.03 LOSS: 0.1595\n",
            "EPOCH   2: ITER  100/ 235 TIME: 0.91 LOSS: 0.1495\n",
            "EPOCH   2: ITER  200/ 235 TIME: 0.93 LOSS: 0.1465\n",
            "EPOCH   2: TIME: 215.54 ETA: 6035.08\n",
            "EPOCH   3: ITER    0/ 235 TIME: 0.03 LOSS: 0.1514\n",
            "EPOCH   3: ITER  100/ 235 TIME: 0.92 LOSS: 0.1492\n",
            "EPOCH   3: ITER  200/ 235 TIME: 0.91 LOSS: 0.1498\n",
            "EPOCH   3: TIME: 215.44 ETA: 5817.01\n",
            "EPOCH   4: ITER    0/ 235 TIME: 0.03 LOSS: 0.1493\n",
            "EPOCH   4: ITER  100/ 235 TIME: 0.92 LOSS: 0.1449\n",
            "EPOCH   4: ITER  200/ 235 TIME: 0.91 LOSS: 0.1494\n",
            "EPOCH   4: TIME: 215.59 ETA: 5605.28\n",
            "EPOCH   5: ITER    0/ 235 TIME: 0.03 LOSS: 0.1458\n",
            "EPOCH   5: ITER  100/ 235 TIME: 0.91 LOSS: 0.1450\n",
            "EPOCH   5: ITER  200/ 235 TIME: 0.92 LOSS: 0.1418\n",
            "EPOCH   5: TIME: 215.58 ETA: 5389.50\n",
            "EPOCH   6: ITER    0/ 235 TIME: 0.03 LOSS: 0.1473\n",
            "EPOCH   6: ITER  100/ 235 TIME: 0.91 LOSS: 0.1438\n",
            "EPOCH   6: ITER  200/ 235 TIME: 0.92 LOSS: 0.1422\n",
            "EPOCH   6: TIME: 215.53 ETA: 5172.84\n",
            "EPOCH   7: ITER    0/ 235 TIME: 0.03 LOSS: 0.1466\n",
            "EPOCH   7: ITER  100/ 235 TIME: 0.91 LOSS: 0.1464\n",
            "EPOCH   7: ITER  200/ 235 TIME: 0.91 LOSS: 0.1443\n",
            "EPOCH   7: TIME: 215.51 ETA: 4956.83\n",
            "EPOCH   8: ITER    0/ 235 TIME: 0.03 LOSS: 0.1450\n",
            "EPOCH   8: ITER  100/ 235 TIME: 0.91 LOSS: 0.1420\n",
            "EPOCH   8: ITER  200/ 235 TIME: 0.92 LOSS: 0.1438\n",
            "EPOCH   8: TIME: 215.65 ETA: 4744.22\n",
            "EPOCH   9: ITER    0/ 235 TIME: 0.03 LOSS: 0.1450\n",
            "EPOCH   9: ITER  100/ 235 TIME: 0.91 LOSS: 0.1389\n",
            "EPOCH   9: ITER  200/ 235 TIME: 0.92 LOSS: 0.1443\n",
            "EPOCH   9: TIME: 215.74 ETA: 4530.56\n",
            "EPOCH  10: ITER    0/ 235 TIME: 0.03 LOSS: 0.1424\n",
            "EPOCH  10: ITER  100/ 235 TIME: 0.91 LOSS: 0.1493\n",
            "EPOCH  10: ITER  200/ 235 TIME: 0.91 LOSS: 0.1442\n",
            "EPOCH  10: TIME: 215.78 ETA: 4315.54\n",
            "EPOCH  11: ITER    0/ 235 TIME: 0.03 LOSS: 0.1444\n",
            "EPOCH  11: ITER  100/ 235 TIME: 0.91 LOSS: 0.1393\n",
            "EPOCH  11: ITER  200/ 235 TIME: 0.92 LOSS: 0.1445\n",
            "EPOCH  11: TIME: 215.72 ETA: 4098.74\n",
            "EPOCH  12: ITER    0/ 235 TIME: 0.03 LOSS: 0.1461\n",
            "EPOCH  12: ITER  100/ 235 TIME: 0.92 LOSS: 0.1413\n",
            "EPOCH  12: ITER  200/ 235 TIME: 0.91 LOSS: 0.1447\n",
            "EPOCH  12: TIME: 215.73 ETA: 3883.10\n",
            "EPOCH  13: ITER    0/ 235 TIME: 0.03 LOSS: 0.1400\n",
            "EPOCH  13: ITER  100/ 235 TIME: 0.91 LOSS: 0.1418\n",
            "EPOCH  13: ITER  200/ 235 TIME: 0.91 LOSS: 0.1434\n",
            "EPOCH  13: TIME: 215.81 ETA: 3668.83\n",
            "EPOCH  14: ITER    0/ 235 TIME: 0.03 LOSS: 0.1408\n",
            "EPOCH  14: ITER  100/ 235 TIME: 0.92 LOSS: 0.1401\n",
            "EPOCH  14: ITER  200/ 235 TIME: 0.91 LOSS: 0.1401\n",
            "EPOCH  14: TIME: 215.75 ETA: 3451.93\n",
            "EPOCH  15: ITER    0/ 235 TIME: 0.03 LOSS: 0.1426\n",
            "EPOCH  15: ITER  100/ 235 TIME: 0.91 LOSS: 0.1438\n",
            "EPOCH  15: ITER  200/ 235 TIME: 0.91 LOSS: 0.1421\n",
            "EPOCH  15: TIME: 215.75 ETA: 3236.31\n",
            "EPOCH  16: ITER    0/ 235 TIME: 0.03 LOSS: 0.1403\n",
            "EPOCH  16: ITER  100/ 235 TIME: 0.91 LOSS: 0.1415\n",
            "EPOCH  16: ITER  200/ 235 TIME: 0.91 LOSS: 0.1413\n",
            "EPOCH  16: TIME: 215.81 ETA: 3021.34\n",
            "EPOCH  17: ITER    0/ 235 TIME: 0.03 LOSS: 0.1383\n",
            "EPOCH  17: ITER  100/ 235 TIME: 0.92 LOSS: 0.1386\n",
            "EPOCH  17: ITER  200/ 235 TIME: 0.91 LOSS: 0.1396\n",
            "EPOCH  17: TIME: 215.72 ETA: 2804.37\n",
            "EPOCH  18: ITER    0/ 235 TIME: 0.03 LOSS: 0.1366\n",
            "EPOCH  18: ITER  100/ 235 TIME: 0.91 LOSS: 0.1391\n",
            "EPOCH  18: ITER  200/ 235 TIME: 0.91 LOSS: 0.1420\n",
            "EPOCH  18: TIME: 215.87 ETA: 2590.38\n",
            "EPOCH  19: ITER    0/ 235 TIME: 0.03 LOSS: 0.1407\n",
            "EPOCH  19: ITER  100/ 235 TIME: 0.92 LOSS: 0.1372\n",
            "EPOCH  19: ITER  200/ 235 TIME: 0.89 LOSS: 0.1395\n",
            "EPOCH  19: TIME: 215.58 ETA: 2371.38\n",
            "EPOCH  20: ITER    0/ 235 TIME: 0.03 LOSS: 0.1381\n",
            "EPOCH  20: ITER  100/ 235 TIME: 0.91 LOSS: 0.1420\n",
            "EPOCH  20: ITER  200/ 235 TIME: 0.91 LOSS: 0.1427\n",
            "EPOCH  20: TIME: 214.67 ETA: 2146.69\n",
            "EPOCH  21: ITER    0/ 235 TIME: 0.04 LOSS: 0.1393\n",
            "EPOCH  21: ITER  100/ 235 TIME: 0.91 LOSS: 0.1451\n",
            "EPOCH  21: ITER  200/ 235 TIME: 0.92 LOSS: 0.1385\n",
            "EPOCH  21: TIME: 215.11 ETA: 1936.01\n",
            "EPOCH  22: ITER    0/ 235 TIME: 0.03 LOSS: 0.1348\n",
            "EPOCH  22: ITER  100/ 235 TIME: 0.91 LOSS: 0.1403\n",
            "EPOCH  22: ITER  200/ 235 TIME: 0.91 LOSS: 0.1380\n",
            "EPOCH  22: TIME: 215.91 ETA: 1727.26\n",
            "EPOCH  23: ITER    0/ 235 TIME: 0.03 LOSS: 0.1403\n",
            "EPOCH  23: ITER  100/ 235 TIME: 0.91 LOSS: 0.1373\n",
            "EPOCH  23: ITER  200/ 235 TIME: 0.91 LOSS: 0.1363\n",
            "EPOCH  23: TIME: 215.47 ETA: 1508.27\n",
            "EPOCH  24: ITER    0/ 235 TIME: 0.03 LOSS: 0.1385\n",
            "EPOCH  24: ITER  100/ 235 TIME: 0.92 LOSS: 0.1379\n",
            "EPOCH  24: ITER  200/ 235 TIME: 0.92 LOSS: 0.1404\n",
            "EPOCH  24: TIME: 215.51 ETA: 1293.05\n",
            "EPOCH  25: ITER    0/ 235 TIME: 0.03 LOSS: 0.1377\n",
            "EPOCH  25: ITER  100/ 235 TIME: 0.91 LOSS: 0.1408\n",
            "EPOCH  25: ITER  200/ 235 TIME: 0.92 LOSS: 0.1360\n",
            "EPOCH  25: TIME: 215.34 ETA: 1076.69\n",
            "EPOCH  26: ITER    0/ 235 TIME: 0.03 LOSS: 0.1402\n",
            "EPOCH  26: ITER  100/ 235 TIME: 0.91 LOSS: 0.1396\n",
            "EPOCH  26: ITER  200/ 235 TIME: 0.92 LOSS: 0.1381\n",
            "EPOCH  26: TIME: 215.65 ETA: 862.58\n",
            "EPOCH  27: ITER    0/ 235 TIME: 0.03 LOSS: 0.1398\n",
            "EPOCH  27: ITER  100/ 235 TIME: 0.91 LOSS: 0.1415\n",
            "EPOCH  27: ITER  200/ 235 TIME: 0.91 LOSS: 0.1395\n",
            "EPOCH  27: TIME: 215.66 ETA: 646.97\n",
            "EPOCH  28: ITER    0/ 235 TIME: 0.03 LOSS: 0.1370\n",
            "EPOCH  28: ITER  100/ 235 TIME: 0.92 LOSS: 0.1410\n",
            "EPOCH  28: ITER  200/ 235 TIME: 0.91 LOSS: 0.1394\n",
            "EPOCH  28: TIME: 216.53 ETA: 433.06\n",
            "EPOCH  29: ITER    0/ 235 TIME: 0.03 LOSS: 0.1374\n",
            "EPOCH  29: ITER  100/ 235 TIME: 0.92 LOSS: 0.1392\n",
            "EPOCH  29: ITER  200/ 235 TIME: 0.92 LOSS: 0.1392\n",
            "EPOCH  29: TIME: 216.70 ETA: 216.70\n"
          ],
          "name": "stdout"
        }
      ]
    },
    {
      "cell_type": "markdown",
      "metadata": {
        "id": "RUVLFcETjH0h",
        "colab_type": "text"
      },
      "source": [
        "To evaluate the performance of the model, we measured the NLL of the model in the test set. "
      ]
    },
    {
      "cell_type": "code",
      "metadata": {
        "id": "wwOpkugDVQuo",
        "colab_type": "code",
        "outputId": "0fc0fb98-3a1e-4115-c275-0c1698bf33c6",
        "colab": {
          "base_uri": "https://localhost:8080/",
          "height": 52
        }
      },
      "source": [
        "# Test\n",
        "test_loss = []\n",
        "for batch_x, batch_y in test_dataset:\n",
        "    logits = pixelcnn(batch_x, training=False)\n",
        "    logits = tf.reshape(logits, [-1, height, width, q_levels, n_channel])\n",
        "    logits = tf.transpose(logits, perm=[0, 1, 2, 4, 3])\n",
        "\n",
        "    # Calculate cross-entropy (= negative log-likelihood)\n",
        "    loss = compute_loss(tf.one_hot(batch_y, q_levels), logits)\n",
        "\n",
        "    test_loss.append(loss)\n",
        "print('nll : {:} nats'.format(np.array(test_loss).mean()))\n",
        "print('bits/dim : {:}'.format(np.array(test_loss).mean() / (height * width)))"
      ],
      "execution_count": 0,
      "outputs": [
        {
          "output_type": "stream",
          "text": [
            "nll : 0.14044268429279327 nats\n",
            "bits/dim : 0.00017913607690407305\n"
          ],
          "name": "stdout"
        }
      ]
    },
    {
      "cell_type": "markdown",
      "metadata": {
        "id": "riO4FtjKjRUR",
        "colab_type": "text"
      },
      "source": [
        "Finally, we sampled some images from the trained model. First, we sampled from the scratch, then we completed imaged partially occluded."
      ]
    },
    {
      "cell_type": "code",
      "metadata": {
        "id": "RKyMlBn-POpC",
        "colab_type": "code",
        "colab": {}
      },
      "source": [
        "def sample_from(distribution):\n",
        "    \"\"\"Sample random values from distribution\"\"\"\n",
        "    batch_size, bins = distribution.shape\n",
        "    return np.array([np.random.choice(bins, p=distr) for distr in distribution])"
      ],
      "execution_count": 0,
      "outputs": []
    },
    {
      "cell_type": "code",
      "metadata": {
        "id": "UXQ_GbDPVdiU",
        "colab_type": "code",
        "outputId": "6422a600-c27c-4f37-dc90-3fe266368bb4",
        "colab": {
          "base_uri": "https://localhost:8080/",
          "height": 526
        }
      },
      "source": [
        "# Generating new images\n",
        "samples = (np.random.rand(100, height, width, n_channel) * 0.01).astype('float32')\n",
        "for i in range(28):\n",
        "    for j in range(28):\n",
        "        logits = pixelcnn(samples)\n",
        "        logits = tf.reshape(logits, [-1, height, width, q_levels, n_channel])\n",
        "        logits = tf.transpose(logits, perm=[0, 1, 2, 4, 3])\n",
        "        probs = tf.nn.softmax(logits)\n",
        "        next_sample = probs[:, i, j, 0, :]\n",
        "        samples[:, i, j, 0] = sample_from(next_sample.numpy()) / (q_levels - 1)\n",
        "\n",
        "fig = plt.figure(figsize=(10, 10))\n",
        "for x in range(1, 10):\n",
        "    for y in range(1, 10):\n",
        "        ax = fig.add_subplot(10, 10, 10 * y + x)\n",
        "        ax.matshow(samples[10 * y + x, :, :, 0], cmap=matplotlib.cm.binary)\n",
        "        plt.xticks(np.array([]))\n",
        "        plt.yticks(np.array([]))\n",
        "plt.show()"
      ],
      "execution_count": 0,
      "outputs": [
        {
          "output_type": "display_data",
          "data": {
            "image/png": "[encoded data removed]",
            "text/plain": [
              "<Figure size 720x720 with 81 Axes>"
            ]
          },
          "metadata": {
            "tags": []
          }
        }
      ]
    },
    {
      "cell_type": "code",
      "metadata": {
        "id": "uJahzGf3XjjM",
        "colab_type": "code",
        "outputId": "7e715032-b0a0-4e6b-81bb-4ce696905f03",
        "colab": {
          "base_uri": "https://localhost:8080/",
          "height": 526
        }
      },
      "source": [
        "# Filling occluded images\n",
        "occlude_start_row = 14\n",
        "num_generated_images = 100\n",
        "samples = np.copy(x_test_quantised[0:num_generated_images, :, :, :])\n",
        "samples = samples / (q_levels - 1)\n",
        "samples[:, occlude_start_row:, :, :] = 0\n",
        "\n",
        "for i in range(occlude_start_row, height):\n",
        "    for j in range(width):\n",
        "        logits = pixelcnn(samples)\n",
        "        logits = tf.reshape(logits, [-1, height, width, q_levels, n_channel])\n",
        "        logits = tf.transpose(logits, perm=[0, 1, 2, 4, 3])\n",
        "        probs = tf.nn.softmax(logits)\n",
        "        next_sample = probs[:, i, j, 0, :]\n",
        "        samples[:, i, j, 0] = sample_from(next_sample.numpy()) / (q_levels - 1)\n",
        "\n",
        "fig = plt.figure(figsize=(10, 10))\n",
        "for x in range(1, 10):\n",
        "    for y in range(1, 10):\n",
        "        ax = fig.add_subplot(10, 10, 10 * y + x)\n",
        "        ax.matshow(samples[10 * y + x, :, :, 0], cmap=matplotlib.cm.binary)\n",
        "        plt.xticks(np.array([]))\n",
        "        plt.yticks(np.array([]))\n",
        "plt.show()"
      ],
      "execution_count": 0,
      "outputs": [
        {
          "output_type": "display_data",
          "data": {
            "image/png": "[encoded data removed]",
            "text/plain": [
              "<Figure size 720x720 with 81 Axes>"
            ]
          },
          "metadata": {
            "tags": []
          }
        }
      ]
    }
  ]
}