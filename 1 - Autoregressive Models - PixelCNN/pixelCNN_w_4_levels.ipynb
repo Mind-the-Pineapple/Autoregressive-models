{
  "nbformat": 4,
  "nbformat_minor": 0,
  "metadata": {
    "colab": {
      "name": "pixelCNN.ipynb",
      "version": "0.3.2",
      "provenance": [],
      "collapsed_sections": []
    },
    "kernelspec": {
      "name": "python3",
      "display_name": "Python 3"
    },
    "accelerator": "GPU"
  },
  "cells": [
    {
      "cell_type": "markdown",
      "metadata": {
        "id": "bU25WyouYYE3",
        "colab_type": "text"
      },
      "source": [
        "# Autoregressive Models - PixelCNN\n",
        "\n"
      ]
    },
    {
      "cell_type": "code",
      "metadata": {
        "id": "f25me9_Wpg3A",
        "colab_type": "code",
        "outputId": "a38b412c-1949-469c-8c11-5b1db85c6b50",
        "colab": {
          "base_uri": "https://localhost:8080/",
          "height": 521
        }
      },
      "source": [
        "! pip3 install tensorflow-gpu==2.0.0-rc1"
      ],
      "execution_count": 1,
      "outputs": [
        {
          "output_type": "stream",
          "text": [
            "Collecting tensorflow-gpu==2.0.0-rc1\n",
            "\u001b[?25l  Downloading https://files.pythonhosted.org/packages/73/cf/2fc69ba3e59edc8333e2676fa71b40197718dea7dc1282c79955cf6b2acb/tensorflow_gpu-2.0.0rc1-cp36-cp36m-manylinux2010_x86_64.whl (380.5MB)\n",
            "\u001b[K     |████████████████████████████████| 380.5MB 53kB/s \n",
            "\u001b[?25hRequirement already satisfied: absl-py>=0.7.0 in /usr/local/lib/python3.6/dist-packages (from tensorflow-gpu==2.0.0-rc1) (0.8.0)\n",
            "Requirement already satisfied: termcolor>=1.1.0 in /usr/local/lib/python3.6/dist-packages (from tensorflow-gpu==2.0.0-rc1) (1.1.0)\n",
            "Requirement already satisfied: numpy<2.0,>=1.16.0 in /usr/local/lib/python3.6/dist-packages (from tensorflow-gpu==2.0.0-rc1) (1.16.5)\n",
            "Collecting tf-estimator-nightly<1.14.0.dev2019080602,>=1.14.0.dev2019080601 (from tensorflow-gpu==2.0.0-rc1)\n",
            "\u001b[?25l  Downloading https://files.pythonhosted.org/packages/21/28/f2a27a62943d5f041e4a6fd404b2d21cb7c59b2242a4e73b03d9ba166552/tf_estimator_nightly-1.14.0.dev2019080601-py2.py3-none-any.whl (501kB)\n",
            "\u001b[K     |████████████████████████████████| 501kB 39.8MB/s \n",
            "\u001b[?25hRequirement already satisfied: keras-applications>=1.0.8 in /usr/local/lib/python3.6/dist-packages (from tensorflow-gpu==2.0.0-rc1) (1.0.8)\n",
            "Requirement already satisfied: astor>=0.6.0 in /usr/local/lib/python3.6/dist-packages (from tensorflow-gpu==2.0.0-rc1) (0.8.0)\n",
            "Requirement already satisfied: keras-preprocessing>=1.0.5 in /usr/local/lib/python3.6/dist-packages (from tensorflow-gpu==2.0.0-rc1) (1.1.0)\n",
            "Requirement already satisfied: gast>=0.2.0 in /usr/local/lib/python3.6/dist-packages (from tensorflow-gpu==2.0.0-rc1) (0.2.2)\n",
            "Requirement already satisfied: six>=1.10.0 in /usr/local/lib/python3.6/dist-packages (from tensorflow-gpu==2.0.0-rc1) (1.12.0)\n",
            "Requirement already satisfied: google-pasta>=0.1.6 in /usr/local/lib/python3.6/dist-packages (from tensorflow-gpu==2.0.0-rc1) (0.1.7)\n",
            "Requirement already satisfied: protobuf>=3.6.1 in /usr/local/lib/python3.6/dist-packages (from tensorflow-gpu==2.0.0-rc1) (3.7.1)\n",
            "Requirement already satisfied: grpcio>=1.8.6 in /usr/local/lib/python3.6/dist-packages (from tensorflow-gpu==2.0.0-rc1) (1.15.0)\n",
            "Requirement already satisfied: wrapt>=1.11.1 in /usr/local/lib/python3.6/dist-packages (from tensorflow-gpu==2.0.0-rc1) (1.11.2)\n",
            "Requirement already satisfied: opt-einsum>=2.3.2 in /usr/local/lib/python3.6/dist-packages (from tensorflow-gpu==2.0.0-rc1) (3.0.1)\n",
            "Collecting tb-nightly<1.15.0a20190807,>=1.15.0a20190806 (from tensorflow-gpu==2.0.0-rc1)\n",
            "\u001b[?25l  Downloading https://files.pythonhosted.org/packages/bc/88/24b5fb7280e74c7cf65bde47c171547fd02afb3840cff41bcbe9270650f5/tb_nightly-1.15.0a20190806-py3-none-any.whl (4.3MB)\n",
            "\u001b[K     |████████████████████████████████| 4.3MB 33.2MB/s \n",
            "\u001b[?25hRequirement already satisfied: wheel>=0.26 in /usr/local/lib/python3.6/dist-packages (from tensorflow-gpu==2.0.0-rc1) (0.33.6)\n",
            "Requirement already satisfied: h5py in /usr/local/lib/python3.6/dist-packages (from keras-applications>=1.0.8->tensorflow-gpu==2.0.0-rc1) (2.8.0)\n",
            "Requirement already satisfied: setuptools in /usr/local/lib/python3.6/dist-packages (from protobuf>=3.6.1->tensorflow-gpu==2.0.0-rc1) (41.2.0)\n",
            "Requirement already satisfied: werkzeug>=0.11.15 in /usr/local/lib/python3.6/dist-packages (from tb-nightly<1.15.0a20190807,>=1.15.0a20190806->tensorflow-gpu==2.0.0-rc1) (0.15.6)\n",
            "Requirement already satisfied: markdown>=2.6.8 in /usr/local/lib/python3.6/dist-packages (from tb-nightly<1.15.0a20190807,>=1.15.0a20190806->tensorflow-gpu==2.0.0-rc1) (3.1.1)\n",
            "Installing collected packages: tf-estimator-nightly, tb-nightly, tensorflow-gpu\n",
            "Successfully installed tb-nightly-1.15.0a20190806 tensorflow-gpu-2.0.0rc1 tf-estimator-nightly-1.14.0.dev2019080601\n"
          ],
          "name": "stdout"
        }
      ]
    },
    {
      "cell_type": "code",
      "metadata": {
        "id": "Syt9hLISPC1p",
        "colab_type": "code",
        "colab": {}
      },
      "source": [
        "import random as rn\n",
        "import time\n",
        "\n",
        "import matplotlib\n",
        "import matplotlib.pyplot as plt\n",
        "import numpy as np\n",
        "import tensorflow as tf\n",
        "from tensorflow import keras"
      ],
      "execution_count": 0,
      "outputs": []
    },
    {
      "cell_type": "code",
      "metadata": {
        "id": "JB9UVlLzPWI_",
        "colab_type": "code",
        "colab": {}
      },
      "source": [
        "# Defining random seeds\n",
        "random_seed = 42\n",
        "tf.random.set_seed(random_seed)\n",
        "np.random.seed(random_seed)\n",
        "rn.seed(random_seed)"
      ],
      "execution_count": 0,
      "outputs": []
    },
    {
      "cell_type": "code",
      "metadata": {
        "id": "iLud0DUePdyI",
        "colab_type": "code",
        "colab": {
          "base_uri": "https://localhost:8080/",
          "height": 52
        },
        "outputId": "eb2c545d-aca6-4d2b-ab1b-423f9964df60"
      },
      "source": [
        "# Loading data\n",
        "(x_train, y_train), (x_test, y_test) = tf.keras.datasets.mnist.load_data()\n",
        "\n",
        "x_train = x_train.astype('float32') / 255.\n",
        "x_test = x_test.astype('float32') / 255.\n",
        "\n",
        "x_train = x_train.reshape(x_train.shape[0], 28, 28, 1)\n",
        "x_test = x_test.reshape(x_test.shape[0], 28, 28, 1)"
      ],
      "execution_count": 4,
      "outputs": [
        {
          "output_type": "stream",
          "text": [
            "Downloading data from https://storage.googleapis.com/tensorflow/tf-keras-datasets/mnist.npz\n",
            "11493376/11490434 [==============================] - 0s 0us/step\n"
          ],
          "name": "stdout"
        }
      ]
    },
    {
      "cell_type": "code",
      "metadata": {
        "id": "gwfeosbzPOeo",
        "colab_type": "code",
        "colab": {}
      },
      "source": [
        "def quantisize(images, q_levels):\n",
        "    \"\"\"Digitize image into q levels\"\"\"\n",
        "    return (np.digitize(images, np.arange(q_levels) / q_levels) - 1).astype('float32')"
      ],
      "execution_count": 0,
      "outputs": []
    },
    {
      "cell_type": "code",
      "metadata": {
        "id": "8h806UxIPkKr",
        "colab_type": "code",
        "colab": {}
      },
      "source": [
        "# Quantisize the input data in q levels\n",
        "q_levels = 4\n",
        "x_train_quantised = quantisize(x_train, q_levels)\n",
        "x_test_quantised = quantisize(x_test, q_levels)"
      ],
      "execution_count": 0,
      "outputs": []
    },
    {
      "cell_type": "code",
      "metadata": {
        "id": "eQrNmco9Pxzo",
        "colab_type": "code",
        "outputId": "f0600866-7ed3-4135-c857-00d88a2c5b00",
        "colab": {
          "base_uri": "https://localhost:8080/",
          "height": 69
        }
      },
      "source": [
        "# Creating input stream using tf.data API\n",
        "batch_size = 255\n",
        "train_buf = 60000\n",
        "\n",
        "train_dataset = tf.data.Dataset.from_tensor_slices((x_train_quantised / (q_levels - 1),\n",
        "                                                    x_train_quantised.astype('int32')))\n",
        "train_dataset = train_dataset.shuffle(buffer_size=train_buf)\n",
        "train_dataset = train_dataset.batch(batch_size)\n",
        "\n",
        "test_dataset = tf.data.Dataset.from_tensor_slices((x_test_quantised / (q_levels - 1),\n",
        "                                                   x_test_quantised.astype('int32')))\n",
        "test_dataset = test_dataset.batch(batch_size)"
      ],
      "execution_count": 7,
      "outputs": [
        {
          "output_type": "stream",
          "text": [
            "WARNING:tensorflow:From /usr/local/lib/python3.6/dist-packages/tensorflow_core/python/data/util/random_seed.py:58: where (from tensorflow.python.ops.array_ops) is deprecated and will be removed in a future version.\n",
            "Instructions for updating:\n",
            "Use tf.where in 2.0, which has the same broadcast rule as np.where\n"
          ],
          "name": "stdout"
        }
      ]
    },
    {
      "cell_type": "markdown",
      "metadata": {
        "id": "uGUFT_0eZGIY",
        "colab_type": "text"
      },
      "source": [
        "## Masked Convolutions"
      ]
    },
    {
      "cell_type": "code",
      "metadata": {
        "id": "qxhdp6wqPESj",
        "colab_type": "code",
        "colab": {}
      },
      "source": [
        "class MaskedConv2D(tf.keras.layers.Layer):\n",
        "    \"\"\"Convolutional layers with masks for autoregressive models\n",
        "\n",
        "    Convolutional layers with simple implementation to have masks type A and B.\n",
        "    \"\"\"\n",
        "\n",
        "    def __init__(self,\n",
        "                 mask_type,\n",
        "                 filters,\n",
        "                 kernel_size,\n",
        "                 strides=1,\n",
        "                 padding='same',\n",
        "                 kernel_initializer='glorot_uniform',\n",
        "                 bias_initializer='zeros'):\n",
        "        super(MaskedConv2D, self).__init__()\n",
        "\n",
        "        assert mask_type in {'A', 'B'}\n",
        "        self.mask_type = mask_type\n",
        "\n",
        "        self.filters = filters\n",
        "        self.kernel_size = kernel_size\n",
        "        self.strides = strides\n",
        "        self.padding = padding.upper()\n",
        "        self.kernel_initializer = keras.initializers.get(kernel_initializer)\n",
        "        self.bias_initializer = keras.initializers.get(bias_initializer)\n",
        "\n",
        "    def build(self, input_shape):\n",
        "        self.kernel = self.add_variable(\"kernel\",\n",
        "                                        shape=(self.kernel_size,\n",
        "                                               self.kernel_size,\n",
        "                                               int(input_shape[-1]),\n",
        "                                               self.filters),\n",
        "                                        initializer=self.kernel_initializer,\n",
        "                                        trainable=True)\n",
        "\n",
        "        self.bias = self.add_variable(\"bias\",\n",
        "                                      shape=(self.filters,),\n",
        "                                      initializer=self.bias_initializer,\n",
        "                                      trainable=True)\n",
        "\n",
        "        mask = np.ones(self.kernel.shape, dtype=np.float32)\n",
        "        mask[self.kernel_size // 2, self.kernel_size // 2 + (self.mask_type == 'B'):, :, :] = 0.\n",
        "        mask[self.kernel_size // 2 + 1:, :, :] = 0.\n",
        "\n",
        "        self.mask = tf.constant(mask,\n",
        "                                dtype=tf.float32,\n",
        "                                name='mask')\n",
        "\n",
        "    def call(self, input):\n",
        "        masked_kernel = tf.math.multiply(self.mask, self.kernel)\n",
        "        x = tf.nn.conv2d(input, masked_kernel, strides=[1, self.strides, self.strides, 1], padding=self.padding)\n",
        "        x = tf.nn.bias_add(x, self.bias)\n",
        "        return x"
      ],
      "execution_count": 0,
      "outputs": []
    },
    {
      "cell_type": "markdown",
      "metadata": {
        "id": "LoCfR38cZKDC",
        "colab_type": "text"
      },
      "source": [
        "## Residual blocks"
      ]
    },
    {
      "cell_type": "code",
      "metadata": {
        "id": "vzvk2UL5PI6k",
        "colab_type": "code",
        "colab": {}
      },
      "source": [
        "class ResidualBlock(tf.keras.Model):\n",
        "    \"\"\"Residual blocks that compose pixelCNN\n",
        "\n",
        "    Blocks of layers with 3 convolutional layers and one residual connection.\n",
        "    Based on Figure 5 from [1] where h indicates number of filters.\n",
        "\n",
        "    Refs:\n",
        "    [1] - Oord, A. V. D., Kalchbrenner, N., & Kavukcuoglu, K. (2016). Pixel\n",
        "     recurrent neural networks. arXiv preprint arXiv:1601.06759.\n",
        "    \"\"\"\n",
        "\n",
        "    def __init__(self, h):\n",
        "        super(ResidualBlock, self).__init__(name='')\n",
        "\n",
        "        self.conv2a = keras.layers.Conv2D(filters=h, kernel_size=1, strides=1)\n",
        "        self.conv2b = MaskedConv2D(mask_type='B', filters=h, kernel_size=3, strides=1)\n",
        "        self.conv2c = keras.layers.Conv2D(filters=2 * h, kernel_size=1, strides=1)\n",
        "\n",
        "    def call(self, input_tensor):\n",
        "        x = tf.nn.relu(input_tensor)\n",
        "        x = self.conv2a(x)\n",
        "\n",
        "        x = tf.nn.relu(x)\n",
        "        x = self.conv2b(x)\n",
        "\n",
        "        x = tf.nn.relu(x)\n",
        "        x = self.conv2c(x)\n",
        "\n",
        "        x += input_tensor\n",
        "        return x"
      ],
      "execution_count": 0,
      "outputs": []
    },
    {
      "cell_type": "markdown",
      "metadata": {
        "id": "e5aGeua5ZNzz",
        "colab_type": "text"
      },
      "source": [
        "## PixelCNN architecture"
      ]
    },
    {
      "cell_type": "code",
      "metadata": {
        "id": "F7jBV3YUP7WB",
        "colab_type": "code",
        "outputId": "1be69cca-0d1e-40c7-f969-8622b443b415",
        "colab": {
          "base_uri": "https://localhost:8080/",
          "height": 69
        }
      },
      "source": [
        "# Create PixelCNN model\n",
        "n_channel = 1\n",
        "\n",
        "inputs = keras.layers.Input(shape=(28, 28, 1))\n",
        "x = MaskedConv2D(mask_type='A', filters=128, kernel_size=7, strides=1)(inputs)\n",
        "\n",
        "for i in range(15):\n",
        "    x = ResidualBlock(h=64)(x)\n",
        "\n",
        "x = keras.layers.Activation(activation='relu')(x)\n",
        "x = keras.layers.Conv2D(filters=128, kernel_size=1, strides=1)(x)\n",
        "x = keras.layers.Activation(activation='relu')(x)\n",
        "x = keras.layers.Conv2D(filters=128, kernel_size=1, strides=1)(x)\n",
        "x = keras.layers.Conv2D(filters=n_channel * q_levels, kernel_size=1, strides=1)(x)  # shape [N,H,W,DC]\n",
        "\n",
        "pixelcnn = tf.keras.Model(inputs=inputs, outputs=x)"
      ],
      "execution_count": 10,
      "outputs": [
        {
          "output_type": "stream",
          "text": [
            "WARNING:tensorflow:From <ipython-input-8-0917034f1d16>:34: Layer.add_variable (from tensorflow.python.keras.engine.base_layer) is deprecated and will be removed in a future version.\n",
            "Instructions for updating:\n",
            "Please use `layer.add_weight` method instead.\n"
          ],
          "name": "stdout"
        }
      ]
    },
    {
      "cell_type": "code",
      "metadata": {
        "id": "ChbH5SB4P-k1",
        "colab_type": "code",
        "colab": {}
      },
      "source": [
        "learning_rate = 3e-4\n",
        "optimizer = tf.keras.optimizers.Adam(lr=learning_rate)\n",
        "\n",
        "compute_loss = tf.keras.losses.CategoricalCrossentropy(from_logits=True)"
      ],
      "execution_count": 0,
      "outputs": []
    },
    {
      "cell_type": "code",
      "metadata": {
        "id": "HUBXLETLQA81",
        "colab_type": "code",
        "colab": {}
      },
      "source": [
        "@tf.function\n",
        "def train_step(batch_x, batch_y):\n",
        "    with tf.GradientTape() as ae_tape:\n",
        "        logits = pixelcnn(batch_x, training=True)\n",
        "\n",
        "        logits = tf.reshape(logits, [-1, 28, 28, q_levels, n_channel])  # shape [N,H,W,DC] -> [N,H,W,D,C]\n",
        "        logits = tf.transpose(logits, perm=[0, 1, 2, 4, 3])  # shape [N,H,W,D,C] -> [N,H,W,C,D]\n",
        "\n",
        "        loss = compute_loss(tf.one_hot(batch_y, q_levels), logits)\n",
        "\n",
        "    gradients = ae_tape.gradient(loss, pixelcnn.trainable_variables)\n",
        "    gradients, _ = tf.clip_by_global_norm(gradients, 1.0)\n",
        "    optimizer.apply_gradients(zip(gradients, pixelcnn.trainable_variables))\n",
        "\n",
        "    return loss"
      ],
      "execution_count": 0,
      "outputs": []
    },
    {
      "cell_type": "code",
      "metadata": {
        "id": "hpu7iZrSQErQ",
        "colab_type": "code",
        "outputId": "1fc296c5-4401-4a1e-937d-96030d4f1334",
        "colab": {
          "base_uri": "https://localhost:8080/",
          "height": 1000
        }
      },
      "source": [
        "# Training\n",
        "n_epochs = 20\n",
        "n_iter = int(np.ceil(x_train_quantised.shape[0] / batch_size))\n",
        "for epoch in range(n_epochs):\n",
        "    start_epoch = time.time()\n",
        "    for i_iter, (batch_x, batch_y) in enumerate(train_dataset):\n",
        "        start = time.time()\n",
        "        loss = train_step(batch_x, batch_y)\n",
        "        iter_time = time.time() - start\n",
        "        if i_iter % 50 == 0:\n",
        "            print('EPOCH {:3d}: ITER {:4d}/{:4d} TIME: {:.2f} LOSS: {:.4f}'.format(epoch,\n",
        "                                                                                   i_iter, n_iter,\n",
        "                                                                                   iter_time,\n",
        "                                                                                   loss))\n",
        "    epoch_time = time.time() - start_epoch\n",
        "    print('EPOCH {:3d}: TIME: {:.2f} ETA: {:.2f}'.format(epoch,\n",
        "                                                         epoch_time,\n",
        "                                                         epoch_time * (n_epochs - epoch)))\n"
      ],
      "execution_count": 13,
      "outputs": [
        {
          "output_type": "stream",
          "text": [
            "EPOCH   0: ITER    0/ 236 TIME: 8.23 LOSS: 1.3943\n",
            "EPOCH   0: ITER   50/ 236 TIME: 0.93 LOSS: 0.2092\n",
            "EPOCH   0: ITER  100/ 236 TIME: 0.93 LOSS: 0.1780\n",
            "EPOCH   0: ITER  150/ 236 TIME: 0.94 LOSS: 0.1677\n",
            "EPOCH   0: ITER  200/ 236 TIME: 0.92 LOSS: 0.1742\n",
            "EPOCH   0: TIME: 229.08 ETA: 4581.53\n",
            "EPOCH   1: ITER    0/ 236 TIME: 0.03 LOSS: 0.1694\n",
            "EPOCH   1: ITER   50/ 236 TIME: 0.93 LOSS: 0.1645\n",
            "EPOCH   1: ITER  100/ 236 TIME: 0.93 LOSS: 0.1743\n",
            "EPOCH   1: ITER  150/ 236 TIME: 0.93 LOSS: 0.1568\n",
            "EPOCH   1: ITER  200/ 236 TIME: 0.93 LOSS: 0.1611\n",
            "EPOCH   1: TIME: 219.83 ETA: 4176.69\n",
            "EPOCH   2: ITER    0/ 236 TIME: 0.04 LOSS: 0.1670\n",
            "EPOCH   2: ITER   50/ 236 TIME: 0.93 LOSS: 0.1560\n",
            "EPOCH   2: ITER  100/ 236 TIME: 0.93 LOSS: 0.1552\n",
            "EPOCH   2: ITER  150/ 236 TIME: 0.93 LOSS: 0.1579\n",
            "EPOCH   2: ITER  200/ 236 TIME: 0.93 LOSS: 0.1538\n",
            "EPOCH   2: TIME: 219.73 ETA: 3955.16\n",
            "EPOCH   3: ITER    0/ 236 TIME: 0.10 LOSS: 0.1564\n",
            "EPOCH   3: ITER   50/ 236 TIME: 0.93 LOSS: 0.1601\n",
            "EPOCH   3: ITER  100/ 236 TIME: 0.93 LOSS: 0.1557\n",
            "EPOCH   3: ITER  150/ 236 TIME: 0.96 LOSS: 0.1549\n",
            "EPOCH   3: ITER  200/ 236 TIME: 0.92 LOSS: 0.1521\n",
            "EPOCH   3: TIME: 219.77 ETA: 3736.08\n",
            "EPOCH   4: ITER    0/ 236 TIME: 0.03 LOSS: 0.1534\n",
            "EPOCH   4: ITER   50/ 236 TIME: 0.93 LOSS: 0.1490\n",
            "EPOCH   4: ITER  100/ 236 TIME: 0.93 LOSS: 0.1530\n",
            "EPOCH   4: ITER  150/ 236 TIME: 0.92 LOSS: 0.1518\n",
            "EPOCH   4: ITER  200/ 236 TIME: 0.92 LOSS: 0.1528\n",
            "EPOCH   4: TIME: 219.78 ETA: 3516.43\n",
            "EPOCH   5: ITER    0/ 236 TIME: 0.03 LOSS: 0.1497\n",
            "EPOCH   5: ITER   50/ 236 TIME: 0.93 LOSS: 0.1516\n",
            "EPOCH   5: ITER  100/ 236 TIME: 0.93 LOSS: 0.1517\n",
            "EPOCH   5: ITER  150/ 236 TIME: 0.94 LOSS: 0.1508\n",
            "EPOCH   5: ITER  200/ 236 TIME: 0.93 LOSS: 0.1481\n",
            "EPOCH   5: TIME: 219.76 ETA: 3296.42\n",
            "EPOCH   6: ITER    0/ 236 TIME: 0.03 LOSS: 0.1510\n",
            "EPOCH   6: ITER   50/ 236 TIME: 0.93 LOSS: 0.1492\n",
            "EPOCH   6: ITER  100/ 236 TIME: 0.93 LOSS: 0.1447\n",
            "EPOCH   6: ITER  150/ 236 TIME: 0.93 LOSS: 0.1493\n",
            "EPOCH   6: ITER  200/ 236 TIME: 0.92 LOSS: 0.1519\n",
            "EPOCH   6: TIME: 219.77 ETA: 3076.79\n",
            "EPOCH   7: ITER    0/ 236 TIME: 0.03 LOSS: 0.1493\n",
            "EPOCH   7: ITER   50/ 236 TIME: 0.93 LOSS: 0.1497\n",
            "EPOCH   7: ITER  100/ 236 TIME: 0.93 LOSS: 0.1503\n",
            "EPOCH   7: ITER  150/ 236 TIME: 0.92 LOSS: 0.1498\n",
            "EPOCH   7: ITER  200/ 236 TIME: 0.93 LOSS: 0.1508\n",
            "EPOCH   7: TIME: 219.79 ETA: 2857.23\n",
            "EPOCH   8: ITER    0/ 236 TIME: 0.04 LOSS: 0.1495\n",
            "EPOCH   8: ITER   50/ 236 TIME: 0.93 LOSS: 0.1437\n",
            "EPOCH   8: ITER  100/ 236 TIME: 0.93 LOSS: 0.1488\n",
            "EPOCH   8: ITER  150/ 236 TIME: 0.93 LOSS: 0.1478\n",
            "EPOCH   8: ITER  200/ 236 TIME: 0.93 LOSS: 0.1479\n",
            "EPOCH   8: TIME: 219.71 ETA: 2636.51\n",
            "EPOCH   9: ITER    0/ 236 TIME: 0.04 LOSS: 0.1493\n",
            "EPOCH   9: ITER   50/ 236 TIME: 0.93 LOSS: 0.1483\n",
            "EPOCH   9: ITER  100/ 236 TIME: 0.93 LOSS: 0.1458\n",
            "EPOCH   9: ITER  150/ 236 TIME: 0.93 LOSS: 0.1474\n",
            "EPOCH   9: ITER  200/ 236 TIME: 0.93 LOSS: 0.1505\n",
            "EPOCH   9: TIME: 219.66 ETA: 2416.31\n",
            "EPOCH  10: ITER    0/ 236 TIME: 0.03 LOSS: 0.1452\n",
            "EPOCH  10: ITER   50/ 236 TIME: 0.92 LOSS: 0.1479\n",
            "EPOCH  10: ITER  100/ 236 TIME: 0.92 LOSS: 0.1490\n",
            "EPOCH  10: ITER  150/ 236 TIME: 0.92 LOSS: 0.1462\n",
            "EPOCH  10: ITER  200/ 236 TIME: 0.92 LOSS: 0.1491\n",
            "EPOCH  10: TIME: 219.64 ETA: 2196.39\n",
            "EPOCH  11: ITER    0/ 236 TIME: 0.03 LOSS: 0.1474\n",
            "EPOCH  11: ITER   50/ 236 TIME: 0.93 LOSS: 0.1478\n",
            "EPOCH  11: ITER  100/ 236 TIME: 0.93 LOSS: 0.1449\n",
            "EPOCH  11: ITER  150/ 236 TIME: 0.92 LOSS: 0.1465\n",
            "EPOCH  11: ITER  200/ 236 TIME: 0.79 LOSS: 0.1430\n",
            "EPOCH  11: TIME: 219.84 ETA: 1978.56\n",
            "EPOCH  12: ITER    0/ 236 TIME: 0.03 LOSS: 0.1490\n",
            "EPOCH  12: ITER   50/ 236 TIME: 0.92 LOSS: 0.1444\n",
            "EPOCH  12: ITER  100/ 236 TIME: 0.93 LOSS: 0.1466\n",
            "EPOCH  12: ITER  150/ 236 TIME: 0.93 LOSS: 0.1465\n",
            "EPOCH  12: ITER  200/ 236 TIME: 0.93 LOSS: 0.1458\n",
            "EPOCH  12: TIME: 219.92 ETA: 1759.38\n",
            "EPOCH  13: ITER    0/ 236 TIME: 0.04 LOSS: 0.1427\n",
            "EPOCH  13: ITER   50/ 236 TIME: 0.92 LOSS: 0.1452\n",
            "EPOCH  13: ITER  100/ 236 TIME: 0.92 LOSS: 0.1468\n",
            "EPOCH  13: ITER  150/ 236 TIME: 0.93 LOSS: 0.1446\n",
            "EPOCH  13: ITER  200/ 236 TIME: 0.93 LOSS: 0.1417\n",
            "EPOCH  13: TIME: 219.80 ETA: 1538.59\n",
            "EPOCH  14: ITER    0/ 236 TIME: 0.03 LOSS: 0.1434\n",
            "EPOCH  14: ITER   50/ 236 TIME: 0.93 LOSS: 0.1444\n",
            "EPOCH  14: ITER  100/ 236 TIME: 0.92 LOSS: 0.1483\n",
            "EPOCH  14: ITER  150/ 236 TIME: 0.93 LOSS: 0.1425\n",
            "EPOCH  14: ITER  200/ 236 TIME: 0.94 LOSS: 0.1410\n",
            "EPOCH  14: TIME: 219.76 ETA: 1318.54\n",
            "EPOCH  15: ITER    0/ 236 TIME: 0.03 LOSS: 0.1453\n",
            "EPOCH  15: ITER   50/ 236 TIME: 0.93 LOSS: 0.1445\n",
            "EPOCH  15: ITER  100/ 236 TIME: 0.93 LOSS: 0.1479\n",
            "EPOCH  15: ITER  150/ 236 TIME: 0.92 LOSS: 0.1459\n",
            "EPOCH  15: ITER  200/ 236 TIME: 0.92 LOSS: 0.1474\n",
            "EPOCH  15: TIME: 219.72 ETA: 1098.62\n",
            "EPOCH  16: ITER    0/ 236 TIME: 0.03 LOSS: 0.1431\n",
            "EPOCH  16: ITER   50/ 236 TIME: 0.96 LOSS: 0.1458\n",
            "EPOCH  16: ITER  100/ 236 TIME: 1.04 LOSS: 0.1436\n",
            "EPOCH  16: ITER  150/ 236 TIME: 0.94 LOSS: 0.1427\n",
            "EPOCH  16: ITER  200/ 236 TIME: 0.93 LOSS: 0.1413\n",
            "EPOCH  16: TIME: 219.66 ETA: 878.64\n",
            "EPOCH  17: ITER    0/ 236 TIME: 0.03 LOSS: 0.1407\n",
            "EPOCH  17: ITER   50/ 236 TIME: 0.93 LOSS: 0.1444\n",
            "EPOCH  17: ITER  100/ 236 TIME: 0.93 LOSS: 0.1415\n",
            "EPOCH  17: ITER  150/ 236 TIME: 0.93 LOSS: 0.1429\n",
            "EPOCH  17: ITER  200/ 236 TIME: 1.05 LOSS: 0.1437\n",
            "EPOCH  17: TIME: 219.63 ETA: 658.88\n",
            "EPOCH  18: ITER    0/ 236 TIME: 0.03 LOSS: 0.1392\n",
            "EPOCH  18: ITER   50/ 236 TIME: 0.93 LOSS: 0.1395\n",
            "EPOCH  18: ITER  100/ 236 TIME: 0.93 LOSS: 0.1414\n",
            "EPOCH  18: ITER  150/ 236 TIME: 0.93 LOSS: 0.1435\n",
            "EPOCH  18: ITER  200/ 236 TIME: 1.06 LOSS: 0.1409\n",
            "EPOCH  18: TIME: 219.68 ETA: 439.36\n",
            "EPOCH  19: ITER    0/ 236 TIME: 0.03 LOSS: 0.1431\n",
            "EPOCH  19: ITER   50/ 236 TIME: 0.93 LOSS: 0.1439\n",
            "EPOCH  19: ITER  100/ 236 TIME: 0.93 LOSS: 0.1411\n",
            "EPOCH  19: ITER  150/ 236 TIME: 0.93 LOSS: 0.1402\n",
            "EPOCH  19: ITER  200/ 236 TIME: 0.93 LOSS: 0.1463\n",
            "EPOCH  19: TIME: 219.92 ETA: 219.92\n"
          ],
          "name": "stdout"
        }
      ]
    },
    {
      "cell_type": "code",
      "metadata": {
        "id": "wwOpkugDVQuo",
        "colab_type": "code",
        "outputId": "e85821f8-3b28-4b56-e8d4-4ce92bdf380a",
        "colab": {
          "base_uri": "https://localhost:8080/",
          "height": 52
        }
      },
      "source": [
        "test_loss = []\n",
        "for batch_x, batch_y in test_dataset:\n",
        "    logits = pixelcnn(batch_x, training=False)\n",
        "\n",
        "    logits = tf.reshape(logits, [-1, 28, 28, q_levels, n_channel])\n",
        "    logits = tf.transpose(logits, perm=[0, 1, 2, 4, 3])\n",
        "\n",
        "    loss = compute_loss(tf.one_hot(batch_y, q_levels), logits)\n",
        "    test_loss.append(loss)\n",
        "print('nll:{:}'.format(np.array(test_loss).mean()))\n",
        "print('bits/dim:{:}'.format(np.array(test_loss).mean() / (28 * 28)))"
      ],
      "execution_count": 14,
      "outputs": [
        {
          "output_type": "stream",
          "text": [
            "nll:0.14347343146800995\n",
            "bits/dim:0.0001830018258520535\n"
          ],
          "name": "stdout"
        }
      ]
    },
    {
      "cell_type": "code",
      "metadata": {
        "id": "RKyMlBn-POpC",
        "colab_type": "code",
        "colab": {}
      },
      "source": [
        "def sample_from(distribution):\n",
        "    \"\"\"\"\"\"\n",
        "    batch_size, bins = distribution.shape\n",
        "    return np.array([np.random.choice(bins, p=distr) for distr in distribution])"
      ],
      "execution_count": 0,
      "outputs": []
    },
    {
      "cell_type": "code",
      "metadata": {
        "id": "UXQ_GbDPVdiU",
        "colab_type": "code",
        "outputId": "fa25380c-b7bb-4a77-b412-8dde52d735f5",
        "colab": {
          "base_uri": "https://localhost:8080/",
          "height": 526
        }
      },
      "source": [
        "# Generating new images\n",
        "samples = (np.random.rand(100, 28, 28, 1) * 0.01).astype('float32')\n",
        "for i in range(28):\n",
        "    for j in range(28):\n",
        "        A = pixelcnn(samples)\n",
        "        A = tf.reshape(A, [-1, 28, 28, q_levels, n_channel])\n",
        "        A = tf.transpose(A, perm=[0, 1, 2, 4, 3])\n",
        "        B = tf.nn.softmax(A)\n",
        "        next_sample = B[:, i, j, 0, :]\n",
        "        samples[:, i, j, 0] = sample_from(next_sample.numpy()) / (q_levels - 1)\n",
        "\n",
        "fig = plt.figure(figsize=(10,10))\n",
        "for x in range(1, 10):\n",
        "    for y in range(1, 10):\n",
        "        ax = fig.add_subplot(10, 10, 10 * y + x)\n",
        "        ax.matshow(samples[10 * y + x, :, :, 0], cmap=matplotlib.cm.binary)\n",
        "        plt.xticks(np.array([]))\n",
        "        plt.yticks(np.array([]))\n",
        "plt.show()"
      ],
      "execution_count": 16,
      "outputs": [
        {
          "output_type": "display_data",
          "data": {
            "image/png": "[encoded data removed]",
            "text/plain": [
              "<Figure size 720x720 with 81 Axes>"
            ]
          },
          "metadata": {
            "tags": []
          }
        }
      ]
    },
    {
      "cell_type": "code",
      "metadata": {
        "id": "uJahzGf3XjjM",
        "colab_type": "code",
        "outputId": "9c62c7ca-27d8-4f7e-8964-90ad967fb6cc",
        "colab": {
          "base_uri": "https://localhost:8080/",
          "height": 526
        }
      },
      "source": [
        "# Filling occluded images\n",
        "occlude_start_row = 14\n",
        "num_generated_images = 100\n",
        "samples = np.copy(x_test_quantised[0:num_generated_images, :, :, :])\n",
        "samples = samples / (q_levels - 1)\n",
        "samples[:, occlude_start_row:, :, :] = 0\n",
        "\n",
        "for i in range(occlude_start_row, 28):\n",
        "    for j in range(28):\n",
        "        A = pixelcnn(samples)\n",
        "        A = tf.reshape(A, [-1, 28, 28, q_levels, n_channel])\n",
        "        A = tf.transpose(A, perm=[0, 1, 2, 4, 3])\n",
        "        B = tf.nn.softmax(A)\n",
        "        next_sample = B[:, i, j, 0, :]\n",
        "        samples[:, i, j, 0] = sample_from(next_sample.numpy()) / (q_levels - 1)\n",
        "\n",
        "fig = plt.figure(figsize=(10,10))\n",
        "for x in range(1, 10):\n",
        "    for y in range(1, 10):\n",
        "        ax = fig.add_subplot(10, 10, 10 * y + x)\n",
        "        ax.matshow(samples[10 * y + x, :, :, 0], cmap=matplotlib.cm.binary)\n",
        "        plt.xticks(np.array([]))\n",
        "        plt.yticks(np.array([]))\n",
        "plt.show()"
      ],
      "execution_count": 17,
      "outputs": [
        {
          "output_type": "display_data",
          "data": {
            "image/png": "[encoded data removed]",
            "text/plain": [
              "<Figure size 720x720 with 81 Axes>"
            ]
          },
          "metadata": {
            "tags": []
          }
        }
      ]
    }
  ]
}