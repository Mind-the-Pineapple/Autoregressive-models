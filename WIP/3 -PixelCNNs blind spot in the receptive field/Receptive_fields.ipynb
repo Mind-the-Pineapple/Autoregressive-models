{
  "nbformat": 4,
  "nbformat_minor": 0,
  "metadata": {
    "colab": {
      "name": "Receptive fields.ipynb",
      "provenance": [],
      "collapsed_sections": []
    },
    "kernelspec": {
      "name": "python3",
      "display_name": "Python 3"
    }
  },
  "cells": [
    {
      "cell_type": "markdown",
      "metadata": {
        "id": "YqTKIYLooHsq",
        "colab_type": "text"
      },
      "source": [
        "# Comparing receptive fields"
      ]
    },
    {
      "cell_type": "code",
      "metadata": {
        "id": "wM-m3Z8CiLXU",
        "colab_type": "code",
        "colab": {}
      },
      "source": [
        ""
      ],
      "execution_count": 0,
      "outputs": []
    },
    {
      "cell_type": "code",
      "metadata": {
        "id": "gf5wwqP3ozaN",
        "colab_type": "code",
        "colab": {}
      },
      "source": [
        "import random as rn\n",
        "\n",
        "import matplotlib\n",
        "import matplotlib.pyplot as plt\n",
        "import numpy as np\n",
        "import tensorflow as tf\n",
        "from tensorflow import keras\n",
        "from tensorflow import nn\n",
        "from tensorflow.keras import initializers\n",
        "from tensorflow.keras.utils import Progbar"
      ],
      "execution_count": 0,
      "outputs": []
    },
    {
      "cell_type": "code",
      "metadata": {
        "id": "jEkll1yno2Vb",
        "colab_type": "code",
        "colab": {}
      },
      "source": [
        "# Defining random seeds\n",
        "random_seed = 42\n",
        "tf.random.set_seed(random_seed)\n",
        "np.random.seed(random_seed)\n",
        "rn.seed(random_seed)"
      ],
      "execution_count": 0,
      "outputs": []
    },
    {
      "cell_type": "code",
      "metadata": {
        "id": "yJ_JlzWco7ci",
        "colab_type": "code",
        "colab": {}
      },
      "source": [
        "class MaskedConv2D(keras.layers.Layer):\n",
        "    \"\"\"Convolutional layers with masks.\n",
        "\n",
        "    Convolutional layers with simple implementation of masks type A and B for\n",
        "    autoregressive models.\n",
        "\n",
        "    Arguments:\n",
        "    mask_type: one of `\"A\"` or `\"B\".`\n",
        "    filters: Integer, the dimensionality of the output space\n",
        "        (i.e. the number of output filters in the convolution).\n",
        "    kernel_size: An integer or tuple/list of 2 integers, specifying the\n",
        "        height and width of the 2D convolution window.\n",
        "        Can be a single integer to specify the same value for\n",
        "        all spatial dimensions.\n",
        "    strides: An integer or tuple/list of 2 integers,\n",
        "        specifying the strides of the convolution along the height and width.\n",
        "        Can be a single integer to specify the same value for\n",
        "        all spatial dimensions.\n",
        "        Specifying any stride value != 1 is incompatible with specifying\n",
        "        any `dilation_rate` value != 1.\n",
        "    padding: one of `\"valid\"` or `\"same\"` (case-insensitive).\n",
        "    kernel_initializer: Initializer for the `kernel` weights matrix.\n",
        "    bias_initializer: Initializer for the bias vector.\n",
        "    \"\"\"\n",
        "\n",
        "    def __init__(self,\n",
        "                 mask_type,\n",
        "                 filters,\n",
        "                 kernel_size,\n",
        "                 strides=1,\n",
        "                 padding='same',\n",
        "                 kernel_initializer='glorot_uniform',\n",
        "                 bias_initializer='zeros'):\n",
        "        super(MaskedConv2D, self).__init__()\n",
        "\n",
        "        assert mask_type in {'A', 'B'}\n",
        "        self.mask_type = mask_type\n",
        "\n",
        "        self.filters = filters\n",
        "        self.kernel_size = kernel_size\n",
        "        self.strides = strides\n",
        "        self.padding = padding.upper()\n",
        "        self.kernel_initializer = initializers.get(kernel_initializer)\n",
        "        self.bias_initializer = initializers.get(bias_initializer)\n",
        "\n",
        "    def build(self, input_shape):\n",
        "        self.kernel = self.add_weight('kernel',\n",
        "                                      shape=(self.kernel_size,\n",
        "                                             self.kernel_size,\n",
        "                                             int(input_shape[-1]),\n",
        "                                             self.filters),\n",
        "                                      initializer=self.kernel_initializer,\n",
        "                                      trainable=True)\n",
        "\n",
        "        self.bias = self.add_weight('bias',\n",
        "                                    shape=(self.filters,),\n",
        "                                    initializer=self.bias_initializer,\n",
        "                                    trainable=True)\n",
        "\n",
        "        center = self.kernel_size // 2\n",
        "\n",
        "        mask = np.ones(self.kernel.shape, dtype=np.float32)\n",
        "        mask[center, center + (self.mask_type == 'B'):, :, :] = 0.\n",
        "        mask[center + 1:, :, :, :] = 0.\n",
        "\n",
        "        self.mask = tf.constant(mask, dtype=tf.float32, name='mask')\n",
        "\n",
        "    def call(self, input):\n",
        "        masked_kernel = tf.math.multiply(self.mask, self.kernel)\n",
        "        x = nn.conv2d(input,\n",
        "                      masked_kernel,\n",
        "                      strides=[1, self.strides, self.strides, 1],\n",
        "                      padding=self.padding)\n",
        "        x = nn.bias_add(x, self.bias)\n",
        "        return x"
      ],
      "execution_count": 0,
      "outputs": []
    },
    {
      "cell_type": "code",
      "metadata": {
        "id": "jxCLMYc-FxdJ",
        "colab_type": "code",
        "colab": {}
      },
      "source": [
        "def plot_receptive_field(model, data):\n",
        "    out = model(data)\n",
        "\n",
        "    with tf.GradientTape() as tape:\n",
        "        tape.watch(data)\n",
        "        prediction = model(data)\n",
        "        loss = prediction[:,5,5,0]\n",
        "\n",
        "    gradients = tape.gradient(loss, data)\n",
        "\n",
        "    gradients = np.abs(gradients.numpy().squeeze())\n",
        "    gradients = (gradients > 1e-8).astype('float32')\n",
        "    gradients[5, 5] = 0.5\n",
        "\n",
        "    plt.figure()\n",
        "    plt.imshow(gradients)\n",
        "    plt.title(f'Receptive field from pixel layers')\n",
        "    plt.show()"
      ],
      "execution_count": 0,
      "outputs": []
    },
    {
      "cell_type": "code",
      "metadata": {
        "id": "0qpDtNuvo9NL",
        "colab_type": "code",
        "outputId": "926434e2-44bf-40d3-a39f-6c80ebc880b6",
        "colab": {
          "base_uri": "https://localhost:8080/",
          "height": 281
        }
      },
      "source": [
        "height = 10\n",
        "width = 10\n",
        "n_channel = 1\n",
        "inputs = keras.layers.Input(shape=(height, width, n_channel))\n",
        "x = MaskedConv2D(mask_type='A', filters=1, kernel_size=3, strides=1)(inputs)\n",
        "x = MaskedConv2D(mask_type='B', filters=1, kernel_size=3, strides=1)(x)\n",
        "x = MaskedConv2D(mask_type='B', filters=1, kernel_size=3, strides=1)(x)\n",
        "\n",
        "model = keras.Model(inputs=inputs, outputs=x)\n",
        "data = tf.random.normal((1,10,10,1))\n",
        "\n",
        "plot_receptive_field(model, data)"
      ],
      "execution_count": 0,
      "outputs": [
        {
          "output_type": "display_data",
          "data": {
            "image/png": "[encoded data removed]",
            "text/plain": [
              "<Figure size 432x288 with 1 Axes>"
            ]
          },
          "metadata": {
            "tags": [],
            "needs_background": "light"
          }
        }
      ]
    },
    {
      "cell_type": "code",
      "metadata": {
        "id": "I2APaCzDGeqP",
        "colab_type": "code",
        "colab": {}
      },
      "source": [
        ""
      ],
      "execution_count": 0,
      "outputs": []
    }
  ]
}