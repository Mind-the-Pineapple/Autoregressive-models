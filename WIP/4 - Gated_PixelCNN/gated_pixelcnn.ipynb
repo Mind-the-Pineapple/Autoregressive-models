{
 "cells": [
  {
   "cell_type": "code",
   "execution_count": 1,
   "metadata": {
    "colab": {},
    "colab_type": "code",
    "id": "k1uZnxh4Xz9Z"
   },
   "outputs": [],
   "source": [
    "import tensorflow as tf\n",
    "gpu_devices = tf.config.experimental.list_physical_devices('GPU')\n",
    "for device in gpu_devices: tf.config.experimental.set_memory_growth(device, True)\n",
    "\n",
    "import random as rn\n",
    "import time\n",
    "\n",
    "import matplotlib\n",
    "import matplotlib.pyplot as plt\n",
    "import numpy as np\n",
    "import tensorflow as tf\n",
    "from tensorflow.keras.utils import Progbar\n",
    "from tensorflow import keras\n",
    "from tensorflow.keras import initializers\n",
    "from tensorflow import nn"
   ]
  },
  {
   "cell_type": "code",
   "execution_count": 2,
   "metadata": {
    "colab": {},
    "colab_type": "code",
    "id": "NN6vJl7eVnZ4"
   },
   "outputs": [],
   "source": [
    "# Defining random seeds\n",
    "random_seed = 42\n",
    "tf.random.set_seed(random_seed)\n",
    "np.random.seed(random_seed)\n",
    "rn.seed(random_seed)"
   ]
  },
  {
   "cell_type": "code",
   "execution_count": 3,
   "metadata": {
    "colab": {},
    "colab_type": "code",
    "id": "8BnkhgCjVpJu"
   },
   "outputs": [],
   "source": [
    "# Loading data\n",
    "(x_train, y_train), (x_test, y_test) = keras.datasets.mnist.load_data()\n",
    "\n",
    "height = 28\n",
    "width = 28\n",
    "n_channel = 1\n",
    "\n",
    "x_train = x_train.astype('float32') / 255.\n",
    "x_test = x_test.astype('float32') / 255.\n",
    "\n",
    "x_train = x_train.reshape(x_train.shape[0], height, width, n_channel)\n",
    "x_test = x_test.reshape(x_test.shape[0], height, width, n_channel)"
   ]
  },
  {
   "cell_type": "code",
   "execution_count": 4,
   "metadata": {
    "colab": {},
    "colab_type": "code",
    "id": "3ne-qY7JVZaB"
   },
   "outputs": [],
   "source": [
    "def quantise(images, q_levels):\n",
    "    \"\"\"Quantise image into q levels\"\"\"\n",
    "    return (np.digitize(images, np.arange(q_levels) / q_levels) - 1).astype('float32')"
   ]
  },
  {
   "cell_type": "code",
   "execution_count": 5,
   "metadata": {
    "colab": {},
    "colab_type": "code",
    "id": "3QVhnMymVrzc"
   },
   "outputs": [],
   "source": [
    "# Quantise the input data in q levels\n",
    "q_levels = 2\n",
    "x_train_quantised = quantise(x_train, q_levels)\n",
    "x_test_quantised = quantise(x_test, q_levels)"
   ]
  },
  {
   "cell_type": "code",
   "execution_count": 6,
   "metadata": {
    "colab": {},
    "colab_type": "code",
    "id": "ZObIXqzNGwmo"
   },
   "outputs": [],
   "source": [
    "# Creating input stream using tf.data API\n",
    "batch_size = 192\n",
    "train_buf = 10000\n",
    "\n",
    "train_dataset = tf.data.Dataset.from_tensor_slices((x_train_quantised / (q_levels - 1),\n",
    "                                                    x_train_quantised.astype('int32')))\n",
    "train_dataset = train_dataset.shuffle(buffer_size=train_buf)\n",
    "train_dataset = train_dataset.batch(batch_size)\n",
    "\n",
    "test_dataset = tf.data.Dataset.from_tensor_slices((x_test_quantised / (q_levels - 1),\n",
    "                                                   x_test_quantised.astype('int32')))\n",
    "test_dataset = test_dataset.batch(batch_size)"
   ]
  },
  {
   "cell_type": "code",
   "execution_count": 7,
   "metadata": {
    "colab": {},
    "colab_type": "code",
    "id": "75VTDkK8VZLA"
   },
   "outputs": [],
   "source": [
    "class MaskedConv2D(keras.layers.Layer):\n",
    "    \"\"\"Convolutional layers with masks for Gated PixelCNN.\n",
    "\n",
    "    Masked convolutional layers used to implement Vertical and Horizontal\n",
    "    stacks of the Gated PixelCNN.\n",
    "\n",
    "    Note: This implementation is different from the normal PixelCNN.\n",
    "\n",
    "    Arguments:\n",
    "    mask_type: one of `\"V\"`, `\"A\"` or `\"B\".`\n",
    "    filters: Integer, the dimensionality of the output space\n",
    "        (i.e. the number of output filters in the convolution).\n",
    "    kernel_size: An integer or tuple/list of 2 integers, specifying the\n",
    "        height and width of the 2D convolution window.\n",
    "        Can be a single integer to specify the same value for\n",
    "        all spatial dimensions.\n",
    "    strides: An integer or tuple/list of 2 integers,\n",
    "        specifying the strides of the convolution along the height and width.\n",
    "        Can be a single integer to specify the same value for\n",
    "        all spatial dimensions.\n",
    "        Specifying any stride value != 1 is incompatible with specifying\n",
    "        any `dilation_rate` value != 1.\n",
    "    padding: one of `\"valid\"` or `\"same\"` (case-insensitive).\n",
    "    kernel_initializer: Initializer for the `kernel` weights matrix.\n",
    "    bias_initializer: Initializer for the bias vector.\n",
    "    \"\"\"\n",
    "\n",
    "    def __init__(self,\n",
    "                 mask_type,\n",
    "                 filters,\n",
    "                 kernel_size,\n",
    "                 strides=1,\n",
    "                 padding='same',\n",
    "                 kernel_initializer='glorot_uniform',\n",
    "                 bias_initializer='zeros'):\n",
    "        super(MaskedConv2D, self).__init__()\n",
    "\n",
    "        assert mask_type in {'A', 'B', 'V'}\n",
    "        self.mask_type = mask_type\n",
    "\n",
    "        self.filters = filters\n",
    "\n",
    "        if isinstance(kernel_size, int):\n",
    "            kernel_size = (kernel_size, kernel_size)\n",
    "        self.kernel_size = kernel_size\n",
    "\n",
    "        self.strides = strides\n",
    "        self.padding = padding.upper()\n",
    "        self.kernel_initializer = initializers.get(kernel_initializer)\n",
    "        self.bias_initializer = initializers.get(bias_initializer)\n",
    "\n",
    "    def build(self, input_shape):\n",
    "        kernel_h, kernel_w = self.kernel_size\n",
    "\n",
    "        self.kernel = self.add_weight('kernel',\n",
    "                                      shape=(kernel_h,\n",
    "                                             kernel_w,\n",
    "                                             int(input_shape[-1]),\n",
    "                                             self.filters),\n",
    "                                      initializer=self.kernel_initializer,\n",
    "                                      trainable=True)\n",
    "\n",
    "        self.bias = self.add_weight('bias',\n",
    "                                    shape=(self.filters,),\n",
    "                                    initializer=self.bias_initializer,\n",
    "                                    trainable=True)\n",
    "\n",
    "        mask = np.ones(self.kernel.shape, dtype=np.float32)\n",
    "\n",
    "        if kernel_h % 2 != 0: \n",
    "            center_h = kernel_h // 2\n",
    "        else:\n",
    "            center_h = (kernel_h - 1) // 2\n",
    "\n",
    "        if kernel_w % 2 != 0: \n",
    "            center_w = kernel_w // 2\n",
    "        else:\n",
    "            center_w = (kernel_w - 1) // 2\n",
    "\n",
    "        if self.mask_type == 'V':\n",
    "            mask[center_h + 1:, :, :, :] = 0.\n",
    "        else:\n",
    "            mask[:center_h, :, :] = 0.\n",
    "            mask[center_h, center_w + (self.mask_type == 'B'):, :, :] = 0.\n",
    "            mask[center_h + 1:, :, :] = 0.          \n",
    "\n",
    "        self.mask = tf.constant(mask, dtype=tf.float32, name='mask')\n",
    "\n",
    "    def call(self, input):\n",
    "        masked_kernel = tf.math.multiply(self.mask, self.kernel)\n",
    "        x = nn.conv2d(input,\n",
    "                      masked_kernel,\n",
    "                      strides=[1, self.strides, self.strides, 1],\n",
    "                      padding=self.padding)\n",
    "        x = nn.bias_add(x, self.bias)\n",
    "        return x"
   ]
  },
  {
   "cell_type": "code",
   "execution_count": 8,
   "metadata": {
    "colab": {},
    "colab_type": "code",
    "id": "PTUN4s52Nu3w"
   },
   "outputs": [],
   "source": [
    "class GatedBlock(tf.keras.Model):\n",
    "    \"\"\" Gated block of the Gated PixelCNN.\"\"\"\n",
    "\n",
    "    def __init__(self, mask_type, filters, kernel_size):\n",
    "        super(GatedBlock, self).__init__(name='')\n",
    "\n",
    "        self.mask_type = mask_type\n",
    "        self.vertical_conv = MaskedConv2D(mask_type='V',\n",
    "                                          filters=2 * filters,\n",
    "                                          kernel_size=kernel_size)\n",
    "        \n",
    "        self.horizontal_conv = MaskedConv2D(mask_type=mask_type,\n",
    "                                            filters=2 * filters,\n",
    "                                            kernel_size=kernel_size)\n",
    "\n",
    "        self.padding = keras.layers.ZeroPadding2D(padding=((1,0),0))\n",
    "        self.cropping = keras.layers.Cropping2D(cropping=((0, 1), 0))\n",
    "\n",
    "        self.v_to_h_conv = keras.layers.Conv2D(filters=2 * filters, kernel_size=1)\n",
    "\n",
    "        self.horizontal_output = keras.layers.Conv2D(filters=filters, kernel_size=1)\n",
    "\n",
    "    def _gate(self, x):\n",
    "        tanh_preactivation, sigmoid_preactivation = tf.split(x, 2, axis=-1)\n",
    "        return tf.nn.tanh(tanh_preactivation) * tf.nn.sigmoid(sigmoid_preactivation)\n",
    "\n",
    "    def call(self, input_tensor):\n",
    "        v = input_tensor[0]\n",
    "        h = input_tensor[1]\n",
    "\n",
    "        vertical_preactivation = self.vertical_conv(v)  # NxN\n",
    "\n",
    "        # Shifting feature map down to ensure causality\n",
    "        v_to_h = self.padding(vertical_preactivation)\n",
    "        v_to_h = self.cropping(v_to_h)\n",
    "        v_to_h = self.v_to_h_conv(v_to_h)  # 1x1\n",
    "\n",
    "        horizontal_preactivation = self.horizontal_conv(h)  # 1xN\n",
    "        \n",
    "        v_out = self._gate(vertical_preactivation)\n",
    "\n",
    "        horizontal_preactivation = horizontal_preactivation + v_to_h\n",
    "        h_activated = self._gate(horizontal_preactivation)\n",
    "        h_activated = self.horizontal_output(h_activated)\n",
    "\n",
    "        if self.mask_type == 'A':\n",
    "            h_out = h_activated\n",
    "        elif self.mask_type == 'B':\n",
    "            h_out = h + h_activated\n",
    "\n",
    "        return v_out, h_out"
   ]
  },
  {
   "cell_type": "code",
   "execution_count": 9,
   "metadata": {
    "colab": {},
    "colab_type": "code",
    "id": "WB57YufrVxn2"
   },
   "outputs": [],
   "source": [
    "# Create Gated PixelCNN model\n",
    "inputs = keras.layers.Input(shape=(height, width, n_channel))\n",
    "v, h = GatedBlock(mask_type='A', filters=64, kernel_size=3)([inputs, inputs])\n",
    "\n",
    "for i in range(7):\n",
    "    v, h = GatedBlock(mask_type='B', filters=64, kernel_size=3)([v, h])\n",
    "\n",
    "x = keras.layers.Activation(activation='relu')(h)\n",
    "x = keras.layers.Conv2D(filters=128, kernel_size=1, strides=1)(x)\n",
    "\n",
    "x = keras.layers.Activation(activation='relu')(x)\n",
    "x = keras.layers.Conv2D(filters=q_levels, kernel_size=1, strides=1)(x)\n",
    "\n",
    "gated_pixelcnn = tf.keras.Model(inputs=inputs, outputs=x)"
   ]
  },
  {
   "cell_type": "code",
   "execution_count": 10,
   "metadata": {
    "colab": {},
    "colab_type": "code",
    "id": "_LnzHUaqV77d"
   },
   "outputs": [],
   "source": [
    "# Prepare optimizer and loss function\n",
    "lr_decay = 0.999995\n",
    "learning_rate = 1e-3\n",
    "optimizer = keras.optimizers.Adam(lr=learning_rate)\n",
    "\n",
    "compute_loss = keras.losses.CategoricalCrossentropy(from_logits=True)"
   ]
  },
  {
   "cell_type": "code",
   "execution_count": 11,
   "metadata": {
    "colab": {},
    "colab_type": "code",
    "id": "CsAgEKVzLCJD"
   },
   "outputs": [],
   "source": [
    "@tf.function\n",
    "def train_step(batch_x, batch_y):\n",
    "    with tf.GradientTape() as ae_tape:\n",
    "        logits = gated_pixelcnn(batch_x, training=True)\n",
    "\n",
    "        loss = compute_loss(tf.squeeze(tf.one_hot(batch_y, q_levels)), logits)\n",
    "\n",
    "    gradients = ae_tape.gradient(loss, gated_pixelcnn.trainable_variables)\n",
    "    gradients, _ = tf.clip_by_global_norm(gradients, 1.0)\n",
    "    optimizer.apply_gradients(zip(gradients, gated_pixelcnn.trainable_variables))\n",
    "\n",
    "    return loss"
   ]
  },
  {
   "cell_type": "code",
   "execution_count": 12,
   "metadata": {
    "colab": {
     "base_uri": "https://localhost:8080/",
     "height": 591
    },
    "colab_type": "code",
    "id": "NoEPrfwQNM-s",
    "outputId": "52dae9be-4f84-4b91-c5ba-e2369259478e"
   },
   "outputs": [
    {
     "name": "stdout",
     "output_type": "stream",
     "text": [
      "Epoch 1/50\n",
      "313/313 [==============================] - 205s 655ms/step - loss: 0.1192\n",
      "Epoch 2/50\n",
      "313/313 [==============================] - 107s 343ms/step - loss: 0.0913\n",
      "Epoch 3/50\n",
      "313/313 [==============================] - 108s 344ms/step - loss: 0.0872\n",
      "Epoch 4/50\n",
      "313/313 [==============================] - 107s 341ms/step - loss: 0.0854\n",
      "Epoch 5/50\n",
      "313/313 [==============================] - 107s 341ms/step - loss: 0.0843\n",
      "Epoch 6/50\n",
      "313/313 [==============================] - 105s 336ms/step - loss: 0.0835\n",
      "Epoch 7/50\n",
      "313/313 [==============================] - 108s 344ms/step - loss: 0.0830\n",
      "Epoch 8/50\n",
      "313/313 [==============================] - 107s 342ms/step - loss: 0.0824\n",
      "Epoch 9/50\n",
      "313/313 [==============================] - 104s 333ms/step - loss: 0.0820\n",
      "Epoch 10/50\n",
      "313/313 [==============================] - 106s 340ms/step - loss: 0.0816\n",
      "Epoch 11/50\n",
      "313/313 [==============================] - 105s 335ms/step - loss: 0.0814\n",
      "Epoch 12/50\n",
      "313/313 [==============================] - 105s 336ms/step - loss: 0.0810\n",
      "Epoch 13/50\n",
      "313/313 [==============================] - 105s 336ms/step - loss: 0.0808\n",
      "Epoch 14/50\n",
      "313/313 [==============================] - 106s 337ms/step - loss: 0.0806\n",
      "Epoch 15/50\n",
      "313/313 [==============================] - 107s 340ms/step - loss: 0.0803\n",
      "Epoch 16/50\n",
      "313/313 [==============================] - 106s 338ms/step - loss: 0.0802\n",
      "Epoch 17/50\n",
      "313/313 [==============================] - 104s 332ms/step - loss: 0.0800\n",
      "Epoch 18/50\n",
      "313/313 [==============================] - 103s 328ms/step - loss: 0.0798\n",
      "Epoch 19/50\n",
      "313/313 [==============================] - 104s 333ms/step - loss: 0.0796\n",
      "Epoch 20/50\n",
      "313/313 [==============================] - 106s 338ms/step - loss: 0.0795\n",
      "Epoch 21/50\n",
      "313/313 [==============================] - 103s 330ms/step - loss: 0.0793\n",
      "Epoch 22/50\n",
      "313/313 [==============================] - 103s 328ms/step - loss: 0.0792\n",
      "Epoch 23/50\n",
      "313/313 [==============================] - 103s 328ms/step - loss: 0.0791\n",
      "Epoch 24/50\n",
      "313/313 [==============================] - 103s 330ms/step - loss: 0.0789\n",
      "Epoch 25/50\n",
      "313/313 [==============================] - 103s 328ms/step - loss: 0.0788\n",
      "Epoch 26/50\n",
      "313/313 [==============================] - 103s 330ms/step - loss: 0.0787\n",
      "Epoch 27/50\n",
      "313/313 [==============================] - 103s 328ms/step - loss: 0.0786\n",
      "Epoch 28/50\n",
      "313/313 [==============================] - 103s 328ms/step - loss: 0.0784\n",
      "Epoch 29/50\n",
      "313/313 [==============================] - 103s 329ms/step - loss: 0.0783\n",
      "Epoch 30/50\n",
      "313/313 [==============================] - 103s 328ms/step - loss: 0.0782\n",
      "Epoch 31/50\n",
      "313/313 [==============================] - 103s 328ms/step - loss: 0.0781\n",
      "Epoch 32/50\n",
      "313/313 [==============================] - 103s 329ms/step - loss: 0.0780\n",
      "Epoch 33/50\n",
      "313/313 [==============================] - 103s 328ms/step - loss: 0.0779\n",
      "Epoch 34/50\n",
      "313/313 [==============================] - 103s 328ms/step - loss: 0.0778\n",
      "Epoch 35/50\n",
      "313/313 [==============================] - 105s 335ms/step - loss: 0.0776\n",
      "Epoch 36/50\n",
      "313/313 [==============================] - 106s 339ms/step - loss: 0.0775\n",
      "Epoch 37/50\n",
      "313/313 [==============================] - 106s 340ms/step - loss: 0.0774\n",
      "Epoch 38/50\n",
      "313/313 [==============================] - 107s 342ms/step - loss: 0.0773\n",
      "Epoch 39/50\n",
      "313/313 [==============================] - 107s 342ms/step - loss: 0.0772\n",
      "Epoch 40/50\n",
      "313/313 [==============================] - 107s 342ms/step - loss: 0.0771\n",
      "Epoch 41/50\n",
      "313/313 [==============================] - 106s 338ms/step - loss: 0.0770\n",
      "Epoch 42/50\n",
      "313/313 [==============================] - 105s 337ms/step - loss: 0.0769\n",
      "Epoch 43/50\n",
      "313/313 [==============================] - 104s 331ms/step - loss: 0.0768\n",
      "Epoch 44/50\n",
      "313/313 [==============================] - 103s 328ms/step - loss: 0.0767\n",
      "Epoch 45/50\n",
      "313/313 [==============================] - 103s 328ms/step - loss: 0.0766\n",
      "Epoch 46/50\n",
      "313/313 [==============================] - 103s 328ms/step - loss: 0.0765\n",
      "Epoch 47/50\n",
      "313/313 [==============================] - 103s 329ms/step - loss: 0.0764\n",
      "Epoch 48/50\n",
      "313/313 [==============================] - 103s 328ms/step - loss: 0.0763\n",
      "Epoch 49/50\n",
      "313/313 [==============================] - 103s 328ms/step - loss: 0.0762\n",
      "Epoch 50/50\n",
      "313/313 [==============================] - 103s 328ms/step - loss: 0.0761\n"
     ]
    }
   ],
   "source": [
    "# Training loop\n",
    "n_epochs = 50\n",
    "n_iter = int(np.ceil(x_train_quantised.shape[0] / batch_size))\n",
    "for epoch in range(n_epochs):\n",
    "    progbar = Progbar(n_iter)\n",
    "    print('Epoch {:}/{:}'.format(epoch + 1, n_epochs))\n",
    "\n",
    "    for i_iter, (batch_x, batch_y) in enumerate(train_dataset):\n",
    "        optimizer.lr = optimizer.lr * lr_decay\n",
    "        loss = train_step(batch_x, batch_y)\n",
    "\n",
    "        progbar.add(1, values=[('loss', loss)])"
   ]
  },
  {
   "cell_type": "code",
   "execution_count": 13,
   "metadata": {
    "colab": {
     "base_uri": "https://localhost:8080/",
     "height": 52
    },
    "colab_type": "code",
    "id": "ue0vZbitSNmz",
    "outputId": "b4be6fad-6f16-4380-8dbd-2e01bc3e1af1"
   },
   "outputs": [
    {
     "name": "stdout",
     "output_type": "stream",
     "text": [
      "nll : 0.08091852068901062 nats\n",
      "bits/dim : 0.11674074851410661\n"
     ]
    }
   ],
   "source": [
    "# Test set performance\n",
    "test_loss = []\n",
    "for batch_x, batch_y in test_dataset:\n",
    "    logits = gated_pixelcnn(batch_x, training=False)\n",
    "\n",
    "    # Calculate cross-entropy (= negative log-likelihood)\n",
    "    loss = compute_loss(tf.one_hot(batch_y, q_levels), logits)\n",
    "\n",
    "    test_loss.append(loss)\n",
    "print('nll : {:} nats'.format(np.array(test_loss).mean()))\n",
    "print('bits/dim : {:}'.format(np.array(test_loss).mean() / np.log(2)))"
   ]
  },
  {
   "cell_type": "code",
   "execution_count": 14,
   "metadata": {
    "colab": {
     "base_uri": "https://localhost:8080/",
     "height": 581
    },
    "colab_type": "code",
    "id": "-Ia9VXYySkuW",
    "outputId": "924010f4-0dcb-4a82-bd1d-75c6091cadc6"
   },
   "outputs": [
    {
     "data": {
      "image/png": "[encoded data removed]",
      "text/plain": [
       "<Figure size 720x720 with 100 Axes>"
      ]
     },
     "metadata": {},
     "output_type": "display_data"
    }
   ],
   "source": [
    "# Generating new images\n",
    "samples = np.zeros((100, height, width, n_channel), dtype='float32')\n",
    "for i in range(height):\n",
    "    for j in range(width):\n",
    "        logits = gated_pixelcnn(samples)\n",
    "        next_sample = tf.random.categorical(logits[:, i, j, :], 1)\n",
    "        samples[:, i, j, 0] = (next_sample.numpy() / (q_levels - 1))[:, 0]\n",
    "\n",
    "fig = plt.figure(figsize=(10, 10))\n",
    "for i in range(100):\n",
    "    ax = fig.add_subplot(10, 10, i + 1)\n",
    "    ax.matshow(samples[i, :, :, 0], cmap=matplotlib.cm.binary)\n",
    "    plt.xticks(np.array([]))\n",
    "    plt.yticks(np.array([]))\n",
    "plt.show()"
   ]
  },
  {
   "cell_type": "code",
   "execution_count": 15,
   "metadata": {
    "colab": {
     "base_uri": "https://localhost:8080/",
     "height": 153
    },
    "colab_type": "code",
    "id": "KBuWx-FtSouR",
    "outputId": "85fb1988-aeea-4695-f5e3-d5a57d28bed6"
   },
   "outputs": [
    {
     "data": {
      "image/png": "[encoded data removed]",
      "text/plain": [
       "<Figure size 720x720 with 10 Axes>"
      ]
     },
     "metadata": {},
     "output_type": "display_data"
    },
    {
     "data": {
      "image/png": "[encoded data removed]",
      "text/plain": [
       "<Figure size 720x720 with 10 Axes>"
      ]
     },
     "metadata": {},
     "output_type": "display_data"
    }
   ],
   "source": [
    "# Filling occluded images\n",
    "occlude_start_row = 14\n",
    "num_generated_images = 10\n",
    "samples = np.copy(x_test_quantised[0:num_generated_images, :, :, :])\n",
    "samples = samples / (q_levels - 1)\n",
    "samples[:, occlude_start_row:, :, :] = 0\n",
    "\n",
    "fig = plt.figure(figsize=(10, 10))\n",
    "\n",
    "for i in range(10):\n",
    "    ax = fig.add_subplot(1, 10, i + 1)\n",
    "    ax.matshow(samples[i, :, :, 0], cmap=matplotlib.cm.binary)\n",
    "    plt.xticks(np.array([]))\n",
    "    plt.yticks(np.array([]))\n",
    "\n",
    "for i in range(occlude_start_row, height):\n",
    "    for j in range(width):\n",
    "        logits = gated_pixelcnn(samples)\n",
    "        next_sample = tf.random.categorical(logits[:, i, j, :], 1)\n",
    "        samples[:, i, j, 0] = (next_sample.numpy() / (q_levels - 1))[:, 0]\n",
    "\n",
    "fig = plt.figure(figsize=(10, 10))\n",
    "\n",
    "for i in range(10):\n",
    "    ax = fig.add_subplot(1, 10, i + 1)\n",
    "    ax.matshow(samples[i, :, :, 0], cmap=matplotlib.cm.binary)\n",
    "    plt.xticks(np.array([]))\n",
    "    plt.yticks(np.array([]))\n",
    "plt.show()"
   ]
  },
  {
   "cell_type": "code",
   "execution_count": null,
   "metadata": {},
   "outputs": [],
   "source": []
  }
 ],
 "metadata": {
  "accelerator": "GPU",
  "colab": {
   "name": "gated_pixelcnn.ipynb",
   "provenance": []
  },
  "kernelspec": {
   "display_name": "Python 3",
   "language": "python",
   "name": "python3"
  },
  "language_info": {
   "codemirror_mode": {
    "name": "ipython",
    "version": 3
   },
   "file_extension": ".py",
   "mimetype": "text/x-python",
   "name": "python",
   "nbconvert_exporter": "python",
   "pygments_lexer": "ipython3",
   "version": "3.6.9"
  }
 },
 "nbformat": 4,
 "nbformat_minor": 1
}
