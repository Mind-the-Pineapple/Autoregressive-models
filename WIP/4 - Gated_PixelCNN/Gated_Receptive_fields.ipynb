{
  "nbformat": 4,
  "nbformat_minor": 0,
  "metadata": {
    "colab": {
      "name": "Gated Receptive fields.ipynb",
      "provenance": [],
      "collapsed_sections": []
    },
    "kernelspec": {
      "name": "python3",
      "display_name": "Python 3"
    }
  },
  "cells": [
    {
      "cell_type": "markdown",
      "metadata": {
        "id": "YqTKIYLooHsq",
        "colab_type": "text"
      },
      "source": [
        "# Comparing receptive fields"
      ]
    },
    {
      "cell_type": "code",
      "metadata": {
        "id": "gf5wwqP3ozaN",
        "colab_type": "code",
        "colab": {}
      },
      "source": [
        "import random as rn\n",
        "\n",
        "import matplotlib\n",
        "import matplotlib.pyplot as plt\n",
        "import numpy as np\n",
        "import tensorflow as tf\n",
        "from tensorflow import keras\n",
        "from tensorflow import nn\n",
        "from tensorflow.keras import initializers\n",
        "from tensorflow.keras.utils import Progbar"
      ],
      "execution_count": 0,
      "outputs": []
    },
    {
      "cell_type": "code",
      "metadata": {
        "id": "jEkll1yno2Vb",
        "colab_type": "code",
        "colab": {}
      },
      "source": [
        "# Defining random seeds\n",
        "random_seed = 42\n",
        "tf.random.set_seed(random_seed)\n",
        "np.random.seed(random_seed)\n",
        "rn.seed(random_seed)"
      ],
      "execution_count": 0,
      "outputs": []
    },
    {
      "cell_type": "code",
      "metadata": {
        "id": "yJ_JlzWco7ci",
        "colab_type": "code",
        "colab": {}
      },
      "source": [
        "class MaskedConv2D(keras.layers.Layer):\n",
        "    \"\"\"Convolutional layers with masks for Gated PixelCNN.\n",
        "\n",
        "    Masked convolutional layers used to implement Vertical and Horizontal\n",
        "    stacks of the Gated PixelCNN.\n",
        "\n",
        "    Note: This implementation is different from the normal PixelCNN.\n",
        "\n",
        "    Arguments:\n",
        "    mask_type: one of `\"V\"`, `\"A\"` or `\"B\".`\n",
        "    filters: Integer, the dimensionality of the output space\n",
        "        (i.e. the number of output filters in the convolution).\n",
        "    kernel_size: An integer or tuple/list of 2 integers, specifying the\n",
        "        height and width of the 2D convolution window.\n",
        "        Can be a single integer to specify the same value for\n",
        "        all spatial dimensions.\n",
        "    strides: An integer or tuple/list of 2 integers,\n",
        "        specifying the strides of the convolution along the height and width.\n",
        "        Can be a single integer to specify the same value for\n",
        "        all spatial dimensions.\n",
        "        Specifying any stride value != 1 is incompatible with specifying\n",
        "        any `dilation_rate` value != 1.\n",
        "    padding: one of `\"valid\"` or `\"same\"` (case-insensitive).\n",
        "    kernel_initializer: Initializer for the `kernel` weights matrix.\n",
        "    bias_initializer: Initializer for the bias vector.\n",
        "    \"\"\"\n",
        "\n",
        "    def __init__(self,\n",
        "                 mask_type,\n",
        "                 filters,\n",
        "                 kernel_size,\n",
        "                 strides=1,\n",
        "                 padding='same',\n",
        "                 kernel_initializer='glorot_uniform',\n",
        "                 bias_initializer='zeros'):\n",
        "        super(MaskedConv2D, self).__init__()\n",
        "\n",
        "        assert mask_type in {'A', 'B', 'V'}\n",
        "        self.mask_type = mask_type\n",
        "\n",
        "        self.filters = filters\n",
        "\n",
        "        if isinstance(kernel_size, int):\n",
        "            kernel_size = (kernel_size, kernel_size)\n",
        "        self.kernel_size = kernel_size\n",
        "\n",
        "        self.strides = strides\n",
        "        self.padding = padding.upper()\n",
        "        self.kernel_initializer = initializers.get(kernel_initializer)\n",
        "        self.bias_initializer = initializers.get(bias_initializer)\n",
        "\n",
        "    def build(self, input_shape):\n",
        "        kernel_h, kernel_w = self.kernel_size\n",
        "\n",
        "        self.kernel = self.add_weight('kernel',\n",
        "                                      shape=(kernel_h,\n",
        "                                             kernel_w,\n",
        "                                             int(input_shape[-1]),\n",
        "                                             self.filters),\n",
        "                                      initializer=self.kernel_initializer,\n",
        "                                      trainable=True)\n",
        "\n",
        "        self.bias = self.add_weight('bias',\n",
        "                                    shape=(self.filters,),\n",
        "                                    initializer=self.bias_initializer,\n",
        "                                    trainable=True)\n",
        "\n",
        "        mask = np.ones(self.kernel.shape, dtype=np.float32)\n",
        "\n",
        "        if kernel_h % 2 != 0: \n",
        "            center_h = kernel_h // 2\n",
        "        else:\n",
        "            center_h = (kernel_h - 1) // 2\n",
        "\n",
        "        if kernel_w % 2 != 0: \n",
        "            center_w = kernel_w // 2\n",
        "        else:\n",
        "            center_w = (kernel_w - 1) // 2\n",
        "\n",
        "        if self.mask_type == 'V':\n",
        "            mask[center_h + 1:, :, :, :] = 0.\n",
        "        else:\n",
        "            mask[:center_h, :, :] = 0.\n",
        "            mask[center_h, center_w + (self.mask_type == 'B'):, :, :] = 0.\n",
        "            mask[center_h + 1:, :, :] = 0.          \n",
        "\n",
        "        self.mask = tf.constant(mask, dtype=tf.float32, name='mask')\n",
        "\n",
        "    def call(self, input):\n",
        "        masked_kernel = tf.math.multiply(self.mask, self.kernel)\n",
        "        x = nn.conv2d(input,\n",
        "                      masked_kernel,\n",
        "                      strides=[1, self.strides, self.strides, 1],\n",
        "                      padding=self.padding)\n",
        "        x = nn.bias_add(x, self.bias)\n",
        "        return x"
      ],
      "execution_count": 0,
      "outputs": []
    },
    {
      "cell_type": "code",
      "metadata": {
        "id": "K5topys_HW7-",
        "colab_type": "code",
        "colab": {}
      },
      "source": [
        "class GatedBlock(tf.keras.Model):\n",
        "    \"\"\" Gated block of the Gated PixelCNN.\"\"\"\n",
        "\n",
        "    def __init__(self, mask_type, filters, kernel_size):\n",
        "        super(GatedBlock, self).__init__(name='')\n",
        "\n",
        "        self.mask_type = mask_type\n",
        "        self.vertical_conv = MaskedConv2D(mask_type='V',\n",
        "                                          filters=2 * filters,\n",
        "                                          kernel_size=kernel_size)\n",
        "        \n",
        "        self.horizontal_conv = MaskedConv2D(mask_type=mask_type,\n",
        "                                            filters=2 * filters,\n",
        "                                            kernel_size=kernel_size)\n",
        "\n",
        "        self.padding = keras.layers.ZeroPadding2D(padding=((1,0),0))\n",
        "        self.cropping = keras.layers.Cropping2D(cropping=((0, 1), 0))\n",
        "\n",
        "        self.v_to_h_conv = keras.layers.Conv2D(filters=2 * filters, kernel_size=1)\n",
        "\n",
        "        self.horizontal_output = keras.layers.Conv2D(filters=filters, kernel_size=1)\n",
        "\n",
        "    def _gate(self, x):\n",
        "        tanh_preactivation, sigmoid_preactivation = tf.split(x, 2, axis=-1)\n",
        "        return tf.nn.tanh(tanh_preactivation) * tf.nn.sigmoid(sigmoid_preactivation)\n",
        "\n",
        "    def call(self, input_tensor):\n",
        "        v = input_tensor[0]\n",
        "        h = input_tensor[1]\n",
        "\n",
        "        vertical_preactivation = self.vertical_conv(v)  # NxN\n",
        "\n",
        "        # Shifting feature map down to ensure causality\n",
        "        v_to_h = self.padding(vertical_preactivation)\n",
        "        v_to_h = self.cropping(v_to_h)\n",
        "        v_to_h = self.v_to_h_conv(v_to_h)  # 1x1\n",
        "\n",
        "        horizontal_preactivation = self.horizontal_conv(h)  # 1xN\n",
        "        \n",
        "        v_out = self._gate(vertical_preactivation)\n",
        "\n",
        "        horizontal_preactivation = horizontal_preactivation + v_to_h\n",
        "        h_activated = self._gate(horizontal_preactivation)\n",
        "        h_activated = self.horizontal_output(h_activated)\n",
        "\n",
        "        if self.mask_type == 'A':\n",
        "            h_out = h_activated\n",
        "        elif self.mask_type == 'B':\n",
        "            h_out = h + h_activated\n",
        "\n",
        "        return v_out, h_out"
      ],
      "execution_count": 0,
      "outputs": []
    },
    {
      "cell_type": "code",
      "metadata": {
        "id": "jxCLMYc-FxdJ",
        "colab_type": "code",
        "colab": {}
      },
      "source": [
        "def plot_receptive_field(model, data):\n",
        "    out = model(data)\n",
        "\n",
        "    with tf.GradientTape() as tape:\n",
        "        tape.watch(data)\n",
        "        prediction = model(data)\n",
        "        loss = prediction[:,5,5,0]\n",
        "\n",
        "    gradients = tape.gradient(loss, data)\n",
        "\n",
        "    gradients = np.abs(gradients.numpy().squeeze())\n",
        "    gradients = (gradients > 1e-8).astype('float32')\n",
        "    gradients[5, 5] = 0.5\n",
        "\n",
        "    plt.figure()\n",
        "    plt.imshow(gradients)\n",
        "    plt.title(f'Receptive field from pixel layers')\n",
        "    plt.show()"
      ],
      "execution_count": 0,
      "outputs": []
    },
    {
      "cell_type": "code",
      "metadata": {
        "id": "0qpDtNuvo9NL",
        "colab_type": "code",
        "outputId": "b8142536-f9db-4ce3-ed7e-03741da11a3f",
        "colab": {
          "base_uri": "https://localhost:8080/",
          "height": 281
        }
      },
      "source": [
        "inputs = keras.layers.Input(shape=(height, width, n_channel))\n",
        "v, h = GatedBlock(mask_type='A', filters=1, kernel_size=3)([inputs, inputs])\n",
        "v, h = GatedBlock(mask_type='B', filters=1, kernel_size=3)([v, h])\n",
        "v, h = GatedBlock(mask_type='B', filters=1, kernel_size=3)([v, h])\n",
        "v, h = GatedBlock(mask_type='B', filters=1, kernel_size=3)([v, h])\n",
        "v, h = GatedBlock(mask_type='B', filters=1, kernel_size=3)([v, h])\n",
        "model = tf.keras.Model(inputs=inputs, outputs=h)\n",
        "\n",
        "data = tf.random.normal((1,10,10,1))\n",
        "\n",
        "plot_receptive_field(model, data)"
      ],
      "execution_count": 0,
      "outputs": [
        {
          "output_type": "display_data",
          "data": {
            "image/png": "[encoded data removed]",
            "text/plain": [
              "<Figure size 432x288 with 1 Axes>"
            ]
          },
          "metadata": {
            "tags": [],
            "needs_background": "light"
          }
        }
      ]
    },
    {
      "cell_type": "code",
      "metadata": {
        "id": "I2APaCzDGeqP",
        "colab_type": "code",
        "colab": {}
      },
      "source": [
        ""
      ],
      "execution_count": 0,
      "outputs": []
    }
  ]
}