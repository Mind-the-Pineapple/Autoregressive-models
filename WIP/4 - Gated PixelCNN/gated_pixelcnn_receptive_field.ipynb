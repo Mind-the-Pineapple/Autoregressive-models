{
 "cells": [
  {
   "cell_type": "markdown",
   "metadata": {
    "colab_type": "text",
    "id": "YqTKIYLooHsq"
   },
   "source": [
    "# Gated PixelCNN receptive fields\n",
    "\n",
    "Hi everybody!\n",
    "In this notebook, we will analyse the Gated PixelCNN's block receptive field. Diferent of the original PixelCNN, we expect that the blocks of the Gated PixelCNN do not create blind spots that limit the information flow of the previous pixel in order to model the density probability function.\n",
    "\n",
    "Let's start!"
   ]
  },
  {
   "cell_type": "markdown",
   "metadata": {},
   "source": [
    "First, we define the masked convolutions involved in the Gated PixelCNN as presented in the post.\n",
    "\n",
    "*Note: Here we are using float64 to get more precise values of the gradients and avoid false values."
   ]
  },
  {
   "cell_type": "code",
   "execution_count": 1,
   "metadata": {
    "colab": {},
    "colab_type": "code",
    "id": "gf5wwqP3ozaN"
   },
   "outputs": [],
   "source": [
    "import random as rn\n",
    "\n",
    "import matplotlib\n",
    "import matplotlib.pyplot as plt\n",
    "from  matplotlib.ticker import FixedLocator\n",
    "import numpy as np\n",
    "import tensorflow as tf\n",
    "from tensorflow import keras\n",
    "from tensorflow import nn\n",
    "from tensorflow.keras import initializers\n",
    "from tensorflow.keras.utils import Progbar\n",
    "\n",
    "tf.keras.backend.set_floatx('float64')"
   ]
  },
  {
   "cell_type": "code",
   "execution_count": 2,
   "metadata": {
    "colab": {},
    "colab_type": "code",
    "id": "yJ_JlzWco7ci"
   },
   "outputs": [],
   "source": [
    "class MaskedConv2D(keras.layers.Layer):\n",
    "    \"\"\"Convolutional layers with masks extended to work with Gated PixelCNN.\n",
    "\n",
    "    Convolutional layers with simple implementation of masks type A and B for\n",
    "    autoregressive models. Extended version to work with the verticala and horizontal\n",
    "    stacks from the Gated PixelCNN model.\n",
    "\n",
    "    Arguments:\n",
    "    mask_type: one of `\"V\"`, `\"A\"` or `\"B\".`\n",
    "    filters: Integer, the dimensionality of the output space (i.e. the number of output\n",
    "        filters in the convolution).\n",
    "    kernel_size: An integer or tuple/list of 2 integers, specifying the height and width\n",
    "        of the 2D convolution window.\n",
    "        Can be a single integer to specify the same value for all spatial dimensions.\n",
    "    strides: An integer or tuple/list of 2 integers, specifying the strides of the\n",
    "        convolution along the height and width.\n",
    "        Can be a single integer to specify the same value for all spatial dimensions.\n",
    "        Specifying any stride value != 1 is incompatible with specifying any\n",
    "        `dilation_rate` value != 1.\n",
    "    padding: one of `\"valid\"` or `\"same\"` (case-insensitive).\n",
    "    kernel_initializer: Initializer for the `kernel` weights matrix.\n",
    "    bias_initializer: Initializer for the bias vector.\n",
    "    \"\"\"\n",
    "\n",
    "    def __init__(self,\n",
    "                 mask_type,\n",
    "                 filters,\n",
    "                 kernel_size,\n",
    "                 strides=1,\n",
    "                 padding='same',\n",
    "                 kernel_initializer='glorot_uniform',\n",
    "                 bias_initializer='zeros'):\n",
    "        super(MaskedConv2D, self).__init__()\n",
    "\n",
    "        assert mask_type in {'A', 'B', 'V'}\n",
    "        self.mask_type = mask_type\n",
    "\n",
    "        self.filters = filters\n",
    "\n",
    "        if isinstance(kernel_size, int):\n",
    "            kernel_size = (kernel_size, kernel_size)\n",
    "        self.kernel_size = kernel_size\n",
    "\n",
    "        self.strides = strides\n",
    "        self.padding = padding.upper()\n",
    "        self.kernel_initializer = initializers.get(kernel_initializer)\n",
    "        self.bias_initializer = initializers.get(bias_initializer)\n",
    "\n",
    "    def build(self, input_shape):\n",
    "        kernel_h, kernel_w = self.kernel_size\n",
    "\n",
    "        self.kernel = self.add_weight('kernel',\n",
    "                                      shape=(kernel_h,\n",
    "                                             kernel_w,\n",
    "                                             int(input_shape[-1]),\n",
    "                                             self.filters),\n",
    "                                      initializer=self.kernel_initializer,\n",
    "                                      trainable=True)\n",
    "\n",
    "        self.bias = self.add_weight('bias',\n",
    "                                    shape=(self.filters,),\n",
    "                                    initializer=self.bias_initializer,\n",
    "                                    trainable=True)\n",
    "\n",
    "        mask = np.ones(self.kernel.shape, dtype=np.float64)\n",
    "\n",
    "        # Get centre of the filter for even or odd dimensions\n",
    "        if kernel_h % 2 != 0:\n",
    "            center_h = kernel_h // 2\n",
    "        else:\n",
    "            center_h = (kernel_h - 1) // 2\n",
    "\n",
    "        if kernel_w % 2 != 0:\n",
    "            center_w = kernel_w // 2\n",
    "        else:\n",
    "            center_w = (kernel_w - 1) // 2\n",
    "\n",
    "        if self.mask_type == 'V':\n",
    "            mask[center_h + 1:, :, :, :] = 0.\n",
    "        else:\n",
    "            mask[:center_h, :, :] = 0.\n",
    "            mask[center_h, center_w + (self.mask_type == 'B'):, :, :] = 0.\n",
    "            mask[center_h + 1:, :, :] = 0.\n",
    "\n",
    "        self.mask = tf.constant(mask, dtype=tf.float64, name='mask')\n",
    "\n",
    "    def call(self, input):\n",
    "        masked_kernel = tf.math.multiply(self.mask, self.kernel)\n",
    "        x = nn.conv2d(input,\n",
    "                      masked_kernel,\n",
    "                      strides=[1, self.strides, self.strides, 1],\n",
    "                      padding=self.padding)\n",
    "        x = nn.bias_add(x, self.bias)\n",
    "        return x"
   ]
  },
  {
   "cell_type": "markdown",
   "metadata": {},
   "source": [
    "Then, we define th eblock implementation."
   ]
  },
  {
   "cell_type": "code",
   "execution_count": 3,
   "metadata": {
    "colab": {},
    "colab_type": "code",
    "id": "K5topys_HW7-"
   },
   "outputs": [],
   "source": [
    "class GatedBlock(tf.keras.Model):\n",
    "    \"\"\" Gated block that compose Gated PixelCNN.\"\"\"\n",
    "\n",
    "    def __init__(self, mask_type, filters, kernel_size):\n",
    "        super(GatedBlock, self).__init__(name='')\n",
    "\n",
    "        self.mask_type = mask_type\n",
    "        self.vertical_conv = MaskedConv2D(mask_type='V',\n",
    "                                          filters=2 * filters,\n",
    "                                          kernel_size=kernel_size)\n",
    "\n",
    "        self.horizontal_conv = MaskedConv2D(mask_type=mask_type,\n",
    "                                            filters=2 * filters,\n",
    "                                            kernel_size=(1, kernel_size))\n",
    "\n",
    "        self.padding = keras.layers.ZeroPadding2D(padding=((1, 0), 0))\n",
    "        self.cropping = keras.layers.Cropping2D(cropping=((0, 1), 0))\n",
    "\n",
    "        self.v_to_h_conv = keras.layers.Conv2D(filters=2 * filters, kernel_size=1)\n",
    "\n",
    "        self.horizontal_output = keras.layers.Conv2D(filters=filters, kernel_size=1)\n",
    "\n",
    "    def _gate(self, x):\n",
    "        tanh_preactivation, sigmoid_preactivation = tf.split(x, 2, axis=-1)\n",
    "        return tf.nn.tanh(tanh_preactivation) * tf.nn.sigmoid(sigmoid_preactivation)\n",
    "\n",
    "    def call(self, input_tensor):\n",
    "        v = input_tensor[0]\n",
    "        h = input_tensor[1]\n",
    "\n",
    "        vertical_preactivation = self.vertical_conv(v)\n",
    "\n",
    "        # Shifting vertical stack feature map down before feed into horizontal stack to\n",
    "        # ensure causality\n",
    "        v_to_h = self.padding(vertical_preactivation)\n",
    "        v_to_h = self.cropping(v_to_h)\n",
    "        v_to_h = self.v_to_h_conv(v_to_h)\n",
    "\n",
    "        horizontal_preactivation = self.horizontal_conv(h)\n",
    "\n",
    "        v_out = self._gate(vertical_preactivation)\n",
    "\n",
    "        horizontal_preactivation = horizontal_preactivation + v_to_h\n",
    "        h_activated = self._gate(horizontal_preactivation)\n",
    "        h_activated = self.horizontal_output(h_activated)\n",
    "\n",
    "        if self.mask_type == 'A':\n",
    "            h_out = h_activated\n",
    "        elif self.mask_type == 'B':\n",
    "            h_out = h + h_activated\n",
    "\n",
    "        return v_out, h_out"
   ]
  },
  {
   "cell_type": "markdown",
   "metadata": {},
   "source": [
    "In order to analyse grow the receptive field grows along the layers, we will start analysing 1 block."
   ]
  },
  {
   "cell_type": "code",
   "execution_count": 4,
   "metadata": {},
   "outputs": [],
   "source": [
    "height = 10\n",
    "width = 10\n",
    "n_channel = 1\n",
    "\n",
    "data = tf.random.normal((1, height, width, n_channel))\n",
    "\n",
    "inputs = keras.layers.Input(shape=(height, width, n_channel))\n",
    "v, h = GatedBlock(mask_type='A', filters=1, kernel_size=3)([inputs, inputs])\n",
    "model = tf.keras.Model(inputs=inputs, outputs=h)"
   ]
  },
  {
   "cell_type": "code",
   "execution_count": 5,
   "metadata": {
    "colab": {},
    "colab_type": "code",
    "id": "jxCLMYc-FxdJ"
   },
   "outputs": [],
   "source": [
    "def plot_receptive_field(model, data):\n",
    "    with tf.GradientTape() as tape:\n",
    "        tape.watch(data)\n",
    "        prediction = model(data)\n",
    "        loss = prediction[:,5,5,0]\n",
    "\n",
    "    gradients = tape.gradient(loss, data)\n",
    "\n",
    "    gradients = np.abs(gradients.numpy().squeeze())\n",
    "    gradients = (gradients > 0).astype('float64')\n",
    "    gradients[5, 5] = 0.5\n",
    "\n",
    "    fig = plt.figure()\n",
    "    ax = fig.add_subplot(1, 1, 1)\n",
    "\n",
    "    plt.xticks(np.arange(0, 10, step=1))\n",
    "    plt.yticks(np.arange(0, 10, step=1))\n",
    "    ax.xaxis.set_minor_locator(FixedLocator(np.arange(0.5, 10.5, step=1)))\n",
    "    ax.yaxis.set_minor_locator(FixedLocator(np.arange(0.5, 10.5, step=1)))\n",
    "    plt.grid(which=\"minor\")\n",
    "    plt.imshow(gradients, vmin=0, vmax=1)\n",
    "    plt.show()"
   ]
  },
  {
   "cell_type": "code",
   "execution_count": 6,
   "metadata": {},
   "outputs": [
    {
     "data": {
      "image/png": "[encoded data removed]",
      "text/plain": [
       "<Figure size 432x288 with 1 Axes>"
      ]
     },
     "metadata": {
      "needs_background": "light"
     },
     "output_type": "display_data"
    }
   ],
   "source": [
    "plot_receptive_field(model, data)"
   ]
  },
  {
   "cell_type": "markdown",
   "metadata": {
    "colab": {},
    "colab_type": "code",
    "id": "I2APaCzDGeqP"
   },
   "source": [
    "Excellent! Like we expected the block considered all the previous blocks in the same row of the analyssed pixel, and the two rows over it.\n",
    "\n",
    "Note that this receptive field is different from the original PixelCNN. In the original PixelCNN only one row over the analysed pixel influenced in its prediction (when using one masked convolution). In the Gated PixelCNN, the authors used a vertical stack with effective area of 2x3 per vertical convolution. This is not a problem, since the considered pixels still being the ones in past positions. We believe the main coice for this format is to implement an efficient way to apply the masked convolutions without using masking (which we will discuss in future posts).\n",
    "\n",
    "For the next step, we wll verify a model with 2, 3, 4, and 5 layers"
   ]
  },
  {
   "cell_type": "code",
   "execution_count": 7,
   "metadata": {},
   "outputs": [
    {
     "data": {
      "image/png": "[encoded data removed]",
      "text/plain": [
       "<Figure size 432x288 with 1 Axes>"
      ]
     },
     "metadata": {
      "needs_background": "light"
     },
     "output_type": "display_data"
    }
   ],
   "source": [
    "inputs = keras.layers.Input(shape=(height, width, n_channel))\n",
    "v, h = GatedBlock(mask_type='A', filters=1, kernel_size=3)([inputs, inputs])\n",
    "v, h = GatedBlock(mask_type='B', filters=1, kernel_size=3)([v, h])\n",
    "model = tf.keras.Model(inputs=inputs, outputs=h)\n",
    "\n",
    "plot_receptive_field(model, data)"
   ]
  },
  {
   "cell_type": "code",
   "execution_count": 8,
   "metadata": {},
   "outputs": [
    {
     "data": {
      "image/png": "[encoded data removed]",
      "text/plain": [
       "<Figure size 432x288 with 1 Axes>"
      ]
     },
     "metadata": {
      "needs_background": "light"
     },
     "output_type": "display_data"
    }
   ],
   "source": [
    "inputs = keras.layers.Input(shape=(height, width, n_channel))\n",
    "v, h = GatedBlock(mask_type='A', filters=1, kernel_size=3)([inputs, inputs])\n",
    "v, h = GatedBlock(mask_type='B', filters=1, kernel_size=3)([v, h])\n",
    "v, h = GatedBlock(mask_type='B', filters=1, kernel_size=3)([v, h])\n",
    "model = tf.keras.Model(inputs=inputs, outputs=h)\n",
    "\n",
    "plot_receptive_field(model, data)"
   ]
  },
  {
   "cell_type": "code",
   "execution_count": 9,
   "metadata": {},
   "outputs": [
    {
     "data": {
      "image/png": "[encoded data removed]",
      "text/plain": [
       "<Figure size 432x288 with 1 Axes>"
      ]
     },
     "metadata": {
      "needs_background": "light"
     },
     "output_type": "display_data"
    }
   ],
   "source": [
    "inputs = keras.layers.Input(shape=(height, width, n_channel))\n",
    "v, h = GatedBlock(mask_type='A', filters=1, kernel_size=3)([inputs, inputs])\n",
    "v, h = GatedBlock(mask_type='B', filters=1, kernel_size=3)([v, h])\n",
    "v, h = GatedBlock(mask_type='B', filters=1, kernel_size=3)([v, h])\n",
    "v, h = GatedBlock(mask_type='B', filters=1, kernel_size=3)([v, h])\n",
    "model = tf.keras.Model(inputs=inputs, outputs=h)\n",
    "\n",
    "plot_receptive_field(model, data)"
   ]
  },
  {
   "cell_type": "code",
   "execution_count": 10,
   "metadata": {},
   "outputs": [
    {
     "data": {
      "image/png": "[encoded data removed]",
      "text/plain": [
       "<Figure size 432x288 with 1 Axes>"
      ]
     },
     "metadata": {
      "needs_background": "light"
     },
     "output_type": "display_data"
    }
   ],
   "source": [
    "inputs = keras.layers.Input(shape=(height, width, n_channel))\n",
    "v, h = GatedBlock(mask_type='A', filters=1, kernel_size=3)([inputs, inputs])\n",
    "v, h = GatedBlock(mask_type='B', filters=1, kernel_size=3)([v, h])\n",
    "v, h = GatedBlock(mask_type='B', filters=1, kernel_size=3)([v, h])\n",
    "v, h = GatedBlock(mask_type='B', filters=1, kernel_size=3)([v, h])\n",
    "v, h = GatedBlock(mask_type='B', filters=1, kernel_size=3)([v, h])\n",
    "model = tf.keras.Model(inputs=inputs, outputs=h)\n",
    "\n",
    "plot_receptive_field(model, data)"
   ]
  },
  {
   "cell_type": "markdown",
   "metadata": {},
   "source": [
    "As you can notice, the Gated PixelCNN does not create blind spots when adding more and more layers."
   ]
  }
 ],
 "metadata": {
  "colab": {
   "collapsed_sections": [],
   "name": "Gated Receptive fields.ipynb",
   "provenance": []
  },
  "kernelspec": {
   "display_name": "Python 3",
   "language": "python",
   "name": "python3"
  },
  "language_info": {
   "codemirror_mode": {
    "name": "ipython",
    "version": 3
   },
   "file_extension": ".py",
   "mimetype": "text/x-python",
   "name": "python",
   "nbconvert_exporter": "python",
   "pygments_lexer": "ipython3",
   "version": "3.6.9"
  }
 },
 "nbformat": 4,
 "nbformat_minor": 1
}
