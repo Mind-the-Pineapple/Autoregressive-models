{
  "nbformat": 4,
  "nbformat_minor": 0,
  "metadata": {
    "accelerator": "GPU",
    "colab": {
      "name": "multichannel.ipynb",
      "provenance": [],
      "collapsed_sections": []
    },
    "kernelspec": {
      "display_name": "Python 3",
      "language": "python",
      "name": "python3"
    },
    "language_info": {
      "codemirror_mode": {
        "name": "ipython",
        "version": 3
      },
      "file_extension": ".py",
      "mimetype": "text/x-python",
      "name": "python",
      "nbconvert_exporter": "python",
      "pygments_lexer": "ipython3",
      "version": "3.7.2"
    }
  },
  "cells": [
    {
      "cell_type": "code",
      "metadata": {
        "colab_type": "code",
        "id": "sh8yUGDPNSfo",
        "colab": {}
      },
      "source": [
        "import random as rn\n",
        "import time\n",
        "%tensorflow_version 2.x\n",
        "import matplotlib.pyplot as plt\n",
        "import numpy as np\n",
        "import tensorflow as tf\n",
        "from tensorflow import keras\n",
        "from tensorflow.keras.utils import Progbar"
      ],
      "execution_count": 0,
      "outputs": []
    },
    {
      "cell_type": "code",
      "metadata": {
        "colab_type": "code",
        "id": "Lu1pR95h3tw1",
        "colab": {}
      },
      "source": [
        "class MaskedConv2D(tf.keras.layers.Layer):\n",
        "    \"\"\"Convolutional layers with masks for autoregressive models\n",
        "\n",
        "    Convolutional layers with simple implementation to have masks type A and B.\n",
        "    \"\"\"\n",
        "\n",
        "    def __init__(self,\n",
        "                 mask_type,\n",
        "                 filters,\n",
        "                 kernel_size,\n",
        "                 strides=1,\n",
        "                 padding='same',\n",
        "                 kernel_initializer='glorot_uniform',\n",
        "                 bias_initializer='zeros',\n",
        "                 input_n_channels=3):\n",
        "        \n",
        "        super(MaskedConv2D, self).__init__()\n",
        "\n",
        "        assert mask_type in {'A', 'B'}\n",
        "        self.mask_type = mask_type\n",
        "\n",
        "        self.filters = filters\n",
        "        self.kernel_size = kernel_size\n",
        "        self.strides = strides\n",
        "        self.padding = padding.upper()\n",
        "        self.kernel_initializer = keras.initializers.get(kernel_initializer)\n",
        "        self.bias_initializer = keras.initializers.get(bias_initializer)\n",
        "        self.input_n_channels = input_n_channels\n",
        "\n",
        "    def build(self, input_shape):\n",
        "        self.kernel = self.add_weight(\"kernel\",\n",
        "                                      shape=(self.kernel_size,\n",
        "                                             self.kernel_size,\n",
        "                                             int(input_shape[-1]),\n",
        "                                             self.filters),\n",
        "                                      initializer=self.kernel_initializer,\n",
        "                                      trainable=True)\n",
        "\n",
        "        self.bias = self.add_weight(\"bias\",\n",
        "                                    shape=(self.filters,),\n",
        "                                    initializer=self.bias_initializer,\n",
        "                                    trainable=True)\n",
        "\n",
        "        center = self.kernel_size // 2\n",
        "\n",
        "        mask = np.ones(self.kernel.shape, dtype=np.float32)\n",
        "        mask[center, center + 1:, :, :] = 0.\n",
        "        mask[center + 1:, :, :, :] = 0.\n",
        "\n",
        "        for i in range(self.input_n_channels):\n",
        "            for j in range(self.input_n_channels):\n",
        "                if (self.mask_type == 'A' and i >= j) or (self.mask_type == 'B' and i > j):\n",
        "                    mask[center, center, i::self.input_n_channels, j::self.input_n_channels] = 0.\n",
        "        print(mask.shape)\n",
        "\n",
        "        print(mask[:,:,0])\n",
        "        print('--------------')\n",
        "        print(mask[:,:,1])\n",
        "        print('--------------')\n",
        "        print(mask[:,:,2])\n",
        "        print('--------------')\n",
        "\n",
        "        self.mask = tf.constant(mask, dtype=tf.float32, name='mask')\n",
        "\n",
        "    def call(self, input):\n",
        "        masked_kernel = tf.math.multiply(self.mask, self.kernel)\n",
        "        tf.print(masked_kernel)\n",
        "        x = tf.nn.conv2d(input, masked_kernel, strides=[1, self.strides, self.strides, 1], padding=self.padding)\n",
        "        x = tf.nn.bias_add(x, self.bias)\n",
        "    \n",
        "        return x"
      ],
      "execution_count": 0,
      "outputs": []
    },
    {
      "cell_type": "code",
      "metadata": {
        "id": "IJue7K1WcLmQ",
        "colab_type": "code",
        "colab": {}
      },
      "source": [
        "# Test cases\n",
        "test_ones = np.ones([1, 3, 3, 3])\n",
        "test_ones_depth6 = np.stack([\n",
        "    np.ones([1, 3, 3]),\n",
        "    np.ones([1, 3, 3]) * 0.1,\n",
        "    np.ones([1, 3, 3]),\n",
        "    np.ones([1, 3, 3]) * 0.1,\n",
        "    np.ones([1, 3, 3]),\n",
        "    np.ones([1, 3, 3]) * 0.1,\n",
        "], axis=-1)"
      ],
      "execution_count": 0,
      "outputs": []
    },
    {
      "cell_type": "code",
      "metadata": {
        "id": "x-K_mW1n4joW",
        "colab_type": "code",
        "colab": {}
      },
      "source": [
        "def build_test_network(ptype, input_shape=(3,3,3)):\n",
        "  inputs = tf.keras.layers.Input(shape=(3, 3, 3))\n",
        "  x = MaskedConv2D(mask_type='A', filters=1, kernel_size=3, \n",
        "                              padding='same',\n",
        "                              kernel_initializer='ones', \n",
        "                              bias_initializer='zeros')(inputs)\n",
        "\n",
        "  pixelcnn = tf.keras.Model(inputs=inputs, outputs=x)\n",
        "  optimizer = tf.keras.optimizers.Adam(lr=0.001)\n",
        "  pixelcnn.compile(optimizer=optimizer, loss='mse')\n",
        "  return pixelcnn"
      ],
      "execution_count": 0,
      "outputs": []
    },
    {
      "cell_type": "code",
      "metadata": {
        "id": "8pooXfUrdfNw",
        "colab_type": "code",
        "colab": {
          "base_uri": "https://localhost:8080/",
          "height": 1000
        },
        "outputId": "71230afc-3059-427c-c836-ba5d2d7fa47c"
      },
      "source": [
        "print('RA CONFIG depth=3')\n",
        "pixelcnn = build_test_network('A')\n",
        "val = pixelcnn.predict(test_ones).reshape(3, 3)\n",
        "\n",
        "expected = np.array([0, 1, 1, 2, 4, 3, 2, 4, 3]).reshape(3, 3)\n",
        "display(expected, val)\n",
        "assert np.array_equal(val, expected)\n",
        "\n",
        "print('RB CONFIG depth=3')\n",
        "model = build_test_network('rb')\n",
        "val = model.predict(test_ones).reshape(3, 3)\n",
        "expected = expected + 1\n",
        "display(expected, val)\n",
        "assert np.array_equal(val, expected)"
      ],
      "execution_count": 29,
      "outputs": [
        {
          "output_type": "stream",
          "text": [
            "RA CONFIG depth=3\n",
            "(3, 3, 3, 1)\n",
            "[[[1.]\n",
            "  [1.]\n",
            "  [1.]]\n",
            "\n",
            " [[1.]\n",
            "  [0.]\n",
            "  [0.]]\n",
            "\n",
            " [[0.]\n",
            "  [0.]\n",
            "  [0.]]]\n",
            "--------------\n",
            "[[[1.]\n",
            "  [1.]\n",
            "  [1.]]\n",
            "\n",
            " [[1.]\n",
            "  [0.]\n",
            "  [0.]]\n",
            "\n",
            " [[0.]\n",
            "  [0.]\n",
            "  [0.]]]\n",
            "--------------\n",
            "[[[1.]\n",
            "  [1.]\n",
            "  [1.]]\n",
            "\n",
            " [[1.]\n",
            "  [0.]\n",
            "  [0.]]\n",
            "\n",
            " [[0.]\n",
            "  [0.]\n",
            "  [0.]]]\n",
            "--------------\n",
            "[[[[1]\n",
            "   [1]\n",
            "   [1]]\n",
            "\n",
            "  [[1]\n",
            "   [1]\n",
            "   [1]]\n",
            "\n",
            "  [[1]\n",
            "   [1]\n",
            "   [1]]]\n",
            "\n",
            "\n",
            " [[[1]\n",
            "   [1]\n",
            "   [1]]\n",
            "\n",
            "  [[0]\n",
            "   [0]\n",
            "   [0]]\n",
            "\n",
            "  [[0]\n",
            "   [0]\n",
            "   [0]]]\n",
            "\n",
            "\n",
            " [[[0]\n",
            "   [0]\n",
            "   [0]]\n",
            "\n",
            "  [[0]\n",
            "   [0]\n",
            "   [0]]\n",
            "\n",
            "  [[0]\n",
            "   [0]\n",
            "   [0]]]]\n",
            "[[[[0]\n",
            "   [3]\n",
            "   [3]]\n",
            "\n",
            "  [[6]\n",
            "   [12]\n",
            "   [9]]\n",
            "\n",
            "  [[6]\n",
            "   [12]\n",
            "   [9]]]]\n"
          ],
          "name": "stdout"
        },
        {
          "output_type": "display_data",
          "data": {
            "text/plain": [
              "array([[0, 1, 1],\n",
              "       [2, 4, 3],\n",
              "       [2, 4, 3]])"
            ]
          },
          "metadata": {
            "tags": []
          }
        },
        {
          "output_type": "display_data",
          "data": {
            "text/plain": [
              "array([[ 0.,  3.,  3.],\n",
              "       [ 6., 12.,  9.],\n",
              "       [ 6., 12.,  9.]], dtype=float32)"
            ]
          },
          "metadata": {
            "tags": []
          }
        },
        {
          "output_type": "error",
          "ename": "AssertionError",
          "evalue": "ignored",
          "traceback": [
            "\u001b[0;31m---------------------------------------------------------------------------\u001b[0m",
            "\u001b[0;31mAssertionError\u001b[0m                            Traceback (most recent call last)",
            "\u001b[0;32m<ipython-input-29-2013574ec4cf>\u001b[0m in \u001b[0;36m<module>\u001b[0;34m()\u001b[0m\n\u001b[1;32m      5\u001b[0m \u001b[0mexpected\u001b[0m \u001b[0;34m=\u001b[0m \u001b[0mnp\u001b[0m\u001b[0;34m.\u001b[0m\u001b[0marray\u001b[0m\u001b[0;34m(\u001b[0m\u001b[0;34m[\u001b[0m\u001b[0;36m0\u001b[0m\u001b[0;34m,\u001b[0m \u001b[0;36m1\u001b[0m\u001b[0;34m,\u001b[0m \u001b[0;36m1\u001b[0m\u001b[0;34m,\u001b[0m \u001b[0;36m2\u001b[0m\u001b[0;34m,\u001b[0m \u001b[0;36m4\u001b[0m\u001b[0;34m,\u001b[0m \u001b[0;36m3\u001b[0m\u001b[0;34m,\u001b[0m \u001b[0;36m2\u001b[0m\u001b[0;34m,\u001b[0m \u001b[0;36m4\u001b[0m\u001b[0;34m,\u001b[0m \u001b[0;36m3\u001b[0m\u001b[0;34m]\u001b[0m\u001b[0;34m)\u001b[0m\u001b[0;34m.\u001b[0m\u001b[0mreshape\u001b[0m\u001b[0;34m(\u001b[0m\u001b[0;36m3\u001b[0m\u001b[0;34m,\u001b[0m \u001b[0;36m3\u001b[0m\u001b[0;34m)\u001b[0m\u001b[0;34m\u001b[0m\u001b[0;34m\u001b[0m\u001b[0m\n\u001b[1;32m      6\u001b[0m \u001b[0mdisplay\u001b[0m\u001b[0;34m(\u001b[0m\u001b[0mexpected\u001b[0m\u001b[0;34m,\u001b[0m \u001b[0mval\u001b[0m\u001b[0;34m)\u001b[0m\u001b[0;34m\u001b[0m\u001b[0;34m\u001b[0m\u001b[0m\n\u001b[0;32m----> 7\u001b[0;31m \u001b[0;32massert\u001b[0m \u001b[0mnp\u001b[0m\u001b[0;34m.\u001b[0m\u001b[0marray_equal\u001b[0m\u001b[0;34m(\u001b[0m\u001b[0mval\u001b[0m\u001b[0;34m,\u001b[0m \u001b[0mexpected\u001b[0m\u001b[0;34m)\u001b[0m\u001b[0;34m\u001b[0m\u001b[0;34m\u001b[0m\u001b[0m\n\u001b[0m\u001b[1;32m      8\u001b[0m \u001b[0;34m\u001b[0m\u001b[0m\n\u001b[1;32m      9\u001b[0m \u001b[0mprint\u001b[0m\u001b[0;34m(\u001b[0m\u001b[0;34m'RB CONFIG depth=3'\u001b[0m\u001b[0;34m)\u001b[0m\u001b[0;34m\u001b[0m\u001b[0;34m\u001b[0m\u001b[0m\n",
            "\u001b[0;31mAssertionError\u001b[0m: "
          ]
        }
      ]
    },
    {
      "cell_type": "code",
      "metadata": {
        "id": "Pu5SUY4AA93M",
        "colab_type": "code",
        "outputId": "53b04a2b-6b8e-4e34-c5ed-0538a3090f4b",
        "colab": {
          "base_uri": "https://localhost:8080/",
          "height": 968
        }
      },
      "source": [
        "print('RA CONFIG depth=6')\n",
        "pixelcnn = build_test_network('A', input_shape=(3, 3, 6))\n",
        "val = pixelcnn.predict(test_ones).reshape(3, 3)\n",
        "\n",
        "expected = np.array([0, 1.1, 1.1, 2.2, 4.4, 3.3, 2.2, 4.4, 3.3]).reshape(3, 3)\n",
        "display(expected, val)\n",
        "assert np.allclose(val, expected)\n",
        "# Resposta de 3 mascaras, Mascara A RGB:"
      ],
      "execution_count": 0,
      "outputs": [
        {
          "output_type": "stream",
          "text": [
            "RA CONFIG depth=6\n",
            "(3, 3, 3, 3)\n",
            "R\n",
            "[[1. 1. 1.]\n",
            " [1. 0. 0.]\n",
            " [0. 0. 0.]]\n",
            "--------------\n",
            "[[1. 1. 1.]\n",
            " [1. 0. 0.]\n",
            " [0. 0. 0.]]\n",
            "--------------\n",
            "[[1. 1. 1.]\n",
            " [1. 0. 0.]\n",
            " [0. 0. 0.]]\n",
            "--------------\n",
            "g\n",
            "[[1. 1. 1.]\n",
            " [1. 1. 0.]\n",
            " [0. 0. 0.]]\n",
            "--------------\n",
            "[[1. 1. 1.]\n",
            " [1. 0. 0.]\n",
            " [0. 0. 0.]]\n",
            "--------------\n",
            "[[1. 1. 1.]\n",
            " [1. 0. 0.]\n",
            " [0. 0. 0.]]\n",
            "--------------\n",
            "B\n",
            "[[1. 1. 1.]\n",
            " [1. 1. 0.]\n",
            " [0. 0. 0.]]\n",
            "--------------\n",
            "[[1. 1. 1.]\n",
            " [1. 1. 0.]\n",
            " [0. 0. 0.]]\n",
            "--------------\n",
            "[[1. 1. 1.]\n",
            " [1. 0. 0.]\n",
            " [0. 0. 0.]]\n",
            "--------------\n"
          ],
          "name": "stdout"
        },
        {
          "output_type": "error",
          "ename": "ValueError",
          "evalue": "ignored",
          "traceback": [
            "\u001b[0;31m---------------------------------------------------------------------------\u001b[0m",
            "\u001b[0;31mValueError\u001b[0m                                Traceback (most recent call last)",
            "\u001b[0;32m<ipython-input-34-ff5d690ecbf8>\u001b[0m in \u001b[0;36m<module>\u001b[0;34m()\u001b[0m\n\u001b[1;32m      1\u001b[0m \u001b[0mprint\u001b[0m\u001b[0;34m(\u001b[0m\u001b[0;34m'RA CONFIG depth=6'\u001b[0m\u001b[0;34m)\u001b[0m\u001b[0;34m\u001b[0m\u001b[0;34m\u001b[0m\u001b[0m\n\u001b[1;32m      2\u001b[0m \u001b[0mpixelcnn\u001b[0m \u001b[0;34m=\u001b[0m \u001b[0mbuild_test_network\u001b[0m\u001b[0;34m(\u001b[0m\u001b[0;34m'A'\u001b[0m\u001b[0;34m,\u001b[0m \u001b[0minput_shape\u001b[0m\u001b[0;34m=\u001b[0m\u001b[0;34m(\u001b[0m\u001b[0;36m3\u001b[0m\u001b[0;34m,\u001b[0m \u001b[0;36m3\u001b[0m\u001b[0;34m,\u001b[0m \u001b[0;36m6\u001b[0m\u001b[0;34m)\u001b[0m\u001b[0;34m)\u001b[0m\u001b[0;34m\u001b[0m\u001b[0;34m\u001b[0m\u001b[0m\n\u001b[0;32m----> 3\u001b[0;31m \u001b[0mval\u001b[0m \u001b[0;34m=\u001b[0m \u001b[0mpixelcnn\u001b[0m\u001b[0;34m.\u001b[0m\u001b[0mpredict\u001b[0m\u001b[0;34m(\u001b[0m\u001b[0mtest_ones\u001b[0m\u001b[0;34m)\u001b[0m\u001b[0;34m.\u001b[0m\u001b[0mreshape\u001b[0m\u001b[0;34m(\u001b[0m\u001b[0;36m3\u001b[0m\u001b[0;34m,\u001b[0m \u001b[0;36m3\u001b[0m\u001b[0;34m)\u001b[0m\u001b[0;34m\u001b[0m\u001b[0;34m\u001b[0m\u001b[0m\n\u001b[0m\u001b[1;32m      4\u001b[0m \u001b[0;34m\u001b[0m\u001b[0m\n\u001b[1;32m      5\u001b[0m \u001b[0mexpected\u001b[0m \u001b[0;34m=\u001b[0m \u001b[0mnp\u001b[0m\u001b[0;34m.\u001b[0m\u001b[0marray\u001b[0m\u001b[0;34m(\u001b[0m\u001b[0;34m[\u001b[0m\u001b[0;36m0\u001b[0m\u001b[0;34m,\u001b[0m \u001b[0;36m1.1\u001b[0m\u001b[0;34m,\u001b[0m \u001b[0;36m1.1\u001b[0m\u001b[0;34m,\u001b[0m \u001b[0;36m2.2\u001b[0m\u001b[0;34m,\u001b[0m \u001b[0;36m4.4\u001b[0m\u001b[0;34m,\u001b[0m \u001b[0;36m3.3\u001b[0m\u001b[0;34m,\u001b[0m \u001b[0;36m2.2\u001b[0m\u001b[0;34m,\u001b[0m \u001b[0;36m4.4\u001b[0m\u001b[0;34m,\u001b[0m \u001b[0;36m3.3\u001b[0m\u001b[0;34m]\u001b[0m\u001b[0;34m)\u001b[0m\u001b[0;34m.\u001b[0m\u001b[0mreshape\u001b[0m\u001b[0;34m(\u001b[0m\u001b[0;36m3\u001b[0m\u001b[0;34m,\u001b[0m \u001b[0;36m3\u001b[0m\u001b[0;34m)\u001b[0m\u001b[0;34m\u001b[0m\u001b[0;34m\u001b[0m\u001b[0m\n",
            "\u001b[0;31mValueError\u001b[0m: cannot reshape array of size 27 into shape (3,3)"
          ]
        }
      ]
    },
    {
      "cell_type": "code",
      "metadata": {
        "id": "u3kP31ArKWyY",
        "colab_type": "code",
        "outputId": "16c73408-35f9-41e3-8968-24247db00124",
        "colab": {
          "base_uri": "https://localhost:8080/",
          "height": 1000
        }
      },
      "source": [
        "print('RA CONFIG depth=3')\n",
        "pixelcnn = build_test_network('B', input_shape=(3, 3, 6))\n",
        "val = pixelcnn.predict(test_ones).reshape(3, 3)\n",
        "\n",
        "expected = np.array([0, 1, 1, 2, 4, 3, 2, 4, 3]).reshape(3, 3)\n",
        "display(expected, val)\n",
        "assert np.allclose(val, expected)\n",
        "# Resposta de 3 mascaras, Mascara B RGB:"
      ],
      "execution_count": 15,
      "outputs": [
        {
          "output_type": "stream",
          "text": [
            "RA CONFIG depth=3\n",
            "(3, 3, 3, 3)\n",
            "R\n",
            "[[1. 1. 1.]\n",
            " [1. 1. 0.]\n",
            " [0. 0. 0.]]\n",
            "--------------\n",
            "[[1. 1. 1.]\n",
            " [1. 0. 0.]\n",
            " [0. 0. 0.]]\n",
            "--------------\n",
            "[[1. 1. 1.]\n",
            " [1. 0. 0.]\n",
            " [0. 0. 0.]]\n",
            "--------------\n",
            "G\n",
            "[[1. 1. 1.]\n",
            " [1. 1. 0.]\n",
            " [0. 0. 0.]]\n",
            "--------------\n",
            "[[1. 1. 1.]\n",
            " [1. 1. 0.]\n",
            " [0. 0. 0.]]\n",
            "--------------\n",
            "[[1. 1. 1.]\n",
            " [1. 0. 0.]\n",
            " [0. 0. 0.]]\n",
            "--------------\n",
            "B\n",
            "[[1. 1. 1.]\n",
            " [1. 1. 0.]\n",
            " [0. 0. 0.]]\n",
            "--------------\n",
            "[[1. 1. 1.]\n",
            " [1. 1. 0.]\n",
            " [0. 0. 0.]]\n",
            "--------------\n",
            "[[1. 1. 1.]\n",
            " [1. 1. 0.]\n",
            " [0. 0. 0.]]\n",
            "--------------\n",
            "[[[[1 2 3]\n",
            "   [4 5 6]\n",
            "   [4 5 6]]\n",
            "\n",
            "  [[7 8 9]\n",
            "   [13 14 15]\n",
            "   [10 11 12]]\n",
            "\n",
            "  [[7 8 9]\n",
            "   [13 14 15]\n",
            "   [10 11 12]]]]\n"
          ],
          "name": "stdout"
        },
        {
          "output_type": "error",
          "ename": "ValueError",
          "evalue": "ignored",
          "traceback": [
            "\u001b[0;31m---------------------------------------------------------------------------\u001b[0m",
            "\u001b[0;31mValueError\u001b[0m                                Traceback (most recent call last)",
            "\u001b[0;32m<ipython-input-15-39edb641c00a>\u001b[0m in \u001b[0;36m<module>\u001b[0;34m()\u001b[0m\n\u001b[1;32m      1\u001b[0m \u001b[0mprint\u001b[0m\u001b[0;34m(\u001b[0m\u001b[0;34m'RA CONFIG depth=3'\u001b[0m\u001b[0;34m)\u001b[0m\u001b[0;34m\u001b[0m\u001b[0;34m\u001b[0m\u001b[0m\n\u001b[1;32m      2\u001b[0m \u001b[0mpixelcnn\u001b[0m \u001b[0;34m=\u001b[0m \u001b[0mbuild_test_network\u001b[0m\u001b[0;34m(\u001b[0m\u001b[0;34m'B'\u001b[0m\u001b[0;34m,\u001b[0m \u001b[0minput_shape\u001b[0m\u001b[0;34m=\u001b[0m\u001b[0;34m(\u001b[0m\u001b[0;36m3\u001b[0m\u001b[0;34m,\u001b[0m \u001b[0;36m3\u001b[0m\u001b[0;34m,\u001b[0m \u001b[0;36m6\u001b[0m\u001b[0;34m)\u001b[0m\u001b[0;34m)\u001b[0m\u001b[0;34m\u001b[0m\u001b[0;34m\u001b[0m\u001b[0m\n\u001b[0;32m----> 3\u001b[0;31m \u001b[0mval\u001b[0m \u001b[0;34m=\u001b[0m \u001b[0mpixelcnn\u001b[0m\u001b[0;34m.\u001b[0m\u001b[0mpredict\u001b[0m\u001b[0;34m(\u001b[0m\u001b[0mtest_ones\u001b[0m\u001b[0;34m)\u001b[0m\u001b[0;34m.\u001b[0m\u001b[0mreshape\u001b[0m\u001b[0;34m(\u001b[0m\u001b[0;36m3\u001b[0m\u001b[0;34m,\u001b[0m \u001b[0;36m3\u001b[0m\u001b[0;34m)\u001b[0m\u001b[0;34m\u001b[0m\u001b[0;34m\u001b[0m\u001b[0m\n\u001b[0m\u001b[1;32m      4\u001b[0m \u001b[0;34m\u001b[0m\u001b[0m\n\u001b[1;32m      5\u001b[0m \u001b[0mexpected\u001b[0m \u001b[0;34m=\u001b[0m \u001b[0mnp\u001b[0m\u001b[0;34m.\u001b[0m\u001b[0marray\u001b[0m\u001b[0;34m(\u001b[0m\u001b[0;34m[\u001b[0m\u001b[0;36m0\u001b[0m\u001b[0;34m,\u001b[0m \u001b[0;36m1\u001b[0m\u001b[0;34m,\u001b[0m \u001b[0;36m1\u001b[0m\u001b[0;34m,\u001b[0m \u001b[0;36m2\u001b[0m\u001b[0;34m,\u001b[0m \u001b[0;36m4\u001b[0m\u001b[0;34m,\u001b[0m \u001b[0;36m3\u001b[0m\u001b[0;34m,\u001b[0m \u001b[0;36m2\u001b[0m\u001b[0;34m,\u001b[0m \u001b[0;36m4\u001b[0m\u001b[0;34m,\u001b[0m \u001b[0;36m3\u001b[0m\u001b[0;34m]\u001b[0m\u001b[0;34m)\u001b[0m\u001b[0;34m.\u001b[0m\u001b[0mreshape\u001b[0m\u001b[0;34m(\u001b[0m\u001b[0;36m3\u001b[0m\u001b[0;34m,\u001b[0m \u001b[0;36m3\u001b[0m\u001b[0;34m)\u001b[0m\u001b[0;34m\u001b[0m\u001b[0;34m\u001b[0m\u001b[0m\n",
            "\u001b[0;31mValueError\u001b[0m: cannot reshape array of size 27 into shape (3,3)"
          ]
        }
      ]
    },
    {
      "cell_type": "code",
      "metadata": {
        "id": "bzhj6pNy4pdH",
        "colab_type": "code",
        "outputId": "5e1c810f-f419-4f05-94f1-50ba784999a5",
        "colab": {
          "base_uri": "https://localhost:8080/",
          "height": 1000
        }
      },
      "source": [
        "print('RA CONFIG depth=3')\n",
        "#model = build_test_network('A', (3, 3, 3))\n",
        "pixelcnn = build_test_network('A')\n",
        "val = pixelcnn.predict(test_ones).reshape(3, 3)\n",
        "\n",
        "expected = np.array([0, 1, 1, 2, 4, 3, 2, 4, 3]).reshape(3, 3)\n",
        "display(expected, val)\n",
        "assert np.array_equal(val, expected)\n",
        "\n",
        "print('RB CONFIG depth=3')\n",
        "model = build_test_network('rb')\n",
        "val = model.predict(test_ones).reshape(3, 3)\n",
        "expected = expected + 1\n",
        "display(expected, val)\n",
        "assert np.array_equal(val, expected)"
      ],
      "execution_count": 0,
      "outputs": [
        {
          "output_type": "stream",
          "text": [
            "RA CONFIG depth=3\n",
            "(3, 3, 3, 1)\n",
            "[[[1.]\n",
            "  [1.]\n",
            "  [1.]]\n",
            "\n",
            " [[1.]\n",
            "  [0.]\n",
            "  [0.]]\n",
            "\n",
            " [[0.]\n",
            "  [0.]\n",
            "  [0.]]]\n",
            "--------------\n",
            "[[[1.]\n",
            "  [1.]\n",
            "  [1.]]\n",
            "\n",
            " [[1.]\n",
            "  [0.]\n",
            "  [0.]]\n",
            "\n",
            " [[0.]\n",
            "  [0.]\n",
            "  [0.]]]\n",
            "--------------\n",
            "[[[1.]\n",
            "  [1.]\n",
            "  [1.]]\n",
            "\n",
            " [[1.]\n",
            "  [0.]\n",
            "  [0.]]\n",
            "\n",
            " [[0.]\n",
            "  [0.]\n",
            "  [0.]]]\n",
            "--------------\n"
          ],
          "name": "stdout"
        },
        {
          "output_type": "display_data",
          "data": {
            "text/plain": [
              "array([[0, 1, 1],\n",
              "       [2, 4, 3],\n",
              "       [2, 4, 3]])"
            ]
          },
          "metadata": {
            "tags": []
          }
        },
        {
          "output_type": "display_data",
          "data": {
            "text/plain": [
              "array([[ 0.,  3.,  3.],\n",
              "       [ 6., 12.,  9.],\n",
              "       [ 6., 12.,  9.]], dtype=float32)"
            ]
          },
          "metadata": {
            "tags": []
          }
        },
        {
          "output_type": "error",
          "ename": "AssertionError",
          "evalue": "ignored",
          "traceback": [
            "\u001b[0;31m---------------------------------------------------------------------------\u001b[0m",
            "\u001b[0;31mAssertionError\u001b[0m                            Traceback (most recent call last)",
            "\u001b[0;32m<ipython-input-22-ce2d7b70fc16>\u001b[0m in \u001b[0;36m<module>\u001b[0;34m()\u001b[0m\n\u001b[1;32m      6\u001b[0m \u001b[0mexpected\u001b[0m \u001b[0;34m=\u001b[0m \u001b[0mnp\u001b[0m\u001b[0;34m.\u001b[0m\u001b[0marray\u001b[0m\u001b[0;34m(\u001b[0m\u001b[0;34m[\u001b[0m\u001b[0;36m0\u001b[0m\u001b[0;34m,\u001b[0m \u001b[0;36m1\u001b[0m\u001b[0;34m,\u001b[0m \u001b[0;36m1\u001b[0m\u001b[0;34m,\u001b[0m \u001b[0;36m2\u001b[0m\u001b[0;34m,\u001b[0m \u001b[0;36m4\u001b[0m\u001b[0;34m,\u001b[0m \u001b[0;36m3\u001b[0m\u001b[0;34m,\u001b[0m \u001b[0;36m2\u001b[0m\u001b[0;34m,\u001b[0m \u001b[0;36m4\u001b[0m\u001b[0;34m,\u001b[0m \u001b[0;36m3\u001b[0m\u001b[0;34m]\u001b[0m\u001b[0;34m)\u001b[0m\u001b[0;34m.\u001b[0m\u001b[0mreshape\u001b[0m\u001b[0;34m(\u001b[0m\u001b[0;36m3\u001b[0m\u001b[0;34m,\u001b[0m \u001b[0;36m3\u001b[0m\u001b[0;34m)\u001b[0m\u001b[0;34m\u001b[0m\u001b[0;34m\u001b[0m\u001b[0m\n\u001b[1;32m      7\u001b[0m \u001b[0mdisplay\u001b[0m\u001b[0;34m(\u001b[0m\u001b[0mexpected\u001b[0m\u001b[0;34m,\u001b[0m \u001b[0mval\u001b[0m\u001b[0;34m)\u001b[0m\u001b[0;34m\u001b[0m\u001b[0;34m\u001b[0m\u001b[0m\n\u001b[0;32m----> 8\u001b[0;31m \u001b[0;32massert\u001b[0m \u001b[0mnp\u001b[0m\u001b[0;34m.\u001b[0m\u001b[0marray_equal\u001b[0m\u001b[0;34m(\u001b[0m\u001b[0mval\u001b[0m\u001b[0;34m,\u001b[0m \u001b[0mexpected\u001b[0m\u001b[0;34m)\u001b[0m\u001b[0;34m\u001b[0m\u001b[0;34m\u001b[0m\u001b[0m\n\u001b[0m\u001b[1;32m      9\u001b[0m \u001b[0;34m\u001b[0m\u001b[0m\n\u001b[1;32m     10\u001b[0m \u001b[0mprint\u001b[0m\u001b[0;34m(\u001b[0m\u001b[0;34m'RB CONFIG depth=3'\u001b[0m\u001b[0;34m)\u001b[0m\u001b[0;34m\u001b[0m\u001b[0;34m\u001b[0m\u001b[0m\n",
            "\u001b[0;31mAssertionError\u001b[0m: "
          ]
        }
      ]
    },
    {
      "cell_type": "code",
      "metadata": {
        "colab_type": "code",
        "id": "2kCIvwG5OiRh",
        "colab": {}
      },
      "source": [
        "class ResidualBlock(tf.keras.Model):\n",
        "    \"\"\"Residual blocks that compose pixelCNN\n",
        "\n",
        "    Blocks of layers with 3 convolutional layers and one residual connection.\n",
        "    Based on Figure 5 from [1] where h indicates number of filters.\n",
        "\n",
        "    Refs:\n",
        "    [1] - Oord, A. V. D., Kalchbrenner, N., & Kavukcuoglu, K. (2016). Pixel\n",
        "     recurrent neural networks. arXiv preprint arXiv:1601.06759.\n",
        "    \"\"\"\n",
        "\n",
        "    def __init__(self, h):\n",
        "        super(ResidualBlock, self).__init__(name='')\n",
        "\n",
        "        self.conv2a = keras.layers.Conv2D(filters=h, kernel_size=1, strides=1)\n",
        "        self.conv2b = MaskedConv2D(mask_type='B', filters=h, kernel_size=3, strides=1)\n",
        "        self.conv2c = keras.layers.Conv2D(filters=2 * h, kernel_size=1, strides=1)\n",
        "\n",
        "    def call(self, input_tensor):\n",
        "        x = tf.nn.relu(input_tensor)\n",
        "        x = self.conv2a(x)\n",
        "\n",
        "        x = tf.nn.relu(x)\n",
        "        x = self.conv2b(x)\n",
        "\n",
        "        x = tf.nn.relu(x)\n",
        "        x = self.conv2c(x)\n",
        "\n",
        "        x += input_tensor\n",
        "        return x"
      ],
      "execution_count": 0,
      "outputs": []
    },
    {
      "cell_type": "code",
      "metadata": {
        "colab_type": "code",
        "id": "hY4vPLROOufz",
        "colab": {}
      },
      "source": [
        "def quantise(images, q_levels):\n",
        "    \"\"\"Quantise image into q levels\"\"\"\n",
        "    return (np.digitize(images, np.arange(q_levels) / q_levels) - 1).astype('float32')\n"
      ],
      "execution_count": 0,
      "outputs": []
    },
    {
      "cell_type": "code",
      "metadata": {
        "colab_type": "code",
        "id": "AdCWLDarT9Tg",
        "colab": {}
      },
      "source": [
        "# Defining random seeds\n",
        "random_seed = 42\n",
        "tf.random.set_seed(random_seed)\n",
        "np.random.seed(random_seed)\n",
        "rn.seed(random_seed)"
      ],
      "execution_count": 0,
      "outputs": []
    },
    {
      "cell_type": "code",
      "metadata": {
        "colab_type": "code",
        "id": "PtfnOXuzUu3M",
        "outputId": "76b6985e-71b8-4afe-f2e6-b70f5fd04b2a",
        "colab": {
          "base_uri": "https://localhost:8080/",
          "height": 52
        }
      },
      "source": [
        "# Loading data\n",
        "(x_train, y_train), (x_test, y_test) = tf.keras.datasets.cifar10.load_data()\n",
        "\n",
        "height = 32\n",
        "width = 32\n",
        "n_channel = 3\n",
        "\n",
        "x_train = x_train.astype('float32') / 255.\n",
        "x_test = x_test.astype('float32') / 255.\n",
        "\n",
        "x_train = x_train.reshape(x_train.shape[0], height, width, n_channel)\n",
        "x_test = x_test.reshape(x_test.shape[0], height, width, n_channel)\n"
      ],
      "execution_count": 0,
      "outputs": [
        {
          "output_type": "stream",
          "text": [
            "Downloading data from https://www.cs.toronto.edu/~kriz/cifar-10-python.tar.gz\n",
            "170500096/170498071 [==============================] - 4s 0us/step\n"
          ],
          "name": "stdout"
        }
      ]
    },
    {
      "cell_type": "code",
      "metadata": {
        "id": "h2Wnpa_JypxL",
        "colab_type": "code",
        "colab": {}
      },
      "source": [
        "x_train = x_train[0]\n",
        "x_train = x_train.reshape(1,32,32,3)\n",
        "x_test = x_train"
      ],
      "execution_count": 0,
      "outputs": []
    },
    {
      "cell_type": "code",
      "metadata": {
        "colab_type": "code",
        "id": "6zZCb10GW5dW",
        "colab": {}
      },
      "source": [
        "# Quantise the input data in q levels\n",
        "q_levels = 128\n",
        "x_train_quantised = quantise(x_train, q_levels)\n",
        "x_test_quantised = quantise(x_test, q_levels)\n"
      ],
      "execution_count": 0,
      "outputs": []
    },
    {
      "cell_type": "code",
      "metadata": {
        "colab_type": "code",
        "id": "qSNKy9noDr2Y",
        "colab": {}
      },
      "source": [
        "batch_size = 1\n",
        "train_buf = 20000\n",
        "\n",
        "train_dataset = tf.data.Dataset.from_tensor_slices((x_train_quantised / (q_levels - 1),\n",
        "                                                    x_train_quantised.astype('int32')))\n",
        "train_dataset = train_dataset.shuffle(buffer_size=train_buf)\n",
        "train_dataset = train_dataset.batch(batch_size)\n",
        "\n",
        "test_dataset = tf.data.Dataset.from_tensor_slices((x_test_quantised / (q_levels - 1),\n",
        "                                                   x_test_quantised.astype('int32')))\n",
        "test_dataset = test_dataset.batch(batch_size)\n"
      ],
      "execution_count": 0,
      "outputs": []
    },
    {
      "cell_type": "code",
      "metadata": {
        "colab_type": "code",
        "id": "2q9eV2XzQ93g",
        "colab": {}
      },
      "source": [
        "# Create PixelCNN model\n",
        "inputs = keras.layers.Input(shape=(height, width, n_channel))\n",
        "x = MaskedConv2D(mask_type='A', filters=128, kernel_size=7, strides=1)(inputs)\n",
        "\n",
        "for i in range(5):\n",
        "    x = ResidualBlock(h=64)(x)\n",
        "\n",
        "x = keras.layers.Activation(activation='relu')(x)\n",
        "x = keras.layers.Conv2D(filters=128, kernel_size=1, strides=1)(x)\n",
        "x = keras.layers.Activation(activation='relu')(x)\n",
        "x = keras.layers.Conv2D(filters=128, kernel_size=1, strides=1)(x)\n",
        "x = keras.layers.Conv2D(filters=n_channel * q_levels, kernel_size=1, strides=1)(x)  # shape [N,H,W,DC]\n",
        "\n",
        "pixelcnn = tf.keras.Model(inputs=inputs, outputs=x)"
      ],
      "execution_count": 0,
      "outputs": []
    },
    {
      "cell_type": "code",
      "metadata": {
        "colab_type": "code",
        "id": "JNMRKtvzRBw0",
        "colab": {}
      },
      "source": [
        "# Prepare optimizer and loss function\n",
        "lr_decay = 0.999995\n",
        "learning_rate = 1e-3\n",
        "optimizer = tf.keras.optimizers.Adam(lr=learning_rate)\n",
        "\n",
        "compute_loss = tf.keras.losses.CategoricalCrossentropy(from_logits=True)"
      ],
      "execution_count": 0,
      "outputs": []
    },
    {
      "cell_type": "code",
      "metadata": {
        "colab_type": "code",
        "id": "1QbqYMhjJZQQ",
        "colab": {}
      },
      "source": [
        "@tf.function\n",
        "def train_step(batch_x, batch_y):\n",
        "    with tf.GradientTape() as ae_tape:\n",
        "      \n",
        "        logits = pixelcnn(batch_x, training=True)\n",
        "\n",
        "        logits = tf.reshape(logits, [-1, height, width, q_levels, n_channel])  # shape [N,H,W,DC] -> [N,H,W,D,C]\n",
        "        logits = tf.transpose(logits, perm=[0, 1, 2, 4, 3])  # shape [N,H,W,D,C] -> [N,H,W,C,D]\n",
        "\n",
        "        loss = compute_loss(tf.one_hot(batch_y, q_levels), logits)\n",
        "\n",
        "    gradients = ae_tape.gradient(loss, pixelcnn.trainable_variables)\n",
        "    gradients, _ = tf.clip_by_global_norm(gradients, 1.0)\n",
        "    optimizer.apply_gradients(zip(gradients, pixelcnn.trainable_variables))\n",
        "\n",
        "    return loss\n"
      ],
      "execution_count": 0,
      "outputs": []
    },
    {
      "cell_type": "code",
      "metadata": {
        "colab_type": "code",
        "id": "RnvCgyDLRHPk",
        "outputId": "87f98ec7-d9b5-4994-98c4-972bb618a418",
        "colab": {
          "base_uri": "https://localhost:8080/",
          "height": 237
        }
      },
      "source": [
        "# Training loop\n",
        "n_epochs = 1\n",
        "n_iter = int(np.ceil(x_train_quantised.shape[0] / batch_size))\n",
        "for epoch in range(n_epochs):\n",
        "    progbar = Progbar(n_iter)\n",
        "    print('Epoch {:}/{:}'.format(epoch + 1, n_epochs))\n",
        "\n",
        "    for i_iter, (batch_x, batch_y) in enumerate(train_dataset):\n",
        "        plt.subplot(121)\n",
        "        plt.imshow(batch_x.numpy()[0])\n",
        "        plt.subplot(122)\n",
        "        plt.imshow(batch_y.numpy()[0]*2)\n",
        "        start = time.time()\n",
        "        optimizer.lr = optimizer.lr * lr_decay\n",
        "        loss = train_step(batch_x, batch_y)\n",
        "\n",
        "        progbar.add(1, values=[(\"loss\", loss)])"
      ],
      "execution_count": 0,
      "outputs": [
        {
          "output_type": "stream",
          "text": [
            "Epoch 1/1\n",
            "\r1/1 [==============================] - 0s 42ms/step - loss: 0.2767\n"
          ],
          "name": "stdout"
        },
        {
          "output_type": "display_data",
          "data": {
            "image/png": "[encoded data removed]",
            "text/plain": [
              "<Figure size 432x288 with 2 Axes>"
            ]
          },
          "metadata": {
            "tags": []
          }
        }
      ]
    },
    {
      "cell_type": "code",
      "metadata": {
        "colab_type": "code",
        "id": "qiAWABHGRS6i",
        "outputId": "b8ab0fb2-a25f-4dd4-bec7-c9f9a9b1d8f0",
        "colab": {
          "base_uri": "https://localhost:8080/",
          "height": 704
        }
      },
      "source": [
        "# Generating new images\n",
        "samples = np.zeros((10, height, width, n_channel)) + 0.5 * np.random.rand(10, height, width, n_channel)\n",
        "\n",
        "for i in range(height):\n",
        "    for j in range(width):\n",
        "        for k in range(n_channel):\n",
        "            logits = pixelcnn(samples)\n",
        "            logits = tf.reshape(logits, [-1, height, width, q_levels, n_channel])\n",
        "            logits = tf.transpose(logits, perm=[0, 1, 2, 4, 3])\n",
        "            next_sample = tf.random.categorical(logits[:, i, j, k, :], 1)\n",
        "            samples[:, i, j, k] = (next_sample.numpy() / (q_levels - 1))[:, 0]\n",
        "\n",
        "fig = plt.figure(figsize=(10, 10))\n",
        "for i in range(9):\n",
        "    ax = fig.add_subplot(3, 3, i + 1)\n",
        "    ax.imshow(samples[i, :, :, :])\n",
        "    plt.xticks(np.array([]))\n",
        "    plt.yticks(np.array([]))\n",
        "plt.show()"
      ],
      "execution_count": 0,
      "outputs": [
        {
          "output_type": "stream",
          "text": [
            "WARNING:tensorflow:Layer masked_conv2d_28 is casting an input tensor from dtype float64 to the layer's dtype of float32, which is new behavior in TensorFlow 2.  The layer has dtype float32 because it's dtype defaults to floatx.\n",
            "\n",
            "If you intended to run this layer in float32, you can safely ignore this warning. If in doubt, this warning is likely only an issue if you are porting a TensorFlow 1.X model to TensorFlow 2.\n",
            "\n",
            "To change all layers to have dtype float64 by default, call `tf.keras.backend.set_floatx('float64')`. To change just this layer, pass dtype='float64' to the layer constructor. If you are the author of this layer, you can disable autocasting by passing autocast=False to the base Layer constructor.\n",
            "\n"
          ],
          "name": "stdout"
        },
        {
          "output_type": "display_data",
          "data": {
            "image/png": "[encoded data removed]",
            "text/plain": [
              "<Figure size 720x720 with 9 Axes>"
            ]
          },
          "metadata": {
            "tags": []
          }
        }
      ]
    },
    {
      "cell_type": "markdown",
      "metadata": {
        "colab_type": "text",
        "id": "wuF2Dpg8TU32"
      },
      "source": [
        "\n",
        "\n",
        "---\n",
        "\n"
      ]
    },
    {
      "cell_type": "code",
      "metadata": {
        "id": "Mfob2FEJzrak",
        "colab_type": "code",
        "colab": {}
      },
      "source": [
        "# --------------------------------------------------------------------------------------------------------------\n",
        "# Generating new images\n",
        "occlude_start_row = 14\n",
        "num_generated_images = 1\n",
        "samples = np.copy(x_train_quantised[:10, :, :, :])\n",
        "samples = samples / (q_levels - 1)\n",
        "samples[:, occlude_start_row:, :, :] = 0\n",
        "\n",
        "for i in range(occlude_start_row, height):\n",
        "    for j in range(width):\n",
        "        for k in range(n_channel):\n",
        "            logits = pixelcnn(samples)\n",
        "            logits = tf.reshape(logits, [-1, height, width, q_levels, n_channel])\n",
        "            logits = tf.transpose(logits, perm=[0, 1, 2, 4, 3])\n",
        "            next_sample = tf.random.categorical(logits[:, i, j, k, :], 1)\n",
        "            samples[:, i, j, k] = (next_sample.numpy() / (q_levels - 1))[:, 0]\n",
        "\n",
        "fig = plt.figure(figsize=(10, 10))\n",
        "for i in range(9):\n",
        "    ax = fig.add_subplot(3, 3, i + 1)\n",
        "    ax.imshow(samples[i, :, :, :])\n",
        "    plt.xticks(np.array([]))\n",
        "    plt.yticks(np.array([]))\n",
        "plt.show()"
      ],
      "execution_count": 0,
      "outputs": []
    },
    {
      "cell_type": "code",
      "metadata": {
        "id": "WATpUE30zrao",
        "colab_type": "code",
        "colab": {}
      },
      "source": [
        ""
      ],
      "execution_count": 0,
      "outputs": []
    }
  ]
}