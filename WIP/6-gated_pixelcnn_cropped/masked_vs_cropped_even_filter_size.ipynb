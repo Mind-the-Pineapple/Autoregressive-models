{
 "cells": [
  {
   "cell_type": "markdown",
   "metadata": {},
   "source": [
    "### Tests with kernel_size 4"
   ]
  },
  {
   "cell_type": "code",
   "execution_count": null,
   "metadata": {},
   "outputs": [],
   "source": [
    "mask_type = 'V'\n",
    "kernel_size=(4, 4)\n",
    "\n",
    "padding = keras.layers.ZeroPadding2D(padding=((1,0),0))\n",
    "\n",
    "conv = MaskedConv2D(mask_type=mask_type,\n",
    "                filters=1,\n",
    "                kernel_size=kernel_size, \n",
    "                padding='same',\n",
    "                kernel_initializer='ones', \n",
    "                bias_initializer='zeros')\n",
    "\n",
    "cropping = keras.layers.Cropping2D(cropping=((0, 1), 0))\n",
    "\n",
    "x = padding(test_ones_2d)\n",
    "x = conv(x)\n",
    "result = cropping(x)\n",
    "\n",
    "print('MASK')\n",
    "print(conv.mask.numpy().squeeze())\n",
    "print('')\n",
    "print('OUTPUT')\n",
    "print(result.numpy().squeeze())"
   ]
  },
  {
   "cell_type": "code",
   "execution_count": null,
   "metadata": {},
   "outputs": [],
   "source": [
    "mask_type = 'A'\n",
    "kernel_size=(1, 4)\n",
    "\n",
    "conv = MaskedConv2D(mask_type=mask_type,\n",
    "                filters=1,\n",
    "                kernel_size=kernel_size, \n",
    "                padding='same',\n",
    "                kernel_initializer='ones', \n",
    "                bias_initializer='zeros')\n",
    "\n",
    "result = conv(test_ones_2d)\n",
    "\n",
    "print('MASK')\n",
    "print(conv.mask.numpy().squeeze())\n",
    "print('')\n",
    "print('OUTPUT')\n",
    "print(result.numpy().squeeze())"
   ]
  },
  {
   "cell_type": "code",
   "execution_count": null,
   "metadata": {},
   "outputs": [],
   "source": [
    "mask_type = 'B'\n",
    "kernel_size=(1, 4)\n",
    "\n",
    "conv = MaskedConv2D(mask_type=mask_type,\n",
    "                filters=1,\n",
    "                kernel_size=kernel_size, \n",
    "                padding='same',\n",
    "                kernel_initializer='ones', \n",
    "                bias_initializer='zeros')\n",
    "\n",
    "result = conv(test_ones_2d)\n",
    "\n",
    "print('MASK')\n",
    "print(conv.mask.numpy().squeeze())\n",
    "print('')\n",
    "print('OUTPUT')\n",
    "print(result.numpy().squeeze())"
   ]
  }
 ],
 "metadata": {
  "kernelspec": {
   "display_name": "Python 3",
   "language": "python",
   "name": "python3"
  },
  "language_info": {
   "codemirror_mode": {
    "name": "ipython",
    "version": 3
   },
   "file_extension": ".py",
   "mimetype": "text/x-python",
   "name": "python",
   "nbconvert_exporter": "python",
   "pygments_lexer": "ipython3",
   "version": "3.6.9"
  }
 },
 "nbformat": 4,
 "nbformat_minor": 4
}
