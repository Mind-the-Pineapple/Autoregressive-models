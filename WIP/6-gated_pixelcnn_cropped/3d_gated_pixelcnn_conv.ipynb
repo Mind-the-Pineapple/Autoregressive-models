{
  "nbformat": 4,
  "nbformat_minor": 0,
  "metadata": {
    "colab": {
      "name": "3d_gated_pixelcnn_conv.ipynb",
      "provenance": [],
      "collapsed_sections": [],
      "toc_visible": true
    },
    "kernelspec": {
      "name": "python3",
      "display_name": "Python 3"
    },
    "accelerator": "GPU"
  },
  "cells": [
    {
      "cell_type": "markdown",
      "metadata": {
        "id": "HgFGN07idT26",
        "colab_type": "text"
      },
      "source": [
        "# Converting masked-based implementation to cropping-based implementation"
      ]
    },
    {
      "cell_type": "code",
      "metadata": {
        "id": "ObS7YqtCbC33",
        "colab_type": "code",
        "colab": {}
      },
      "source": [
        "import tensorflow as tf\n",
        "import tensorflow.keras as keras\n",
        "import numpy as np\n",
        "import math"
      ],
      "execution_count": 0,
      "outputs": []
    },
    {
      "cell_type": "code",
      "metadata": {
        "id": "iCMR2mKLbt_l",
        "colab_type": "code",
        "colab": {}
      },
      "source": [
        "test_ones_2d = np.ones([1, 5, 5, 1], dtype='float32')\n",
        "test_ones_3d = np.ones([1, 5, 5, 5, 1], dtype='float32')"
      ],
      "execution_count": 0,
      "outputs": []
    },
    {
      "cell_type": "code",
      "metadata": {
        "id": "NycU0IQZb1X1",
        "colab_type": "code",
        "colab": {}
      },
      "source": [
        "def print_3d(matrix_3d):\n",
        "    for i in range(matrix_3d.shape[0]):\n",
        "        print(f'Depth {i}')\n",
        "        print(matrix_3d[i,...])"
      ],
      "execution_count": 0,
      "outputs": []
    },
    {
      "cell_type": "code",
      "metadata": {
        "id": "AeH21Zkzcrt5",
        "colab_type": "code",
        "colab": {
          "base_uri": "https://localhost:8080/",
          "height": 538
        },
        "outputId": "456c0c0f-9701-40c2-d545-c8091d50a59a"
      },
      "source": [
        "print_3d(test_ones_3d.squeeze())"
      ],
      "execution_count": 146,
      "outputs": [
        {
          "output_type": "stream",
          "text": [
            "Depth 0\n",
            "[[1. 1. 1. 1. 1.]\n",
            " [1. 1. 1. 1. 1.]\n",
            " [1. 1. 1. 1. 1.]\n",
            " [1. 1. 1. 1. 1.]\n",
            " [1. 1. 1. 1. 1.]]\n",
            "Depth 1\n",
            "[[1. 1. 1. 1. 1.]\n",
            " [1. 1. 1. 1. 1.]\n",
            " [1. 1. 1. 1. 1.]\n",
            " [1. 1. 1. 1. 1.]\n",
            " [1. 1. 1. 1. 1.]]\n",
            "Depth 2\n",
            "[[1. 1. 1. 1. 1.]\n",
            " [1. 1. 1. 1. 1.]\n",
            " [1. 1. 1. 1. 1.]\n",
            " [1. 1. 1. 1. 1.]\n",
            " [1. 1. 1. 1. 1.]]\n",
            "Depth 3\n",
            "[[1. 1. 1. 1. 1.]\n",
            " [1. 1. 1. 1. 1.]\n",
            " [1. 1. 1. 1. 1.]\n",
            " [1. 1. 1. 1. 1.]\n",
            " [1. 1. 1. 1. 1.]]\n",
            "Depth 4\n",
            "[[1. 1. 1. 1. 1.]\n",
            " [1. 1. 1. 1. 1.]\n",
            " [1. 1. 1. 1. 1.]\n",
            " [1. 1. 1. 1. 1.]\n",
            " [1. 1. 1. 1. 1.]]\n"
          ],
          "name": "stdout"
        }
      ]
    },
    {
      "cell_type": "code",
      "metadata": {
        "id": "xqrqiDnbfoqW",
        "colab_type": "code",
        "colab": {
          "base_uri": "https://localhost:8080/",
          "height": 104
        },
        "outputId": "88e2939e-78e1-4692-abbb-6569282d48e8"
      },
      "source": [
        "print(test_ones_2d[0,:,:,0].squeeze())"
      ],
      "execution_count": 5,
      "outputs": [
        {
          "output_type": "stream",
          "text": [
            "[[1. 1. 1. 1. 1.]\n",
            " [1. 1. 1. 1. 1.]\n",
            " [1. 1. 1. 1. 1.]\n",
            " [1. 1. 1. 1. 1.]\n",
            " [1. 1. 1. 1. 1.]]\n"
          ],
          "name": "stdout"
        }
      ]
    },
    {
      "cell_type": "markdown",
      "metadata": {
        "id": "1UcUkEj0d7wh",
        "colab_type": "text"
      },
      "source": [
        "## Creating 2D masked solution to check results with cropped solution later"
      ]
    },
    {
      "cell_type": "code",
      "metadata": {
        "id": "83mZFyondaAT",
        "colab_type": "code",
        "colab": {}
      },
      "source": [
        "class MaskedConv2D(tf.keras.layers.Layer):\n",
        "    def __init__(self,\n",
        "                 mask_type,\n",
        "                 filters,\n",
        "                 kernel_size,\n",
        "                 strides=1,\n",
        "                 padding='same',\n",
        "                 kernel_initializer='glorot_uniform',\n",
        "                 bias_initializer='zeros'):\n",
        "        super(MaskedConv2D, self).__init__()\n",
        "\n",
        "        assert mask_type in {'A', 'B', 'V'}\n",
        "        self.mask_type = mask_type\n",
        "\n",
        "        self.filters = filters\n",
        "\n",
        "        if isinstance(kernel_size, int):\n",
        "            kernel_size = (kernel_size, kernel_size)\n",
        "        self.kernel_size = kernel_size\n",
        "\n",
        "        self.strides = strides\n",
        "        self.padding = padding.upper()\n",
        "        self.kernel_initializer = tf.keras.initializers.get(kernel_initializer)\n",
        "        self.bias_initializer = tf.keras.initializers.get(bias_initializer)\n",
        "\n",
        "    def build(self, input_shape):\n",
        "        kernel_h, kernel_w = self.kernel_size\n",
        "\n",
        "        self.kernel = self.add_weight(\"kernel\",\n",
        "                                      shape=(kernel_h,\n",
        "                                             kernel_w,\n",
        "                                             int(input_shape[-1]),\n",
        "                                             self.filters),\n",
        "                                      initializer=self.kernel_initializer,\n",
        "                                      trainable=True)\n",
        "\n",
        "        self.bias = self.add_weight(\"bias\",\n",
        "                                    shape=(self.filters,),\n",
        "                                    initializer=self.bias_initializer,\n",
        "                                    trainable=True)\n",
        "\n",
        "        mask = np.ones(self.kernel.shape, dtype=np.float32)\n",
        "\n",
        "        if kernel_h % 2 != 0: \n",
        "            center_h = kernel_h // 2\n",
        "        else:\n",
        "            center_h = (kernel_h - 1) // 2\n",
        "\n",
        "        if kernel_w % 2 != 0: \n",
        "            center_w = kernel_w // 2\n",
        "        else:\n",
        "            center_w = (kernel_w - 1) // 2\n",
        "\n",
        "\n",
        "\n",
        "        if self.mask_type == 'V':\n",
        "            mask[center_h + 1:, :, :, :] = 0.\n",
        "        else:\n",
        "            mask[:center_h, :, :] = 0.\n",
        "            mask[center_h, center_w + (self.mask_type == 'B'):, :, :] = 0.\n",
        "            mask[center_h + 1:, :, :] = 0.\n",
        "\n",
        "        self.mask = tf.constant(mask, dtype=tf.float32, name='mask')\n",
        "\n",
        "    def call(self, input):\n",
        "        masked_kernel = tf.math.multiply(self.mask, self.kernel)\n",
        "        x = tf.nn.conv2d(input, masked_kernel, strides=[1, self.strides, self.strides, 1], padding=self.padding)\n",
        "        x = tf.nn.bias_add(x, self.bias)\n",
        "        return x"
      ],
      "execution_count": 0,
      "outputs": []
    },
    {
      "cell_type": "markdown",
      "metadata": {
        "id": "nMXqIeSUkdcV",
        "colab_type": "text"
      },
      "source": [
        "### Tests with kernel_size 3"
      ]
    },
    {
      "cell_type": "markdown",
      "metadata": {
        "id": "M62GZQe8ixvy",
        "colab_type": "text"
      },
      "source": [
        "#### Vertical stack"
      ]
    },
    {
      "cell_type": "code",
      "metadata": {
        "id": "kjUrpEtIg7p9",
        "colab_type": "code",
        "colab": {
          "base_uri": "https://localhost:8080/",
          "height": 208
        },
        "outputId": "3f769c93-2f50-452d-ea81-503488f3c7c1"
      },
      "source": [
        "mask_type = 'V'\n",
        "kernel_size=(3, 3)\n",
        "\n",
        "padding = keras.layers.ZeroPadding2D(padding=((1,0),0))\n",
        "\n",
        "conv = MaskedConv2D(mask_type=mask_type,\n",
        "                filters=1,\n",
        "                kernel_size=kernel_size, \n",
        "                padding='same',\n",
        "                kernel_initializer='ones', \n",
        "                bias_initializer='zeros')\n",
        "\n",
        "cropping = keras.layers.Cropping2D(cropping=((0, 1), 0))\n",
        "\n",
        "\n",
        "x = padding(test_ones_2d)\n",
        "x = conv(x)\n",
        "result = cropping(x)\n",
        "\n",
        "print('MASK')\n",
        "print(conv.mask.numpy().squeeze())\n",
        "print('')\n",
        "print('OUTPUT')\n",
        "print(result.numpy().squeeze())"
      ],
      "execution_count": 111,
      "outputs": [
        {
          "output_type": "stream",
          "text": [
            "MASK\n",
            "[[1. 1. 1.]\n",
            " [1. 1. 1.]\n",
            " [0. 0. 0.]]\n",
            "\n",
            "OUTPUT\n",
            "[[0. 0. 0. 0. 0.]\n",
            " [2. 3. 3. 3. 2.]\n",
            " [4. 6. 6. 6. 4.]\n",
            " [4. 6. 6. 6. 4.]\n",
            " [4. 6. 6. 6. 4.]]\n"
          ],
          "name": "stdout"
        }
      ]
    },
    {
      "cell_type": "markdown",
      "metadata": {
        "id": "iHY6UE2_p5oc",
        "colab_type": "text"
      },
      "source": [
        "#### Horizontal stack A"
      ]
    },
    {
      "cell_type": "code",
      "metadata": {
        "id": "4_q_IunZkFmj",
        "colab_type": "code",
        "colab": {
          "base_uri": "https://localhost:8080/",
          "height": 208
        },
        "outputId": "f9a62e80-29f4-4c9d-b511-620a3eb76037"
      },
      "source": [
        "mask_type = 'A'\n",
        "kernel_size=(3, 3)\n",
        "\n",
        "conv = MaskedConv2D(mask_type=mask_type,\n",
        "                filters=1,\n",
        "                kernel_size=kernel_size, \n",
        "                padding='same',\n",
        "                kernel_initializer='ones', \n",
        "                bias_initializer='zeros')\n",
        "\n",
        "result = conv(test_ones_2d)\n",
        "\n",
        "print('MASK')\n",
        "print(conv.mask.numpy().squeeze())\n",
        "print('')\n",
        "print('OUTPUT')\n",
        "print(result.numpy().squeeze())"
      ],
      "execution_count": 113,
      "outputs": [
        {
          "output_type": "stream",
          "text": [
            "MASK\n",
            "[[0. 0. 0.]\n",
            " [1. 0. 0.]\n",
            " [0. 0. 0.]]\n",
            "\n",
            "OUTPUT\n",
            "[[0. 1. 1. 1. 1.]\n",
            " [0. 1. 1. 1. 1.]\n",
            " [0. 1. 1. 1. 1.]\n",
            " [0. 1. 1. 1. 1.]\n",
            " [0. 1. 1. 1. 1.]]\n"
          ],
          "name": "stdout"
        }
      ]
    },
    {
      "cell_type": "markdown",
      "metadata": {
        "id": "jMuS-vgWqAWK",
        "colab_type": "text"
      },
      "source": [
        "#### Horizontal stack B"
      ]
    },
    {
      "cell_type": "code",
      "metadata": {
        "id": "5yeB5h2tkSs_",
        "colab_type": "code",
        "colab": {
          "base_uri": "https://localhost:8080/",
          "height": 208
        },
        "outputId": "64e2dfcf-ba0f-4b8b-b92d-8b5504340a4a"
      },
      "source": [
        "mask_type = 'B'\n",
        "kernel_size=(3, 3)\n",
        "\n",
        "conv = MaskedConv2D(mask_type=mask_type,\n",
        "                filters=1,\n",
        "                kernel_size=kernel_size, \n",
        "                padding='same',\n",
        "                kernel_initializer='ones', \n",
        "                bias_initializer='zeros')\n",
        "\n",
        "result = conv(test_ones_2d)\n",
        "\n",
        "print('MASK')\n",
        "print(conv.mask.numpy().squeeze())\n",
        "print('')\n",
        "print('OUTPUT')\n",
        "print(result.numpy().squeeze())"
      ],
      "execution_count": 115,
      "outputs": [
        {
          "output_type": "stream",
          "text": [
            "MASK\n",
            "[[0. 0. 0.]\n",
            " [1. 1. 0.]\n",
            " [0. 0. 0.]]\n",
            "\n",
            "OUTPUT\n",
            "[[1. 2. 2. 2. 2.]\n",
            " [1. 2. 2. 2. 2.]\n",
            " [1. 2. 2. 2. 2.]\n",
            " [1. 2. 2. 2. 2.]\n",
            " [1. 2. 2. 2. 2.]]\n"
          ],
          "name": "stdout"
        }
      ]
    },
    {
      "cell_type": "markdown",
      "metadata": {
        "id": "1NxkQ3U1knbE",
        "colab_type": "text"
      },
      "source": [
        "### Tests with kernel_size 4"
      ]
    },
    {
      "cell_type": "markdown",
      "metadata": {
        "id": "WNykK-WpqMlu",
        "colab_type": "text"
      },
      "source": [
        "#### Vertical stack"
      ]
    },
    {
      "cell_type": "code",
      "metadata": {
        "id": "p3DTiFYCk57Y",
        "colab_type": "code",
        "colab": {
          "base_uri": "https://localhost:8080/",
          "height": 225
        },
        "outputId": "f2ec68a3-95e6-4113-f0ba-9c37c7c63589"
      },
      "source": [
        "mask_type = 'V'\n",
        "kernel_size=(4, 4)\n",
        "\n",
        "padding = keras.layers.ZeroPadding2D(padding=((1,0),0))\n",
        "\n",
        "conv = MaskedConv2D(mask_type=mask_type,\n",
        "                filters=1,\n",
        "                kernel_size=kernel_size, \n",
        "                padding='same',\n",
        "                kernel_initializer='ones', \n",
        "                bias_initializer='zeros')\n",
        "\n",
        "cropping = keras.layers.Cropping2D(cropping=((0, 1), 0))\n",
        "\n",
        "\n",
        "x = padding(test_ones_2d)\n",
        "x = conv(x)\n",
        "result = cropping(x)\n",
        "\n",
        "print('MASK')\n",
        "print(conv.mask.numpy().squeeze())\n",
        "print('')\n",
        "print('OUTPUT')\n",
        "print(result.numpy().squeeze())"
      ],
      "execution_count": 119,
      "outputs": [
        {
          "output_type": "stream",
          "text": [
            "MASK\n",
            "[[1. 1. 1. 1.]\n",
            " [1. 1. 1. 1.]\n",
            " [0. 0. 0. 0.]\n",
            " [0. 0. 0. 0.]]\n",
            "\n",
            "OUTPUT\n",
            "[[0. 0. 0. 0. 0.]\n",
            " [3. 4. 4. 3. 2.]\n",
            " [6. 8. 8. 6. 4.]\n",
            " [6. 8. 8. 6. 4.]\n",
            " [6. 8. 8. 6. 4.]]\n"
          ],
          "name": "stdout"
        }
      ]
    },
    {
      "cell_type": "markdown",
      "metadata": {
        "id": "E5jUGK3_qbT8",
        "colab_type": "text"
      },
      "source": [
        "#### Horizontal stack A"
      ]
    },
    {
      "cell_type": "code",
      "metadata": {
        "id": "J5HSUo7Rk5xO",
        "colab_type": "code",
        "colab": {
          "base_uri": "https://localhost:8080/",
          "height": 225
        },
        "outputId": "bd56a4a9-985e-4746-c110-02f6a37bf964"
      },
      "source": [
        "mask_type = 'A'\n",
        "kernel_size=(4, 4)\n",
        "\n",
        "conv = MaskedConv2D(mask_type=mask_type,\n",
        "                filters=1,\n",
        "                kernel_size=kernel_size, \n",
        "                padding='same',\n",
        "                kernel_initializer='ones', \n",
        "                bias_initializer='zeros')\n",
        "\n",
        "result = conv(test_ones_2d)\n",
        "\n",
        "print('MASK')\n",
        "print(conv.mask.numpy().squeeze())\n",
        "print('')\n",
        "print('OUTPUT')\n",
        "print(result.numpy().squeeze())"
      ],
      "execution_count": 120,
      "outputs": [
        {
          "output_type": "stream",
          "text": [
            "MASK\n",
            "[[0. 0. 0. 0.]\n",
            " [1. 0. 0. 0.]\n",
            " [0. 0. 0. 0.]\n",
            " [0. 0. 0. 0.]]\n",
            "\n",
            "OUTPUT\n",
            "[[0. 1. 1. 1. 1.]\n",
            " [0. 1. 1. 1. 1.]\n",
            " [0. 1. 1. 1. 1.]\n",
            " [0. 1. 1. 1. 1.]\n",
            " [0. 1. 1. 1. 1.]]\n"
          ],
          "name": "stdout"
        }
      ]
    },
    {
      "cell_type": "markdown",
      "metadata": {
        "id": "KqORK7mLqvPP",
        "colab_type": "text"
      },
      "source": [
        "#### Horizontal stack B"
      ]
    },
    {
      "cell_type": "code",
      "metadata": {
        "id": "_2V51aerk5l1",
        "colab_type": "code",
        "colab": {
          "base_uri": "https://localhost:8080/",
          "height": 225
        },
        "outputId": "5a6e6421-a0f9-4665-f453-b9fb0b80c325"
      },
      "source": [
        "mask_type = 'B'\n",
        "kernel_size=(4, 4)\n",
        "\n",
        "conv = MaskedConv2D(mask_type=mask_type,\n",
        "                filters=1,\n",
        "                kernel_size=kernel_size, \n",
        "                padding='same',\n",
        "                kernel_initializer='ones', \n",
        "                bias_initializer='zeros')\n",
        "\n",
        "result = conv(test_ones_2d)\n",
        "\n",
        "print('MASK')\n",
        "print(conv.mask.numpy().squeeze())\n",
        "print('')\n",
        "print('OUTPUT')\n",
        "print(result.numpy().squeeze())"
      ],
      "execution_count": 121,
      "outputs": [
        {
          "output_type": "stream",
          "text": [
            "MASK\n",
            "[[0. 0. 0. 0.]\n",
            " [1. 1. 0. 0.]\n",
            " [0. 0. 0. 0.]\n",
            " [0. 0. 0. 0.]]\n",
            "\n",
            "OUTPUT\n",
            "[[1. 2. 2. 2. 2.]\n",
            " [1. 2. 2. 2. 2.]\n",
            " [1. 2. 2. 2. 2.]\n",
            " [1. 2. 2. 2. 2.]\n",
            " [1. 2. 2. 2. 2.]]\n"
          ],
          "name": "stdout"
        }
      ]
    },
    {
      "cell_type": "markdown",
      "metadata": {
        "id": "4XtSteZ4pbOd",
        "colab_type": "text"
      },
      "source": [
        "## Creating 3D masked solution to check results with cropped solution later"
      ]
    },
    {
      "cell_type": "code",
      "metadata": {
        "id": "r6XeT4-cpdoA",
        "colab_type": "code",
        "colab": {}
      },
      "source": [
        "class MaskedConv3D(tf.keras.layers.Layer):\n",
        "    def __init__(self,\n",
        "                 mask_type,\n",
        "                 filters,\n",
        "                 kernel_size,\n",
        "                 strides=1,\n",
        "                 padding='same',\n",
        "                 kernel_initializer='glorot_uniform',\n",
        "                 bias_initializer='zeros'):\n",
        "        super(MaskedConv3D, self).__init__()\n",
        "\n",
        "        assert mask_type in {'A', 'B', 'D', 'V'}\n",
        "        self.mask_type = mask_type\n",
        "\n",
        "        self.filters = filters\n",
        "\n",
        "        if isinstance(kernel_size, int):\n",
        "            kernel_size = (kernel_size, kernel_size, kernel_size)\n",
        "        self.kernel_size = kernel_size\n",
        "\n",
        "        self.strides = strides\n",
        "        self.padding = padding.upper()\n",
        "        self.kernel_initializer = tf.keras.initializers.get(kernel_initializer)\n",
        "        self.bias_initializer = tf.keras.initializers.get(bias_initializer)\n",
        "\n",
        "    def build(self, input_shape):\n",
        "        kernel_d, kernel_h, kernel_w = self.kernel_size\n",
        "\n",
        "        self.kernel = self.add_weight(\"kernel\",\n",
        "                                      shape=(kernel_d,\n",
        "                                             kernel_h,\n",
        "                                             kernel_w,\n",
        "                                             int(input_shape[-1]),\n",
        "                                             self.filters),\n",
        "                                      initializer=self.kernel_initializer,\n",
        "                                      trainable=True)\n",
        "\n",
        "        self.bias = self.add_weight(\"bias\",\n",
        "                                    shape=(self.filters,),\n",
        "                                    initializer=self.bias_initializer,\n",
        "                                    trainable=True)\n",
        "\n",
        "        mask = np.ones(self.kernel.shape, dtype=np.float32)\n",
        "\n",
        "\n",
        "        if kernel_d % 2 != 0: \n",
        "            center_d = kernel_d // 2\n",
        "        else:\n",
        "            center_d = (kernel_d - 1) // 2\n",
        "\n",
        "        if kernel_h % 2 != 0: \n",
        "            center_h = kernel_h // 2\n",
        "        else:\n",
        "            center_h = (kernel_h - 1) // 2\n",
        "\n",
        "        if kernel_w % 2 != 0: \n",
        "            center_w = kernel_w // 2\n",
        "        else:\n",
        "            center_w = (kernel_w - 1) // 2\n",
        "\n",
        "\n",
        "        if self.mask_type == 'D':\n",
        "            mask[center_d+1:, :, :, :, :] = 0.\n",
        "        elif self.mask_type == 'V':\n",
        "            mask[:center_d, :, :, :, :] = 0.\n",
        "            mask[center_d, center_h+1:, :, :, :] = 0.\n",
        "            mask[center_d + 1:, :, :, :, :] = 0.\n",
        "        else:\n",
        "            mask[:center_d, :, :, :, :] = 0.\n",
        "            mask[:, :center_h, :, :, :] = 0.\n",
        "            mask[center_d, center_h, center_w + (self.mask_type == 'B'):, :, :] = 0.\n",
        "            mask[:, center_h + 1:, :, :, :] = 0.\n",
        "            mask[center_d + 1:, :, :, :, :] = 0.\n",
        "\n",
        "        self.mask = tf.constant(mask, dtype=tf.float32, name='mask')\n",
        "\n",
        "    def call(self, input):\n",
        "        masked_kernel = tf.math.multiply(self.mask, self.kernel)\n",
        "        x = tf.nn.conv3d(input, masked_kernel, strides=[1, self.strides, self.strides, self.strides, 1], padding=self.padding)\n",
        "        x = tf.nn.bias_add(x, self.bias)\n",
        "        return x"
      ],
      "execution_count": 0,
      "outputs": []
    },
    {
      "cell_type": "markdown",
      "metadata": {
        "id": "TJSNB3m4Apfi",
        "colab_type": "text"
      },
      "source": [
        "### Tests with kernel_size 3"
      ]
    },
    {
      "cell_type": "markdown",
      "metadata": {
        "id": "-NIs7IZdrVnu",
        "colab_type": "text"
      },
      "source": [
        "#### Depth stack"
      ]
    },
    {
      "cell_type": "code",
      "metadata": {
        "id": "DuEGynZxsChh",
        "colab_type": "code",
        "colab": {
          "base_uri": "https://localhost:8080/",
          "height": 799
        },
        "outputId": "f98454bb-09ed-416f-8d20-af28b813881a"
      },
      "source": [
        "mask_type = 'D'\n",
        "kernel_size=(3, 3, 3)\n",
        "\n",
        "padding = keras.layers.ZeroPadding3D(padding=((1,0),0,0))\n",
        "\n",
        "conv = MaskedConv3D(mask_type=mask_type,\n",
        "                filters=1,\n",
        "                kernel_size=kernel_size, \n",
        "                padding='same',\n",
        "                kernel_initializer='ones', \n",
        "                bias_initializer='zeros')\n",
        "\n",
        "cropping = keras.layers.Cropping3D(cropping=((0, 1), 0, 0))\n",
        "\n",
        "\n",
        "x = padding(test_ones_3d)\n",
        "x = conv(x)\n",
        "result = cropping(x)\n",
        "\n",
        "print('MASK')\n",
        "print_3d(conv.mask.numpy().squeeze())\n",
        "print('')\n",
        "print('OUTPUT')\n",
        "print_3d(result.numpy().squeeze())\n"
      ],
      "execution_count": 154,
      "outputs": [
        {
          "output_type": "stream",
          "text": [
            "MASK\n",
            "Depth 0\n",
            "[[1. 1. 1.]\n",
            " [1. 1. 1.]\n",
            " [1. 1. 1.]]\n",
            "Depth 1\n",
            "[[1. 1. 1.]\n",
            " [1. 1. 1.]\n",
            " [1. 1. 1.]]\n",
            "Depth 2\n",
            "[[0. 0. 0.]\n",
            " [0. 0. 0.]\n",
            " [0. 0. 0.]]\n",
            "\n",
            "OUTPUT\n",
            "Depth 0\n",
            "[[0. 0. 0. 0. 0.]\n",
            " [0. 0. 0. 0. 0.]\n",
            " [0. 0. 0. 0. 0.]\n",
            " [0. 0. 0. 0. 0.]\n",
            " [0. 0. 0. 0. 0.]]\n",
            "Depth 1\n",
            "[[4. 6. 6. 6. 4.]\n",
            " [6. 9. 9. 9. 6.]\n",
            " [6. 9. 9. 9. 6.]\n",
            " [6. 9. 9. 9. 6.]\n",
            " [4. 6. 6. 6. 4.]]\n",
            "Depth 2\n",
            "[[ 8. 12. 12. 12.  8.]\n",
            " [12. 18. 18. 18. 12.]\n",
            " [12. 18. 18. 18. 12.]\n",
            " [12. 18. 18. 18. 12.]\n",
            " [ 8. 12. 12. 12.  8.]]\n",
            "Depth 3\n",
            "[[ 8. 12. 12. 12.  8.]\n",
            " [12. 18. 18. 18. 12.]\n",
            " [12. 18. 18. 18. 12.]\n",
            " [12. 18. 18. 18. 12.]\n",
            " [ 8. 12. 12. 12.  8.]]\n",
            "Depth 4\n",
            "[[ 8. 12. 12. 12.  8.]\n",
            " [12. 18. 18. 18. 12.]\n",
            " [12. 18. 18. 18. 12.]\n",
            " [12. 18. 18. 18. 12.]\n",
            " [ 8. 12. 12. 12.  8.]]\n"
          ],
          "name": "stdout"
        }
      ]
    },
    {
      "cell_type": "markdown",
      "metadata": {
        "id": "u4K8-zY0timI",
        "colab_type": "text"
      },
      "source": [
        "#### Vertical stack"
      ]
    },
    {
      "cell_type": "code",
      "metadata": {
        "id": "dCgUj-q5rwIt",
        "colab_type": "code",
        "colab": {
          "base_uri": "https://localhost:8080/",
          "height": 799
        },
        "outputId": "b836ef8d-4cbf-40f2-f086-4a83dd7a0ddf"
      },
      "source": [
        "mask_type = 'V'\n",
        "kernel_size=(3, 3, 3)\n",
        "\n",
        "padding = keras.layers.ZeroPadding3D(padding=(0,(1,0),0))\n",
        "\n",
        "conv = MaskedConv3D(mask_type=mask_type,\n",
        "                filters=1,\n",
        "                kernel_size=kernel_size, \n",
        "                padding='same',\n",
        "                kernel_initializer='ones', \n",
        "                bias_initializer='zeros')\n",
        "\n",
        "cropping = keras.layers.Cropping3D(cropping=(0,(0, 1), 0))\n",
        "\n",
        "\n",
        "x = padding(test_ones_3d)\n",
        "x = conv(x)\n",
        "result = cropping(x)\n",
        "\n",
        "print('MASK')\n",
        "print_3d(conv.mask.numpy().squeeze())\n",
        "print('')\n",
        "print('OUTPUT')\n",
        "print_3d(result.numpy().squeeze())\n"
      ],
      "execution_count": 157,
      "outputs": [
        {
          "output_type": "stream",
          "text": [
            "MASK\n",
            "Depth 0\n",
            "[[0. 0. 0.]\n",
            " [0. 0. 0.]\n",
            " [0. 0. 0.]]\n",
            "Depth 1\n",
            "[[1. 1. 1.]\n",
            " [1. 1. 1.]\n",
            " [0. 0. 0.]]\n",
            "Depth 2\n",
            "[[0. 0. 0.]\n",
            " [0. 0. 0.]\n",
            " [0. 0. 0.]]\n",
            "\n",
            "OUTPUT\n",
            "Depth 0\n",
            "[[0. 0. 0. 0. 0.]\n",
            " [2. 3. 3. 3. 2.]\n",
            " [4. 6. 6. 6. 4.]\n",
            " [4. 6. 6. 6. 4.]\n",
            " [4. 6. 6. 6. 4.]]\n",
            "Depth 1\n",
            "[[0. 0. 0. 0. 0.]\n",
            " [2. 3. 3. 3. 2.]\n",
            " [4. 6. 6. 6. 4.]\n",
            " [4. 6. 6. 6. 4.]\n",
            " [4. 6. 6. 6. 4.]]\n",
            "Depth 2\n",
            "[[0. 0. 0. 0. 0.]\n",
            " [2. 3. 3. 3. 2.]\n",
            " [4. 6. 6. 6. 4.]\n",
            " [4. 6. 6. 6. 4.]\n",
            " [4. 6. 6. 6. 4.]]\n",
            "Depth 3\n",
            "[[0. 0. 0. 0. 0.]\n",
            " [2. 3. 3. 3. 2.]\n",
            " [4. 6. 6. 6. 4.]\n",
            " [4. 6. 6. 6. 4.]\n",
            " [4. 6. 6. 6. 4.]]\n",
            "Depth 4\n",
            "[[0. 0. 0. 0. 0.]\n",
            " [2. 3. 3. 3. 2.]\n",
            " [4. 6. 6. 6. 4.]\n",
            " [4. 6. 6. 6. 4.]\n",
            " [4. 6. 6. 6. 4.]]\n"
          ],
          "name": "stdout"
        }
      ]
    },
    {
      "cell_type": "markdown",
      "metadata": {
        "id": "oSlof4GvuaLu",
        "colab_type": "text"
      },
      "source": [
        "#### Horizontal stack A"
      ]
    },
    {
      "cell_type": "code",
      "metadata": {
        "id": "0N8LWI67_vFv",
        "colab_type": "code",
        "colab": {
          "base_uri": "https://localhost:8080/",
          "height": 799
        },
        "outputId": "cfea8fc3-f6af-41d6-98aa-5453eb3612ca"
      },
      "source": [
        "mask_type = 'A'\n",
        "kernel_size=(3, 3, 3)\n",
        "\n",
        "conv = MaskedConv3D(mask_type=mask_type,\n",
        "                filters=1,\n",
        "                kernel_size=kernel_size, \n",
        "                padding='same',\n",
        "                kernel_initializer='ones', \n",
        "                bias_initializer='zeros')\n",
        "\n",
        "result = conv(test_ones_3d)\n",
        "\n",
        "print('MASK')\n",
        "print_3d(conv.mask.numpy().squeeze())\n",
        "print('')\n",
        "print('OUTPUT')\n",
        "print_3d(result.numpy().squeeze())"
      ],
      "execution_count": 168,
      "outputs": [
        {
          "output_type": "stream",
          "text": [
            "MASK\n",
            "Depth 0\n",
            "[[0. 0. 0.]\n",
            " [0. 0. 0.]\n",
            " [0. 0. 0.]]\n",
            "Depth 1\n",
            "[[0. 0. 0.]\n",
            " [1. 0. 0.]\n",
            " [0. 0. 0.]]\n",
            "Depth 2\n",
            "[[0. 0. 0.]\n",
            " [0. 0. 0.]\n",
            " [0. 0. 0.]]\n",
            "\n",
            "OUTPUT\n",
            "Depth 0\n",
            "[[0. 1. 1. 1. 1.]\n",
            " [0. 1. 1. 1. 1.]\n",
            " [0. 1. 1. 1. 1.]\n",
            " [0. 1. 1. 1. 1.]\n",
            " [0. 1. 1. 1. 1.]]\n",
            "Depth 1\n",
            "[[0. 1. 1. 1. 1.]\n",
            " [0. 1. 1. 1. 1.]\n",
            " [0. 1. 1. 1. 1.]\n",
            " [0. 1. 1. 1. 1.]\n",
            " [0. 1. 1. 1. 1.]]\n",
            "Depth 2\n",
            "[[0. 1. 1. 1. 1.]\n",
            " [0. 1. 1. 1. 1.]\n",
            " [0. 1. 1. 1. 1.]\n",
            " [0. 1. 1. 1. 1.]\n",
            " [0. 1. 1. 1. 1.]]\n",
            "Depth 3\n",
            "[[0. 1. 1. 1. 1.]\n",
            " [0. 1. 1. 1. 1.]\n",
            " [0. 1. 1. 1. 1.]\n",
            " [0. 1. 1. 1. 1.]\n",
            " [0. 1. 1. 1. 1.]]\n",
            "Depth 4\n",
            "[[0. 1. 1. 1. 1.]\n",
            " [0. 1. 1. 1. 1.]\n",
            " [0. 1. 1. 1. 1.]\n",
            " [0. 1. 1. 1. 1.]\n",
            " [0. 1. 1. 1. 1.]]\n"
          ],
          "name": "stdout"
        }
      ]
    },
    {
      "cell_type": "markdown",
      "metadata": {
        "id": "ixWP3Ey7vs-H",
        "colab_type": "text"
      },
      "source": [
        "#### Horizontal stack B"
      ]
    },
    {
      "cell_type": "code",
      "metadata": {
        "id": "yD6VvotZABid",
        "colab_type": "code",
        "colab": {
          "base_uri": "https://localhost:8080/",
          "height": 799
        },
        "outputId": "50244671-766c-41e2-8999-1e4f34844622"
      },
      "source": [
        "mask_type = 'B'\n",
        "kernel_size=(3, 3, 3)\n",
        "\n",
        "conv = MaskedConv3D(mask_type=mask_type,\n",
        "                filters=1,\n",
        "                kernel_size=kernel_size, \n",
        "                padding='same',\n",
        "                kernel_initializer='ones', \n",
        "                bias_initializer='zeros')\n",
        "\n",
        "result = conv(test_ones_3d)\n",
        "\n",
        "print('MASK')\n",
        "print_3d(conv.mask.numpy().squeeze())\n",
        "print('')\n",
        "print('OUTPUT')\n",
        "print_3d(result.numpy().squeeze())"
      ],
      "execution_count": 169,
      "outputs": [
        {
          "output_type": "stream",
          "text": [
            "MASK\n",
            "Depth 0\n",
            "[[0. 0. 0.]\n",
            " [0. 0. 0.]\n",
            " [0. 0. 0.]]\n",
            "Depth 1\n",
            "[[0. 0. 0.]\n",
            " [1. 1. 0.]\n",
            " [0. 0. 0.]]\n",
            "Depth 2\n",
            "[[0. 0. 0.]\n",
            " [0. 0. 0.]\n",
            " [0. 0. 0.]]\n",
            "\n",
            "OUTPUT\n",
            "Depth 0\n",
            "[[1. 2. 2. 2. 2.]\n",
            " [1. 2. 2. 2. 2.]\n",
            " [1. 2. 2. 2. 2.]\n",
            " [1. 2. 2. 2. 2.]\n",
            " [1. 2. 2. 2. 2.]]\n",
            "Depth 1\n",
            "[[1. 2. 2. 2. 2.]\n",
            " [1. 2. 2. 2. 2.]\n",
            " [1. 2. 2. 2. 2.]\n",
            " [1. 2. 2. 2. 2.]\n",
            " [1. 2. 2. 2. 2.]]\n",
            "Depth 2\n",
            "[[1. 2. 2. 2. 2.]\n",
            " [1. 2. 2. 2. 2.]\n",
            " [1. 2. 2. 2. 2.]\n",
            " [1. 2. 2. 2. 2.]\n",
            " [1. 2. 2. 2. 2.]]\n",
            "Depth 3\n",
            "[[1. 2. 2. 2. 2.]\n",
            " [1. 2. 2. 2. 2.]\n",
            " [1. 2. 2. 2. 2.]\n",
            " [1. 2. 2. 2. 2.]\n",
            " [1. 2. 2. 2. 2.]]\n",
            "Depth 4\n",
            "[[1. 2. 2. 2. 2.]\n",
            " [1. 2. 2. 2. 2.]\n",
            " [1. 2. 2. 2. 2.]\n",
            " [1. 2. 2. 2. 2.]\n",
            " [1. 2. 2. 2. 2.]]\n"
          ],
          "name": "stdout"
        }
      ]
    },
    {
      "cell_type": "markdown",
      "metadata": {
        "id": "8AlzSu6GAvNj",
        "colab_type": "text"
      },
      "source": [
        "### Tests with kernel_size 4"
      ]
    },
    {
      "cell_type": "markdown",
      "metadata": {
        "id": "_ZFtCkYhvwGW",
        "colab_type": "text"
      },
      "source": [
        "#### Depth stack"
      ]
    },
    {
      "cell_type": "code",
      "metadata": {
        "id": "AMp8F--cAwDs",
        "colab_type": "code",
        "colab": {
          "base_uri": "https://localhost:8080/",
          "height": 937
        },
        "outputId": "e78c3adf-e32c-44fd-e0de-3a7db406bbd9"
      },
      "source": [
        "mask_type = 'D'\n",
        "kernel_size=(4, 4, 4)\n",
        "\n",
        "padding = keras.layers.ZeroPadding3D(padding=((1,0),0,0))\n",
        "\n",
        "conv = MaskedConv3D(mask_type=mask_type,\n",
        "                filters=1,\n",
        "                kernel_size=kernel_size, \n",
        "                padding='same',\n",
        "                kernel_initializer='ones', \n",
        "                bias_initializer='zeros')\n",
        "\n",
        "cropping = keras.layers.Cropping3D(cropping=((0, 1), 0, 0))\n",
        "\n",
        "\n",
        "x = padding(test_ones_3d)\n",
        "x = conv(x)\n",
        "result = cropping(x)\n",
        "\n",
        "print('MASK')\n",
        "print_3d(conv.mask.numpy().squeeze())\n",
        "print('')\n",
        "print('OUTPUT')\n",
        "print_3d(result.numpy().squeeze())\n"
      ],
      "execution_count": 171,
      "outputs": [
        {
          "output_type": "stream",
          "text": [
            "MASK\n",
            "Depth 0\n",
            "[[1. 1. 1. 1.]\n",
            " [1. 1. 1. 1.]\n",
            " [1. 1. 1. 1.]\n",
            " [1. 1. 1. 1.]]\n",
            "Depth 1\n",
            "[[1. 1. 1. 1.]\n",
            " [1. 1. 1. 1.]\n",
            " [1. 1. 1. 1.]\n",
            " [1. 1. 1. 1.]]\n",
            "Depth 2\n",
            "[[0. 0. 0. 0.]\n",
            " [0. 0. 0. 0.]\n",
            " [0. 0. 0. 0.]\n",
            " [0. 0. 0. 0.]]\n",
            "Depth 3\n",
            "[[0. 0. 0. 0.]\n",
            " [0. 0. 0. 0.]\n",
            " [0. 0. 0. 0.]\n",
            " [0. 0. 0. 0.]]\n",
            "\n",
            "OUTPUT\n",
            "Depth 0\n",
            "[[0. 0. 0. 0. 0.]\n",
            " [0. 0. 0. 0. 0.]\n",
            " [0. 0. 0. 0. 0.]\n",
            " [0. 0. 0. 0. 0.]\n",
            " [0. 0. 0. 0. 0.]]\n",
            "Depth 1\n",
            "[[ 9. 12. 12.  9.  6.]\n",
            " [12. 16. 16. 12.  8.]\n",
            " [12. 16. 16. 12.  8.]\n",
            " [ 9. 12. 12.  9.  6.]\n",
            " [ 6.  8.  8.  6.  4.]]\n",
            "Depth 2\n",
            "[[18. 24. 24. 18. 12.]\n",
            " [24. 32. 32. 24. 16.]\n",
            " [24. 32. 32. 24. 16.]\n",
            " [18. 24. 24. 18. 12.]\n",
            " [12. 16. 16. 12.  8.]]\n",
            "Depth 3\n",
            "[[18. 24. 24. 18. 12.]\n",
            " [24. 32. 32. 24. 16.]\n",
            " [24. 32. 32. 24. 16.]\n",
            " [18. 24. 24. 18. 12.]\n",
            " [12. 16. 16. 12.  8.]]\n",
            "Depth 4\n",
            "[[18. 24. 24. 18. 12.]\n",
            " [24. 32. 32. 24. 16.]\n",
            " [24. 32. 32. 24. 16.]\n",
            " [18. 24. 24. 18. 12.]\n",
            " [12. 16. 16. 12.  8.]]\n"
          ],
          "name": "stdout"
        }
      ]
    },
    {
      "cell_type": "markdown",
      "metadata": {
        "id": "3iXH2zkbv-qY",
        "colab_type": "text"
      },
      "source": [
        "#### Vertical stack"
      ]
    },
    {
      "cell_type": "code",
      "metadata": {
        "id": "7A8KTeJXA0f6",
        "colab_type": "code",
        "colab": {
          "base_uri": "https://localhost:8080/",
          "height": 937
        },
        "outputId": "3f0d6424-8783-42b5-f705-1e47592a40eb"
      },
      "source": [
        "mask_type = 'V'\n",
        "kernel_size=(4, 4, 4)\n",
        "\n",
        "padding = keras.layers.ZeroPadding3D(padding=(0,(1,0),0))\n",
        "\n",
        "conv = MaskedConv3D(mask_type=mask_type,\n",
        "                filters=1,\n",
        "                kernel_size=kernel_size, \n",
        "                padding='same',\n",
        "                kernel_initializer='ones', \n",
        "                bias_initializer='zeros')\n",
        "\n",
        "cropping = keras.layers.Cropping3D(cropping=(0,(0, 1), 0))\n",
        "\n",
        "\n",
        "x = padding(test_ones_3d)\n",
        "x = conv(x)\n",
        "result = cropping(x)\n",
        "\n",
        "print('MASK')\n",
        "print_3d(conv.mask.numpy().squeeze())\n",
        "print('')\n",
        "print('OUTPUT')\n",
        "print_3d(result.numpy().squeeze())"
      ],
      "execution_count": 172,
      "outputs": [
        {
          "output_type": "stream",
          "text": [
            "MASK\n",
            "Depth 0\n",
            "[[0. 0. 0. 0.]\n",
            " [0. 0. 0. 0.]\n",
            " [0. 0. 0. 0.]\n",
            " [0. 0. 0. 0.]]\n",
            "Depth 1\n",
            "[[1. 1. 1. 1.]\n",
            " [1. 1. 1. 1.]\n",
            " [0. 0. 0. 0.]\n",
            " [0. 0. 0. 0.]]\n",
            "Depth 2\n",
            "[[0. 0. 0. 0.]\n",
            " [0. 0. 0. 0.]\n",
            " [0. 0. 0. 0.]\n",
            " [0. 0. 0. 0.]]\n",
            "Depth 3\n",
            "[[0. 0. 0. 0.]\n",
            " [0. 0. 0. 0.]\n",
            " [0. 0. 0. 0.]\n",
            " [0. 0. 0. 0.]]\n",
            "\n",
            "OUTPUT\n",
            "Depth 0\n",
            "[[0. 0. 0. 0. 0.]\n",
            " [3. 4. 4. 3. 2.]\n",
            " [6. 8. 8. 6. 4.]\n",
            " [6. 8. 8. 6. 4.]\n",
            " [6. 8. 8. 6. 4.]]\n",
            "Depth 1\n",
            "[[0. 0. 0. 0. 0.]\n",
            " [3. 4. 4. 3. 2.]\n",
            " [6. 8. 8. 6. 4.]\n",
            " [6. 8. 8. 6. 4.]\n",
            " [6. 8. 8. 6. 4.]]\n",
            "Depth 2\n",
            "[[0. 0. 0. 0. 0.]\n",
            " [3. 4. 4. 3. 2.]\n",
            " [6. 8. 8. 6. 4.]\n",
            " [6. 8. 8. 6. 4.]\n",
            " [6. 8. 8. 6. 4.]]\n",
            "Depth 3\n",
            "[[0. 0. 0. 0. 0.]\n",
            " [3. 4. 4. 3. 2.]\n",
            " [6. 8. 8. 6. 4.]\n",
            " [6. 8. 8. 6. 4.]\n",
            " [6. 8. 8. 6. 4.]]\n",
            "Depth 4\n",
            "[[0. 0. 0. 0. 0.]\n",
            " [3. 4. 4. 3. 2.]\n",
            " [6. 8. 8. 6. 4.]\n",
            " [6. 8. 8. 6. 4.]\n",
            " [6. 8. 8. 6. 4.]]\n"
          ],
          "name": "stdout"
        }
      ]
    },
    {
      "cell_type": "markdown",
      "metadata": {
        "id": "ANQnjmvPwI3K",
        "colab_type": "text"
      },
      "source": [
        "#### Horizontal stack A"
      ]
    },
    {
      "cell_type": "code",
      "metadata": {
        "id": "RGSe6z0mA0WU",
        "colab_type": "code",
        "colab": {
          "base_uri": "https://localhost:8080/",
          "height": 937
        },
        "outputId": "298206a2-bd57-469f-f497-84ab21a970b5"
      },
      "source": [
        "mask_type = 'A'\n",
        "kernel_size=(4, 4, 4)\n",
        "\n",
        "conv = MaskedConv3D(mask_type=mask_type,\n",
        "                filters=1,\n",
        "                kernel_size=kernel_size, \n",
        "                padding='same',\n",
        "                kernel_initializer='ones', \n",
        "                bias_initializer='zeros')\n",
        "\n",
        "result = conv(test_ones_3d)\n",
        "\n",
        "print('MASK')\n",
        "print_3d(conv.mask.numpy().squeeze())\n",
        "print('')\n",
        "print('OUTPUT')\n",
        "print_3d(result.numpy().squeeze())"
      ],
      "execution_count": 173,
      "outputs": [
        {
          "output_type": "stream",
          "text": [
            "MASK\n",
            "Depth 0\n",
            "[[0. 0. 0. 0.]\n",
            " [0. 0. 0. 0.]\n",
            " [0. 0. 0. 0.]\n",
            " [0. 0. 0. 0.]]\n",
            "Depth 1\n",
            "[[0. 0. 0. 0.]\n",
            " [1. 0. 0. 0.]\n",
            " [0. 0. 0. 0.]\n",
            " [0. 0. 0. 0.]]\n",
            "Depth 2\n",
            "[[0. 0. 0. 0.]\n",
            " [0. 0. 0. 0.]\n",
            " [0. 0. 0. 0.]\n",
            " [0. 0. 0. 0.]]\n",
            "Depth 3\n",
            "[[0. 0. 0. 0.]\n",
            " [0. 0. 0. 0.]\n",
            " [0. 0. 0. 0.]\n",
            " [0. 0. 0. 0.]]\n",
            "\n",
            "OUTPUT\n",
            "Depth 0\n",
            "[[0. 1. 1. 1. 1.]\n",
            " [0. 1. 1. 1. 1.]\n",
            " [0. 1. 1. 1. 1.]\n",
            " [0. 1. 1. 1. 1.]\n",
            " [0. 1. 1. 1. 1.]]\n",
            "Depth 1\n",
            "[[0. 1. 1. 1. 1.]\n",
            " [0. 1. 1. 1. 1.]\n",
            " [0. 1. 1. 1. 1.]\n",
            " [0. 1. 1. 1. 1.]\n",
            " [0. 1. 1. 1. 1.]]\n",
            "Depth 2\n",
            "[[0. 1. 1. 1. 1.]\n",
            " [0. 1. 1. 1. 1.]\n",
            " [0. 1. 1. 1. 1.]\n",
            " [0. 1. 1. 1. 1.]\n",
            " [0. 1. 1. 1. 1.]]\n",
            "Depth 3\n",
            "[[0. 1. 1. 1. 1.]\n",
            " [0. 1. 1. 1. 1.]\n",
            " [0. 1. 1. 1. 1.]\n",
            " [0. 1. 1. 1. 1.]\n",
            " [0. 1. 1. 1. 1.]]\n",
            "Depth 4\n",
            "[[0. 1. 1. 1. 1.]\n",
            " [0. 1. 1. 1. 1.]\n",
            " [0. 1. 1. 1. 1.]\n",
            " [0. 1. 1. 1. 1.]\n",
            " [0. 1. 1. 1. 1.]]\n"
          ],
          "name": "stdout"
        }
      ]
    },
    {
      "cell_type": "markdown",
      "metadata": {
        "id": "KJzAJ40EwTL3",
        "colab_type": "text"
      },
      "source": [
        "#### Horizontal stack B"
      ]
    },
    {
      "cell_type": "code",
      "metadata": {
        "id": "9jCW_EzVA0JB",
        "colab_type": "code",
        "colab": {
          "base_uri": "https://localhost:8080/",
          "height": 799
        },
        "outputId": "fa304a57-4168-4bfd-d722-1503a2bc54e1"
      },
      "source": [
        "mask_type = 'B'\n",
        "kernel_size=(3, 3, 3)\n",
        "\n",
        "conv = MaskedConv3D(mask_type=mask_type,\n",
        "                filters=1,\n",
        "                kernel_size=kernel_size, \n",
        "                padding='same',\n",
        "                kernel_initializer='ones', \n",
        "                bias_initializer='zeros')\n",
        "\n",
        "result = conv(test_ones_3d)\n",
        "\n",
        "print('MASK')\n",
        "print_3d(conv.mask.numpy().squeeze())\n",
        "print('')\n",
        "print('OUTPUT')\n",
        "print_3d(result.numpy().squeeze())"
      ],
      "execution_count": 174,
      "outputs": [
        {
          "output_type": "stream",
          "text": [
            "MASK\n",
            "Depth 0\n",
            "[[0. 0. 0.]\n",
            " [0. 0. 0.]\n",
            " [0. 0. 0.]]\n",
            "Depth 1\n",
            "[[0. 0. 0.]\n",
            " [1. 1. 0.]\n",
            " [0. 0. 0.]]\n",
            "Depth 2\n",
            "[[0. 0. 0.]\n",
            " [0. 0. 0.]\n",
            " [0. 0. 0.]]\n",
            "\n",
            "OUTPUT\n",
            "Depth 0\n",
            "[[1. 2. 2. 2. 2.]\n",
            " [1. 2. 2. 2. 2.]\n",
            " [1. 2. 2. 2. 2.]\n",
            " [1. 2. 2. 2. 2.]\n",
            " [1. 2. 2. 2. 2.]]\n",
            "Depth 1\n",
            "[[1. 2. 2. 2. 2.]\n",
            " [1. 2. 2. 2. 2.]\n",
            " [1. 2. 2. 2. 2.]\n",
            " [1. 2. 2. 2. 2.]\n",
            " [1. 2. 2. 2. 2.]]\n",
            "Depth 2\n",
            "[[1. 2. 2. 2. 2.]\n",
            " [1. 2. 2. 2. 2.]\n",
            " [1. 2. 2. 2. 2.]\n",
            " [1. 2. 2. 2. 2.]\n",
            " [1. 2. 2. 2. 2.]]\n",
            "Depth 3\n",
            "[[1. 2. 2. 2. 2.]\n",
            " [1. 2. 2. 2. 2.]\n",
            " [1. 2. 2. 2. 2.]\n",
            " [1. 2. 2. 2. 2.]\n",
            " [1. 2. 2. 2. 2.]]\n",
            "Depth 4\n",
            "[[1. 2. 2. 2. 2.]\n",
            " [1. 2. 2. 2. 2.]\n",
            " [1. 2. 2. 2. 2.]\n",
            " [1. 2. 2. 2. 2.]\n",
            " [1. 2. 2. 2. 2.]]\n"
          ],
          "name": "stdout"
        }
      ]
    },
    {
      "cell_type": "markdown",
      "metadata": {
        "id": "kZmui789Br2B",
        "colab_type": "text"
      },
      "source": [
        "## Creating 2D cropped solution"
      ]
    },
    {
      "cell_type": "code",
      "metadata": {
        "id": "PxBNsvzhB1ec",
        "colab_type": "code",
        "colab": {}
      },
      "source": [
        "class VerticalCroppedConv2d(tf.keras.Model):\n",
        "    def __init__(self,\n",
        "                 filters,\n",
        "                 kernel_size,\n",
        "                 kernel_initializer, \n",
        "                 bias_initializer):\n",
        "        super(VerticalCroppedConv2d, self).__init__(name='')\n",
        "\n",
        "        if isinstance(kernel_size, int):\n",
        "            kernel_size = (kernel_size, kernel_size)\n",
        "\n",
        "        kernel_h, kernel_w = kernel_size\n",
        "\n",
        "        self.padding = keras.layers.ZeroPadding2D(padding=((kernel_h-1, 0),(int((kernel_w-1)/2),int((kernel_w-1)/2))))\n",
        "\n",
        "        self.conv = keras.layers.Conv2D(filters=filters,\n",
        "                                        kernel_size=kernel_size,\n",
        "                                        strides=1,\n",
        "                                        padding='valid',\n",
        "                                        kernel_initializer=kernel_initializer, \n",
        "                                        bias_initializer=bias_initializer)\n",
        "\n",
        "    def call(self, input_value):\n",
        "\n",
        "        x = self.padding(input_value)\n",
        "        x = self.conv(x)\n",
        "        out = self.cropping(x)\n",
        "\n",
        "        return out\n",
        "\n"
      ],
      "execution_count": 0,
      "outputs": []
    },
    {
      "cell_type": "markdown",
      "metadata": {
        "id": "RfFuwKlrP2JU",
        "colab_type": "text"
      },
      "source": [
        "Example step by step"
      ]
    },
    {
      "cell_type": "code",
      "metadata": {
        "id": "fH3I0lfoPdcH",
        "colab_type": "code",
        "colab": {
          "base_uri": "https://localhost:8080/",
          "height": 332
        },
        "outputId": "49b7ffca-0ec0-46d7-837c-8e0f51dd5205"
      },
      "source": [
        "kernel_h = 2\n",
        "kernel_w = 3\n",
        "\n",
        "kernel_size = (kernel_h, kernel_w)\n",
        "\n",
        "padding = keras.layers.ZeroPadding2D(padding=((kernel_h-1, 0),(int((kernel_w-1)/2),int((kernel_w-1)/2))))\n",
        "\n",
        "res = padding(test_ones_2d)\n",
        "print(res.numpy().squeeze())\n",
        "\n",
        "conv = keras.layers.Conv2D(filters=1,\n",
        "                                        kernel_size=kernel_size,\n",
        "                                        strides=1,\n",
        "                                        padding='valid',\n",
        "                                        kernel_initializer='ones', \n",
        "                                        bias_initializer='zeros')\n",
        "\n",
        "res2 = conv(res)\n",
        "print(res2.numpy().squeeze())\n",
        "\n",
        "\n",
        "\n"
      ],
      "execution_count": 67,
      "outputs": [
        {
          "output_type": "stream",
          "text": [
            "WARNING:tensorflow:Layer zero_padding2d_15 is casting an input tensor from dtype float64 to the layer's dtype of float32, which is new behavior in TensorFlow 2.  The layer has dtype float32 because it's dtype defaults to floatx.\n",
            "\n",
            "If you intended to run this layer in float32, you can safely ignore this warning. If in doubt, this warning is likely only an issue if you are porting a TensorFlow 1.X model to TensorFlow 2.\n",
            "\n",
            "To change all layers to have dtype float64 by default, call `tf.keras.backend.set_floatx('float64')`. To change just this layer, pass dtype='float64' to the layer constructor. If you are the author of this layer, you can disable autocasting by passing autocast=False to the base Layer constructor.\n",
            "\n",
            "[[0. 0. 0. 0. 0. 0. 0.]\n",
            " [0. 1. 1. 1. 1. 1. 0.]\n",
            " [0. 1. 1. 1. 1. 1. 0.]\n",
            " [0. 1. 1. 1. 1. 1. 0.]\n",
            " [0. 1. 1. 1. 1. 1. 0.]\n",
            " [0. 1. 1. 1. 1. 1. 0.]]\n",
            "[[2. 3. 3. 3. 2.]\n",
            " [4. 6. 6. 6. 4.]\n",
            " [4. 6. 6. 6. 4.]\n",
            " [4. 6. 6. 6. 4.]\n",
            " [4. 6. 6. 6. 4.]]\n"
          ],
          "name": "stdout"
        }
      ]
    },
    {
      "cell_type": "code",
      "metadata": {
        "id": "TFexYspQWEpo",
        "colab_type": "code",
        "colab": {
          "base_uri": "https://localhost:8080/",
          "height": 69
        },
        "outputId": "e97bd930-188e-4831-8025-d379ea385190"
      },
      "source": [
        "conv.weights[0].numpy().squeeze()"
      ],
      "execution_count": 64,
      "outputs": [
        {
          "output_type": "execute_result",
          "data": {
            "text/plain": [
              "array([[1., 1., 1.],\n",
              "       [1., 1., 1.],\n",
              "       [1., 1., 1.]], dtype=float32)"
            ]
          },
          "metadata": {
            "tags": []
          },
          "execution_count": 64
        }
      ]
    },
    {
      "cell_type": "code",
      "metadata": {
        "id": "AfyRyUmTNYZ8",
        "colab_type": "code",
        "colab": {}
      },
      "source": [
        "def build_test_croppedv_stack_2d(input_shape=(5, 5, 1), kernel_size=3):\n",
        "  inputs = tf.keras.layers.Input(shape=input_shape)\n",
        "  \n",
        "  x = VerticalCroppedConv2d(\n",
        "                   filters=1,\n",
        "                   kernel_size=kernel_size, \n",
        "                   kernel_initializer='ones', \n",
        "                   bias_initializer='zeros')(inputs)\n",
        "\n",
        "  stack = tf.keras.Model(inputs=inputs, outputs=x)\n",
        "  stack.compile(optimizer='adam', loss='mse')\n",
        "  return stack"
      ],
      "execution_count": 0,
      "outputs": []
    },
    {
      "cell_type": "markdown",
      "metadata": {
        "id": "Nskk-zJwN3Em",
        "colab_type": "text"
      },
      "source": [
        "###Tests with kernel_size 3"
      ]
    },
    {
      "cell_type": "markdown",
      "metadata": {
        "id": "DdcDFcMbxwpZ",
        "colab_type": "text"
      },
      "source": [
        "#### Vertical stack"
      ]
    },
    {
      "cell_type": "code",
      "metadata": {
        "id": "jc06sHDoNzx8",
        "colab_type": "code",
        "colab": {
          "base_uri": "https://localhost:8080/",
          "height": 191
        },
        "outputId": "49313976-a256-48c4-b198-0e4bf5a66bc9"
      },
      "source": [
        "kernel_size=(2, 3)\n",
        "kernel_h, kernel_w = kernel_size\n",
        "\n",
        "\n",
        "\n",
        "padding1 = keras.layers.ZeroPadding2D(padding=((1,0),0))\n",
        "\n",
        "padding2 = keras.layers.ZeroPadding2D(padding=((kernel_h-1, 0),(int((kernel_w-1)/2),int((kernel_w-1)/2))))\n",
        "conv = keras.layers.Conv2D(filters=1,\n",
        "                           kernel_size=kernel_size,\n",
        "                           strides=1,\n",
        "                           padding='valid',\n",
        "                           kernel_initializer='ones', \n",
        "                           bias_initializer='zeros')\n",
        "\n",
        "cropping = keras.layers.Cropping2D(cropping=((0, 1), 0))\n",
        "\n",
        "\n",
        "x = padding1(test_ones_2d)\n",
        "x = padding2(x)\n",
        "x = conv(x)\n",
        "result = cropping(x)\n",
        "\n",
        "\n",
        "print('KERNEL')\n",
        "print(conv.weights[0].numpy().squeeze())\n",
        "print('')\n",
        "print('OUTPUT')\n",
        "print(result.numpy().squeeze())\n",
        "\n"
      ],
      "execution_count": 182,
      "outputs": [
        {
          "output_type": "stream",
          "text": [
            "KERNEL\n",
            "[[1. 1. 1.]\n",
            " [1. 1. 1.]]\n",
            "\n",
            "OUTPUT\n",
            "[[0. 0. 0. 0. 0.]\n",
            " [2. 3. 3. 3. 2.]\n",
            " [4. 6. 6. 6. 4.]\n",
            " [4. 6. 6. 6. 4.]\n",
            " [4. 6. 6. 6. 4.]]\n"
          ],
          "name": "stdout"
        }
      ]
    },
    {
      "cell_type": "code",
      "metadata": {
        "id": "5jLEZhYtOZgi",
        "colab_type": "code",
        "colab": {}
      },
      "source": [
        ""
      ],
      "execution_count": 0,
      "outputs": []
    },
    {
      "cell_type": "markdown",
      "metadata": {
        "id": "swYJ4XMofUWv",
        "colab_type": "text"
      },
      "source": [
        "REFERENCES\n",
        "\n",
        "https://wiki.math.uwaterloo.ca/statwiki/index.php?title=STAT946F17/Conditional_Image_Generation_with_PixelCNN_Decoders#Gated_PixelCNN\n",
        "\n",
        "https://www.slideshare.net/suga93/conditional-image-generation-with-pixelcnn-decoders\n",
        "\n",
        "https://www.youtube.com/watch?v=1BURwCCYNEI"
      ]
    },
    {
      "cell_type": "code",
      "metadata": {
        "id": "jTI9ts7i7Wch",
        "colab_type": "code",
        "colab": {}
      },
      "source": [
        ""
      ],
      "execution_count": 0,
      "outputs": []
    }
  ]
}