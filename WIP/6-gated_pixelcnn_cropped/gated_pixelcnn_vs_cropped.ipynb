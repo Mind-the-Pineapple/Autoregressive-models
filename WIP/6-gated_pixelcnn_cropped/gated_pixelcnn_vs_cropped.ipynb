{
  "nbformat": 4,
  "nbformat_minor": 0,
  "metadata": {
    "colab": {
      "name": "gated_pixelcnn_vs_cropped.ipynb",
      "provenance": [],
      "collapsed_sections": [],
      "toc_visible": true
    },
    "kernelspec": {
      "name": "python3",
      "display_name": "Python 3"
    },
    "accelerator": "GPU"
  },
  "cells": [
    {
      "cell_type": "markdown",
      "metadata": {
        "id": "HgFGN07idT26",
        "colab_type": "text"
      },
      "source": [
        "# Converting masked-based implementation to cropping-based implementation"
      ]
    },
    {
      "cell_type": "code",
      "metadata": {
        "id": "ObS7YqtCbC33",
        "colab_type": "code",
        "colab": {}
      },
      "source": [
        "import tensorflow as tf\n",
        "import tensorflow.keras as keras\n",
        "import numpy as np\n",
        "import math"
      ],
      "execution_count": 0,
      "outputs": []
    },
    {
      "cell_type": "code",
      "metadata": {
        "id": "iCMR2mKLbt_l",
        "colab_type": "code",
        "colab": {}
      },
      "source": [
        "test_ones_2d = np.ones([1, 5, 5, 1], dtype='float32')\n",
        "test_ones_3d = np.ones([1, 5, 5, 5, 1], dtype='float32')"
      ],
      "execution_count": 0,
      "outputs": []
    },
    {
      "cell_type": "code",
      "metadata": {
        "id": "NycU0IQZb1X1",
        "colab_type": "code",
        "colab": {}
      },
      "source": [
        "def print_3d(matrix_3d):\n",
        "    for i in range(matrix_3d.shape[0]):\n",
        "        print(f'Depth {i}')\n",
        "        print(matrix_3d[i,...])"
      ],
      "execution_count": 0,
      "outputs": []
    },
    {
      "cell_type": "code",
      "metadata": {
        "id": "AeH21Zkzcrt5",
        "colab_type": "code",
        "outputId": "d47da908-4659-45aa-f540-e01d3e510bdc",
        "colab": {
          "base_uri": "https://localhost:8080/",
          "height": 527
        }
      },
      "source": [
        "print_3d(test_ones_3d.squeeze())"
      ],
      "execution_count": 0,
      "outputs": [
        {
          "output_type": "stream",
          "text": [
            "Depth 0\n",
            "[[1. 1. 1. 1. 1.]\n",
            " [1. 1. 1. 1. 1.]\n",
            " [1. 1. 1. 1. 1.]\n",
            " [1. 1. 1. 1. 1.]\n",
            " [1. 1. 1. 1. 1.]]\n",
            "Depth 1\n",
            "[[1. 1. 1. 1. 1.]\n",
            " [1. 1. 1. 1. 1.]\n",
            " [1. 1. 1. 1. 1.]\n",
            " [1. 1. 1. 1. 1.]\n",
            " [1. 1. 1. 1. 1.]]\n",
            "Depth 2\n",
            "[[1. 1. 1. 1. 1.]\n",
            " [1. 1. 1. 1. 1.]\n",
            " [1. 1. 1. 1. 1.]\n",
            " [1. 1. 1. 1. 1.]\n",
            " [1. 1. 1. 1. 1.]]\n",
            "Depth 3\n",
            "[[1. 1. 1. 1. 1.]\n",
            " [1. 1. 1. 1. 1.]\n",
            " [1. 1. 1. 1. 1.]\n",
            " [1. 1. 1. 1. 1.]\n",
            " [1. 1. 1. 1. 1.]]\n",
            "Depth 4\n",
            "[[1. 1. 1. 1. 1.]\n",
            " [1. 1. 1. 1. 1.]\n",
            " [1. 1. 1. 1. 1.]\n",
            " [1. 1. 1. 1. 1.]\n",
            " [1. 1. 1. 1. 1.]]\n"
          ],
          "name": "stdout"
        }
      ]
    },
    {
      "cell_type": "code",
      "metadata": {
        "id": "xqrqiDnbfoqW",
        "colab_type": "code",
        "outputId": "12aef41a-4992-464c-8d38-8fd732286c57",
        "colab": {
          "base_uri": "https://localhost:8080/",
          "height": 102
        }
      },
      "source": [
        "print(test_ones_2d[0,:,:,0].squeeze())"
      ],
      "execution_count": 0,
      "outputs": [
        {
          "output_type": "stream",
          "text": [
            "[[1. 1. 1. 1. 1.]\n",
            " [1. 1. 1. 1. 1.]\n",
            " [1. 1. 1. 1. 1.]\n",
            " [1. 1. 1. 1. 1.]\n",
            " [1. 1. 1. 1. 1.]]\n"
          ],
          "name": "stdout"
        }
      ]
    },
    {
      "cell_type": "markdown",
      "metadata": {
        "id": "1UcUkEj0d7wh",
        "colab_type": "text"
      },
      "source": [
        "## Creating 2D masked solution to check results with cropped solution later"
      ]
    },
    {
      "cell_type": "code",
      "metadata": {
        "id": "83mZFyondaAT",
        "colab_type": "code",
        "colab": {}
      },
      "source": [
        "class MaskedConv2D(tf.keras.layers.Layer):\n",
        "    def __init__(self,\n",
        "                 mask_type,\n",
        "                 filters,\n",
        "                 kernel_size,\n",
        "                 strides=1,\n",
        "                 padding='same',\n",
        "                 kernel_initializer='glorot_uniform',\n",
        "                 bias_initializer='zeros'):\n",
        "        super(MaskedConv2D, self).__init__()\n",
        "\n",
        "        assert mask_type in {'A', 'B', 'V'}\n",
        "        self.mask_type = mask_type\n",
        "\n",
        "        self.filters = filters\n",
        "\n",
        "        if isinstance(kernel_size, int):\n",
        "            kernel_size = (kernel_size, kernel_size)\n",
        "        self.kernel_size = kernel_size\n",
        "\n",
        "        self.strides = strides\n",
        "        self.padding = padding.upper()\n",
        "        self.kernel_initializer = tf.keras.initializers.get(kernel_initializer)\n",
        "        self.bias_initializer = tf.keras.initializers.get(bias_initializer)\n",
        "\n",
        "    def build(self, input_shape):\n",
        "        kernel_h, kernel_w = self.kernel_size\n",
        "\n",
        "        self.kernel = self.add_weight(\"kernel\",\n",
        "                                      shape=(kernel_h,\n",
        "                                             kernel_w,\n",
        "                                             int(input_shape[-1]),\n",
        "                                             self.filters),\n",
        "                                      initializer=self.kernel_initializer,\n",
        "                                      trainable=True)\n",
        "\n",
        "        self.bias = self.add_weight(\"bias\",\n",
        "                                    shape=(self.filters,),\n",
        "                                    initializer=self.bias_initializer,\n",
        "                                    trainable=True)\n",
        "\n",
        "        mask = np.ones(self.kernel.shape, dtype=np.float32)\n",
        "\n",
        "        if kernel_h % 2 != 0: \n",
        "            center_h = kernel_h // 2\n",
        "        else:\n",
        "            center_h = (kernel_h - 1) // 2\n",
        "\n",
        "        if kernel_w % 2 != 0: \n",
        "            center_w = kernel_w // 2\n",
        "        else:\n",
        "            center_w = (kernel_w - 1) // 2\n",
        "\n",
        "        if self.mask_type == 'V':\n",
        "            mask[center_h + 1:, :, :, :] = 0.\n",
        "        else:\n",
        "            mask[:center_h, :, :] = 0.\n",
        "            mask[center_h, center_w + (self.mask_type == 'B'):, :, :] = 0.\n",
        "            mask[center_h + 1:, :, :] = 0.\n",
        "\n",
        "        self.mask = tf.constant(mask, dtype=tf.float32, name='mask')\n",
        "\n",
        "    def call(self, input):\n",
        "        masked_kernel = tf.math.multiply(self.mask, self.kernel)\n",
        "        x = tf.nn.conv2d(input, masked_kernel, strides=[1, self.strides, self.strides, 1], padding=self.padding)\n",
        "        x = tf.nn.bias_add(x, self.bias)\n",
        "        return x"
      ],
      "execution_count": 0,
      "outputs": []
    },
    {
      "cell_type": "markdown",
      "metadata": {
        "id": "nMXqIeSUkdcV",
        "colab_type": "text"
      },
      "source": [
        "### Tests with kernel_size 3"
      ]
    },
    {
      "cell_type": "markdown",
      "metadata": {
        "id": "M62GZQe8ixvy",
        "colab_type": "text"
      },
      "source": [
        "#### Vertical stack"
      ]
    },
    {
      "cell_type": "code",
      "metadata": {
        "id": "kjUrpEtIg7p9",
        "colab_type": "code",
        "outputId": "8df4b5ee-1d0e-4f7d-9009-beaf8c8133ee",
        "colab": {
          "base_uri": "https://localhost:8080/",
          "height": 204
        }
      },
      "source": [
        "mask_type = 'V'\n",
        "kernel_size=(3, 3)\n",
        "\n",
        "conv = MaskedConv2D(mask_type=mask_type,\n",
        "                filters=1,\n",
        "                kernel_size=kernel_size, \n",
        "                padding='same',\n",
        "                kernel_initializer='ones', \n",
        "                bias_initializer='zeros')\n",
        "\n",
        "result_v = conv(test_ones_2d)\n",
        "\n",
        "print('MASK')\n",
        "print(conv.mask.numpy().squeeze())\n",
        "print('')\n",
        "print('OUTPUT')\n",
        "print(result_v.numpy().squeeze())"
      ],
      "execution_count": 0,
      "outputs": [
        {
          "output_type": "stream",
          "text": [
            "MASK\n",
            "[[1. 1. 1.]\n",
            " [1. 1. 1.]\n",
            " [0. 0. 0.]]\n",
            "\n",
            "OUTPUT\n",
            "[[2. 3. 3. 3. 2.]\n",
            " [4. 6. 6. 6. 4.]\n",
            " [4. 6. 6. 6. 4.]\n",
            " [4. 6. 6. 6. 4.]\n",
            " [4. 6. 6. 6. 4.]]\n"
          ],
          "name": "stdout"
        }
      ]
    },
    {
      "cell_type": "markdown",
      "metadata": {
        "id": "PFqvGa439Z2o",
        "colab_type": "text"
      },
      "source": [
        "#### Feeding horizontal"
      ]
    },
    {
      "cell_type": "code",
      "metadata": {
        "id": "oq_JTwdE9lr6",
        "colab_type": "code",
        "outputId": "a5eecd56-e068-4d9f-ff4b-01bd048f0bbb",
        "colab": {
          "base_uri": "https://localhost:8080/",
          "height": 119
        }
      },
      "source": [
        "padding = keras.layers.ZeroPadding2D(padding=((1,0),0))\n",
        "cropping = keras.layers.Cropping2D(cropping=((0, 1), 0))\n",
        "\n",
        "x = padding(result_v)\n",
        "result = cropping(x)\n",
        "\n",
        "print('OUTPUT')\n",
        "print(result.numpy().squeeze())"
      ],
      "execution_count": 0,
      "outputs": [
        {
          "output_type": "stream",
          "text": [
            "OUTPUT\n",
            "[[0. 0. 0. 0. 0.]\n",
            " [2. 3. 3. 3. 2.]\n",
            " [4. 6. 6. 6. 4.]\n",
            " [4. 6. 6. 6. 4.]\n",
            " [4. 6. 6. 6. 4.]]\n"
          ],
          "name": "stdout"
        }
      ]
    },
    {
      "cell_type": "markdown",
      "metadata": {
        "id": "iHY6UE2_p5oc",
        "colab_type": "text"
      },
      "source": [
        "#### Horizontal stack A"
      ]
    },
    {
      "cell_type": "code",
      "metadata": {
        "id": "4_q_IunZkFmj",
        "colab_type": "code",
        "outputId": "1bfa1a88-7ae3-4a7e-d43e-46e7e683cce4",
        "colab": {
          "base_uri": "https://localhost:8080/",
          "height": 204
        }
      },
      "source": [
        "mask_type = 'A'\n",
        "kernel_size=(3, 3)\n",
        "\n",
        "conv = MaskedConv2D(mask_type=mask_type,\n",
        "                filters=1,\n",
        "                kernel_size=kernel_size, \n",
        "                padding='same',\n",
        "                kernel_initializer='ones', \n",
        "                bias_initializer='zeros')\n",
        "\n",
        "result = conv(test_ones_2d)\n",
        "\n",
        "print('MASK')\n",
        "print(conv.mask.numpy().squeeze())\n",
        "print('')\n",
        "print('OUTPUT')\n",
        "print(result.numpy().squeeze())"
      ],
      "execution_count": 0,
      "outputs": [
        {
          "output_type": "stream",
          "text": [
            "MASK\n",
            "[[0. 0. 0.]\n",
            " [1. 0. 0.]\n",
            " [0. 0. 0.]]\n",
            "\n",
            "OUTPUT\n",
            "[[0. 1. 1. 1. 1.]\n",
            " [0. 1. 1. 1. 1.]\n",
            " [0. 1. 1. 1. 1.]\n",
            " [0. 1. 1. 1. 1.]\n",
            " [0. 1. 1. 1. 1.]]\n"
          ],
          "name": "stdout"
        }
      ]
    },
    {
      "cell_type": "markdown",
      "metadata": {
        "id": "jMuS-vgWqAWK",
        "colab_type": "text"
      },
      "source": [
        "#### Horizontal stack B"
      ]
    },
    {
      "cell_type": "code",
      "metadata": {
        "id": "5yeB5h2tkSs_",
        "colab_type": "code",
        "outputId": "9e7346b9-d360-42dd-85b4-a9a22ba2bacb",
        "colab": {
          "base_uri": "https://localhost:8080/",
          "height": 204
        }
      },
      "source": [
        "mask_type = 'B'\n",
        "kernel_size=(3, 3)\n",
        "\n",
        "conv = MaskedConv2D(mask_type=mask_type,\n",
        "                filters=1,\n",
        "                kernel_size=kernel_size, \n",
        "                padding='same',\n",
        "                kernel_initializer='ones', \n",
        "                bias_initializer='zeros')\n",
        "\n",
        "result = conv(test_ones_2d)\n",
        "\n",
        "print('MASK')\n",
        "print(conv.mask.numpy().squeeze())\n",
        "print('')\n",
        "print('OUTPUT')\n",
        "print(result.numpy().squeeze())"
      ],
      "execution_count": 0,
      "outputs": [
        {
          "output_type": "stream",
          "text": [
            "MASK\n",
            "[[0. 0. 0.]\n",
            " [1. 1. 0.]\n",
            " [0. 0. 0.]]\n",
            "\n",
            "OUTPUT\n",
            "[[1. 2. 2. 2. 2.]\n",
            " [1. 2. 2. 2. 2.]\n",
            " [1. 2. 2. 2. 2.]\n",
            " [1. 2. 2. 2. 2.]\n",
            " [1. 2. 2. 2. 2.]]\n"
          ],
          "name": "stdout"
        }
      ]
    },
    {
      "cell_type": "markdown",
      "metadata": {
        "id": "1NxkQ3U1knbE",
        "colab_type": "text"
      },
      "source": [
        "### Tests with kernel_size 4"
      ]
    },
    {
      "cell_type": "markdown",
      "metadata": {
        "id": "WNykK-WpqMlu",
        "colab_type": "text"
      },
      "source": [
        "#### Vertical stack"
      ]
    },
    {
      "cell_type": "code",
      "metadata": {
        "id": "p3DTiFYCk57Y",
        "colab_type": "code",
        "outputId": "01d4c588-acde-43ba-8b52-7b5b2fddc52a",
        "colab": {
          "base_uri": "https://localhost:8080/",
          "height": 221
        }
      },
      "source": [
        "mask_type = 'V'\n",
        "kernel_size=(4, 4)\n",
        "\n",
        "padding = keras.layers.ZeroPadding2D(padding=((1,0),0))\n",
        "\n",
        "conv = MaskedConv2D(mask_type=mask_type,\n",
        "                filters=1,\n",
        "                kernel_size=kernel_size, \n",
        "                padding='same',\n",
        "                kernel_initializer='ones', \n",
        "                bias_initializer='zeros')\n",
        "\n",
        "cropping = keras.layers.Cropping2D(cropping=((0, 1), 0))\n",
        "\n",
        "x = padding(test_ones_2d)\n",
        "x = conv(x)\n",
        "result = cropping(x)\n",
        "\n",
        "print('MASK')\n",
        "print(conv.mask.numpy().squeeze())\n",
        "print('')\n",
        "print('OUTPUT')\n",
        "print(result.numpy().squeeze())"
      ],
      "execution_count": 0,
      "outputs": [
        {
          "output_type": "stream",
          "text": [
            "MASK\n",
            "[[1. 1. 1. 1.]\n",
            " [1. 1. 1. 1.]\n",
            " [0. 0. 0. 0.]\n",
            " [0. 0. 0. 0.]]\n",
            "\n",
            "OUTPUT\n",
            "[[0. 0. 0. 0. 0.]\n",
            " [3. 4. 4. 3. 2.]\n",
            " [6. 8. 8. 6. 4.]\n",
            " [6. 8. 8. 6. 4.]\n",
            " [6. 8. 8. 6. 4.]]\n"
          ],
          "name": "stdout"
        }
      ]
    },
    {
      "cell_type": "markdown",
      "metadata": {
        "id": "E5jUGK3_qbT8",
        "colab_type": "text"
      },
      "source": [
        "#### Horizontal stack A"
      ]
    },
    {
      "cell_type": "code",
      "metadata": {
        "id": "J5HSUo7Rk5xO",
        "colab_type": "code",
        "outputId": "d2eabc6f-1b49-43f9-f7d8-1cf13021c47b",
        "colab": {
          "base_uri": "https://localhost:8080/",
          "height": 221
        }
      },
      "source": [
        "mask_type = 'A'\n",
        "kernel_size=(4, 4)\n",
        "\n",
        "conv = MaskedConv2D(mask_type=mask_type,\n",
        "                filters=1,\n",
        "                kernel_size=kernel_size, \n",
        "                padding='same',\n",
        "                kernel_initializer='ones', \n",
        "                bias_initializer='zeros')\n",
        "\n",
        "result = conv(test_ones_2d)\n",
        "\n",
        "print('MASK')\n",
        "print(conv.mask.numpy().squeeze())\n",
        "print('')\n",
        "print('OUTPUT')\n",
        "print(result.numpy().squeeze())"
      ],
      "execution_count": 0,
      "outputs": [
        {
          "output_type": "stream",
          "text": [
            "MASK\n",
            "[[0. 0. 0. 0.]\n",
            " [1. 0. 0. 0.]\n",
            " [0. 0. 0. 0.]\n",
            " [0. 0. 0. 0.]]\n",
            "\n",
            "OUTPUT\n",
            "[[0. 1. 1. 1. 1.]\n",
            " [0. 1. 1. 1. 1.]\n",
            " [0. 1. 1. 1. 1.]\n",
            " [0. 1. 1. 1. 1.]\n",
            " [0. 1. 1. 1. 1.]]\n"
          ],
          "name": "stdout"
        }
      ]
    },
    {
      "cell_type": "markdown",
      "metadata": {
        "id": "KqORK7mLqvPP",
        "colab_type": "text"
      },
      "source": [
        "#### Horizontal stack B"
      ]
    },
    {
      "cell_type": "code",
      "metadata": {
        "id": "_2V51aerk5l1",
        "colab_type": "code",
        "outputId": "b54f7147-0080-48a2-a84c-d3ca557c31d9",
        "colab": {
          "base_uri": "https://localhost:8080/",
          "height": 221
        }
      },
      "source": [
        "mask_type = 'B'\n",
        "kernel_size=(4, 4)\n",
        "\n",
        "conv = MaskedConv2D(mask_type=mask_type,\n",
        "                filters=1,\n",
        "                kernel_size=kernel_size, \n",
        "                padding='same',\n",
        "                kernel_initializer='ones', \n",
        "                bias_initializer='zeros')\n",
        "\n",
        "result = conv(test_ones_2d)\n",
        "\n",
        "print('MASK')\n",
        "print(conv.mask.numpy().squeeze())\n",
        "print('')\n",
        "print('OUTPUT')\n",
        "print(result.numpy().squeeze())"
      ],
      "execution_count": 0,
      "outputs": [
        {
          "output_type": "stream",
          "text": [
            "MASK\n",
            "[[0. 0. 0. 0.]\n",
            " [1. 1. 0. 0.]\n",
            " [0. 0. 0. 0.]\n",
            " [0. 0. 0. 0.]]\n",
            "\n",
            "OUTPUT\n",
            "[[1. 2. 2. 2. 2.]\n",
            " [1. 2. 2. 2. 2.]\n",
            " [1. 2. 2. 2. 2.]\n",
            " [1. 2. 2. 2. 2.]\n",
            " [1. 2. 2. 2. 2.]]\n"
          ],
          "name": "stdout"
        }
      ]
    },
    {
      "cell_type": "markdown",
      "metadata": {
        "id": "kZmui789Br2B",
        "colab_type": "text"
      },
      "source": [
        "## Creating 2D cropped solution"
      ]
    },
    {
      "cell_type": "code",
      "metadata": {
        "id": "PxBNsvzhB1ec",
        "colab_type": "code",
        "colab": {}
      },
      "source": [
        "class VerticalCroppedConv2d(tf.keras.Model):\n",
        "    def __init__(self,\n",
        "                 filters,\n",
        "                 kernel_size,\n",
        "                 kernel_initializer, \n",
        "                 bias_initializer):\n",
        "        super(VerticalCroppedConv2d, self).__init__(name='')\n",
        "\n",
        "        if isinstance(kernel_size, int):\n",
        "            kernel_size = (kernel_size, kernel_size)\n",
        "\n",
        "        kernel_h, kernel_w = kernel_size\n",
        "\n",
        "        self.padding = keras.layers.ZeroPadding2D(padding=((kernel_h-1, 0),(int((kernel_w-1)/2),int((kernel_w-1)/2))))\n",
        "\n",
        "        self.conv = keras.layers.Conv2D(filters=filters,\n",
        "                                        kernel_size=kernel_size,\n",
        "                                        strides=1,\n",
        "                                        padding='valid',\n",
        "                                        kernel_initializer=kernel_initializer, \n",
        "                                        bias_initializer=bias_initializer)\n",
        "\n",
        "    def call(self, input_value):\n",
        "\n",
        "        x = self.padding(input_value)\n",
        "        x = self.conv(x)\n",
        "        out = self.cropping(x)\n",
        "\n",
        "        return out\n",
        "\n"
      ],
      "execution_count": 0,
      "outputs": []
    },
    {
      "cell_type": "markdown",
      "metadata": {
        "id": "RfFuwKlrP2JU",
        "colab_type": "text"
      },
      "source": [
        "Example step by step"
      ]
    },
    {
      "cell_type": "code",
      "metadata": {
        "id": "fH3I0lfoPdcH",
        "colab_type": "code",
        "outputId": "f142569c-f99d-4244-ab5d-1887243d0d29",
        "colab": {
          "base_uri": "https://localhost:8080/",
          "height": 204
        }
      },
      "source": [
        "kernel_h = 2\n",
        "kernel_w = 3\n",
        "\n",
        "kernel_size = (kernel_h, kernel_w)\n",
        "\n",
        "padding = keras.layers.ZeroPadding2D(padding=((kernel_h-1, 0),(int((kernel_w-1)/2),int((kernel_w-1)/2))))\n",
        "\n",
        "res = padding(test_ones_2d)\n",
        "print(res.numpy().squeeze())\n",
        "\n",
        "conv = keras.layers.Conv2D(filters=1,\n",
        "                                        kernel_size=kernel_size,\n",
        "                                        strides=1,\n",
        "                                        padding='valid',\n",
        "                                        kernel_initializer='ones', \n",
        "                                        bias_initializer='zeros')\n",
        "\n",
        "res2 = conv(res)\n",
        "print(res2.numpy().squeeze())\n",
        "\n",
        "\n",
        "\n"
      ],
      "execution_count": 0,
      "outputs": [
        {
          "output_type": "stream",
          "text": [
            "[[0. 0. 0. 0. 0. 0. 0.]\n",
            " [0. 1. 1. 1. 1. 1. 0.]\n",
            " [0. 1. 1. 1. 1. 1. 0.]\n",
            " [0. 1. 1. 1. 1. 1. 0.]\n",
            " [0. 1. 1. 1. 1. 1. 0.]\n",
            " [0. 1. 1. 1. 1. 1. 0.]]\n",
            "[[2. 3. 3. 3. 2.]\n",
            " [4. 6. 6. 6. 4.]\n",
            " [4. 6. 6. 6. 4.]\n",
            " [4. 6. 6. 6. 4.]\n",
            " [4. 6. 6. 6. 4.]]\n"
          ],
          "name": "stdout"
        }
      ]
    },
    {
      "cell_type": "code",
      "metadata": {
        "id": "TFexYspQWEpo",
        "colab_type": "code",
        "outputId": "d0533bb8-38e8-482c-8e65-4f6522519087",
        "colab": {
          "base_uri": "https://localhost:8080/",
          "height": 51
        }
      },
      "source": [
        "conv.weights[0].numpy().squeeze()"
      ],
      "execution_count": 0,
      "outputs": [
        {
          "output_type": "execute_result",
          "data": {
            "text/plain": [
              "array([[1., 1., 1.],\n",
              "       [1., 1., 1.]], dtype=float32)"
            ]
          },
          "metadata": {
            "tags": []
          },
          "execution_count": 16
        }
      ]
    },
    {
      "cell_type": "code",
      "metadata": {
        "id": "AfyRyUmTNYZ8",
        "colab_type": "code",
        "colab": {}
      },
      "source": [
        "def build_test_croppedv_stack_2d(input_shape=(5, 5, 1), kernel_size=3):\n",
        "  inputs = tf.keras.layers.Input(shape=input_shape)\n",
        "  \n",
        "  x = VerticalCroppedConv2d(\n",
        "                   filters=1,\n",
        "                   kernel_size=kernel_size, \n",
        "                   kernel_initializer='ones', \n",
        "                   bias_initializer='zeros')(inputs)\n",
        "\n",
        "  stack = tf.keras.Model(inputs=inputs, outputs=x)\n",
        "  stack.compile(optimizer='adam', loss='mse')\n",
        "  return stack"
      ],
      "execution_count": 0,
      "outputs": []
    },
    {
      "cell_type": "markdown",
      "metadata": {
        "id": "Nskk-zJwN3Em",
        "colab_type": "text"
      },
      "source": [
        "###Tests with kernel_size 3"
      ]
    },
    {
      "cell_type": "markdown",
      "metadata": {
        "id": "DdcDFcMbxwpZ",
        "colab_type": "text"
      },
      "source": [
        "#### Vertical stack"
      ]
    },
    {
      "cell_type": "code",
      "metadata": {
        "id": "jc06sHDoNzx8",
        "colab_type": "code",
        "outputId": "750bf826-6cf4-400b-f693-51ad6350fd15",
        "colab": {
          "base_uri": "https://localhost:8080/",
          "height": 187
        }
      },
      "source": [
        "kernel_size=(2, 3)\n",
        "kernel_h, kernel_w = kernel_size\n",
        "\n",
        "padding2 = keras.layers.ZeroPadding2D(padding=((kernel_h-1, 0),(int((kernel_w-1)/2),int((kernel_w-1)/2))))\n",
        "conv = keras.layers.Conv2D(filters=1,\n",
        "                           kernel_size=kernel_size,\n",
        "                           strides=1,\n",
        "                           padding='valid',\n",
        "                           kernel_initializer='ones', \n",
        "                           bias_initializer='zeros')\n",
        "\n",
        "x = padding2(test_ones_2d)\n",
        "result_v = conv(x)\n",
        "\n",
        "print('KERNEL')\n",
        "print(conv.weights[0].numpy().squeeze())\n",
        "print('')\n",
        "print('OUTPUT')\n",
        "print(result_v.numpy().squeeze())"
      ],
      "execution_count": 0,
      "outputs": [
        {
          "output_type": "stream",
          "text": [
            "KERNEL\n",
            "[[1. 1. 1.]\n",
            " [1. 1. 1.]]\n",
            "\n",
            "OUTPUT\n",
            "[[2. 3. 3. 3. 2.]\n",
            " [4. 6. 6. 6. 4.]\n",
            " [4. 6. 6. 6. 4.]\n",
            " [4. 6. 6. 6. 4.]\n",
            " [4. 6. 6. 6. 4.]]\n"
          ],
          "name": "stdout"
        }
      ]
    },
    {
      "cell_type": "markdown",
      "metadata": {
        "id": "SvWpzQFGEGGm",
        "colab_type": "text"
      },
      "source": [
        "#### Feeding horizontal"
      ]
    },
    {
      "cell_type": "code",
      "metadata": {
        "id": "5jLEZhYtOZgi",
        "colab_type": "code",
        "outputId": "d293ab6f-7fa6-4aec-cc68-9ab3ae7185dd",
        "colab": {
          "base_uri": "https://localhost:8080/",
          "height": 119
        }
      },
      "source": [
        "padding = keras.layers.ZeroPadding2D(padding=((1,0),0))\n",
        "cropping = keras.layers.Cropping2D(cropping=((0, 1), 0))\n",
        "\n",
        "x = padding(result_v)\n",
        "result = cropping(x)\n",
        "\n",
        "print('OUTPUT')\n",
        "print(result.numpy().squeeze())"
      ],
      "execution_count": 0,
      "outputs": [
        {
          "output_type": "stream",
          "text": [
            "OUTPUT\n",
            "[[0. 0. 0. 0. 0.]\n",
            " [2. 3. 3. 3. 2.]\n",
            " [4. 6. 6. 6. 4.]\n",
            " [4. 6. 6. 6. 4.]\n",
            " [4. 6. 6. 6. 4.]]\n"
          ],
          "name": "stdout"
        }
      ]
    },
    {
      "cell_type": "markdown",
      "metadata": {
        "id": "MQLekDEaEUUT",
        "colab_type": "text"
      },
      "source": [
        "#### Horizontal stack A"
      ]
    },
    {
      "cell_type": "code",
      "metadata": {
        "id": "bHiwKZniEk5A",
        "colab_type": "code",
        "outputId": "ebd659c5-d899-4d6f-9c81-5c821cf4ea61",
        "colab": {
          "base_uri": "https://localhost:8080/",
          "height": 170
        }
      },
      "source": [
        "kernel_size=(1, 1)\n",
        "kernel_h, kernel_w = kernel_size\n",
        "\n",
        "conv = keras.layers.Conv2D(filters=1,\n",
        "                           kernel_size=kernel_size,\n",
        "                           strides=1,\n",
        "                           kernel_initializer='ones', \n",
        "                           bias_initializer='zeros')\n",
        "\n",
        "padding = keras.layers.ZeroPadding2D(padding=(0,(1,0)))\n",
        "cropping = keras.layers.Cropping2D(cropping=(0, (0, 1)))\n",
        "\n",
        "x = conv(test_ones_2d)\n",
        "x = padding(x)\n",
        "result = cropping(x)\n",
        "\n",
        "print('KERNEL')\n",
        "print(conv.weights[0].numpy().squeeze())\n",
        "print('')\n",
        "print('OUTPUT')\n",
        "print(result.numpy().squeeze())"
      ],
      "execution_count": 0,
      "outputs": [
        {
          "output_type": "stream",
          "text": [
            "KERNEL\n",
            "1.0\n",
            "\n",
            "OUTPUT\n",
            "[[0. 1. 1. 1. 1.]\n",
            " [0. 1. 1. 1. 1.]\n",
            " [0. 1. 1. 1. 1.]\n",
            " [0. 1. 1. 1. 1.]\n",
            " [0. 1. 1. 1. 1.]]\n"
          ],
          "name": "stdout"
        }
      ]
    },
    {
      "cell_type": "markdown",
      "metadata": {
        "id": "IvmGrDziEadf",
        "colab_type": "text"
      },
      "source": [
        "#### Horizontal stack B"
      ]
    },
    {
      "cell_type": "code",
      "metadata": {
        "id": "pRKJFE4TFx4I",
        "colab_type": "code",
        "outputId": "75d34ade-0983-49a5-f157-b98975c22560",
        "colab": {
          "base_uri": "https://localhost:8080/",
          "height": 170
        }
      },
      "source": [
        "kernel_size=(1, 2)\n",
        "kernel_h, kernel_w = kernel_size\n",
        "\n",
        "padding2 = keras.layers.ZeroPadding2D(padding=((int((kernel_h-1)/2),int((kernel_h-1)/2)), (kernel_w-1, 0)))\n",
        "conv = keras.layers.Conv2D(filters=1,\n",
        "                           kernel_size=kernel_size,\n",
        "                           strides=1,\n",
        "                           padding='valid',\n",
        "                           kernel_initializer='ones', \n",
        "                           bias_initializer='zeros')\n",
        "\n",
        "\n",
        "x = padding2(test_ones_2d)\n",
        "result = conv(x)\n",
        "\n",
        "print('KERNEL')\n",
        "print(conv.weights[0].numpy().squeeze())\n",
        "print('')\n",
        "print('OUTPUT')\n",
        "print(result.numpy().squeeze())"
      ],
      "execution_count": 0,
      "outputs": [
        {
          "output_type": "stream",
          "text": [
            "KERNEL\n",
            "[1. 1.]\n",
            "\n",
            "OUTPUT\n",
            "[[1. 2. 2. 2. 2.]\n",
            " [1. 2. 2. 2. 2.]\n",
            " [1. 2. 2. 2. 2.]\n",
            " [1. 2. 2. 2. 2.]\n",
            " [1. 2. 2. 2. 2.]]\n"
          ],
          "name": "stdout"
        }
      ]
    },
    {
      "cell_type": "markdown",
      "metadata": {
        "id": "swYJ4XMofUWv",
        "colab_type": "text"
      },
      "source": [
        "REFERENCES\n",
        "\n",
        "https://wiki.math.uwaterloo.ca/statwiki/index.php?title=STAT946F17/Conditional_Image_Generation_with_PixelCNN_Decoders#Gated_PixelCNN\n",
        "\n",
        "https://www.slideshare.net/suga93/conditional-image-generation-with-pixelcnn-decoders\n",
        "\n",
        "https://www.youtube.com/watch?v=1BURwCCYNEI"
      ]
    },
    {
      "cell_type": "code",
      "metadata": {
        "id": "jTI9ts7i7Wch",
        "colab_type": "code",
        "colab": {}
      },
      "source": [
        ""
      ],
      "execution_count": 0,
      "outputs": []
    }
  ]
}