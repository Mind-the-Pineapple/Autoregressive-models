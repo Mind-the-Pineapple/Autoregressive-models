{
 "cells": [
  {
   "cell_type": "markdown",
   "metadata": {
    "colab_type": "text",
    "id": "HgFGN07idT26"
   },
   "source": [
    "# Masked vs cropped implementation for Gated PixelCNN"
   ]
  },
  {
   "cell_type": "markdown",
   "metadata": {},
   "source": [
    "Hi all, in this notebook we will compare the masked implemntation of the convolutions from the Gated PixelCNN versus the alternative sugexted in the paper, the use of convolutions operaritions with appropriate croppings and padding to achieve the same result.\n",
    "Let's check out!"
   ]
  },
  {
   "cell_type": "markdown",
   "metadata": {},
   "source": [
    "First, we willcheck if both implementation create the same result. For this we will create a 5x5 matrix filled with ones as our input example."
   ]
  },
  {
   "cell_type": "code",
   "execution_count": 1,
   "metadata": {
    "colab": {},
    "colab_type": "code",
    "id": "ObS7YqtCbC33"
   },
   "outputs": [],
   "source": [
    "import math\n",
    "\n",
    "import numpy as np\n",
    "import tensorflow as tf\n",
    "from tensorflow import keras\n",
    "from tensorflow import nn\n",
    "from tensorflow.keras import initializers"
   ]
  },
  {
   "cell_type": "code",
   "execution_count": 2,
   "metadata": {
    "colab": {},
    "colab_type": "code",
    "id": "iCMR2mKLbt_l"
   },
   "outputs": [],
   "source": [
    "test_ones_2d = np.ones([1, 5, 5, 1], dtype='float32')"
   ]
  },
  {
   "cell_type": "code",
   "execution_count": 3,
   "metadata": {
    "colab": {
     "base_uri": "https://localhost:8080/",
     "height": 102
    },
    "colab_type": "code",
    "id": "xqrqiDnbfoqW",
    "outputId": "12aef41a-4992-464c-8d38-8fd732286c57"
   },
   "outputs": [
    {
     "name": "stdout",
     "output_type": "stream",
     "text": [
      "[[1. 1. 1. 1. 1.]\n",
      " [1. 1. 1. 1. 1.]\n",
      " [1. 1. 1. 1. 1.]\n",
      " [1. 1. 1. 1. 1.]\n",
      " [1. 1. 1. 1. 1.]]\n"
     ]
    }
   ],
   "source": [
    "print(test_ones_2d[0,:,:,0].squeeze())"
   ]
  },
  {
   "cell_type": "markdown",
   "metadata": {
    "colab_type": "text",
    "id": "1UcUkEj0d7wh"
   },
   "source": [
    "Now, let's copy themasked implementation that we have been using for our Gated PixelCNN models."
   ]
  },
  {
   "cell_type": "markdown",
   "metadata": {},
   "source": [
    "# Masked convolutions"
   ]
  },
  {
   "cell_type": "code",
   "execution_count": 4,
   "metadata": {
    "colab": {},
    "colab_type": "code",
    "id": "83mZFyondaAT"
   },
   "outputs": [],
   "source": [
    "class MaskedConv2D(keras.layers.Layer):\n",
    "    \"\"\"Convolutional layers with masks extended to work with Gated PixelCNN.\n",
    "\n",
    "    Convolutional layers with simple implementation of masks type A and B for\n",
    "    autoregressive models. Extended version to work with the verticala and horizontal\n",
    "    stacks from the Gated PixelCNN model.\n",
    "\n",
    "    Arguments:\n",
    "    mask_type: one of `\"V\"`, `\"A\"` or `\"B\".`\n",
    "    filters: Integer, the dimensionality of the output space (i.e. the number of output\n",
    "        filters in the convolution).\n",
    "    kernel_size: An integer or tuple/list of 2 integers, specifying the height and width\n",
    "        of the 2D convolution window.\n",
    "        Can be a single integer to specify the same value for all spatial dimensions.\n",
    "    strides: An integer or tuple/list of 2 integers, specifying the strides of the\n",
    "        convolution along the height and width.\n",
    "        Can be a single integer to specify the same value for all spatial dimensions.\n",
    "        Specifying any stride value != 1 is incompatible with specifying any\n",
    "        `dilation_rate` value != 1.\n",
    "    padding: one of `\"valid\"` or `\"same\"` (case-insensitive).\n",
    "    kernel_initializer: Initializer for the `kernel` weights matrix.\n",
    "    bias_initializer: Initializer for the bias vector.\n",
    "    \"\"\"\n",
    "\n",
    "    def __init__(self,\n",
    "                 mask_type,\n",
    "                 filters,\n",
    "                 kernel_size,\n",
    "                 strides=1,\n",
    "                 padding='same',\n",
    "                 kernel_initializer='glorot_uniform',\n",
    "                 bias_initializer='zeros'):\n",
    "        super(MaskedConv2D, self).__init__()\n",
    "\n",
    "        assert mask_type in {'A', 'B', 'V'}\n",
    "        self.mask_type = mask_type\n",
    "\n",
    "        self.filters = filters\n",
    "\n",
    "        if isinstance(kernel_size, int):\n",
    "            kernel_size = (kernel_size, kernel_size)\n",
    "        self.kernel_size = kernel_size\n",
    "\n",
    "        self.strides = strides\n",
    "        self.padding = padding.upper()\n",
    "        self.kernel_initializer = initializers.get(kernel_initializer)\n",
    "        self.bias_initializer = initializers.get(bias_initializer)\n",
    "\n",
    "    def build(self, input_shape):\n",
    "        kernel_h, kernel_w = self.kernel_size\n",
    "\n",
    "        self.kernel = self.add_weight('kernel',\n",
    "                                      shape=(kernel_h,\n",
    "                                             kernel_w,\n",
    "                                             int(input_shape[-1]),\n",
    "                                             self.filters),\n",
    "                                      initializer=self.kernel_initializer,\n",
    "                                      trainable=True)\n",
    "\n",
    "        self.bias = self.add_weight('bias',\n",
    "                                    shape=(self.filters,),\n",
    "                                    initializer=self.bias_initializer,\n",
    "                                    trainable=True)\n",
    "\n",
    "        mask = np.ones(self.kernel.shape, dtype=np.float32)\n",
    "\n",
    "        # Get centre of the filter for even or odd dimensions\n",
    "        if kernel_h % 2 != 0:\n",
    "            center_h = kernel_h // 2\n",
    "        else:\n",
    "            center_h = (kernel_h - 1) // 2\n",
    "\n",
    "        if kernel_w % 2 != 0:\n",
    "            center_w = kernel_w // 2\n",
    "        else:\n",
    "            center_w = (kernel_w - 1) // 2\n",
    "\n",
    "        if self.mask_type == 'V':\n",
    "            mask[center_h + 1:, :, :, :] = 0.\n",
    "        else:\n",
    "            mask[:center_h, :, :] = 0.\n",
    "            mask[center_h, center_w + (self.mask_type == 'B'):, :, :] = 0.\n",
    "            mask[center_h + 1:, :, :] = 0.\n",
    "\n",
    "        self.mask = tf.constant(mask, dtype=tf.float32, name='mask')\n",
    "\n",
    "    def call(self, input):\n",
    "        masked_kernel = tf.math.multiply(self.mask, self.kernel)\n",
    "        x = nn.conv2d(input,\n",
    "                      masked_kernel,\n",
    "                      strides=[1, self.strides, self.strides, 1],\n",
    "                      padding=self.padding)\n",
    "        x = nn.bias_add(x, self.bias)\n",
    "        return x"
   ]
  },
  {
   "cell_type": "markdown",
   "metadata": {},
   "source": [
    "With this implementation, we will recreate all convolutional operation that occur inside of the Gated Block. These operations are:\n",
    "\n",
    "- Vertical stack\n",
    "- Vertical to horizontal stack\n",
    "- Horizontal stack - convolution layer with mask type \"A\"\n",
    "- Horizontal stack - convolution layer with mask type \"B\"\n",
    "\n",
    "\n",
    "\n",
    "                                              IMAGE GATED BLOCK\n",
    "                                              \n"
   ]
  },
  {
   "cell_type": "markdown",
   "metadata": {
    "colab_type": "text",
    "id": "M62GZQe8ixvy"
   },
   "source": [
    "## Vertical stack"
   ]
  },
  {
   "cell_type": "code",
   "execution_count": 5,
   "metadata": {
    "colab": {
     "base_uri": "https://localhost:8080/",
     "height": 204
    },
    "colab_type": "code",
    "id": "kjUrpEtIg7p9",
    "outputId": "8df4b5ee-1d0e-4f7d-9009-beaf8c8133ee"
   },
   "outputs": [
    {
     "name": "stdout",
     "output_type": "stream",
     "text": [
      "MASK\n",
      "[[1. 1. 1.]\n",
      " [1. 1. 1.]\n",
      " [0. 0. 0.]]\n",
      "\n",
      "OUTPUT\n",
      "[[2. 3. 3. 3. 2.]\n",
      " [4. 6. 6. 6. 4.]\n",
      " [4. 6. 6. 6. 4.]\n",
      " [4. 6. 6. 6. 4.]\n",
      " [4. 6. 6. 6. 4.]]\n"
     ]
    }
   ],
   "source": [
    "mask_type = 'V'\n",
    "kernel_size = (3, 3)\n",
    "\n",
    "conv = MaskedConv2D(mask_type=mask_type,\n",
    "                    filters=1,\n",
    "                    kernel_size=kernel_size,\n",
    "                    padding='same',\n",
    "                    kernel_initializer='ones',\n",
    "                    bias_initializer='zeros')\n",
    "\n",
    "result_v = conv(test_ones_2d)\n",
    "\n",
    "print('MASK')\n",
    "print(conv.mask.numpy().squeeze())\n",
    "print('')\n",
    "print('OUTPUT')\n",
    "print(result_v.numpy().squeeze())"
   ]
  },
  {
   "cell_type": "markdown",
   "metadata": {
    "colab_type": "text",
    "id": "PFqvGa439Z2o"
   },
   "source": [
    "## Vertical to horizontal stack"
   ]
  },
  {
   "cell_type": "code",
   "execution_count": 6,
   "metadata": {
    "colab": {
     "base_uri": "https://localhost:8080/",
     "height": 119
    },
    "colab_type": "code",
    "id": "oq_JTwdE9lr6",
    "outputId": "a5eecd56-e068-4d9f-ff4b-01bd048f0bbb"
   },
   "outputs": [
    {
     "name": "stdout",
     "output_type": "stream",
     "text": [
      "INPUT\n",
      "[[2. 3. 3. 3. 2.]\n",
      " [4. 6. 6. 6. 4.]\n",
      " [4. 6. 6. 6. 4.]\n",
      " [4. 6. 6. 6. 4.]\n",
      " [4. 6. 6. 6. 4.]]\n",
      "\n",
      "OUTPUT\n",
      "[[0. 0. 0. 0. 0.]\n",
      " [2. 3. 3. 3. 2.]\n",
      " [4. 6. 6. 6. 4.]\n",
      " [4. 6. 6. 6. 4.]\n",
      " [4. 6. 6. 6. 4.]]\n"
     ]
    }
   ],
   "source": [
    "padding = keras.layers.ZeroPadding2D(padding=((1, 0), 0))\n",
    "cropping = keras.layers.Cropping2D(cropping=((0, 1), 0))\n",
    "\n",
    "x = padding(result_v)\n",
    "result = cropping(x)\n",
    "\n",
    "print('INPUT')\n",
    "print(result_v.numpy().squeeze())\n",
    "print('')\n",
    "print('OUTPUT')\n",
    "print(result.numpy().squeeze())"
   ]
  },
  {
   "cell_type": "markdown",
   "metadata": {
    "colab_type": "text",
    "id": "iHY6UE2_p5oc"
   },
   "source": [
    "## Horizontal stack - convolution layer with mask type \"A\""
   ]
  },
  {
   "cell_type": "code",
   "execution_count": 7,
   "metadata": {
    "colab": {
     "base_uri": "https://localhost:8080/",
     "height": 204
    },
    "colab_type": "code",
    "id": "4_q_IunZkFmj",
    "outputId": "1bfa1a88-7ae3-4a7e-d43e-46e7e683cce4"
   },
   "outputs": [
    {
     "name": "stdout",
     "output_type": "stream",
     "text": [
      "MASK\n",
      "[1. 0. 0.]\n",
      "\n",
      "OUTPUT\n",
      "[[0. 1. 1. 1. 1.]\n",
      " [0. 1. 1. 1. 1.]\n",
      " [0. 1. 1. 1. 1.]\n",
      " [0. 1. 1. 1. 1.]\n",
      " [0. 1. 1. 1. 1.]]\n"
     ]
    }
   ],
   "source": [
    "mask_type = 'A'\n",
    "kernel_size = (1, 3)\n",
    "\n",
    "conv = MaskedConv2D(mask_type=mask_type,\n",
    "                    filters=1,\n",
    "                    kernel_size=kernel_size,\n",
    "                    padding='same',\n",
    "                    kernel_initializer='ones',\n",
    "                    bias_initializer='zeros')\n",
    "\n",
    "result = conv(test_ones_2d)\n",
    "\n",
    "print('MASK')\n",
    "print(conv.mask.numpy().squeeze())\n",
    "print('')\n",
    "print('OUTPUT')\n",
    "print(result.numpy().squeeze())"
   ]
  },
  {
   "cell_type": "markdown",
   "metadata": {
    "colab_type": "text",
    "id": "jMuS-vgWqAWK"
   },
   "source": [
    "## Horizontal stack - convolution layer with mask type \"B\""
   ]
  },
  {
   "cell_type": "code",
   "execution_count": 8,
   "metadata": {
    "colab": {
     "base_uri": "https://localhost:8080/",
     "height": 204
    },
    "colab_type": "code",
    "id": "5yeB5h2tkSs_",
    "outputId": "9e7346b9-d360-42dd-85b4-a9a22ba2bacb"
   },
   "outputs": [
    {
     "name": "stdout",
     "output_type": "stream",
     "text": [
      "MASK\n",
      "[1. 1. 0.]\n",
      "\n",
      "OUTPUT\n",
      "[[1. 2. 2. 2. 2.]\n",
      " [1. 2. 2. 2. 2.]\n",
      " [1. 2. 2. 2. 2.]\n",
      " [1. 2. 2. 2. 2.]\n",
      " [1. 2. 2. 2. 2.]]\n"
     ]
    }
   ],
   "source": [
    "mask_type = 'B'\n",
    "kernel_size = (1, 3)\n",
    "\n",
    "conv = MaskedConv2D(mask_type=mask_type,\n",
    "                    filters=1,\n",
    "                    kernel_size=kernel_size,\n",
    "                    padding='same',\n",
    "                    kernel_initializer='ones',\n",
    "                    bias_initializer='zeros')\n",
    "\n",
    "result = conv(test_ones_2d)\n",
    "\n",
    "print('MASK')\n",
    "print(conv.mask.numpy().squeeze())\n",
    "print('')\n",
    "print('OUTPUT')\n",
    "print(result.numpy().squeeze())"
   ]
  },
  {
   "cell_type": "markdown",
   "metadata": {},
   "source": [
    "Using the results of the masked approach as reference, let's check the cropped method."
   ]
  },
  {
   "cell_type": "markdown",
   "metadata": {
    "colab_type": "text",
    "id": "kZmui789Br2B"
   },
   "source": [
    "# Cropped and padded convolutions"
   ]
  },
  {
   "cell_type": "markdown",
   "metadata": {},
   "source": [
    "## Vertical stack\n",
    "\n",
    "First, let's checkout this operation that some strategic padding and applying the convolution in \"valid\" mode to achieve the same result from the masked version. "
   ]
  },
  {
   "cell_type": "code",
   "execution_count": 9,
   "metadata": {
    "colab": {
     "base_uri": "https://localhost:8080/",
     "height": 204
    },
    "colab_type": "code",
    "id": "fH3I0lfoPdcH",
    "outputId": "f142569c-f99d-4244-ab5d-1887243d0d29"
   },
   "outputs": [
    {
     "name": "stdout",
     "output_type": "stream",
     "text": [
      "INPUT\n",
      "[[1. 1. 1. 1. 1.]\n",
      " [1. 1. 1. 1. 1.]\n",
      " [1. 1. 1. 1. 1.]\n",
      " [1. 1. 1. 1. 1.]\n",
      " [1. 1. 1. 1. 1.]]\n",
      "\n",
      "PADDED INPUT\n",
      "[[0. 0. 0. 0. 0. 0. 0.]\n",
      " [0. 1. 1. 1. 1. 1. 0.]\n",
      " [0. 1. 1. 1. 1. 1. 0.]\n",
      " [0. 1. 1. 1. 1. 1. 0.]\n",
      " [0. 1. 1. 1. 1. 1. 0.]\n",
      " [0. 1. 1. 1. 1. 1. 0.]]\n",
      "\n",
      "CONV FILTER\n",
      "[[1. 1. 1.]\n",
      " [1. 1. 1.]]\n",
      "\n",
      "OUTPUT\n",
      "[[2. 3. 3. 3. 2.]\n",
      " [4. 6. 6. 6. 4.]\n",
      " [4. 6. 6. 6. 4.]\n",
      " [4. 6. 6. 6. 4.]\n",
      " [4. 6. 6. 6. 4.]]\n"
     ]
    }
   ],
   "source": [
    "kernel_h = 2\n",
    "kernel_w = 3\n",
    "\n",
    "kernel_size = (kernel_h, kernel_w)\n",
    "\n",
    "padding = keras.layers.ZeroPadding2D(padding=((kernel_h - 1, 0), (int((kernel_w - 1) / 2), int((kernel_w - 1) / 2))))\n",
    "\n",
    "res = padding(test_ones_2d)\n",
    "\n",
    "conv = keras.layers.Conv2D(filters=1,\n",
    "                           kernel_size=kernel_size,\n",
    "                           strides=1,\n",
    "                           padding='valid',\n",
    "                           kernel_initializer='ones',\n",
    "                           bias_initializer='zeros')\n",
    "\n",
    "result_v = conv(res)\n",
    "\n",
    "print('INPUT')\n",
    "print(test_ones_2d.squeeze())\n",
    "print('')\n",
    "print('PADDED INPUT')\n",
    "print(res.numpy().squeeze())\n",
    "print('')\n",
    "print('CONV FILTER')\n",
    "print(conv.weights[0].numpy().squeeze())\n",
    "print('')\n",
    "print('OUTPUT')\n",
    "print(result_v.numpy().squeeze())"
   ]
  },
  {
   "cell_type": "markdown",
   "metadata": {
    "colab_type": "text",
    "id": "RfFuwKlrP2JU"
   },
   "source": [
    "Now, let's implement a layer that we will include all the previous operations."
   ]
  },
  {
   "cell_type": "code",
   "execution_count": 10,
   "metadata": {
    "colab": {},
    "colab_type": "code",
    "id": "PxBNsvzhB1ec"
   },
   "outputs": [],
   "source": [
    "class VerticalConv2D(keras.layers.Conv2D):\n",
    "    \"\"\"https://github.com/JesseFarebro/PixelCNNPP/blob/master/layers/VerticalConv2D.py\"\"\"\n",
    "\n",
    "    def __init__(self,\n",
    "                 filters,\n",
    "                 kernel_size,\n",
    "                 **kwargs):\n",
    "        if not isinstance(kernel_size, tuple):\n",
    "            kernel_size = (kernel_size // 2 + 1, kernel_size)\n",
    "\n",
    "        super(VerticalConv2D, self).__init__(filters, kernel_size, **kwargs)\n",
    "\n",
    "        self.pad = tf.keras.layers.ZeroPadding2D(\n",
    "            (\n",
    "                (kernel_size[0] - 1, 0),  # Top, Bottom\n",
    "                (kernel_size[1] // 2, kernel_size[1] // 2),  # Left, Right\n",
    "            )\n",
    "        )\n",
    "\n",
    "    def call(self, inputs):\n",
    "        inputs = self.pad(inputs)\n",
    "        output = super(VerticalConv2D, self).call(inputs)\n",
    "\n",
    "        return output"
   ]
  },
  {
   "cell_type": "code",
   "execution_count": 11,
   "metadata": {
    "colab": {},
    "colab_type": "code",
    "id": "AfyRyUmTNYZ8"
   },
   "outputs": [
    {
     "name": "stdout",
     "output_type": "stream",
     "text": [
      "INPUT\n",
      "[[1. 1. 1. 1. 1.]\n",
      " [1. 1. 1. 1. 1.]\n",
      " [1. 1. 1. 1. 1.]\n",
      " [1. 1. 1. 1. 1.]\n",
      " [1. 1. 1. 1. 1.]]\n",
      "\n",
      "CONV FILTER\n",
      "[[1. 1. 1.]\n",
      " [1. 1. 1.]]\n",
      "\n",
      "OUTPUT\n",
      "[[2. 3. 3. 3. 2.]\n",
      " [4. 6. 6. 6. 4.]\n",
      " [4. 6. 6. 6. 4.]\n",
      " [4. 6. 6. 6. 4.]\n",
      " [4. 6. 6. 6. 4.]]\n"
     ]
    }
   ],
   "source": [
    "kernel_h = 2\n",
    "kernel_w = 3\n",
    "\n",
    "kernel_size = (kernel_h, kernel_w)\n",
    "\n",
    "conv = VerticalConv2D(filters=1,\n",
    "                      kernel_size=kernel_size,\n",
    "                      strides=1,\n",
    "                      padding='valid',\n",
    "                      kernel_initializer='ones',\n",
    "                      bias_initializer='zeros')\n",
    "\n",
    "result_v = conv(test_ones_2d)\n",
    "\n",
    "print('INPUT')\n",
    "print(test_ones_2d.squeeze())\n",
    "print('')\n",
    "print('CONV FILTER')\n",
    "print(conv.weights[0].numpy().squeeze())\n",
    "print('')\n",
    "print('OUTPUT')\n",
    "print(result_v.numpy().squeeze())"
   ]
  },
  {
   "cell_type": "markdown",
   "metadata": {
    "colab_type": "text",
    "id": "SvWpzQFGEGGm"
   },
   "source": [
    "## Vertical to horizontal stack\n",
    "In this operation, the implementation continue the same."
   ]
  },
  {
   "cell_type": "code",
   "execution_count": 12,
   "metadata": {
    "colab": {
     "base_uri": "https://localhost:8080/",
     "height": 119
    },
    "colab_type": "code",
    "id": "5jLEZhYtOZgi",
    "outputId": "d293ab6f-7fa6-4aec-cc68-9ab3ae7185dd"
   },
   "outputs": [
    {
     "name": "stdout",
     "output_type": "stream",
     "text": [
      "INPUT\n",
      "[[2. 3. 3. 3. 2.]\n",
      " [4. 6. 6. 6. 4.]\n",
      " [4. 6. 6. 6. 4.]\n",
      " [4. 6. 6. 6. 4.]\n",
      " [4. 6. 6. 6. 4.]]\n",
      "\n",
      "OUTPUT\n",
      "[[0. 0. 0. 0. 0.]\n",
      " [2. 3. 3. 3. 2.]\n",
      " [4. 6. 6. 6. 4.]\n",
      " [4. 6. 6. 6. 4.]\n",
      " [4. 6. 6. 6. 4.]]\n"
     ]
    }
   ],
   "source": [
    "padding = keras.layers.ZeroPadding2D(padding=((1, 0), 0))\n",
    "cropping = keras.layers.Cropping2D(cropping=((0, 1), 0))\n",
    "\n",
    "x = padding(result_v)\n",
    "result = cropping(x)\n",
    "\n",
    "print('INPUT')\n",
    "print(result_v.numpy().squeeze())\n",
    "print('')\n",
    "print('OUTPUT')\n",
    "print(result.numpy().squeeze())"
   ]
  },
  {
   "cell_type": "markdown",
   "metadata": {
    "colab_type": "text",
    "id": "MQLekDEaEUUT"
   },
   "source": [
    "## Horizontal stack - convolution layer with mask type \"A\"\n",
    "Again, let's check each operation step by step."
   ]
  },
  {
   "cell_type": "code",
   "execution_count": 13,
   "metadata": {
    "colab": {
     "base_uri": "https://localhost:8080/",
     "height": 170
    },
    "colab_type": "code",
    "id": "bHiwKZniEk5A",
    "outputId": "ebd659c5-d899-4d6f-9c81-5c821cf4ea61"
   },
   "outputs": [
    {
     "name": "stdout",
     "output_type": "stream",
     "text": [
      "INPUT\n",
      "[[1. 1. 1. 1. 1.]\n",
      " [1. 1. 1. 1. 1.]\n",
      " [1. 1. 1. 1. 1.]\n",
      " [1. 1. 1. 1. 1.]\n",
      " [1. 1. 1. 1. 1.]]\n",
      "\n",
      "CONV FILTER\n",
      "1.0\n",
      "\n",
      "CONVOLUTION RESULT\n",
      "[[1. 1. 1. 1. 1.]\n",
      " [1. 1. 1. 1. 1.]\n",
      " [1. 1. 1. 1. 1.]\n",
      " [1. 1. 1. 1. 1.]\n",
      " [1. 1. 1. 1. 1.]]\n",
      "\n",
      "PADDED RESULT\n",
      "[[0. 1. 1. 1. 1. 1.]\n",
      " [0. 1. 1. 1. 1. 1.]\n",
      " [0. 1. 1. 1. 1. 1.]\n",
      " [0. 1. 1. 1. 1. 1.]\n",
      " [0. 1. 1. 1. 1. 1.]]\n",
      "\n",
      "CROPPED RESULT\n",
      "[[0. 1. 1. 1. 1.]\n",
      " [0. 1. 1. 1. 1.]\n",
      " [0. 1. 1. 1. 1.]\n",
      " [0. 1. 1. 1. 1.]\n",
      " [0. 1. 1. 1. 1.]]\n"
     ]
    }
   ],
   "source": [
    "kernel_size = (1, 1)\n",
    "conv = keras.layers.Conv2D(filters=1,\n",
    "                           kernel_size=kernel_size,\n",
    "                           strides=1,\n",
    "                           kernel_initializer='ones',\n",
    "                           bias_initializer='zeros')\n",
    "\n",
    "padding = keras.layers.ZeroPadding2D(padding=(0, (1, 0)))\n",
    "cropping = keras.layers.Cropping2D(cropping=(0, (0, 1)))\n",
    "\n",
    "res = conv(test_ones_2d)\n",
    "res_2 = padding(res)\n",
    "res_3 = cropping(res_2)\n",
    "\n",
    "print('INPUT')\n",
    "print(test_ones_2d.squeeze())\n",
    "print('')\n",
    "print('CONV FILTER')\n",
    "print(conv.weights[0].numpy().squeeze())\n",
    "print('')\n",
    "print('CONVOLUTION RESULT')\n",
    "print(res.numpy().squeeze())\n",
    "print('')\n",
    "print('PADDED RESULT')\n",
    "print(res_2.numpy().squeeze())\n",
    "print('')\n",
    "print('CROPPED RESULT')\n",
    "print(res_3.numpy().squeeze())"
   ]
  },
  {
   "cell_type": "markdown",
   "metadata": {},
   "source": [
    "Note: Since our input test just have one channel, the convolution 1x1 looks like did not perform any change."
   ]
  },
  {
   "cell_type": "markdown",
   "metadata": {
    "colab_type": "text",
    "id": "IvmGrDziEadf"
   },
   "source": [
    "## Horizontal stack - convolution layer with mask type \"B\"\n",
    "The step by step of the mask type \"B\" convolution layer is a little different."
   ]
  },
  {
   "cell_type": "code",
   "execution_count": 14,
   "metadata": {
    "colab": {
     "base_uri": "https://localhost:8080/",
     "height": 170
    },
    "colab_type": "code",
    "id": "pRKJFE4TFx4I",
    "outputId": "75d34ade-0983-49a5-f157-b98975c22560"
   },
   "outputs": [
    {
     "name": "stdout",
     "output_type": "stream",
     "text": [
      "INPUT\n",
      "[[1. 1. 1. 1. 1.]\n",
      " [1. 1. 1. 1. 1.]\n",
      " [1. 1. 1. 1. 1.]\n",
      " [1. 1. 1. 1. 1.]\n",
      " [1. 1. 1. 1. 1.]]\n",
      "\n",
      "PADDED INPUT\n",
      "[[0. 1. 1. 1. 1. 1.]\n",
      " [0. 1. 1. 1. 1. 1.]\n",
      " [0. 1. 1. 1. 1. 1.]\n",
      " [0. 1. 1. 1. 1. 1.]\n",
      " [0. 1. 1. 1. 1. 1.]]\n",
      "\n",
      "CONV FILTER\n",
      "[1. 1.]\n",
      "\n",
      "RESULT\n",
      "[[1. 2. 2. 2. 2.]\n",
      " [1. 2. 2. 2. 2.]\n",
      " [1. 2. 2. 2. 2.]\n",
      " [1. 2. 2. 2. 2.]\n",
      " [1. 2. 2. 2. 2.]]\n"
     ]
    }
   ],
   "source": [
    "kernel_size = (1, 2)\n",
    "kernel_h, kernel_w = kernel_size\n",
    "\n",
    "padding = keras.layers.ZeroPadding2D(padding=((int((kernel_h - 1) / 2), int((kernel_h - 1) / 2)), (kernel_w - 1, 0)))\n",
    "conv = keras.layers.Conv2D(filters=1,\n",
    "                           kernel_size=kernel_size,\n",
    "                           strides=1,\n",
    "                           padding='valid',\n",
    "                           kernel_initializer='ones',\n",
    "                           bias_initializer='zeros')\n",
    "\n",
    "res = padding(test_ones_2d)\n",
    "result = conv(res)\n",
    "\n",
    "print('INPUT')\n",
    "print(test_ones_2d.squeeze())\n",
    "print('')\n",
    "print('PADDED INPUT')\n",
    "print(res.numpy().squeeze())\n",
    "print('')\n",
    "print('CONV FILTER')\n",
    "print(conv.weights[0].numpy().squeeze())\n",
    "print('')\n",
    "print('RESULT')\n",
    "print(result.numpy().squeeze())"
   ]
  },
  {
   "cell_type": "markdown",
   "metadata": {},
   "source": [
    "In this case, we also implemented a layer version encapsulation these operations"
   ]
  },
  {
   "cell_type": "code",
   "execution_count": 15,
   "metadata": {},
   "outputs": [],
   "source": [
    "class HorizontalConv2D(keras.layers.Conv2D):\n",
    "    def __init__(self,\n",
    "                 filters,\n",
    "                 kernel_size,\n",
    "                 **kwargs):\n",
    "        if not isinstance(kernel_size, tuple):\n",
    "            kernel_size = (kernel_size // 2 + 1,) * 2\n",
    "\n",
    "        super(HorizontalConv2D, self).__init__(filters, kernel_size, **kwargs)\n",
    "        self.pad = tf.keras.layers.ZeroPadding2D(\n",
    "            (\n",
    "                (kernel_size[0] - 1, 0),  # (Top, Bottom)\n",
    "                (kernel_size[1] - 1, 0),  # (Left, Right)\n",
    "            )\n",
    "        )\n",
    "\n",
    "    def call(self, inputs):\n",
    "        inputs = self.pad(inputs)\n",
    "        outputs = super(HorizontalConv2D, self).call(inputs)\n",
    "\n",
    "        return outputs"
   ]
  },
  {
   "cell_type": "code",
   "execution_count": 16,
   "metadata": {},
   "outputs": [
    {
     "name": "stdout",
     "output_type": "stream",
     "text": [
      "INPUT\n",
      "[[1. 1. 1. 1. 1.]\n",
      " [1. 1. 1. 1. 1.]\n",
      " [1. 1. 1. 1. 1.]\n",
      " [1. 1. 1. 1. 1.]\n",
      " [1. 1. 1. 1. 1.]]\n",
      "\n",
      "CONV FILTER\n",
      "[1. 1.]\n",
      "\n",
      "RESULT\n",
      "[[1. 2. 2. 2. 2.]\n",
      " [1. 2. 2. 2. 2.]\n",
      " [1. 2. 2. 2. 2.]\n",
      " [1. 2. 2. 2. 2.]\n",
      " [1. 2. 2. 2. 2.]]\n"
     ]
    }
   ],
   "source": [
    "kernel_size = (1, 2)\n",
    "conv = HorizontalConv2D(filters=1,\n",
    "                        kernel_size=kernel_size,\n",
    "                        strides=1,\n",
    "                        kernel_initializer='ones',\n",
    "                        bias_initializer='zeros')\n",
    "\n",
    "result = conv(test_ones_2d)\n",
    "\n",
    "print('INPUT')\n",
    "print(test_ones_2d.squeeze())\n",
    "print('')\n",
    "print('CONV FILTER')\n",
    "print(conv.weights[0].numpy().squeeze())\n",
    "print('')\n",
    "print('RESULT')\n",
    "print(result.numpy().squeeze())"
   ]
  },
  {
   "cell_type": "markdown",
   "metadata": {},
   "source": [
    "# Execution time\n",
    "Now we will compare the time that takes to perform each convolutional operation."
   ]
  },
  {
   "cell_type": "code",
   "execution_count": 17,
   "metadata": {},
   "outputs": [],
   "source": [
    "import time\n",
    "def measure_time(conv_fn):\n",
    "    exec_time = []\n",
    "    n_iter = 100\n",
    "    for _ in range(n_iter):\n",
    "        test_input = np.random.rand(128, 256, 256, 1).astype('float32') \n",
    "        start = time.time()\n",
    "        conv_fn(test_input)\n",
    "        exec_time.append(time.time() - start)\n",
    "    exec_time = np.array(exec_time, dtype='float32')\n",
    "    return exec_time.mean(), exec_time.std()"
   ]
  },
  {
   "cell_type": "markdown",
   "metadata": {},
   "source": [
    "## Vertical stack"
   ]
  },
  {
   "cell_type": "code",
   "execution_count": 18,
   "metadata": {},
   "outputs": [
    {
     "name": "stdout",
     "output_type": "stream",
     "text": [
      "Vertical stack\n",
      "Masked convolution:         0.01410292 +- 0.00891058 seconds\n",
      "Cropped padded convolution: 0.01386628 +- 0.00675169 seconds\n"
     ]
    }
   ],
   "source": [
    "mask_type = 'V'\n",
    "kernel_size = (3, 3)\n",
    "masked_conv = MaskedConv2D(mask_type=mask_type,\n",
    "                    filters=32,\n",
    "                    kernel_size=kernel_size,\n",
    "                    padding='same',\n",
    "                    kernel_initializer='ones',\n",
    "                    bias_initializer='zeros')\n",
    "\n",
    "@tf.function\n",
    "def test_masked_fn(x):\n",
    "    _ = masked_conv(x)\n",
    "    \n",
    "\n",
    "masked_time = measure_time(test_masked_fn)\n",
    "# ----------------------------------------------------------------\n",
    "\n",
    "kernel_size = (2, 3)\n",
    "cropped_conv = VerticalConv2D(filters=32,\n",
    "                      kernel_size=kernel_size,\n",
    "                      strides=1,\n",
    "                      padding='valid',\n",
    "                      kernel_initializer='ones',\n",
    "                      bias_initializer='zeros')\n",
    "\n",
    "@tf.function\n",
    "def test_cropped_fn(x):\n",
    "    _ = cropped_conv(x)\n",
    "\n",
    "cropped_time = measure_time(test_cropped_fn)\n",
    "# ----------------------------------------------------------------\n",
    "\n",
    "print(\"Vertical stack\")\n",
    "print(f\"Masked convolution:         {masked_time[0]:.8f} +- {masked_time[1]:.8f} seconds\")\n",
    "print(f\"Cropped padded convolution: {cropped_time[0]:.8f} +- {cropped_time[1]:.8f} seconds\")"
   ]
  },
  {
   "cell_type": "markdown",
   "metadata": {},
   "source": [
    "## Horizontal stack - convolution layer with mask type \"A\""
   ]
  },
  {
   "cell_type": "code",
   "execution_count": 19,
   "metadata": {},
   "outputs": [
    {
     "name": "stdout",
     "output_type": "stream",
     "text": [
      "Horizontal stack - convolution layer with mask type 'A'\n",
      "Masked convolution:         0.01360846 +- 0.00381987 seconds\n",
      "Cropped padded convolution: 0.01365352 +- 0.00476047 seconds\n"
     ]
    }
   ],
   "source": [
    "mask_type = 'A'\n",
    "kernel_size = (1, 3)\n",
    "masked_conv = MaskedConv2D(mask_type=mask_type,\n",
    "                    filters=1,\n",
    "                    kernel_size=kernel_size,\n",
    "                    padding='same',\n",
    "                    kernel_initializer='ones',\n",
    "                    bias_initializer='zeros')\n",
    "\n",
    "@tf.function\n",
    "def test_masked_fn(x):\n",
    "    _ = masked_conv(x)\n",
    "    \n",
    "masked_time = measure_time(test_masked_fn)\n",
    "# ----------------------------------------------------------------\n",
    "\n",
    "kernel_size = (1, 1)\n",
    "conv = keras.layers.Conv2D(filters=1,\n",
    "                           kernel_size=kernel_size,\n",
    "                           strides=1,\n",
    "                           kernel_initializer='ones',\n",
    "                           bias_initializer='zeros')\n",
    "\n",
    "padding = keras.layers.ZeroPadding2D(padding=(0, (1, 0)))\n",
    "cropping = keras.layers.Cropping2D(cropping=(0, (0, 1)))\n",
    "\n",
    "@tf.function\n",
    "def test_cropped_fn(x):\n",
    "    x = conv(x)\n",
    "    x = padding(x)\n",
    "    x = cropping(x)\n",
    "\n",
    "cropped_time = measure_time(test_cropped_fn)\n",
    "# ----------------------------------------------------------------\n",
    "\n",
    "print(\"Horizontal stack - convolution layer with mask type 'A'\")\n",
    "print(f\"Masked convolution:         {masked_time[0]:.8f} +- {masked_time[1]:.8f} seconds\")\n",
    "print(f\"Cropped padded convolution: {cropped_time[0]:.8f} +- {cropped_time[1]:.8f} seconds\")"
   ]
  },
  {
   "cell_type": "markdown",
   "metadata": {},
   "source": [
    "## Horizontal stack - convolution layer with mask type \"B\"\n"
   ]
  },
  {
   "cell_type": "code",
   "execution_count": 20,
   "metadata": {},
   "outputs": [
    {
     "name": "stdout",
     "output_type": "stream",
     "text": [
      "Horizontal stack - convolution layer with mask type 'B'\n",
      "Masked convolution:         0.01353339 +- 0.00374499 seconds\n",
      "Cropped padded convolution: 0.01384839 +- 0.00734248 seconds\n"
     ]
    }
   ],
   "source": [
    "mask_type = 'B'\n",
    "kernel_size = (1, 3)\n",
    "masked_conv = MaskedConv2D(mask_type=mask_type,\n",
    "                    filters=1,\n",
    "                    kernel_size=kernel_size,\n",
    "                    padding='same',\n",
    "                    kernel_initializer='ones',\n",
    "                    bias_initializer='zeros')\n",
    "\n",
    "@tf.function\n",
    "def test_masked_fn(x):\n",
    "    _ = masked_conv(x)\n",
    "    \n",
    "masked_time = measure_time(test_masked_fn)\n",
    "# ----------------------------------------------------------------\n",
    "\n",
    "kernel_size = (1, 2)\n",
    "cropped_conv = HorizontalConv2D(filters=1,\n",
    "                        kernel_size=kernel_size,\n",
    "                        strides=1,\n",
    "                        kernel_initializer='ones',\n",
    "                        bias_initializer='zeros')\n",
    "\n",
    "@tf.function\n",
    "def test_cropped_fn(x):\n",
    "    _ = cropped_conv(x)\n",
    "\n",
    "cropped_time = measure_time(test_cropped_fn)\n",
    "# ----------------------------------------------------------------\n",
    "\n",
    "print(\"Horizontal stack - convolution layer with mask type 'B'\")\n",
    "print(f\"Masked convolution:         {masked_time[0]:.8f} +- {masked_time[1]:.8f} seconds\")\n",
    "print(f\"Cropped padded convolution: {cropped_time[0]:.8f} +- {cropped_time[1]:.8f} seconds\")"
   ]
  },
  {
   "cell_type": "markdown",
   "metadata": {},
   "source": [
    "Altough its looks like cropped is better in the vertical convolution, the difference does not to look very significant."
   ]
  },
  {
   "cell_type": "markdown",
   "metadata": {
    "colab_type": "text",
    "id": "swYJ4XMofUWv"
   },
   "source": [
    "# REFERENCES\n",
    "\n",
    "https://wiki.math.uwaterloo.ca/statwiki/index.php?title=STAT946F17/Conditional_Image_Generation_with_PixelCNN_Decoders#Gated_PixelCNN\n",
    "\n",
    "https://www.slideshare.net/suga93/conditional-image-generation-with-pixelcnn-decoders\n",
    "\n",
    "https://www.youtube.com/watch?v=1BURwCCYNEI"
   ]
  }
 ],
 "metadata": {
  "accelerator": "GPU",
  "colab": {
   "collapsed_sections": [],
   "name": "gated_pixelcnn_vs_cropped.ipynb",
   "provenance": [],
   "toc_visible": true
  },
  "kernelspec": {
   "display_name": "Python 3",
   "language": "python",
   "name": "python3"
  },
  "language_info": {
   "codemirror_mode": {
    "name": "ipython",
    "version": 3
   },
   "file_extension": ".py",
   "mimetype": "text/x-python",
   "name": "python",
   "nbconvert_exporter": "python",
   "pygments_lexer": "ipython3",
   "version": "3.6.9"
  }
 },
 "nbformat": 4,
 "nbformat_minor": 1
}
