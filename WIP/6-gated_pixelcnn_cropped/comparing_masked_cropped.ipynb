{
  "nbformat": 4,
  "nbformat_minor": 0,
  "metadata": {
    "colab": {
      "name": "comparing_masked_cropped.ipynb",
      "provenance": []
    },
    "kernelspec": {
      "name": "python3",
      "display_name": "Python 3"
    },
    "accelerator": "GPU"
  },
  "cells": [
    {
      "cell_type": "code",
      "metadata": {
        "id": "tyRPVstBbYVq",
        "colab_type": "code",
        "colab": {
          "base_uri": "https://localhost:8080/",
          "height": 34
        },
        "outputId": "e8dd8833-0552-4cb9-8727-aa6a8327bf3c"
      },
      "source": [
        "%tensorflow_version 2.x"
      ],
      "execution_count": 1,
      "outputs": [
        {
          "output_type": "stream",
          "text": [
            "TensorFlow 2.x selected.\n"
          ],
          "name": "stdout"
        }
      ]
    },
    {
      "cell_type": "code",
      "metadata": {
        "id": "cHHD2OaFbeLX",
        "colab_type": "code",
        "colab": {}
      },
      "source": [
        "\"\"\"Script to compare masked vs cropped conv2d\"\"\"\n",
        "import random as rn\n",
        "import time\n",
        "\n",
        "import matplotlib\n",
        "import matplotlib.pyplot as plt\n",
        "import numpy as np\n",
        "import tensorflow as tf\n",
        "from tensorflow import keras\n",
        "\n",
        "random_seed = 42\n",
        "tf.random.set_seed(random_seed)\n",
        "np.random.seed(random_seed)\n",
        "rn.seed(random_seed)\n",
        "\n",
        "# ---------------------------------------------------------------------------------\n",
        "class MaskedConv2D(tf.keras.layers.Layer):\n",
        "    \"\"\"Convolutional layers with masks for autoregressive models\n",
        "\n",
        "    Convolutional layers with simple implementation to have masks type A and B.\n",
        "    \"\"\"\n",
        "\n",
        "    def __init__(self,\n",
        "                 mask_type,\n",
        "                 filters,\n",
        "                 kernel_size,\n",
        "                 strides=1,\n",
        "                 padding='same',\n",
        "                 kernel_initializer='glorot_uniform',\n",
        "                 bias_initializer='zeros'):\n",
        "        super(MaskedConv2D, self).__init__()\n",
        "\n",
        "        assert mask_type in {'A', 'B', 'V'}\n",
        "        self.mask_type = mask_type\n",
        "\n",
        "        self.filters = filters\n",
        "\n",
        "        if isinstance(kernel_size, int):\n",
        "            kernel_size = (kernel_size, kernel_size)\n",
        "        self.kernel_size = kernel_size\n",
        "\n",
        "        self.strides = strides\n",
        "        self.padding = padding.upper()\n",
        "        self.kernel_initializer = keras.initializers.get(kernel_initializer)\n",
        "        self.bias_initializer = keras.initializers.get(bias_initializer)\n",
        "\n",
        "    def build(self, input_shape):\n",
        "        kernel_h, kernel_w = self.kernel_size\n",
        "\n",
        "        self.kernel = self.add_weight(\"kernel\",\n",
        "                                      shape=(kernel_h,\n",
        "                                             kernel_w,\n",
        "                                             int(input_shape[-1]),\n",
        "                                             self.filters),\n",
        "                                      initializer=self.kernel_initializer,\n",
        "                                      trainable=True)\n",
        "\n",
        "        self.bias = self.add_weight(\"bias\",\n",
        "                                    shape=(self.filters,),\n",
        "                                    initializer=self.bias_initializer,\n",
        "                                    trainable=True)\n",
        "\n",
        "        mask = np.ones(self.kernel.shape, dtype=np.float32)\n",
        "        if self.mask_type == 'V':\n",
        "            mask[kernel_h // 2:, :, :, :] = 0.\n",
        "        else:\n",
        "            mask[kernel_h // 2, kernel_w // 2 + (self.mask_type == 'B'):, :, :] = 0.\n",
        "            mask[kernel_h // 2 + 1:, :, :] = 0.\n",
        "\n",
        "        self.mask = tf.constant(mask, dtype=tf.float32, name='mask')\n",
        "\n",
        "    def call(self, input):\n",
        "        masked_kernel = tf.math.multiply(self.mask, self.kernel)\n",
        "        x = tf.nn.conv2d(input, masked_kernel, strides=[1, self.strides, self.strides, 1], padding=self.padding)\n",
        "        x = tf.nn.bias_add(x, self.bias)\n",
        "        return x\n",
        "\n",
        "class MaskedGatedBlock(tf.keras.Model):\n",
        "    \"\"\"\"\"\"\n",
        "    def __init__(self, mask_type, filters, kernel_size):\n",
        "        super(MaskedGatedBlock, self).__init__(name='')\n",
        "\n",
        "        self.mask_type = mask_type\n",
        "        self.vertical_conv = MaskedConv2D(mask_type='V', filters=2 * filters, kernel_size=kernel_size, kernel_initializer='ones')\n",
        "        self.horizontal_conv = MaskedConv2D(mask_type=mask_type, filters=2 * filters, kernel_size=(1, kernel_size), kernel_initializer='ones')\n",
        "        self.v_to_h_conv = keras.layers.Conv2D(filters=2 * filters, kernel_size=1, kernel_initializer='ones')\n",
        "\n",
        "        self.horizontal_output = keras.layers.Conv2D(filters=filters, kernel_size=1, kernel_initializer='ones')\n",
        "\n",
        "    def _gate(self, x):\n",
        "        tanh_preactivation, sigmoid_preactivation = tf.split(x, 2, axis=-1)\n",
        "        return tf.nn.tanh(tanh_preactivation) * tf.nn.sigmoid(sigmoid_preactivation)\n",
        "\n",
        "    def call(self, input_tensor):\n",
        "        v = input_tensor[0]\n",
        "        h = input_tensor[1]\n",
        "\n",
        "        horizontal_preactivation = self.horizontal_conv(h)  # 1xN\n",
        "        vertical_preactivation = self.vertical_conv(v)  # NxN\n",
        "        v_to_h = self.v_to_h_conv(vertical_preactivation)  # 1x1\n",
        "        v_out = self._gate(vertical_preactivation)\n",
        "\n",
        "        horizontal_preactivation = horizontal_preactivation + v_to_h\n",
        "        h_activated = self._gate(horizontal_preactivation)\n",
        "        h_activated = self.horizontal_output(h_activated)\n",
        "\n",
        "        if self.mask_type == 'A':\n",
        "            h_out = h_activated\n",
        "        elif self.mask_type == 'B':\n",
        "            h_out = h + h_activated\n",
        "\n",
        "        return v_out, h_out\n",
        "\n",
        "# ---------------------------------------------------------------------------------\n",
        "class DownShiftedConv2d(tf.keras.Model):\n",
        "    \"\"\"\"\"\"\n",
        "    def __init__(self, filters, kernel_size):\n",
        "        super(DownShiftedConv2d, self).__init__(name='')\n",
        "        self.vertical_padding = keras.layers.ZeroPadding2D(padding=((kernel_size//2+1, 0),\n",
        "                                                                    (kernel_size//2, kernel_size//2)))\n",
        "\n",
        "        self.vertical_conv = keras.layers.Conv2D(filters=filters,\n",
        "                                                 kernel_size=[kernel_size//2+1, kernel_size],\n",
        "                                                 strides=1,\n",
        "                                                 padding='valid', kernel_initializer='ones')\n",
        "\n",
        "        self.vertical_cropping = keras.layers.Cropping2D(cropping=((0, 1), (0, 0)))\n",
        "\n",
        "\n",
        "    def call(self, input_tensor):\n",
        "        vertical_preactivation = self.vertical_padding(input_tensor)\n",
        "        vertical_preactivation = self.vertical_conv(vertical_preactivation)\n",
        "        output = self.vertical_cropping(vertical_preactivation)\n",
        "\n",
        "        return output\n",
        "\n",
        "\n",
        "class DownRightShiftedConv2d(tf.keras.Model):\n",
        "    \"\"\"\"\"\"\n",
        "    def __init__(self, mask_type, filters, kernel_size):\n",
        "        super(DownRightShiftedConv2d, self).__init__(name='')\n",
        "        self.mask_type = mask_type\n",
        "\n",
        "        self.horizontal_padding = keras.layers.ZeroPadding2D(padding=((0, 0), (kernel_size // 2+1, 0)))\n",
        "        self.horizontal_conv = keras.layers.Conv2D(filters=filters,\n",
        "                                                   kernel_size=[1, kernel_size // 2 + 1],\n",
        "                                                   strides=1,\n",
        "                                                   padding='valid', kernel_initializer='ones')\n",
        "        if mask_type == 'B':\n",
        "            self.horizontal_cropping = keras.layers.Cropping2D(cropping=((0, 0), (1, 0)))\n",
        "        elif mask_type == 'A':\n",
        "            self.horizontal_cropping = keras.layers.Cropping2D(cropping=((0, 0), (0, 1)))\n",
        "\n",
        "\n",
        "    def call(self, input_tensor):\n",
        "\n",
        "        horizontal_preactivation = self.horizontal_padding(input_tensor)\n",
        "        horizontal_preactivation = self.horizontal_conv(horizontal_preactivation)\n",
        "        output = self.horizontal_cropping(horizontal_preactivation)\n",
        "\n",
        "        return output\n",
        "\n",
        "\n",
        "\n",
        "class CroppedGatedBlock(tf.keras.Model):\n",
        "    \"\"\"\"\"\"\n",
        "    def __init__(self, mask_type, filters, kernel_size):\n",
        "        super(CroppedGatedBlock, self).__init__(name='')\n",
        "\n",
        "        self.mask_type = mask_type\n",
        "        self.vertical_stream = DownShiftedConv2d(2*filters, kernel_size)\n",
        "        self.horizontal_stream = DownRightShiftedConv2d(mask_type, 2*filters, kernel_size)\n",
        "\n",
        "        self.v_to_h_conv = keras.layers.Conv2D(filters=2 * filters, kernel_size=1, kernel_initializer='ones')\n",
        "\n",
        "        self.horizontal_output = keras.layers.Conv2D(filters=filters, kernel_size=1, kernel_initializer='ones')\n",
        "\n",
        "\n",
        "    def _gate(self, x):\n",
        "        tanh_preactivation, sigmoid_preactivation = tf.split(x, 2, axis=-1)\n",
        "        return tf.nn.tanh(tanh_preactivation) * tf.nn.sigmoid(sigmoid_preactivation)\n",
        "\n",
        "    def call(self, input_tensor):\n",
        "        v = input_tensor[0]\n",
        "        h = input_tensor[1]\n",
        "\n",
        "        vertical_preactivation = self.vertical_stream(v)\n",
        "        horizontal_preactivation = self.horizontal_stream(h)\n",
        "        v_to_h = self.v_to_h_conv(vertical_preactivation)  # 1x1\n",
        "        v_out = self._gate(vertical_preactivation)\n",
        "\n",
        "        horizontal_preactivation = horizontal_preactivation + v_to_h\n",
        "        h_activated = self._gate(horizontal_preactivation)\n",
        "        h_activated = self.horizontal_output(h_activated)\n",
        "\n",
        "        if self.mask_type == 'A':\n",
        "            h_out = h_activated\n",
        "        elif self.mask_type == 'B':\n",
        "            h_out = h + h_activated\n",
        "\n",
        "        return v_out, h_out\n",
        "    "
      ],
      "execution_count": 0,
      "outputs": []
    },
    {
      "cell_type": "code",
      "metadata": {
        "id": "PrsQQCZSbnep",
        "colab_type": "code",
        "colab": {}
      },
      "source": [
        "A1 = CroppedGatedBlock('B', 1, 3)\n",
        "A2 = MaskedGatedBlock('B', 1, 3)"
      ],
      "execution_count": 0,
      "outputs": []
    },
    {
      "cell_type": "code",
      "metadata": {
        "id": "mvPKMjXCbumD",
        "colab_type": "code",
        "colab": {}
      },
      "source": [
        "B = np.ones((1,3,3,1), dtype='float32')"
      ],
      "execution_count": 0,
      "outputs": []
    },
    {
      "cell_type": "code",
      "metadata": {
        "id": "6pEZ8RLI2ky2",
        "colab_type": "code",
        "colab": {
          "base_uri": "https://localhost:8080/",
          "height": 434
        },
        "outputId": "ec5784d7-26a9-4dfb-c046-da7738815e67"
      },
      "source": [
        "A2([B,B])\n"
      ],
      "execution_count": 31,
      "outputs": [
        {
          "output_type": "execute_result",
          "data": {
            "text/plain": [
              "(<tf.Tensor: shape=(1, 3, 3, 1), dtype=float32, numpy=\n",
              " array([[[[0.        ],\n",
              "          [0.        ],\n",
              "          [0.        ]],\n",
              " \n",
              "         [[0.84911263],\n",
              "          [0.94786346],\n",
              "          [0.84911263]],\n",
              " \n",
              "         [[0.84911263],\n",
              "          [0.94786346],\n",
              "          [0.84911263]]]], dtype=float32)>,\n",
              " <tf.Tensor: shape=(1, 3, 3, 1), dtype=float32, numpy=\n",
              " array([[[[1.55677  ],\n",
              "          [1.8491126],\n",
              "          [1.8491126]],\n",
              " \n",
              "         [[1.993217 ],\n",
              "          [1.9996644],\n",
              "          [1.9975152]],\n",
              " \n",
              "         [[1.993217 ],\n",
              "          [1.9996644],\n",
              "          [1.9975152]]]], dtype=float32)>)"
            ]
          },
          "metadata": {
            "tags": []
          },
          "execution_count": 31
        }
      ]
    },
    {
      "cell_type": "code",
      "metadata": {
        "id": "4gVusCXvyMKO",
        "colab_type": "code",
        "colab": {
          "base_uri": "https://localhost:8080/",
          "height": 434
        },
        "outputId": "747956a2-99c4-4c73-bf74-f55bc6be6cc8"
      },
      "source": [
        "A1([B,B])"
      ],
      "execution_count": 32,
      "outputs": [
        {
          "output_type": "execute_result",
          "data": {
            "text/plain": [
              "(<tf.Tensor: shape=(1, 3, 3, 1), dtype=float32, numpy=\n",
              " array([[[[0.        ],\n",
              "          [0.        ],\n",
              "          [0.        ]],\n",
              " \n",
              "         [[0.84911263],\n",
              "          [0.94786346],\n",
              "          [0.84911263]],\n",
              " \n",
              "         [[0.98135513],\n",
              "          [0.9975152 ],\n",
              "          [0.98135513]]]], dtype=float32)>,\n",
              " <tf.Tensor: shape=(1, 3, 3, 1), dtype=float32, numpy=\n",
              " array([[[[1.55677  ],\n",
              "          [1.8491126],\n",
              "          [1.8491126]],\n",
              " \n",
              "         [[1.993217 ],\n",
              "          [1.9996644],\n",
              "          [1.9975152]],\n",
              " \n",
              "         [[1.9998765],\n",
              "          [1.9999992],\n",
              "          [1.9999546]]]], dtype=float32)>)"
            ]
          },
          "metadata": {
            "tags": []
          },
          "execution_count": 32
        }
      ]
    },
    {
      "cell_type": "code",
      "metadata": {
        "id": "4H6chDKcBESu",
        "colab_type": "code",
        "colab": {
          "base_uri": "https://localhost:8080/",
          "height": 225
        },
        "outputId": "ad74038c-8940-4cfe-e6de-fae4c849b39e"
      },
      "source": [
        "A1.horizontal_stream(B)"
      ],
      "execution_count": 33,
      "outputs": [
        {
          "output_type": "execute_result",
          "data": {
            "text/plain": [
              "<tf.Tensor: shape=(1, 3, 3, 2), dtype=float32, numpy=\n",
              "array([[[[1., 1.],\n",
              "         [2., 2.],\n",
              "         [2., 2.]],\n",
              "\n",
              "        [[1., 1.],\n",
              "         [2., 2.],\n",
              "         [2., 2.]],\n",
              "\n",
              "        [[1., 1.],\n",
              "         [2., 2.],\n",
              "         [2., 2.]]]], dtype=float32)>"
            ]
          },
          "metadata": {
            "tags": []
          },
          "execution_count": 33
        }
      ]
    }
  ]
}