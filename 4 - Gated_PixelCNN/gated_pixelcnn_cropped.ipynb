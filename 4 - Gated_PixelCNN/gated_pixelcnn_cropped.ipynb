{
  "nbformat": 4,
  "nbformat_minor": 0,
  "metadata": {
    "colab": {
      "name": "gated_pixelcnn.ipynb",
      "provenance": []
    },
    "kernelspec": {
      "name": "python3",
      "display_name": "Python 3"
    },
    "accelerator": "GPU"
  },
  "cells": [
    {
      "cell_type": "code",
      "metadata": {
        "id": "VMF0k8kyGjQ7",
        "colab_type": "code",
        "outputId": "2db847f1-27e9-4fb1-fb73-8ac1306d3ea9",
        "colab": {
          "base_uri": "https://localhost:8080/",
          "height": 402
        }
      },
      "source": [
        "! pip3 install tensorflow-gpu==2.0.0-rc1"
      ],
      "execution_count": 1,
      "outputs": [
        {
          "output_type": "stream",
          "text": [
            "Requirement already satisfied: tensorflow-gpu==2.0.0-rc1 in /usr/local/lib/python3.6/dist-packages (2.0.0rc1)\n",
            "Requirement already satisfied: keras-preprocessing>=1.0.5 in /usr/local/lib/python3.6/dist-packages (from tensorflow-gpu==2.0.0-rc1) (1.1.0)\n",
            "Requirement already satisfied: numpy<2.0,>=1.16.0 in /usr/local/lib/python3.6/dist-packages (from tensorflow-gpu==2.0.0-rc1) (1.16.5)\n",
            "Requirement already satisfied: six>=1.10.0 in /usr/local/lib/python3.6/dist-packages (from tensorflow-gpu==2.0.0-rc1) (1.12.0)\n",
            "Requirement already satisfied: astor>=0.6.0 in /usr/local/lib/python3.6/dist-packages (from tensorflow-gpu==2.0.0-rc1) (0.8.0)\n",
            "Requirement already satisfied: grpcio>=1.8.6 in /usr/local/lib/python3.6/dist-packages (from tensorflow-gpu==2.0.0-rc1) (1.15.0)\n",
            "Requirement already satisfied: tb-nightly<1.15.0a20190807,>=1.15.0a20190806 in /usr/local/lib/python3.6/dist-packages (from tensorflow-gpu==2.0.0-rc1) (1.15.0a20190806)\n",
            "Requirement already satisfied: protobuf>=3.6.1 in /usr/local/lib/python3.6/dist-packages (from tensorflow-gpu==2.0.0-rc1) (3.7.1)\n",
            "Requirement already satisfied: wheel>=0.26 in /usr/local/lib/python3.6/dist-packages (from tensorflow-gpu==2.0.0-rc1) (0.33.6)\n",
            "Requirement already satisfied: gast>=0.2.0 in /usr/local/lib/python3.6/dist-packages (from tensorflow-gpu==2.0.0-rc1) (0.2.2)\n",
            "Requirement already satisfied: absl-py>=0.7.0 in /usr/local/lib/python3.6/dist-packages (from tensorflow-gpu==2.0.0-rc1) (0.8.0)\n",
            "Requirement already satisfied: wrapt>=1.11.1 in /usr/local/lib/python3.6/dist-packages (from tensorflow-gpu==2.0.0-rc1) (1.11.2)\n",
            "Requirement already satisfied: keras-applications>=1.0.8 in /usr/local/lib/python3.6/dist-packages (from tensorflow-gpu==2.0.0-rc1) (1.0.8)\n",
            "Requirement already satisfied: opt-einsum>=2.3.2 in /usr/local/lib/python3.6/dist-packages (from tensorflow-gpu==2.0.0-rc1) (3.0.1)\n",
            "Requirement already satisfied: tf-estimator-nightly<1.14.0.dev2019080602,>=1.14.0.dev2019080601 in /usr/local/lib/python3.6/dist-packages (from tensorflow-gpu==2.0.0-rc1) (1.14.0.dev2019080601)\n",
            "Requirement already satisfied: google-pasta>=0.1.6 in /usr/local/lib/python3.6/dist-packages (from tensorflow-gpu==2.0.0-rc1) (0.1.7)\n",
            "Requirement already satisfied: termcolor>=1.1.0 in /usr/local/lib/python3.6/dist-packages (from tensorflow-gpu==2.0.0-rc1) (1.1.0)\n",
            "Requirement already satisfied: markdown>=2.6.8 in /usr/local/lib/python3.6/dist-packages (from tb-nightly<1.15.0a20190807,>=1.15.0a20190806->tensorflow-gpu==2.0.0-rc1) (3.1.1)\n",
            "Requirement already satisfied: setuptools>=41.0.0 in /usr/local/lib/python3.6/dist-packages (from tb-nightly<1.15.0a20190807,>=1.15.0a20190806->tensorflow-gpu==2.0.0-rc1) (41.2.0)\n",
            "Requirement already satisfied: werkzeug>=0.11.15 in /usr/local/lib/python3.6/dist-packages (from tb-nightly<1.15.0a20190807,>=1.15.0a20190806->tensorflow-gpu==2.0.0-rc1) (0.15.6)\n",
            "Requirement already satisfied: h5py in /usr/local/lib/python3.6/dist-packages (from keras-applications>=1.0.8->tensorflow-gpu==2.0.0-rc1) (2.8.0)\n"
          ],
          "name": "stdout"
        }
      ]
    },
    {
      "cell_type": "code",
      "metadata": {
        "id": "k1uZnxh4Xz9Z",
        "colab_type": "code",
        "colab": {}
      },
      "source": [
        "import random as rn\n",
        "import time\n",
        "\n",
        "import matplotlib\n",
        "import matplotlib.pyplot as plt\n",
        "import numpy as np\n",
        "import tensorflow as tf\n",
        "from tensorflow import keras"
      ],
      "execution_count": 0,
      "outputs": []
    },
    {
      "cell_type": "code",
      "metadata": {
        "id": "NN6vJl7eVnZ4",
        "colab_type": "code",
        "colab": {}
      },
      "source": [
        "# --------------------------------------------------------------------------------------------------------------\n",
        "# Defining random seeds\n",
        "random_seed = 42\n",
        "tf.random.set_seed(random_seed)\n",
        "np.random.seed(random_seed)\n",
        "rn.seed(random_seed)"
      ],
      "execution_count": 0,
      "outputs": []
    },
    {
      "cell_type": "code",
      "metadata": {
        "id": "qMnNh9emVfI-",
        "colab_type": "code",
        "colab": {}
      },
      "source": [
        "def sample_from(distribution):\n",
        "    \"\"\"Sample random values from distribution\"\"\"\n",
        "    batch_size, bins = distribution.shape\n",
        "    return np.array([np.random.choice(bins, p=distr) for distr in distribution])\n",
        "\n"
      ],
      "execution_count": 0,
      "outputs": []
    },
    {
      "cell_type": "code",
      "metadata": {
        "id": "8BnkhgCjVpJu",
        "colab_type": "code",
        "colab": {}
      },
      "source": [
        "# --------------------------------------------------------------------------------------------------------------\n",
        "# Loading data\n",
        "(x_train, y_train), (x_test, y_test) = tf.keras.datasets.mnist.load_data()\n",
        "\n",
        "height = 28\n",
        "width = 28\n",
        "n_channel = 1\n",
        "\n",
        "x_train = x_train.astype('float32') / 255.\n",
        "x_test = x_test.astype('float32') / 255.\n",
        "\n",
        "x_train = x_train.reshape(x_train.shape[0], height, width, 1)\n",
        "x_test = x_test.reshape(x_test.shape[0], height, width, 1)\n"
      ],
      "execution_count": 0,
      "outputs": []
    },
    {
      "cell_type": "code",
      "metadata": {
        "id": "3ne-qY7JVZaB",
        "colab_type": "code",
        "colab": {}
      },
      "source": [
        "def quantise(images, q_levels):\n",
        "    \"\"\"Quantise image into q levels\"\"\"\n",
        "    return (np.digitize(images, np.arange(q_levels) / q_levels) - 1).astype('float32')"
      ],
      "execution_count": 0,
      "outputs": []
    },
    {
      "cell_type": "code",
      "metadata": {
        "id": "3QVhnMymVrzc",
        "colab_type": "code",
        "colab": {}
      },
      "source": [
        "# --------------------------------------------------------------------------------------------------------------\n",
        "# Quantise the input data in q levels\n",
        "q_levels = 16\n",
        "x_train_quantised = quantise(x_train, q_levels)\n",
        "x_test_quantised = quantise(x_test, q_levels)"
      ],
      "execution_count": 0,
      "outputs": []
    },
    {
      "cell_type": "code",
      "metadata": {
        "id": "ZObIXqzNGwmo",
        "colab_type": "code",
        "outputId": "ee8aef2d-20a3-44b6-8fee-774b0be0e600",
        "colab": {
          "base_uri": "https://localhost:8080/",
          "height": 89
        }
      },
      "source": [
        "# --------------------------------------------------------------------------------------------------------------\n",
        "# Creating input stream using tf.data API\n",
        "batch_size = 128\n",
        "train_buf = 60000\n",
        "\n",
        "train_dataset = tf.data.Dataset.from_tensor_slices((x_train_quantised / (q_levels - 1),\n",
        "                                                    x_train_quantised.astype('int32')))\n",
        "train_dataset = train_dataset.shuffle(buffer_size=train_buf)\n",
        "train_dataset = train_dataset.batch(batch_size)\n",
        "\n",
        "test_dataset = tf.data.Dataset.from_tensor_slices((x_test_quantised / (q_levels - 1),\n",
        "                                                   x_test_quantised.astype('int32')))\n",
        "test_dataset = test_dataset.batch(batch_size)\n"
      ],
      "execution_count": 8,
      "outputs": [
        {
          "output_type": "stream",
          "text": [
            "WARNING:tensorflow:From /usr/local/lib/python3.6/dist-packages/tensorflow_core/python/data/util/random_seed.py:58: where (from tensorflow.python.ops.array_ops) is deprecated and will be removed in a future version.\n",
            "Instructions for updating:\n",
            "Use tf.where in 2.0, which has the same broadcast rule as np.where\n"
          ],
          "name": "stdout"
        }
      ]
    },
    {
      "cell_type": "code",
      "metadata": {
        "id": "PTUN4s52Nu3w",
        "colab_type": "code",
        "colab": {}
      },
      "source": [
        "\n",
        "class GatedBlock(tf.keras.Model):\n",
        "    \"\"\"\"\"\"\n",
        "\n",
        "    def __init__(self, mask_type, filters, kernel_size):\n",
        "        super(GatedBlock, self).__init__(name='')\n",
        "\n",
        "        self.mask_type = mask_type\n",
        "        self.vertical_padding = keras.layers.ZeroPadding2D(padding=((kernel_size//2+1, 0),\n",
        "                                                                    (kernel_size//2, kernel_size//2)))\n",
        "\n",
        "        self.vertical_conv = keras.layers.Conv2D(filters=2 * filters,\n",
        "                                                 kernel_size=[kernel_size//2+1, kernel_size],\n",
        "                                                 strides=1,\n",
        "                                                 padding='valid')\n",
        "\n",
        "        self.vertical_cropping = keras.layers.Cropping2D(cropping=((0, 1), (0, 0)))\n",
        "\n",
        "        self.horizontal_padding = keras.layers.ZeroPadding2D(padding=((0, 0), (kernel_size // 2+1, 0)))\n",
        "        self.horizontal_conv = keras.layers.Conv2D(filters=2 * filters,\n",
        "                                                   kernel_size=[1, kernel_size // 2 + 1],\n",
        "                                                   strides=1,\n",
        "                                                   padding='valid')\n",
        "        if mask_type == 'B':\n",
        "            self.horizontal_cropping = keras.layers.Cropping2D(cropping=((0, 0), (1, 0)))\n",
        "        elif mask_type == 'A':\n",
        "            self.horizontal_cropping = keras.layers.Cropping2D(cropping=((0, 0), (0, 1)))\n",
        "\n",
        "        self.vertical_to_horizontal_conv = keras.layers.Conv2D(filters=2 * filters, kernel_size=1)\n",
        "\n",
        "        self.horizontal_output_conv = keras.layers.Conv2D(filters=filters, kernel_size=1)\n",
        "\n",
        "    def _gate(self, x):\n",
        "        tanh_preactivation, sigmoid_preactivation = tf.split(x, 2, axis=-1)\n",
        "        return tf.nn.tanh(tanh_preactivation) * tf.nn.sigmoid(sigmoid_preactivation)\n",
        "\n",
        "    def call(self, input_tensor):\n",
        "        v, h = tf.split(input_tensor, 2, axis=-1)\n",
        "\n",
        "        vertical_preactivation = self.vertical_padding(v)\n",
        "        vertical_preactivation = self.vertical_conv(vertical_preactivation)\n",
        "        vertical_preactivation = self.vertical_cropping(vertical_preactivation)\n",
        "\n",
        "        horizontal_preactivation = self.horizontal_padding(h)\n",
        "        horizontal_preactivation = self.horizontal_conv(horizontal_preactivation)\n",
        "        horizontal_preactivation = self.horizontal_cropping(horizontal_preactivation)\n",
        "\n",
        "        v_to_h = self.vertical_to_horizontal_conv(vertical_preactivation)  # 1x1\n",
        "        vertical_output = self._gate(vertical_preactivation)\n",
        "\n",
        "        horizontal_preactivation = horizontal_preactivation + v_to_h\n",
        "        horizontal_activated = self._gate(horizontal_preactivation)\n",
        "\n",
        "        if self.mask_type =='B':\n",
        "            horizontal_activated = self.horizontal_output_conv(horizontal_activated)\n",
        "            horizontal_activated = h + horizontal_activated\n",
        "\n",
        "        output = tf.concat((vertical_output, horizontal_activated), axis=-1)\n",
        "        return output\n"
      ],
      "execution_count": 0,
      "outputs": []
    },
    {
      "cell_type": "code",
      "metadata": {
        "id": "WB57YufrVxn2",
        "colab_type": "code",
        "colab": {}
      },
      "source": [
        "inputs = keras.layers.Input(shape=(height, width, n_channel))\n",
        "x = keras.layers.Concatenate()([inputs, inputs])\n",
        "x = GatedBlock(mask_type='A', filters=64, kernel_size=3)(x)\n",
        "\n",
        "for i in range(5):\n",
        "    x = GatedBlock(mask_type='B', filters=64, kernel_size=3)(x)\n",
        "\n",
        "v, h = tf.split(x, 2, axis=-1)\n",
        "\n",
        "x = keras.layers.Activation(activation='relu')(h)\n",
        "x = keras.layers.Conv2D(filters=128, kernel_size=1, strides=1)(x)\n",
        "\n",
        "x = keras.layers.Activation(activation='relu')(x)\n",
        "x = keras.layers.Conv2D(filters=n_channel * q_levels, kernel_size=1, strides=1)(x)  # shape [N,H,W,DC]\n",
        "\n",
        "pixelcnn = tf.keras.Model(inputs=inputs, outputs=x)"
      ],
      "execution_count": 0,
      "outputs": []
    },
    {
      "cell_type": "code",
      "metadata": {
        "id": "_LnzHUaqV77d",
        "colab_type": "code",
        "colab": {}
      },
      "source": [
        "# --------------------------------------------------------------------------------------------------------------\n",
        "# Prepare optimizer and loss function\n",
        "lr_decay = 0.9995\n",
        "learning_rate = 1e-3\n",
        "optimizer = tf.keras.optimizers.Adam(lr=learning_rate)\n",
        "\n",
        "compute_loss = tf.keras.losses.CategoricalCrossentropy(from_logits=True)\n"
      ],
      "execution_count": 0,
      "outputs": []
    },
    {
      "cell_type": "code",
      "metadata": {
        "id": "CsAgEKVzLCJD",
        "colab_type": "code",
        "colab": {}
      },
      "source": [
        "# --------------------------------------------------------------------------------------------------------------\n",
        "@tf.function\n",
        "def train_step(batch_x, batch_y):\n",
        "    with tf.GradientTape() as ae_tape:\n",
        "        logits = pixelcnn(batch_x, training=True)\n",
        "\n",
        "        logits = tf.reshape(logits, [-1, height, width, q_levels, n_channel])  # shape [N,H,W,DC] -> [N,H,W,D,C]\n",
        "        logits = tf.transpose(logits, perm=[0, 1, 2, 4, 3])  # shape [N,H,W,D,C] -> [N,H,W,C,D]\n",
        "\n",
        "        loss = compute_loss(tf.one_hot(batch_y, q_levels), logits)\n",
        "\n",
        "    gradients = ae_tape.gradient(loss, pixelcnn.trainable_variables)\n",
        "    gradients, _ = tf.clip_by_global_norm(gradients, 1.0)\n",
        "    optimizer.apply_gradients(zip(gradients, pixelcnn.trainable_variables))\n",
        "\n",
        "    return loss"
      ],
      "execution_count": 0,
      "outputs": []
    },
    {
      "cell_type": "code",
      "metadata": {
        "id": "NoEPrfwQNM-s",
        "colab_type": "code",
        "outputId": "3a27de5a-a2b8-4504-a217-7a60a96521b3",
        "colab": {
          "base_uri": "https://localhost:8080/",
          "height": 1000
        }
      },
      "source": [
        "# --------------------------------------------------------------------------------------------------------------\n",
        "# Training loop\n",
        "n_epochs = 30\n",
        "n_iter = int(np.ceil(x_train_quantised.shape[0] / batch_size))\n",
        "for epoch in range(n_epochs):\n",
        "    start_epoch = time.time()\n",
        "    for i_iter, (batch_x, batch_y) in enumerate(train_dataset):\n",
        "        start = time.time()\n",
        "        optimizer.lr = optimizer.lr * lr_decay\n",
        "        loss = train_step(batch_x, batch_y)\n",
        "        iter_time = time.time() - start\n",
        "        if i_iter % 100 == 0:\n",
        "            print('EPOCH {:3d}: ITER {:4d}/{:4d} TIME: {:.2f} LOSS: {:.4f}'.format(epoch,\n",
        "                                                                                   i_iter, n_iter,\n",
        "                                                                                   iter_time,\n",
        "                                                                                   loss))\n",
        "    epoch_time = time.time() - start_epoch\n",
        "    print('EPOCH {:3d}: TIME: {:.2f} ETA: {:.2f}'.format(epoch,\n",
        "                                                         epoch_time,\n",
        "                                                         epoch_time * (n_epochs - epoch)))\n"
      ],
      "execution_count": 13,
      "outputs": [
        {
          "output_type": "stream",
          "text": [
            "EPOCH   0: ITER    0/ 469 TIME: 4.83 LOSS: 2.7778\n",
            "EPOCH   0: ITER  100/ 469 TIME: 0.41 LOSS: 0.3986\n",
            "EPOCH   0: ITER  200/ 469 TIME: 0.41 LOSS: 0.3808\n",
            "EPOCH   0: ITER  300/ 469 TIME: 0.41 LOSS: 0.3527\n",
            "EPOCH   0: ITER  400/ 469 TIME: 0.41 LOSS: 0.3625\n",
            "EPOCH   0: TIME: 197.38 ETA: 5921.27\n",
            "EPOCH   1: ITER    0/ 469 TIME: 0.02 LOSS: 0.3733\n",
            "EPOCH   1: ITER  100/ 469 TIME: 0.41 LOSS: 0.3496\n",
            "EPOCH   1: ITER  200/ 469 TIME: 0.40 LOSS: 0.3498\n",
            "EPOCH   1: ITER  300/ 469 TIME: 0.40 LOSS: 0.3362\n",
            "EPOCH   1: ITER  400/ 469 TIME: 0.40 LOSS: 0.3300\n",
            "EPOCH   1: TIME: 190.52 ETA: 5525.11\n",
            "EPOCH   2: ITER    0/ 469 TIME: 0.01 LOSS: 0.3497\n",
            "EPOCH   2: ITER  100/ 469 TIME: 0.41 LOSS: 0.3441\n",
            "EPOCH   2: ITER  200/ 469 TIME: 0.40 LOSS: 0.3345\n",
            "EPOCH   2: ITER  300/ 469 TIME: 0.40 LOSS: 0.3484\n",
            "EPOCH   2: ITER  400/ 469 TIME: 0.40 LOSS: 0.3241\n",
            "EPOCH   2: TIME: 190.45 ETA: 5332.49\n",
            "EPOCH   3: ITER    0/ 469 TIME: 0.01 LOSS: 0.3294\n",
            "EPOCH   3: ITER  100/ 469 TIME: 0.40 LOSS: 0.3457\n",
            "EPOCH   3: ITER  200/ 469 TIME: 0.41 LOSS: 0.3347\n",
            "EPOCH   3: ITER  300/ 469 TIME: 0.40 LOSS: 0.3306\n",
            "EPOCH   3: ITER  400/ 469 TIME: 0.40 LOSS: 0.3417\n",
            "EPOCH   3: TIME: 190.49 ETA: 5143.34\n",
            "EPOCH   4: ITER    0/ 469 TIME: 0.01 LOSS: 0.3366\n",
            "EPOCH   4: ITER  100/ 469 TIME: 0.40 LOSS: 0.3228\n",
            "EPOCH   4: ITER  200/ 469 TIME: 0.40 LOSS: 0.3279\n",
            "EPOCH   4: ITER  300/ 469 TIME: 0.40 LOSS: 0.3281\n",
            "EPOCH   4: ITER  400/ 469 TIME: 0.40 LOSS: 0.3442\n",
            "EPOCH   4: TIME: 190.57 ETA: 4954.81\n",
            "EPOCH   5: ITER    0/ 469 TIME: 0.01 LOSS: 0.3235\n",
            "EPOCH   5: ITER  100/ 469 TIME: 0.40 LOSS: 0.3363\n",
            "EPOCH   5: ITER  200/ 469 TIME: 0.41 LOSS: 0.3215\n",
            "EPOCH   5: ITER  300/ 469 TIME: 0.40 LOSS: 0.3229\n",
            "EPOCH   5: ITER  400/ 469 TIME: 0.40 LOSS: 0.3183\n",
            "EPOCH   5: TIME: 190.37 ETA: 4759.15\n",
            "EPOCH   6: ITER    0/ 469 TIME: 0.01 LOSS: 0.3294\n",
            "EPOCH   6: ITER  100/ 469 TIME: 0.40 LOSS: 0.3311\n",
            "EPOCH   6: ITER  200/ 469 TIME: 0.40 LOSS: 0.3227\n",
            "EPOCH   6: ITER  300/ 469 TIME: 0.41 LOSS: 0.3238\n",
            "EPOCH   6: ITER  400/ 469 TIME: 0.40 LOSS: 0.3166\n",
            "EPOCH   6: TIME: 190.58 ETA: 4574.03\n",
            "EPOCH   7: ITER    0/ 469 TIME: 0.02 LOSS: 0.3314\n",
            "EPOCH   7: ITER  100/ 469 TIME: 0.40 LOSS: 0.3219\n",
            "EPOCH   7: ITER  200/ 469 TIME: 0.41 LOSS: 0.3232\n",
            "EPOCH   7: ITER  300/ 469 TIME: 0.41 LOSS: 0.3220\n",
            "EPOCH   7: ITER  400/ 469 TIME: 0.40 LOSS: 0.3325\n",
            "EPOCH   7: TIME: 190.59 ETA: 4383.51\n",
            "EPOCH   8: ITER    0/ 469 TIME: 0.01 LOSS: 0.3213\n",
            "EPOCH   8: ITER  100/ 469 TIME: 0.40 LOSS: 0.3197\n",
            "EPOCH   8: ITER  200/ 469 TIME: 0.40 LOSS: 0.3274\n",
            "EPOCH   8: ITER  300/ 469 TIME: 0.41 LOSS: 0.3274\n",
            "EPOCH   8: ITER  400/ 469 TIME: 0.40 LOSS: 0.3133\n",
            "EPOCH   8: TIME: 190.44 ETA: 4189.69\n",
            "EPOCH   9: ITER    0/ 469 TIME: 0.01 LOSS: 0.3269\n",
            "EPOCH   9: ITER  100/ 469 TIME: 0.41 LOSS: 0.3230\n",
            "EPOCH   9: ITER  200/ 469 TIME: 0.40 LOSS: 0.3252\n",
            "EPOCH   9: ITER  300/ 469 TIME: 0.40 LOSS: 0.3283\n",
            "EPOCH   9: ITER  400/ 469 TIME: 0.40 LOSS: 0.3346\n",
            "EPOCH   9: TIME: 190.22 ETA: 3994.71\n",
            "EPOCH  10: ITER    0/ 469 TIME: 0.01 LOSS: 0.3210\n",
            "EPOCH  10: ITER  100/ 469 TIME: 0.40 LOSS: 0.3250\n",
            "EPOCH  10: ITER  200/ 469 TIME: 0.40 LOSS: 0.3373\n",
            "EPOCH  10: ITER  300/ 469 TIME: 0.40 LOSS: 0.3306\n",
            "EPOCH  10: ITER  400/ 469 TIME: 0.40 LOSS: 0.3253\n",
            "EPOCH  10: TIME: 189.99 ETA: 3799.84\n",
            "EPOCH  11: ITER    0/ 469 TIME: 0.01 LOSS: 0.3255\n",
            "EPOCH  11: ITER  100/ 469 TIME: 0.40 LOSS: 0.3241\n",
            "EPOCH  11: ITER  200/ 469 TIME: 0.40 LOSS: 0.3210\n"
          ],
          "name": "stdout"
        },
        {
          "output_type": "error",
          "ename": "KeyboardInterrupt",
          "evalue": "ignored",
          "traceback": [
            "\u001b[0;31m---------------------------------------------------------------------------\u001b[0m",
            "\u001b[0;31mKeyboardInterrupt\u001b[0m                         Traceback (most recent call last)",
            "\u001b[0;32m<ipython-input-13-b2ed2573f65a>\u001b[0m in \u001b[0;36m<module>\u001b[0;34m()\u001b[0m\n\u001b[1;32m      5\u001b[0m     \u001b[0;32mfor\u001b[0m \u001b[0mi_iter\u001b[0m\u001b[0;34m,\u001b[0m \u001b[0;34m(\u001b[0m\u001b[0mbatch_x\u001b[0m\u001b[0;34m,\u001b[0m \u001b[0mbatch_y\u001b[0m\u001b[0;34m)\u001b[0m \u001b[0;32min\u001b[0m \u001b[0menumerate\u001b[0m\u001b[0;34m(\u001b[0m\u001b[0mtrain_dataset\u001b[0m\u001b[0;34m)\u001b[0m\u001b[0;34m:\u001b[0m\u001b[0;34m\u001b[0m\u001b[0;34m\u001b[0m\u001b[0m\n\u001b[1;32m      6\u001b[0m         \u001b[0mstart\u001b[0m \u001b[0;34m=\u001b[0m \u001b[0mtime\u001b[0m\u001b[0;34m.\u001b[0m\u001b[0mtime\u001b[0m\u001b[0;34m(\u001b[0m\u001b[0;34m)\u001b[0m\u001b[0;34m\u001b[0m\u001b[0;34m\u001b[0m\u001b[0m\n\u001b[0;32m----> 7\u001b[0;31m         \u001b[0moptimizer\u001b[0m\u001b[0;34m.\u001b[0m\u001b[0mlr\u001b[0m \u001b[0;34m=\u001b[0m \u001b[0moptimizer\u001b[0m\u001b[0;34m.\u001b[0m\u001b[0mlr\u001b[0m \u001b[0;34m*\u001b[0m \u001b[0mlr_decay\u001b[0m\u001b[0;34m\u001b[0m\u001b[0;34m\u001b[0m\u001b[0m\n\u001b[0m\u001b[1;32m      8\u001b[0m         \u001b[0mloss\u001b[0m \u001b[0;34m=\u001b[0m \u001b[0mtrain_step\u001b[0m\u001b[0;34m(\u001b[0m\u001b[0mbatch_x\u001b[0m\u001b[0;34m,\u001b[0m \u001b[0mbatch_y\u001b[0m\u001b[0;34m)\u001b[0m\u001b[0;34m\u001b[0m\u001b[0;34m\u001b[0m\u001b[0m\n\u001b[1;32m      9\u001b[0m         \u001b[0miter_time\u001b[0m \u001b[0;34m=\u001b[0m \u001b[0mtime\u001b[0m\u001b[0;34m.\u001b[0m\u001b[0mtime\u001b[0m\u001b[0;34m(\u001b[0m\u001b[0;34m)\u001b[0m \u001b[0;34m-\u001b[0m \u001b[0mstart\u001b[0m\u001b[0;34m\u001b[0m\u001b[0;34m\u001b[0m\u001b[0m\n",
            "\u001b[0;32m/usr/local/lib/python3.6/dist-packages/tensorflow_core/python/ops/variables.py\u001b[0m in \u001b[0;36m_run_op\u001b[0;34m(a, *args, **kwargs)\u001b[0m\n\u001b[1;32m   1077\u001b[0m     \u001b[0;32mdef\u001b[0m \u001b[0m_run_op\u001b[0m\u001b[0;34m(\u001b[0m\u001b[0ma\u001b[0m\u001b[0;34m,\u001b[0m \u001b[0;34m*\u001b[0m\u001b[0margs\u001b[0m\u001b[0;34m,\u001b[0m \u001b[0;34m**\u001b[0m\u001b[0mkwargs\u001b[0m\u001b[0;34m)\u001b[0m\u001b[0;34m:\u001b[0m\u001b[0;34m\u001b[0m\u001b[0;34m\u001b[0m\u001b[0m\n\u001b[1;32m   1078\u001b[0m       \u001b[0;31m# pylint: disable=protected-access\u001b[0m\u001b[0;34m\u001b[0m\u001b[0;34m\u001b[0m\u001b[0;34m\u001b[0m\u001b[0m\n\u001b[0;32m-> 1079\u001b[0;31m       \u001b[0;32mreturn\u001b[0m \u001b[0mtensor_oper\u001b[0m\u001b[0;34m(\u001b[0m\u001b[0ma\u001b[0m\u001b[0;34m.\u001b[0m\u001b[0mvalue\u001b[0m\u001b[0;34m(\u001b[0m\u001b[0;34m)\u001b[0m\u001b[0;34m,\u001b[0m \u001b[0;34m*\u001b[0m\u001b[0margs\u001b[0m\u001b[0;34m,\u001b[0m \u001b[0;34m**\u001b[0m\u001b[0mkwargs\u001b[0m\u001b[0;34m)\u001b[0m\u001b[0;34m\u001b[0m\u001b[0;34m\u001b[0m\u001b[0m\n\u001b[0m\u001b[1;32m   1080\u001b[0m \u001b[0;34m\u001b[0m\u001b[0m\n\u001b[1;32m   1081\u001b[0m     \u001b[0mfunctools\u001b[0m\u001b[0;34m.\u001b[0m\u001b[0mupdate_wrapper\u001b[0m\u001b[0;34m(\u001b[0m\u001b[0m_run_op\u001b[0m\u001b[0;34m,\u001b[0m \u001b[0mtensor_oper\u001b[0m\u001b[0;34m)\u001b[0m\u001b[0;34m\u001b[0m\u001b[0;34m\u001b[0m\u001b[0m\n",
            "\u001b[0;32m/usr/local/lib/python3.6/dist-packages/tensorflow_core/python/ops/math_ops.py\u001b[0m in \u001b[0;36mbinary_op_wrapper\u001b[0;34m(x, y)\u001b[0m\n\u001b[1;32m    910\u001b[0m           \u001b[0;32melse\u001b[0m\u001b[0;34m:\u001b[0m\u001b[0;34m\u001b[0m\u001b[0;34m\u001b[0m\u001b[0m\n\u001b[1;32m    911\u001b[0m             \u001b[0;32mraise\u001b[0m\u001b[0;34m\u001b[0m\u001b[0;34m\u001b[0m\u001b[0m\n\u001b[0;32m--> 912\u001b[0;31m       \u001b[0;32mreturn\u001b[0m \u001b[0mfunc\u001b[0m\u001b[0;34m(\u001b[0m\u001b[0mx\u001b[0m\u001b[0;34m,\u001b[0m \u001b[0my\u001b[0m\u001b[0;34m,\u001b[0m \u001b[0mname\u001b[0m\u001b[0;34m=\u001b[0m\u001b[0mname\u001b[0m\u001b[0;34m)\u001b[0m\u001b[0;34m\u001b[0m\u001b[0;34m\u001b[0m\u001b[0m\n\u001b[0m\u001b[1;32m    913\u001b[0m \u001b[0;34m\u001b[0m\u001b[0m\n\u001b[1;32m    914\u001b[0m   \u001b[0;32mdef\u001b[0m \u001b[0mbinary_op_wrapper_sparse\u001b[0m\u001b[0;34m(\u001b[0m\u001b[0msp_x\u001b[0m\u001b[0;34m,\u001b[0m \u001b[0my\u001b[0m\u001b[0;34m)\u001b[0m\u001b[0;34m:\u001b[0m\u001b[0;34m\u001b[0m\u001b[0;34m\u001b[0m\u001b[0m\n",
            "\u001b[0;32m/usr/local/lib/python3.6/dist-packages/tensorflow_core/python/ops/math_ops.py\u001b[0m in \u001b[0;36m_mul_dispatch\u001b[0;34m(x, y, name)\u001b[0m\n\u001b[1;32m   1204\u001b[0m   \u001b[0mis_tensor_y\u001b[0m \u001b[0;34m=\u001b[0m \u001b[0misinstance\u001b[0m\u001b[0;34m(\u001b[0m\u001b[0my\u001b[0m\u001b[0;34m,\u001b[0m \u001b[0mops\u001b[0m\u001b[0;34m.\u001b[0m\u001b[0mTensor\u001b[0m\u001b[0;34m)\u001b[0m\u001b[0;34m\u001b[0m\u001b[0;34m\u001b[0m\u001b[0m\n\u001b[1;32m   1205\u001b[0m   \u001b[0;32mif\u001b[0m \u001b[0mis_tensor_y\u001b[0m\u001b[0;34m:\u001b[0m\u001b[0;34m\u001b[0m\u001b[0;34m\u001b[0m\u001b[0m\n\u001b[0;32m-> 1206\u001b[0;31m     \u001b[0;32mreturn\u001b[0m \u001b[0mgen_math_ops\u001b[0m\u001b[0;34m.\u001b[0m\u001b[0mmul\u001b[0m\u001b[0;34m(\u001b[0m\u001b[0mx\u001b[0m\u001b[0;34m,\u001b[0m \u001b[0my\u001b[0m\u001b[0;34m,\u001b[0m \u001b[0mname\u001b[0m\u001b[0;34m=\u001b[0m\u001b[0mname\u001b[0m\u001b[0;34m)\u001b[0m\u001b[0;34m\u001b[0m\u001b[0;34m\u001b[0m\u001b[0m\n\u001b[0m\u001b[1;32m   1207\u001b[0m   \u001b[0;32melse\u001b[0m\u001b[0;34m:\u001b[0m\u001b[0;34m\u001b[0m\u001b[0;34m\u001b[0m\u001b[0m\n\u001b[1;32m   1208\u001b[0m     \u001b[0;32massert\u001b[0m \u001b[0misinstance\u001b[0m\u001b[0;34m(\u001b[0m\u001b[0my\u001b[0m\u001b[0;34m,\u001b[0m \u001b[0msparse_tensor\u001b[0m\u001b[0;34m.\u001b[0m\u001b[0mSparseTensor\u001b[0m\u001b[0;34m)\u001b[0m  \u001b[0;31m# Case: Dense * Sparse.\u001b[0m\u001b[0;34m\u001b[0m\u001b[0;34m\u001b[0m\u001b[0m\n",
            "\u001b[0;32m/usr/local/lib/python3.6/dist-packages/tensorflow_core/python/ops/gen_math_ops.py\u001b[0m in \u001b[0;36mmul\u001b[0;34m(x, y, name)\u001b[0m\n\u001b[1;32m   6683\u001b[0m       _result = _pywrap_tensorflow.TFE_Py_FastPathExecute(\n\u001b[1;32m   6684\u001b[0m         \u001b[0m_ctx\u001b[0m\u001b[0;34m.\u001b[0m\u001b[0m_context_handle\u001b[0m\u001b[0;34m,\u001b[0m \u001b[0m_ctx\u001b[0m\u001b[0;34m.\u001b[0m\u001b[0m_thread_local_data\u001b[0m\u001b[0;34m.\u001b[0m\u001b[0mdevice_name\u001b[0m\u001b[0;34m,\u001b[0m \u001b[0;34m\"Mul\"\u001b[0m\u001b[0;34m,\u001b[0m\u001b[0;34m\u001b[0m\u001b[0;34m\u001b[0m\u001b[0m\n\u001b[0;32m-> 6685\u001b[0;31m         name, _ctx._post_execution_callbacks, x, y)\n\u001b[0m\u001b[1;32m   6686\u001b[0m       \u001b[0;32mreturn\u001b[0m \u001b[0m_result\u001b[0m\u001b[0;34m\u001b[0m\u001b[0;34m\u001b[0m\u001b[0m\n\u001b[1;32m   6687\u001b[0m     \u001b[0;32mexcept\u001b[0m \u001b[0m_core\u001b[0m\u001b[0;34m.\u001b[0m\u001b[0m_FallbackException\u001b[0m\u001b[0;34m:\u001b[0m\u001b[0;34m\u001b[0m\u001b[0;34m\u001b[0m\u001b[0m\n",
            "\u001b[0;31mKeyboardInterrupt\u001b[0m: "
          ]
        }
      ]
    },
    {
      "cell_type": "code",
      "metadata": {
        "id": "ue0vZbitSNmz",
        "colab_type": "code",
        "outputId": "e0241cec-20ca-49e9-da6d-fd50f7c8d52d",
        "colab": {
          "base_uri": "https://localhost:8080/",
          "height": 52
        }
      },
      "source": [
        "# --------------------------------------------------------------------------------------------------------------\n",
        "# Test\n",
        "test_loss = []\n",
        "for batch_x, batch_y in test_dataset:\n",
        "    logits = pixelcnn(batch_x, training=False)\n",
        "    logits = tf.reshape(logits, [-1, height, width, q_levels, n_channel])\n",
        "    logits = tf.transpose(logits, perm=[0, 1, 2, 4, 3])\n",
        "\n",
        "    # Calculate cross-entropy (= negative log-likelihood)\n",
        "    loss = compute_loss(tf.one_hot(batch_y, q_levels), logits)\n",
        "\n",
        "    test_loss.append(loss)\n",
        "print('nll : {:} nats'.format(np.array(test_loss).mean()))\n",
        "print('bits/dim : {:}'.format(np.array(test_loss).mean() / (height * width)))\n",
        "\n"
      ],
      "execution_count": 14,
      "outputs": [
        {
          "output_type": "stream",
          "text": [
            "nll : 0.32299938797950745 nats\n",
            "bits/dim : 0.000411989015279984\n"
          ],
          "name": "stdout"
        }
      ]
    },
    {
      "cell_type": "code",
      "metadata": {
        "id": "-Ia9VXYySkuW",
        "colab_type": "code",
        "outputId": "0dd257ee-3198-4aea-96fb-c65f60100fec",
        "colab": {
          "base_uri": "https://localhost:8080/",
          "height": 526
        }
      },
      "source": [
        "# --------------------------------------------------------------------------------------------------------------\n",
        "# Generating new images\n",
        "samples = (np.random.rand(100, height, width, n_channel) * 0.01).astype('float32')\n",
        "for i in range(height):\n",
        "    for j in range(width):\n",
        "        logits = pixelcnn(samples)\n",
        "        logits = tf.reshape(logits, [-1, height, width, q_levels, n_channel])\n",
        "        logits = tf.transpose(logits, perm=[0, 1, 2, 4, 3])\n",
        "        probs = tf.nn.softmax(logits)\n",
        "        next_sample = probs[:, i, j, 0, :]\n",
        "        samples[:, i, j, 0] = sample_from(next_sample.numpy()) / (q_levels - 1)\n",
        "\n",
        "fig = plt.figure(figsize=(10, 10))\n",
        "for x in range(1, 10):\n",
        "    for y in range(1, 10):\n",
        "        ax = fig.add_subplot(10, 10, 10 * y + x)\n",
        "        ax.matshow(samples[10 * y + x, :, :, 0], cmap=matplotlib.cm.binary)\n",
        "        plt.xticks(np.array([]))\n",
        "        plt.yticks(np.array([]))\n",
        "plt.show()\n"
      ],
      "execution_count": 15,
      "outputs": [
        {
          "output_type": "display_data",
          "data": {
            "image/png": "[encoded data removed]",
            "text/plain": [
              "<Figure size 720x720 with 81 Axes>"
            ]
          },
          "metadata": {
            "tags": []
          }
        }
      ]
    },
    {
      "cell_type": "code",
      "metadata": {
        "id": "KBuWx-FtSouR",
        "colab_type": "code",
        "outputId": "4021ec1a-8191-41eb-a446-d2b616ea570e",
        "colab": {
          "base_uri": "https://localhost:8080/",
          "height": 526
        }
      },
      "source": [
        "# --------------------------------------------------------------------------------------------------------------\n",
        "# Filling occluded images\n",
        "occlude_start_row = 14\n",
        "num_generated_images = 100\n",
        "samples = np.copy(x_test_quantised[0:num_generated_images, :, :, :])\n",
        "samples = samples / (q_levels - 1)\n",
        "samples[:, occlude_start_row:, :, :] = 0\n",
        "\n",
        "for i in range(occlude_start_row, height):\n",
        "    for j in range(width):\n",
        "        logits = pixelcnn(samples)\n",
        "        logits = tf.reshape(logits, [-1, height, width, q_levels, n_channel])\n",
        "        logits = tf.transpose(logits, perm=[0, 1, 2, 4, 3])\n",
        "        probs = tf.nn.softmax(logits)\n",
        "        next_sample = probs[:, i, j, 0, :]\n",
        "        samples[:, i, j, 0] = sample_from(next_sample.numpy()) / (q_levels - 1)\n",
        "\n",
        "fig = plt.figure(figsize=(10, 10))\n",
        "for x in range(1, 10):\n",
        "    for y in range(1, 10):\n",
        "        ax = fig.add_subplot(10, 10, 10 * y + x)\n",
        "        ax.matshow(samples[10 * y + x, :, :, 0], cmap=matplotlib.cm.binary)\n",
        "        plt.xticks(np.array([]))\n",
        "        plt.yticks(np.array([]))\n",
        "plt.show()\n"
      ],
      "execution_count": 16,
      "outputs": [
        {
          "output_type": "display_data",
          "data": {
            "image/png": "[encoded data removed]",
            "text/plain": [
              "<Figure size 720x720 with 81 Axes>"
            ]
          },
          "metadata": {
            "tags": []
          }
        }
      ]
    }
  ]
}